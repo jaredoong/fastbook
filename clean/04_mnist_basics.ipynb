{
 "cells": [
  {
   "cell_type": "code",
   "execution_count": 1,
   "metadata": {},
   "outputs": [
    {
     "name": "stderr",
     "output_type": "stream",
     "text": [
      "'[' is not recognized as an internal or external command,\n",
      "operable program or batch file.\n"
     ]
    }
   ],
   "source": [
    "#hide\n",
    "! [ -e /content ] && pip install -Uqq fastbook\n",
    "import fastbook\n",
    "fastbook.setup_book()"
   ]
  },
  {
   "cell_type": "code",
   "execution_count": 4,
   "metadata": {},
   "outputs": [
    {
     "name": "stdout",
     "output_type": "stream",
     "text": [
      "Using device: cuda\n",
      "pytorch version: 2.4.0+cu124\n"
     ]
    }
   ],
   "source": [
    "import torch\n",
    "\n",
    "device = torch.device(\"cuda\" if torch.cuda.is_available() else \"cpu\")\n",
    "print(f\"Using device: {device}\")\n",
    "print(f\"pytorch version: {torch.__version__}\")"
   ]
  },
  {
   "cell_type": "code",
   "execution_count": 5,
   "metadata": {},
   "outputs": [],
   "source": [
    "#hide\n",
    "from fastai.vision.all import *\n",
    "from fastbook import *\n",
    "\n",
    "matplotlib.rc('image', cmap='Greys')"
   ]
  },
  {
   "cell_type": "code",
   "execution_count": 6,
   "metadata": {},
   "outputs": [],
   "source": [
    "path = untar_data(URLs.MNIST_SAMPLE)"
   ]
  },
  {
   "cell_type": "code",
   "execution_count": 7,
   "metadata": {},
   "outputs": [],
   "source": [
    "#hide\n",
    "Path.BASE_PATH = path"
   ]
  },
  {
   "cell_type": "code",
   "execution_count": 8,
   "metadata": {},
   "outputs": [
    {
     "data": {
      "text/plain": [
       "(#3) [Path('labels.csv'),Path('train'),Path('valid')]"
      ]
     },
     "execution_count": 8,
     "metadata": {},
     "output_type": "execute_result"
    }
   ],
   "source": [
    "# Check the contents of the path\n",
    "path.ls()"
   ]
  },
  {
   "cell_type": "code",
   "execution_count": 9,
   "metadata": {},
   "outputs": [
    {
     "data": {
      "text/plain": [
       "(#2) [Path('train/3'),Path('train/7')]"
      ]
     },
     "execution_count": 9,
     "metadata": {},
     "output_type": "execute_result"
    }
   ],
   "source": [
    "# Check the contents of the training set\n",
    "(path/'train').ls()"
   ]
  },
  {
   "cell_type": "code",
   "execution_count": 17,
   "metadata": {},
   "outputs": [],
   "source": [
    "threes = (path/'train'/'3').ls().sorted()\n",
    "sevens = (path/'train'/'7').ls().sorted()"
   ]
  },
  {
   "cell_type": "code",
   "execution_count": 25,
   "metadata": {},
   "outputs": [
    {
     "name": "stdout",
     "output_type": "stream",
     "text": [
      "6131 [Path('train/3/10.png'), Path('train/3/10000.png'), Path('train/3/10011.png'), Path('train/3/10031.png'), Path('train/3/10034.png'), Path('train/3/10042.png'), Path('train/3/10052.png'), Path('train/3/1007.png'), Path('train/3/10074.png'), Path('train/3/10091.png'), Path('train/3/10093.png'), Path('train/3/10097.png'), Path('train/3/10099.png'), Path('train/3/10116.png'), Path('train/3/10125.png'), Path('train/3/10137.png'), Path('train/3/10141.png'), Path('train/3/10144.png'), Path('train/3/10155.png'), Path('train/3/10161.png'), Path('train/3/10206.png'), Path('train/3/1021.png'), Path('train/3/10210.png'), Path('train/3/10214.png'), Path('train/3/10238.png'), Path('train/3/10260.png'), Path('train/3/10278.png'), Path('train/3/10282.png'), Path('train/3/10314.png'), Path('train/3/10322.png'), Path('train/3/10328.png'), Path('train/3/10329.png'), Path('train/3/10330.png'), Path('train/3/10349.png'), Path('train/3/1035.png'), Path('train/3/10360.png'), Path('train/3/10369.png'), Path('train/3/10389.png'), Path('train/3/10390.png'), Path('train/3/10393.png'), Path('train/3/10402.png'), Path('train/3/10405.png'), Path('train/3/10415.png'), Path('train/3/10423.png'), Path('train/3/10424.png'), Path('train/3/10430.png'), Path('train/3/10450.png'), Path('train/3/10453.png'), Path('train/3/10454.png'), Path('train/3/10466.png'), Path('train/3/10470.png'), Path('train/3/10483.png'), Path('train/3/10493.png'), Path('train/3/10511.png'), Path('train/3/10518.png'), Path('train/3/10520.png'), Path('train/3/10527.png'), Path('train/3/1055.png'), Path('train/3/10569.png'), Path('train/3/10585.png'), Path('train/3/10605.png'), Path('train/3/10606.png'), Path('train/3/10608.png'), Path('train/3/10635.png'), Path('train/3/10644.png'), Path('train/3/10647.png'), Path('train/3/10666.png'), Path('train/3/10668.png'), Path('train/3/10674.png'), Path('train/3/10676.png'), Path('train/3/10677.png'), Path('train/3/10678.png'), Path('train/3/1068.png'), Path('train/3/10696.png'), Path('train/3/107.png'), Path('train/3/10728.png'), Path('train/3/10730.png'), Path('train/3/10734.png'), Path('train/3/10743.png'), Path('train/3/10745.png'), Path('train/3/10756.png'), Path('train/3/10757.png'), Path('train/3/10760.png'), Path('train/3/10762.png'), Path('train/3/10765.png'), Path('train/3/1077.png'), Path('train/3/10775.png'), Path('train/3/10779.png'), Path('train/3/10787.png'), Path('train/3/10796.png'), Path('train/3/10807.png'), Path('train/3/10826.png'), Path('train/3/10827.png'), Path('train/3/10830.png'), Path('train/3/10847.png'), Path('train/3/10865.png'), Path('train/3/10872.png'), Path('train/3/10876.png'), Path('train/3/10880.png'), Path('train/3/10882.png'), Path('train/3/10887.png'), Path('train/3/10896.png'), Path('train/3/10900.png'), Path('train/3/10902.png'), Path('train/3/10921.png'), Path('train/3/10953.png'), Path('train/3/10966.png'), Path('train/3/1097.png'), Path('train/3/10984.png'), Path('train/3/10993.png'), Path('train/3/10994.png'), Path('train/3/10998.png'), Path('train/3/11002.png'), Path('train/3/11010.png'), Path('train/3/11011.png'), Path('train/3/11012.png'), Path('train/3/11021.png'), Path('train/3/11031.png'), Path('train/3/11034.png'), Path('train/3/11037.png'), Path('train/3/11039.png'), Path('train/3/11042.png'), Path('train/3/11053.png'), Path('train/3/11075.png'), Path('train/3/1108.png'), Path('train/3/11083.png'), Path('train/3/11097.png'), Path('train/3/111.png'), Path('train/3/11104.png'), Path('train/3/11111.png'), Path('train/3/11114.png'), Path('train/3/11138.png'), Path('train/3/11155.png'), Path('train/3/11169.png'), Path('train/3/11171.png'), Path('train/3/1119.png'), Path('train/3/11197.png'), Path('train/3/11201.png'), Path('train/3/1121.png'), Path('train/3/11216.png'), Path('train/3/11219.png'), Path('train/3/11221.png'), Path('train/3/11232.png'), Path('train/3/11233.png'), Path('train/3/11234.png'), Path('train/3/11244.png'), Path('train/3/11259.png'), Path('train/3/11284.png'), Path('train/3/11285.png'), Path('train/3/11296.png'), Path('train/3/1130.png'), Path('train/3/11301.png'), Path('train/3/11321.png'), Path('train/3/11341.png'), Path('train/3/11377.png'), Path('train/3/11392.png'), Path('train/3/1144.png'), Path('train/3/11441.png'), Path('train/3/1145.png'), Path('train/3/11454.png'), Path('train/3/11467.png'), Path('train/3/11476.png'), Path('train/3/11480.png'), Path('train/3/11481.png'), Path('train/3/11489.png'), Path('train/3/1150.png'), Path('train/3/1151.png'), Path('train/3/11511.png'), Path('train/3/11513.png'), Path('train/3/11520.png'), Path('train/3/11524.png'), Path('train/3/11535.png'), Path('train/3/11539.png'), Path('train/3/11544.png'), Path('train/3/11545.png'), Path('train/3/11554.png'), Path('train/3/11556.png'), Path('train/3/11565.png'), Path('train/3/11570.png'), Path('train/3/1158.png'), Path('train/3/11583.png'), Path('train/3/11618.png'), Path('train/3/11619.png'), Path('train/3/11645.png'), Path('train/3/11651.png'), Path('train/3/11665.png'), Path('train/3/11693.png'), Path('train/3/11705.png'), Path('train/3/11708.png'), Path('train/3/11710.png'), Path('train/3/11714.png'), Path('train/3/11719.png'), Path('train/3/11747.png'), Path('train/3/11752.png'), Path('train/3/11755.png'), Path('train/3/11756.png'), Path('train/3/11777.png'), Path('train/3/1178.png'), Path('train/3/11781.png'), Path('train/3/11788.png'), Path('train/3/11797.png'), Path('train/3/11804.png'), Path('train/3/11813.png'), Path('train/3/11837.png'), Path('train/3/1185.png'), Path('train/3/11863.png'), Path('train/3/11874.png'), Path('train/3/11910.png'), Path('train/3/11921.png'), Path('train/3/11929.png'), Path('train/3/11949.png'), Path('train/3/11951.png'), Path('train/3/11958.png'), Path('train/3/11960.png'), Path('train/3/11978.png'), Path('train/3/11979.png'), Path('train/3/11999.png'), Path('train/3/12.png'), Path('train/3/1201.png'), Path('train/3/12012.png'), Path('train/3/12017.png'), Path('train/3/12022.png'), Path('train/3/12024.png'), Path('train/3/12035.png'), Path('train/3/12044.png'), Path('train/3/12063.png'), Path('train/3/12080.png'), Path('train/3/12086.png'), Path('train/3/12089.png'), Path('train/3/12094.png'), Path('train/3/12100.png'), Path('train/3/12108.png'), Path('train/3/12109.png'), Path('train/3/12117.png'), Path('train/3/12124.png'), Path('train/3/12148.png'), Path('train/3/12151.png'), Path('train/3/12152.png'), Path('train/3/12153.png'), Path('train/3/1218.png'), Path('train/3/12183.png'), Path('train/3/12186.png'), Path('train/3/12189.png'), Path('train/3/12211.png'), Path('train/3/12214.png'), Path('train/3/12218.png'), Path('train/3/12222.png'), Path('train/3/12225.png'), Path('train/3/12228.png'), Path('train/3/12244.png'), Path('train/3/12245.png'), Path('train/3/12246.png'), Path('train/3/1226.png'), Path('train/3/12260.png'), Path('train/3/12265.png'), Path('train/3/12274.png'), Path('train/3/12300.png'), Path('train/3/12303.png'), Path('train/3/12307.png'), Path('train/3/12312.png'), Path('train/3/12326.png'), Path('train/3/12329.png'), Path('train/3/1233.png'), Path('train/3/12330.png'), Path('train/3/12333.png'), Path('train/3/12334.png'), Path('train/3/12338.png'), Path('train/3/1234.png'), Path('train/3/12344.png'), Path('train/3/12345.png'), Path('train/3/12346.png'), Path('train/3/12349.png'), Path('train/3/12350.png'), Path('train/3/12355.png'), Path('train/3/12377.png'), Path('train/3/12392.png'), Path('train/3/1241.png'), Path('train/3/12416.png'), Path('train/3/12430.png'), Path('train/3/12437.png'), Path('train/3/1244.png'), Path('train/3/12446.png'), Path('train/3/12451.png'), Path('train/3/12463.png'), Path('train/3/12483.png'), Path('train/3/12490.png'), Path('train/3/12498.png'), Path('train/3/12503.png'), Path('train/3/12506.png'), Path('train/3/12527.png'), Path('train/3/12536.png'), Path('train/3/12544.png'), Path('train/3/12545.png'), Path('train/3/12546.png'), Path('train/3/12583.png'), Path('train/3/12592.png'), Path('train/3/12593.png'), Path('train/3/1260.png'), Path('train/3/12602.png'), Path('train/3/12617.png'), Path('train/3/12625.png'), Path('train/3/12645.png'), Path('train/3/12656.png'), Path('train/3/12661.png'), Path('train/3/12667.png'), Path('train/3/12677.png'), Path('train/3/12698.png'), Path('train/3/12700.png'), Path('train/3/12702.png'), Path('train/3/12709.png'), Path('train/3/12720.png'), Path('train/3/12729.png'), Path('train/3/12747.png'), Path('train/3/12750.png'), Path('train/3/12761.png'), Path('train/3/12775.png'), Path('train/3/12780.png'), Path('train/3/12783.png'), Path('train/3/12812.png'), Path('train/3/12814.png'), Path('train/3/12826.png'), Path('train/3/12828.png'), Path('train/3/12836.png'), Path('train/3/12838.png'), Path('train/3/12874.png'), Path('train/3/12877.png'), Path('train/3/12879.png'), Path('train/3/12881.png'), Path('train/3/12882.png'), Path('train/3/12895.png'), Path('train/3/1290.png'), Path('train/3/12901.png'), Path('train/3/12913.png'), Path('train/3/12920.png'), Path('train/3/12924.png'), Path('train/3/12933.png'), Path('train/3/12942.png'), Path('train/3/1295.png'), Path('train/3/12953.png'), Path('train/3/12967.png'), Path('train/3/12968.png'), Path('train/3/12981.png'), Path('train/3/12983.png'), Path('train/3/12990.png'), Path('train/3/12995.png'), Path('train/3/12998.png'), Path('train/3/130.png'), Path('train/3/13026.png'), Path('train/3/13045.png'), Path('train/3/13093.png'), Path('train/3/13099.png'), Path('train/3/13105.png'), Path('train/3/13109.png'), Path('train/3/13110.png'), Path('train/3/13114.png'), Path('train/3/1312.png'), Path('train/3/13124.png'), Path('train/3/13127.png'), Path('train/3/13134.png'), Path('train/3/13141.png'), Path('train/3/13142.png'), Path('train/3/13144.png'), Path('train/3/13146.png'), Path('train/3/1315.png'), Path('train/3/13161.png'), Path('train/3/1317.png'), Path('train/3/13181.png'), Path('train/3/13190.png'), Path('train/3/13193.png'), Path('train/3/1320.png'), Path('train/3/13202.png'), Path('train/3/13208.png'), Path('train/3/13212.png'), Path('train/3/13218.png'), Path('train/3/13221.png'), Path('train/3/13222.png'), Path('train/3/13225.png'), Path('train/3/13228.png'), Path('train/3/13239.png'), Path('train/3/13242.png'), Path('train/3/13250.png'), Path('train/3/13285.png'), Path('train/3/13288.png'), Path('train/3/13293.png'), Path('train/3/13294.png'), Path('train/3/13298.png'), Path('train/3/13317.png'), Path('train/3/13325.png'), Path('train/3/13332.png'), Path('train/3/13352.png'), Path('train/3/13353.png'), Path('train/3/1336.png'), Path('train/3/13376.png'), Path('train/3/13383.png'), Path('train/3/13388.png'), Path('train/3/13403.png'), Path('train/3/1341.png'), Path('train/3/13417.png'), Path('train/3/13438.png'), Path('train/3/13442.png'), Path('train/3/13445.png'), Path('train/3/13448.png'), Path('train/3/13478.png'), Path('train/3/1348.png'), Path('train/3/13488.png'), Path('train/3/13496.png'), Path('train/3/135.png'), Path('train/3/1351.png'), Path('train/3/13516.png'), Path('train/3/13519.png'), Path('train/3/13524.png'), Path('train/3/13531.png'), Path('train/3/13543.png'), Path('train/3/13560.png'), Path('train/3/13567.png'), Path('train/3/13568.png'), Path('train/3/1357.png'), Path('train/3/13576.png'), Path('train/3/13577.png'), Path('train/3/13579.png'), Path('train/3/136.png'), Path('train/3/13601.png'), Path('train/3/13607.png'), Path('train/3/13615.png'), Path('train/3/13628.png'), Path('train/3/13629.png'), Path('train/3/13647.png'), Path('train/3/13656.png'), Path('train/3/13658.png'), Path('train/3/13660.png'), Path('train/3/13670.png'), Path('train/3/13673.png'), Path('train/3/13675.png'), Path('train/3/13676.png'), Path('train/3/13703.png'), Path('train/3/13704.png'), Path('train/3/13706.png'), Path('train/3/13707.png'), Path('train/3/13713.png'), Path('train/3/13736.png'), Path('train/3/13740.png'), Path('train/3/13745.png'), Path('train/3/13750.png'), Path('train/3/13773.png'), Path('train/3/13778.png'), Path('train/3/1378.png'), Path('train/3/13787.png'), Path('train/3/13824.png'), Path('train/3/13827.png'), Path('train/3/13831.png'), Path('train/3/13836.png'), Path('train/3/13839.png'), Path('train/3/13859.png'), Path('train/3/13879.png'), Path('train/3/13894.png'), Path('train/3/13906.png'), Path('train/3/13909.png'), Path('train/3/13929.png'), Path('train/3/13931.png'), Path('train/3/13935.png'), Path('train/3/13937.png'), Path('train/3/13957.png'), Path('train/3/13965.png'), Path('train/3/13969.png'), Path('train/3/13980.png'), Path('train/3/13983.png'), Path('train/3/13993.png'), Path('train/3/14002.png'), Path('train/3/14025.png'), Path('train/3/14026.png'), Path('train/3/14028.png'), Path('train/3/14030.png'), Path('train/3/14045.png'), Path('train/3/14065.png'), Path('train/3/14080.png'), Path('train/3/14087.png'), Path('train/3/1409.png'), Path('train/3/14099.png'), Path('train/3/14107.png'), Path('train/3/14115.png'), Path('train/3/14135.png'), Path('train/3/14166.png'), Path('train/3/14177.png'), Path('train/3/14184.png'), Path('train/3/14200.png'), Path('train/3/14205.png'), Path('train/3/14210.png'), Path('train/3/14223.png'), Path('train/3/14236.png'), Path('train/3/14255.png'), Path('train/3/14261.png'), Path('train/3/14262.png'), Path('train/3/14266.png'), Path('train/3/14275.png'), Path('train/3/1428.png'), Path('train/3/14283.png'), Path('train/3/14286.png'), Path('train/3/1429.png'), Path('train/3/14297.png'), Path('train/3/14303.png'), Path('train/3/1432.png'), Path('train/3/14320.png'), Path('train/3/14333.png'), Path('train/3/14350.png'), Path('train/3/14352.png'), Path('train/3/1436.png'), Path('train/3/14361.png'), Path('train/3/14367.png'), Path('train/3/14383.png'), Path('train/3/14388.png'), Path('train/3/14394.png'), Path('train/3/14401.png'), Path('train/3/14410.png'), Path('train/3/14420.png'), Path('train/3/14431.png'), Path('train/3/14447.png'), Path('train/3/14450.png'), Path('train/3/14454.png'), Path('train/3/14456.png'), Path('train/3/14467.png'), Path('train/3/14476.png'), Path('train/3/14488.png'), Path('train/3/1449.png'), Path('train/3/14514.png'), Path('train/3/14527.png'), Path('train/3/14529.png'), Path('train/3/14533.png'), Path('train/3/14535.png'), Path('train/3/14548.png'), Path('train/3/14552.png'), Path('train/3/14558.png'), Path('train/3/14566.png'), Path('train/3/14567.png'), Path('train/3/14577.png'), Path('train/3/14588.png'), Path('train/3/14619.png'), Path('train/3/14624.png'), Path('train/3/14635.png'), Path('train/3/14636.png'), Path('train/3/14655.png'), Path('train/3/14674.png'), Path('train/3/14686.png'), Path('train/3/1469.png'), Path('train/3/14691.png'), Path('train/3/14692.png'), Path('train/3/1470.png'), Path('train/3/14704.png'), Path('train/3/14736.png'), Path('train/3/14738.png'), Path('train/3/1474.png'), Path('train/3/1476.png'), Path('train/3/14761.png'), Path('train/3/14765.png'), Path('train/3/14786.png'), Path('train/3/14789.png'), Path('train/3/14792.png'), Path('train/3/14803.png'), Path('train/3/14810.png'), Path('train/3/14823.png'), Path('train/3/14825.png'), Path('train/3/14851.png'), Path('train/3/14855.png'), Path('train/3/14856.png'), Path('train/3/1486.png'), Path('train/3/14863.png'), Path('train/3/14864.png'), Path('train/3/14878.png'), Path('train/3/14880.png'), Path('train/3/14883.png'), Path('train/3/149.png'), Path('train/3/14903.png'), Path('train/3/14916.png'), Path('train/3/14935.png'), Path('train/3/15003.png'), Path('train/3/15007.png'), Path('train/3/15008.png'), Path('train/3/15010.png'), Path('train/3/15014.png'), Path('train/3/15022.png'), Path('train/3/15031.png'), Path('train/3/15045.png'), Path('train/3/15052.png'), Path('train/3/15053.png'), Path('train/3/15075.png'), Path('train/3/15076.png'), Path('train/3/15077.png'), Path('train/3/15080.png'), Path('train/3/15090.png'), Path('train/3/15097.png'), Path('train/3/15101.png'), Path('train/3/15109.png'), Path('train/3/15125.png'), Path('train/3/15139.png'), Path('train/3/15163.png'), Path('train/3/15174.png'), Path('train/3/15176.png'), Path('train/3/15181.png'), Path('train/3/15186.png'), Path('train/3/15201.png'), Path('train/3/15210.png'), Path('train/3/15216.png'), Path('train/3/15226.png'), Path('train/3/15227.png'), Path('train/3/15233.png'), Path('train/3/15245.png'), Path('train/3/15246.png'), Path('train/3/15250.png'), Path('train/3/15251.png'), Path('train/3/15261.png'), Path('train/3/15281.png'), Path('train/3/1529.png'), Path('train/3/15292.png'), Path('train/3/15297.png'), Path('train/3/15322.png'), Path('train/3/1533.png'), Path('train/3/15332.png'), Path('train/3/15335.png'), Path('train/3/15336.png'), Path('train/3/15339.png'), Path('train/3/15342.png'), Path('train/3/15346.png'), Path('train/3/15350.png'), Path('train/3/15372.png'), Path('train/3/15375.png'), Path('train/3/15377.png'), Path('train/3/15379.png'), Path('train/3/15388.png'), Path('train/3/15409.png'), Path('train/3/15412.png'), Path('train/3/15437.png'), Path('train/3/15443.png'), Path('train/3/15453.png'), Path('train/3/15472.png'), Path('train/3/15474.png'), Path('train/3/15477.png'), Path('train/3/15482.png'), Path('train/3/15486.png'), Path('train/3/15496.png'), Path('train/3/15497.png'), Path('train/3/1551.png'), Path('train/3/15511.png'), Path('train/3/15519.png'), Path('train/3/15533.png'), Path('train/3/15534.png'), Path('train/3/15535.png'), Path('train/3/15540.png'), Path('train/3/15544.png'), Path('train/3/15547.png'), Path('train/3/15572.png'), Path('train/3/15587.png'), Path('train/3/1559.png'), Path('train/3/15606.png'), Path('train/3/15630.png'), Path('train/3/15639.png'), Path('train/3/15647.png'), Path('train/3/15651.png'), Path('train/3/15656.png'), Path('train/3/1566.png'), Path('train/3/15667.png'), Path('train/3/15681.png'), Path('train/3/157.png'), Path('train/3/15701.png'), Path('train/3/15717.png'), Path('train/3/15743.png'), Path('train/3/15747.png'), Path('train/3/15760.png'), Path('train/3/15762.png'), Path('train/3/15764.png'), Path('train/3/15769.png'), Path('train/3/15773.png'), Path('train/3/15774.png'), Path('train/3/15785.png'), Path('train/3/15793.png'), Path('train/3/1581.png'), Path('train/3/15815.png'), Path('train/3/15816.png'), Path('train/3/1583.png'), Path('train/3/15842.png'), Path('train/3/15847.png'), Path('train/3/15848.png'), Path('train/3/15850.png'), Path('train/3/15857.png'), Path('train/3/15869.png'), Path('train/3/15872.png'), Path('train/3/1588.png'), Path('train/3/15889.png'), Path('train/3/15907.png'), Path('train/3/15930.png'), Path('train/3/15936.png'), Path('train/3/15937.png'), Path('train/3/15938.png'), Path('train/3/1594.png'), Path('train/3/15945.png'), Path('train/3/15947.png'), Path('train/3/15968.png'), Path('train/3/15980.png'), Path('train/3/15986.png'), Path('train/3/1599.png'), Path('train/3/15990.png'), Path('train/3/16003.png'), Path('train/3/16013.png'), Path('train/3/16019.png'), Path('train/3/16029.png'), Path('train/3/1603.png'), Path('train/3/16071.png'), Path('train/3/16074.png'), Path('train/3/16075.png'), Path('train/3/16078.png'), Path('train/3/16091.png'), Path('train/3/16096.png'), Path('train/3/1611.png'), Path('train/3/16111.png'), Path('train/3/16125.png'), Path('train/3/16134.png'), Path('train/3/16156.png'), Path('train/3/16171.png'), Path('train/3/16177.png'), Path('train/3/16190.png'), Path('train/3/16191.png'), Path('train/3/16193.png'), Path('train/3/16208.png'), Path('train/3/16220.png'), Path('train/3/16229.png'), Path('train/3/16239.png'), Path('train/3/16243.png'), Path('train/3/16249.png'), Path('train/3/16260.png'), Path('train/3/16291.png'), Path('train/3/16296.png'), Path('train/3/1631.png'), Path('train/3/16311.png'), Path('train/3/16329.png'), Path('train/3/16336.png'), Path('train/3/1634.png'), Path('train/3/16344.png'), Path('train/3/16366.png'), Path('train/3/16370.png'), Path('train/3/16372.png'), Path('train/3/16375.png'), Path('train/3/16386.png'), Path('train/3/16407.png'), Path('train/3/16411.png'), Path('train/3/16414.png'), Path('train/3/16427.png'), Path('train/3/16435.png'), Path('train/3/1644.png'), Path('train/3/16453.png'), Path('train/3/16462.png'), Path('train/3/16489.png'), Path('train/3/16491.png'), Path('train/3/16492.png'), Path('train/3/16502.png'), Path('train/3/16503.png'), Path('train/3/16504.png'), Path('train/3/1651.png'), Path('train/3/16510.png'), Path('train/3/16512.png'), Path('train/3/16529.png'), Path('train/3/16530.png'), Path('train/3/16549.png'), Path('train/3/16556.png'), Path('train/3/16564.png'), Path('train/3/16569.png'), Path('train/3/16584.png'), Path('train/3/16587.png'), Path('train/3/1661.png'), Path('train/3/16620.png'), Path('train/3/16626.png'), Path('train/3/16645.png'), Path('train/3/16649.png'), Path('train/3/16657.png'), Path('train/3/16663.png'), Path('train/3/16676.png'), Path('train/3/16678.png'), Path('train/3/1668.png'), Path('train/3/16689.png'), Path('train/3/16693.png'), Path('train/3/16708.png'), Path('train/3/16715.png'), Path('train/3/16732.png'), Path('train/3/16743.png'), Path('train/3/16748.png'), Path('train/3/1675.png'), Path('train/3/16755.png'), Path('train/3/16763.png'), Path('train/3/16764.png'), Path('train/3/1677.png'), Path('train/3/16774.png'), Path('train/3/16783.png'), Path('train/3/16793.png'), Path('train/3/16811.png'), Path('train/3/16825.png'), Path('train/3/16831.png'), Path('train/3/16849.png'), Path('train/3/16861.png'), Path('train/3/16867.png'), Path('train/3/16873.png'), Path('train/3/1689.png'), Path('train/3/16892.png'), Path('train/3/16900.png'), Path('train/3/16911.png'), Path('train/3/16922.png'), Path('train/3/16924.png'), Path('train/3/16927.png'), Path('train/3/16940.png'), Path('train/3/16945.png'), Path('train/3/16954.png'), Path('train/3/1698.png'), Path('train/3/17000.png'), Path('train/3/17010.png'), Path('train/3/17026.png'), Path('train/3/17037.png'), Path('train/3/17038.png'), Path('train/3/17040.png'), Path('train/3/17041.png'), Path('train/3/17062.png'), Path('train/3/17063.png'), Path('train/3/17077.png'), Path('train/3/17082.png'), Path('train/3/17085.png'), Path('train/3/17088.png'), Path('train/3/17100.png'), Path('train/3/17103.png'), Path('train/3/17104.png'), Path('train/3/17105.png'), Path('train/3/17116.png'), Path('train/3/17127.png'), Path('train/3/17131.png'), Path('train/3/17139.png'), Path('train/3/17146.png'), Path('train/3/17148.png'), Path('train/3/17154.png'), Path('train/3/17155.png'), Path('train/3/17175.png'), Path('train/3/1718.png'), Path('train/3/17189.png'), Path('train/3/17192.png'), Path('train/3/17207.png'), Path('train/3/17208.png'), Path('train/3/1722.png'), Path('train/3/17227.png'), Path('train/3/17242.png'), Path('train/3/17253.png'), Path('train/3/17255.png'), Path('train/3/17257.png'), Path('train/3/17258.png'), Path('train/3/17271.png'), Path('train/3/17274.png'), Path('train/3/17280.png'), Path('train/3/17288.png'), Path('train/3/17292.png'), Path('train/3/17295.png'), Path('train/3/17301.png'), Path('train/3/17308.png'), Path('train/3/17318.png'), Path('train/3/17320.png'), Path('train/3/17324.png'), Path('train/3/17328.png'), Path('train/3/17330.png'), Path('train/3/17333.png'), Path('train/3/17341.png'), Path('train/3/17352.png'), Path('train/3/17354.png'), Path('train/3/17355.png'), Path('train/3/1737.png'), Path('train/3/17371.png'), Path('train/3/17386.png'), Path('train/3/17389.png'), Path('train/3/17403.png'), Path('train/3/17404.png'), Path('train/3/17409.png'), Path('train/3/17421.png'), Path('train/3/17435.png'), Path('train/3/17442.png'), Path('train/3/17460.png'), Path('train/3/17467.png'), Path('train/3/17470.png'), Path('train/3/17471.png'), Path('train/3/17491.png'), Path('train/3/17496.png'), Path('train/3/17509.png'), Path('train/3/17521.png'), Path('train/3/17526.png'), Path('train/3/17553.png'), Path('train/3/1756.png'), Path('train/3/17569.png'), Path('train/3/17574.png'), Path('train/3/17575.png'), Path('train/3/17580.png'), Path('train/3/17582.png'), Path('train/3/17588.png'), Path('train/3/17593.png'), Path('train/3/17621.png'), Path('train/3/17624.png'), Path('train/3/17629.png'), Path('train/3/17632.png'), Path('train/3/17634.png'), Path('train/3/17643.png'), Path('train/3/17646.png'), Path('train/3/17673.png'), Path('train/3/17676.png'), Path('train/3/17699.png'), Path('train/3/17710.png'), Path('train/3/17712.png'), Path('train/3/17715.png'), Path('train/3/17731.png'), Path('train/3/17734.png'), Path('train/3/17745.png'), Path('train/3/17752.png'), Path('train/3/17753.png'), Path('train/3/17754.png'), Path('train/3/17766.png'), Path('train/3/17777.png'), Path('train/3/17778.png'), Path('train/3/1778.png'), Path('train/3/17781.png'), Path('train/3/17787.png'), Path('train/3/17790.png'), Path('train/3/17810.png'), Path('train/3/17820.png'), Path('train/3/17832.png'), Path('train/3/17853.png'), Path('train/3/17864.png'), Path('train/3/17893.png'), Path('train/3/179.png'), Path('train/3/17901.png'), Path('train/3/17904.png'), Path('train/3/17906.png'), Path('train/3/17908.png'), Path('train/3/1791.png'), Path('train/3/17911.png'), Path('train/3/17929.png'), Path('train/3/17947.png'), Path('train/3/17966.png'), Path('train/3/17967.png'), Path('train/3/17988.png'), Path('train/3/1799.png'), Path('train/3/17993.png'), Path('train/3/17997.png'), Path('train/3/18001.png'), Path('train/3/18004.png'), Path('train/3/18007.png'), Path('train/3/18030.png'), Path('train/3/18039.png'), Path('train/3/18044.png'), Path('train/3/18049.png'), Path('train/3/1805.png'), Path('train/3/18059.png'), Path('train/3/18061.png'), Path('train/3/18069.png'), Path('train/3/18079.png'), Path('train/3/1809.png'), Path('train/3/18099.png'), Path('train/3/181.png'), Path('train/3/18108.png'), Path('train/3/18119.png'), Path('train/3/18120.png'), Path('train/3/18155.png'), Path('train/3/18169.png'), Path('train/3/18218.png'), Path('train/3/18225.png'), Path('train/3/18227.png'), Path('train/3/18240.png'), Path('train/3/18243.png'), Path('train/3/18244.png'), Path('train/3/18249.png'), Path('train/3/18252.png'), Path('train/3/18268.png'), Path('train/3/18274.png'), Path('train/3/18280.png'), Path('train/3/18285.png'), Path('train/3/18287.png'), Path('train/3/1829.png'), Path('train/3/18299.png'), Path('train/3/18307.png'), Path('train/3/18325.png'), Path('train/3/18343.png'), Path('train/3/1836.png'), Path('train/3/18363.png'), Path('train/3/18375.png'), Path('train/3/18380.png'), Path('train/3/18390.png'), Path('train/3/18397.png'), Path('train/3/18426.png'), Path('train/3/1843.png'), Path('train/3/18453.png'), Path('train/3/18463.png'), Path('train/3/18477.png'), Path('train/3/18485.png'), Path('train/3/18503.png'), Path('train/3/18522.png'), Path('train/3/18527.png'), Path('train/3/18528.png'), Path('train/3/18542.png'), Path('train/3/18549.png'), Path('train/3/18569.png'), Path('train/3/18584.png'), Path('train/3/18587.png'), Path('train/3/18588.png'), Path('train/3/18612.png'), Path('train/3/18615.png'), Path('train/3/1862.png'), Path('train/3/18626.png'), Path('train/3/18627.png'), Path('train/3/1863.png'), Path('train/3/18630.png'), Path('train/3/18646.png'), Path('train/3/18675.png'), Path('train/3/18679.png'), Path('train/3/18687.png'), Path('train/3/1870.png'), Path('train/3/1872.png'), Path('train/3/18727.png'), Path('train/3/18735.png'), Path('train/3/18739.png'), Path('train/3/18742.png'), Path('train/3/18752.png'), Path('train/3/18765.png'), Path('train/3/18766.png'), Path('train/3/18770.png'), Path('train/3/18785.png'), Path('train/3/18796.png'), Path('train/3/18802.png'), Path('train/3/18805.png'), Path('train/3/18812.png'), Path('train/3/18814.png'), Path('train/3/18826.png'), Path('train/3/18827.png'), Path('train/3/1883.png'), Path('train/3/18840.png'), Path('train/3/18847.png'), Path('train/3/18862.png'), Path('train/3/18895.png'), Path('train/3/18915.png'), Path('train/3/18919.png'), Path('train/3/18920.png'), Path('train/3/18924.png'), Path('train/3/18939.png'), Path('train/3/18948.png'), Path('train/3/18955.png'), Path('train/3/18960.png'), Path('train/3/18964.png'), Path('train/3/18965.png'), Path('train/3/18974.png'), Path('train/3/18975.png'), Path('train/3/18977.png'), Path('train/3/18986.png'), Path('train/3/18992.png'), Path('train/3/18997.png'), Path('train/3/19014.png'), Path('train/3/19015.png'), Path('train/3/19016.png'), Path('train/3/19063.png'), Path('train/3/19075.png'), Path('train/3/1908.png'), Path('train/3/19092.png'), Path('train/3/19101.png'), Path('train/3/19110.png'), Path('train/3/19114.png'), Path('train/3/19116.png'), Path('train/3/19169.png'), Path('train/3/19181.png'), Path('train/3/19195.png'), Path('train/3/19200.png'), Path('train/3/19205.png'), Path('train/3/1921.png'), Path('train/3/19215.png'), Path('train/3/19222.png'), Path('train/3/19230.png'), Path('train/3/19231.png'), Path('train/3/19234.png'), Path('train/3/19238.png'), Path('train/3/1924.png'), Path('train/3/19246.png'), Path('train/3/19247.png'), Path('train/3/19250.png'), Path('train/3/19263.png'), Path('train/3/19264.png'), Path('train/3/19266.png'), Path('train/3/19280.png'), Path('train/3/19285.png'), Path('train/3/19302.png'), Path('train/3/19307.png'), Path('train/3/19326.png'), Path('train/3/19333.png'), Path('train/3/19335.png'), Path('train/3/19337.png'), Path('train/3/19338.png'), Path('train/3/19342.png'), Path('train/3/19347.png'), Path('train/3/19348.png'), Path('train/3/1935.png'), Path('train/3/19368.png'), Path('train/3/19377.png'), Path('train/3/1938.png'), Path('train/3/19386.png'), Path('train/3/1941.png'), Path('train/3/19413.png'), Path('train/3/19425.png'), Path('train/3/19438.png'), Path('train/3/19442.png'), Path('train/3/19445.png'), Path('train/3/19465.png'), Path('train/3/19474.png'), Path('train/3/19495.png'), Path('train/3/19500.png'), Path('train/3/19501.png'), Path('train/3/19518.png'), Path('train/3/19536.png'), Path('train/3/19548.png'), Path('train/3/19549.png'), Path('train/3/19575.png'), Path('train/3/19579.png'), Path('train/3/1959.png'), Path('train/3/19601.png'), Path('train/3/19615.png'), Path('train/3/19620.png'), Path('train/3/19631.png'), Path('train/3/19633.png'), Path('train/3/19655.png'), Path('train/3/19660.png'), Path('train/3/19675.png'), Path('train/3/19695.png'), Path('train/3/19708.png'), Path('train/3/1971.png'), Path('train/3/19713.png'), Path('train/3/19734.png'), Path('train/3/19736.png'), Path('train/3/19739.png'), Path('train/3/19758.png'), Path('train/3/19793.png'), Path('train/3/198.png'), Path('train/3/19803.png'), Path('train/3/1981.png'), Path('train/3/19821.png'), Path('train/3/19829.png'), Path('train/3/19834.png'), Path('train/3/19836.png'), Path('train/3/19855.png'), Path('train/3/19863.png'), Path('train/3/19865.png'), Path('train/3/19866.png'), Path('train/3/19878.png'), Path('train/3/19883.png'), Path('train/3/19905.png'), Path('train/3/19921.png'), Path('train/3/1994.png'), Path('train/3/19941.png'), Path('train/3/19950.png'), Path('train/3/19962.png'), Path('train/3/19965.png'), Path('train/3/19967.png'), Path('train/3/19976.png'), Path('train/3/19977.png'), Path('train/3/20003.png'), Path('train/3/20009.png'), Path('train/3/20016.png'), Path('train/3/20023.png'), Path('train/3/20051.png'), Path('train/3/20072.png'), Path('train/3/20080.png'), Path('train/3/20096.png'), Path('train/3/20099.png'), Path('train/3/2011.png'), Path('train/3/20121.png'), Path('train/3/20147.png'), Path('train/3/20150.png'), Path('train/3/20166.png'), Path('train/3/20167.png'), Path('train/3/20181.png'), Path('train/3/20192.png'), Path('train/3/20201.png'), Path('train/3/20203.png'), Path('train/3/2021.png'), Path('train/3/20213.png'), Path('train/3/20220.png'), Path('train/3/20222.png'), Path('train/3/2023.png'), Path('train/3/20243.png'), Path('train/3/20249.png'), Path('train/3/20252.png'), Path('train/3/20259.png'), Path('train/3/20278.png'), Path('train/3/20285.png'), Path('train/3/2029.png'), Path('train/3/203.png'), Path('train/3/20314.png'), Path('train/3/20326.png'), Path('train/3/20329.png'), Path('train/3/20344.png'), Path('train/3/20347.png'), Path('train/3/20355.png'), Path('train/3/20356.png'), Path('train/3/20362.png'), Path('train/3/20377.png'), Path('train/3/20378.png'), Path('train/3/20397.png'), Path('train/3/20400.png'), Path('train/3/20413.png'), Path('train/3/2042.png'), Path('train/3/20423.png'), Path('train/3/20426.png'), Path('train/3/20430.png'), Path('train/3/20437.png'), Path('train/3/20439.png'), Path('train/3/20451.png'), Path('train/3/20458.png'), Path('train/3/20470.png'), Path('train/3/20492.png'), Path('train/3/20499.png'), Path('train/3/20500.png'), Path('train/3/20538.png'), Path('train/3/20540.png'), Path('train/3/20544.png'), Path('train/3/20553.png'), Path('train/3/20561.png'), Path('train/3/20565.png'), Path('train/3/20570.png'), Path('train/3/20587.png'), Path('train/3/20597.png'), Path('train/3/20606.png'), Path('train/3/20610.png'), Path('train/3/20615.png'), Path('train/3/20616.png'), Path('train/3/20626.png'), Path('train/3/20631.png'), Path('train/3/20649.png'), Path('train/3/20664.png'), Path('train/3/20670.png'), Path('train/3/20673.png'), Path('train/3/20675.png'), Path('train/3/20685.png'), Path('train/3/20687.png'), Path('train/3/20697.png'), Path('train/3/207.png'), Path('train/3/20705.png'), Path('train/3/20708.png'), Path('train/3/20728.png'), Path('train/3/20737.png'), Path('train/3/20738.png'), Path('train/3/2074.png'), Path('train/3/20752.png'), Path('train/3/20756.png'), Path('train/3/2076.png'), Path('train/3/20780.png'), Path('train/3/20790.png'), Path('train/3/20797.png'), Path('train/3/20800.png'), Path('train/3/20805.png'), Path('train/3/20833.png'), Path('train/3/20842.png'), Path('train/3/20844.png'), Path('train/3/20849.png'), Path('train/3/20868.png'), Path('train/3/20869.png'), Path('train/3/2087.png'), Path('train/3/20872.png'), Path('train/3/2088.png'), Path('train/3/20902.png'), Path('train/3/20903.png'), Path('train/3/2092.png'), Path('train/3/20926.png'), Path('train/3/20937.png'), Path('train/3/20939.png'), Path('train/3/20941.png'), Path('train/3/20942.png'), Path('train/3/20946.png'), Path('train/3/20952.png'), Path('train/3/20965.png'), Path('train/3/2098.png'), Path('train/3/20985.png'), Path('train/3/20989.png'), Path('train/3/21001.png'), Path('train/3/21007.png'), Path('train/3/21018.png'), Path('train/3/21026.png'), Path('train/3/21035.png'), Path('train/3/21038.png'), Path('train/3/21055.png'), Path('train/3/21056.png'), Path('train/3/2107.png'), Path('train/3/21075.png'), Path('train/3/21080.png'), Path('train/3/21092.png'), Path('train/3/21098.png'), Path('train/3/21099.png'), Path('train/3/21102.png'), Path('train/3/21112.png'), Path('train/3/21116.png'), Path('train/3/21129.png'), Path('train/3/2114.png'), Path('train/3/21144.png'), Path('train/3/21149.png'), Path('train/3/21150.png'), Path('train/3/21153.png'), Path('train/3/21154.png'), Path('train/3/21156.png'), Path('train/3/21170.png'), Path('train/3/21176.png'), Path('train/3/21179.png'), Path('train/3/21182.png'), Path('train/3/21187.png'), Path('train/3/21208.png'), Path('train/3/21209.png'), Path('train/3/21221.png'), Path('train/3/21228.png'), Path('train/3/21238.png'), Path('train/3/21250.png'), Path('train/3/21261.png'), Path('train/3/2127.png'), Path('train/3/21278.png'), Path('train/3/2128.png'), Path('train/3/21284.png'), Path('train/3/21285.png'), Path('train/3/2130.png'), Path('train/3/21305.png'), Path('train/3/21306.png'), Path('train/3/2132.png'), Path('train/3/21320.png'), Path('train/3/21325.png'), Path('train/3/21328.png'), Path('train/3/21341.png'), Path('train/3/21359.png'), Path('train/3/21370.png'), Path('train/3/21381.png'), Path('train/3/21390.png'), Path('train/3/21415.png'), Path('train/3/21420.png'), Path('train/3/21428.png'), Path('train/3/21447.png'), Path('train/3/21458.png'), Path('train/3/2146.png'), Path('train/3/21466.png'), Path('train/3/21468.png'), Path('train/3/21487.png'), Path('train/3/2149.png'), Path('train/3/21496.png'), Path('train/3/215.png'), Path('train/3/21505.png'), Path('train/3/21512.png'), Path('train/3/21515.png'), Path('train/3/21524.png'), Path('train/3/21525.png'), Path('train/3/21531.png'), Path('train/3/21539.png'), Path('train/3/21559.png'), Path('train/3/21570.png'), Path('train/3/21579.png'), Path('train/3/21580.png'), Path('train/3/21582.png'), Path('train/3/21584.png'), Path('train/3/21596.png'), Path('train/3/21606.png'), Path('train/3/21607.png'), Path('train/3/21610.png'), Path('train/3/21622.png'), Path('train/3/21625.png'), Path('train/3/21637.png'), Path('train/3/21643.png'), Path('train/3/21647.png'), Path('train/3/21654.png'), Path('train/3/21660.png'), Path('train/3/21673.png'), Path('train/3/21685.png'), Path('train/3/21689.png'), Path('train/3/21690.png'), Path('train/3/21695.png'), Path('train/3/21714.png'), Path('train/3/21717.png'), Path('train/3/21720.png'), Path('train/3/21726.png'), Path('train/3/2174.png'), Path('train/3/21775.png'), Path('train/3/2179.png'), Path('train/3/21795.png'), Path('train/3/2180.png'), Path('train/3/21812.png'), Path('train/3/21815.png'), Path('train/3/2183.png'), Path('train/3/21831.png'), Path('train/3/21853.png'), Path('train/3/21861.png'), Path('train/3/21864.png'), Path('train/3/21866.png'), Path('train/3/21877.png'), Path('train/3/21893.png'), Path('train/3/21930.png'), Path('train/3/21938.png'), Path('train/3/21939.png'), Path('train/3/21946.png'), Path('train/3/21947.png'), Path('train/3/21948.png'), Path('train/3/21950.png'), Path('train/3/21966.png'), Path('train/3/21974.png'), Path('train/3/21980.png'), Path('train/3/21986.png'), Path('train/3/21993.png'), Path('train/3/21998.png'), Path('train/3/2200.png'), Path('train/3/22000.png'), Path('train/3/22002.png'), Path('train/3/22003.png'), Path('train/3/22011.png'), Path('train/3/22014.png'), Path('train/3/22024.png'), Path('train/3/22029.png'), Path('train/3/2203.png'), Path('train/3/22032.png'), Path('train/3/22049.png'), Path('train/3/22058.png'), Path('train/3/22069.png'), Path('train/3/2207.png'), Path('train/3/22092.png'), Path('train/3/22103.png'), Path('train/3/22113.png'), Path('train/3/22114.png'), Path('train/3/22122.png'), Path('train/3/22126.png'), Path('train/3/22149.png'), Path('train/3/22154.png'), Path('train/3/22155.png'), Path('train/3/22162.png'), Path('train/3/22172.png'), Path('train/3/22182.png'), Path('train/3/22185.png'), Path('train/3/22204.png'), Path('train/3/22206.png'), Path('train/3/22218.png'), Path('train/3/22219.png'), Path('train/3/22231.png'), Path('train/3/22234.png'), Path('train/3/22238.png'), Path('train/3/22251.png'), Path('train/3/22271.png'), Path('train/3/2228.png'), Path('train/3/22293.png'), Path('train/3/2230.png'), Path('train/3/22304.png'), Path('train/3/22307.png'), Path('train/3/22315.png'), Path('train/3/22318.png'), Path('train/3/2232.png'), Path('train/3/22322.png'), Path('train/3/2233.png'), Path('train/3/22366.png'), Path('train/3/22374.png'), Path('train/3/22404.png'), Path('train/3/22408.png'), Path('train/3/2241.png'), Path('train/3/22413.png'), Path('train/3/22415.png'), Path('train/3/22417.png'), Path('train/3/22443.png'), Path('train/3/22451.png'), Path('train/3/22459.png'), Path('train/3/22460.png'), Path('train/3/22468.png'), Path('train/3/22474.png'), Path('train/3/22477.png'), Path('train/3/22488.png'), Path('train/3/22492.png'), Path('train/3/22493.png'), Path('train/3/22496.png'), Path('train/3/2252.png'), Path('train/3/22522.png'), Path('train/3/22536.png'), Path('train/3/22542.png'), Path('train/3/22567.png'), Path('train/3/22569.png'), Path('train/3/22578.png'), Path('train/3/22587.png'), Path('train/3/22598.png'), Path('train/3/22619.png'), Path('train/3/22625.png'), Path('train/3/2263.png'), Path('train/3/22631.png'), Path('train/3/22643.png'), Path('train/3/22663.png'), Path('train/3/22668.png'), Path('train/3/22674.png'), Path('train/3/22675.png'), Path('train/3/22695.png'), Path('train/3/22708.png'), Path('train/3/22715.png'), Path('train/3/22717.png'), Path('train/3/22721.png'), Path('train/3/22723.png'), Path('train/3/22728.png'), Path('train/3/22730.png'), Path('train/3/22733.png'), Path('train/3/22738.png'), Path('train/3/22741.png'), Path('train/3/2275.png'), Path('train/3/22767.png'), Path('train/3/22770.png'), Path('train/3/228.png'), Path('train/3/22825.png'), Path('train/3/22835.png'), Path('train/3/2286.png'), Path('train/3/22863.png'), Path('train/3/22883.png'), Path('train/3/22894.png'), Path('train/3/22903.png'), Path('train/3/22906.png'), Path('train/3/22943.png'), Path('train/3/22946.png'), Path('train/3/22957.png'), Path('train/3/22963.png'), Path('train/3/22964.png'), Path('train/3/22977.png'), Path('train/3/22989.png'), Path('train/3/22996.png'), Path('train/3/22999.png'), Path('train/3/23022.png'), Path('train/3/23024.png'), Path('train/3/23029.png'), Path('train/3/23043.png'), Path('train/3/23046.png'), Path('train/3/23047.png'), Path('train/3/23053.png'), Path('train/3/23076.png'), Path('train/3/23101.png'), Path('train/3/23116.png'), Path('train/3/23119.png'), Path('train/3/23130.png'), Path('train/3/23144.png'), Path('train/3/2315.png'), Path('train/3/23156.png'), Path('train/3/23157.png'), Path('train/3/23165.png'), Path('train/3/23202.png'), Path('train/3/23206.png'), Path('train/3/23218.png'), Path('train/3/23221.png'), Path('train/3/23225.png'), Path('train/3/23227.png'), Path('train/3/23239.png'), Path('train/3/23241.png'), Path('train/3/23242.png'), Path('train/3/23265.png'), Path('train/3/23281.png'), Path('train/3/23287.png'), Path('train/3/23294.png'), Path('train/3/23298.png'), Path('train/3/23304.png'), Path('train/3/23320.png'), Path('train/3/23322.png'), Path('train/3/23337.png'), Path('train/3/23338.png'), Path('train/3/23344.png'), Path('train/3/23357.png'), Path('train/3/23373.png'), Path('train/3/2339.png'), Path('train/3/23412.png'), Path('train/3/23419.png'), Path('train/3/23425.png'), Path('train/3/23439.png'), Path('train/3/23482.png'), Path('train/3/23483.png'), Path('train/3/23488.png'), Path('train/3/23490.png'), Path('train/3/235.png'), Path('train/3/2350.png'), Path('train/3/23517.png'), Path('train/3/23527.png'), Path('train/3/23547.png'), Path('train/3/23556.png'), Path('train/3/23563.png'), Path('train/3/23572.png'), Path('train/3/23581.png'), Path('train/3/2359.png'), Path('train/3/23634.png'), Path('train/3/23649.png'), Path('train/3/23657.png'), Path('train/3/23663.png'), Path('train/3/23672.png'), Path('train/3/23695.png'), Path('train/3/23700.png'), Path('train/3/23712.png'), Path('train/3/23724.png'), Path('train/3/23730.png'), Path('train/3/23731.png'), Path('train/3/23747.png'), Path('train/3/23759.png'), Path('train/3/23778.png'), Path('train/3/23779.png'), Path('train/3/2379.png'), Path('train/3/23796.png'), Path('train/3/23799.png'), Path('train/3/23810.png'), Path('train/3/23812.png'), Path('train/3/23819.png'), Path('train/3/23820.png'), Path('train/3/23829.png'), Path('train/3/23851.png'), Path('train/3/23860.png'), Path('train/3/23866.png'), Path('train/3/23873.png'), Path('train/3/23877.png'), Path('train/3/23879.png'), Path('train/3/23888.png'), Path('train/3/23897.png'), Path('train/3/23929.png'), Path('train/3/23939.png'), Path('train/3/23955.png'), Path('train/3/23962.png'), Path('train/3/23977.png'), Path('train/3/23986.png'), Path('train/3/23997.png'), Path('train/3/24017.png'), Path('train/3/24028.png'), Path('train/3/24042.png'), Path('train/3/24059.png'), Path('train/3/24063.png'), Path('train/3/24066.png'), Path('train/3/2408.png'), Path('train/3/24095.png'), Path('train/3/24099.png'), Path('train/3/24104.png'), Path('train/3/24111.png'), Path('train/3/24119.png'), Path('train/3/24125.png'), Path('train/3/24132.png'), Path('train/3/24142.png'), Path('train/3/24144.png'), Path('train/3/24145.png'), Path('train/3/24176.png'), Path('train/3/24196.png'), Path('train/3/242.png'), Path('train/3/24204.png'), Path('train/3/24205.png'), Path('train/3/24218.png'), Path('train/3/24219.png'), Path('train/3/2423.png'), Path('train/3/24231.png'), Path('train/3/24248.png'), Path('train/3/24251.png'), Path('train/3/24264.png'), Path('train/3/24271.png'), Path('train/3/24278.png'), Path('train/3/24281.png'), Path('train/3/24284.png'), Path('train/3/24294.png'), Path('train/3/24299.png'), Path('train/3/2430.png'), Path('train/3/24307.png'), Path('train/3/24326.png'), Path('train/3/24333.png'), Path('train/3/24336.png'), Path('train/3/24338.png'), Path('train/3/24350.png'), Path('train/3/24354.png'), Path('train/3/24356.png'), Path('train/3/24358.png'), Path('train/3/24369.png'), Path('train/3/24373.png'), Path('train/3/24386.png'), Path('train/3/24400.png'), Path('train/3/24407.png'), Path('train/3/24414.png'), Path('train/3/24417.png'), Path('train/3/24435.png'), Path('train/3/24442.png'), Path('train/3/24446.png'), Path('train/3/24448.png'), Path('train/3/24451.png'), Path('train/3/24452.png'), Path('train/3/24469.png'), Path('train/3/24481.png'), Path('train/3/24501.png'), Path('train/3/24512.png'), Path('train/3/24524.png'), Path('train/3/24528.png'), Path('train/3/24531.png'), Path('train/3/24532.png'), Path('train/3/24539.png'), Path('train/3/2456.png'), Path('train/3/24560.png'), Path('train/3/24573.png'), Path('train/3/24575.png'), Path('train/3/24584.png'), Path('train/3/24597.png'), Path('train/3/24603.png'), Path('train/3/24610.png'), Path('train/3/24621.png'), Path('train/3/2463.png'), Path('train/3/24635.png'), Path('train/3/24651.png'), Path('train/3/24667.png'), Path('train/3/24672.png'), Path('train/3/2468.png'), Path('train/3/24680.png'), Path('train/3/2469.png'), Path('train/3/24697.png'), Path('train/3/24731.png'), Path('train/3/24733.png'), Path('train/3/24735.png'), Path('train/3/24747.png'), Path('train/3/24748.png'), Path('train/3/24763.png'), Path('train/3/24770.png'), Path('train/3/24772.png'), Path('train/3/24780.png'), Path('train/3/24783.png'), Path('train/3/24784.png'), Path('train/3/24787.png'), Path('train/3/24789.png'), Path('train/3/2481.png'), Path('train/3/24835.png'), Path('train/3/24850.png'), Path('train/3/24867.png'), Path('train/3/24868.png'), Path('train/3/24870.png'), Path('train/3/24883.png'), Path('train/3/24886.png'), Path('train/3/2489.png'), Path('train/3/24899.png'), Path('train/3/24906.png'), Path('train/3/24931.png'), Path('train/3/24943.png'), Path('train/3/24965.png'), Path('train/3/24969.png'), Path('train/3/24987.png'), Path('train/3/24989.png'), Path('train/3/250.png'), Path('train/3/25000.png'), Path('train/3/25007.png'), Path('train/3/25028.png'), Path('train/3/2503.png'), Path('train/3/25032.png'), Path('train/3/25033.png'), Path('train/3/25034.png'), Path('train/3/25040.png'), Path('train/3/25055.png'), Path('train/3/2506.png'), Path('train/3/25071.png'), Path('train/3/25078.png'), Path('train/3/25091.png'), Path('train/3/25094.png'), Path('train/3/25106.png'), Path('train/3/25107.png'), Path('train/3/25116.png'), Path('train/3/25127.png'), Path('train/3/25145.png'), Path('train/3/25164.png'), Path('train/3/25172.png'), Path('train/3/25174.png'), Path('train/3/25187.png'), Path('train/3/25191.png'), Path('train/3/25208.png'), Path('train/3/25209.png'), Path('train/3/25210.png'), Path('train/3/25222.png'), Path('train/3/25225.png'), Path('train/3/25231.png'), Path('train/3/2524.png'), Path('train/3/25245.png'), Path('train/3/25257.png'), Path('train/3/25266.png'), Path('train/3/25282.png'), Path('train/3/25284.png'), Path('train/3/2529.png'), Path('train/3/25291.png'), Path('train/3/25296.png'), Path('train/3/2531.png'), Path('train/3/25311.png'), Path('train/3/25328.png'), Path('train/3/25331.png'), Path('train/3/25346.png'), Path('train/3/2535.png'), Path('train/3/2536.png'), Path('train/3/25373.png'), Path('train/3/25377.png'), Path('train/3/25398.png'), Path('train/3/254.png'), Path('train/3/25409.png'), Path('train/3/2541.png'), Path('train/3/25413.png'), Path('train/3/25417.png'), Path('train/3/25425.png'), Path('train/3/25431.png'), Path('train/3/25453.png'), Path('train/3/25454.png'), Path('train/3/25480.png'), Path('train/3/255.png'), Path('train/3/25509.png'), Path('train/3/25523.png'), Path('train/3/25535.png'), Path('train/3/25536.png'), Path('train/3/25538.png'), Path('train/3/25552.png'), Path('train/3/25553.png'), Path('train/3/25573.png'), Path('train/3/25586.png'), Path('train/3/25590.png'), Path('train/3/25601.png'), Path('train/3/25619.png'), Path('train/3/25630.png'), Path('train/3/25631.png'), Path('train/3/2564.png'), Path('train/3/25641.png'), Path('train/3/25645.png'), Path('train/3/2567.png'), Path('train/3/25671.png'), Path('train/3/2568.png'), Path('train/3/25685.png'), Path('train/3/25688.png'), Path('train/3/25689.png'), Path('train/3/25695.png'), Path('train/3/25708.png'), Path('train/3/25721.png'), Path('train/3/25728.png'), Path('train/3/25740.png'), Path('train/3/25746.png'), Path('train/3/25768.png'), Path('train/3/25789.png'), Path('train/3/2580.png'), Path('train/3/25802.png'), Path('train/3/25809.png'), Path('train/3/25820.png'), Path('train/3/25829.png'), Path('train/3/25855.png'), Path('train/3/25861.png'), Path('train/3/25867.png'), Path('train/3/2587.png'), Path('train/3/25880.png'), Path('train/3/25882.png'), Path('train/3/25883.png'), Path('train/3/25896.png'), Path('train/3/25911.png'), Path('train/3/25915.png'), Path('train/3/25922.png'), Path('train/3/25924.png'), Path('train/3/25941.png'), Path('train/3/25949.png'), Path('train/3/25950.png'), Path('train/3/25955.png'), Path('train/3/25993.png'), Path('train/3/25996.png'), Path('train/3/26008.png'), Path('train/3/26013.png'), Path('train/3/26014.png'), Path('train/3/2603.png'), Path('train/3/26033.png'), Path('train/3/26048.png'), Path('train/3/26050.png'), Path('train/3/26053.png'), Path('train/3/26057.png'), Path('train/3/26081.png'), Path('train/3/26084.png'), Path('train/3/26123.png'), Path('train/3/26127.png'), Path('train/3/26130.png'), Path('train/3/26140.png'), Path('train/3/26148.png'), Path('train/3/26149.png'), Path('train/3/26154.png'), Path('train/3/26156.png'), Path('train/3/26165.png'), Path('train/3/26171.png'), Path('train/3/26187.png'), Path('train/3/26194.png'), Path('train/3/26208.png'), Path('train/3/26209.png'), Path('train/3/26222.png'), Path('train/3/26247.png'), Path('train/3/26267.png'), Path('train/3/2627.png'), Path('train/3/26270.png'), Path('train/3/26284.png'), Path('train/3/26291.png'), Path('train/3/26305.png'), Path('train/3/26306.png'), Path('train/3/26307.png'), Path('train/3/26311.png'), Path('train/3/2632.png'), Path('train/3/26324.png'), Path('train/3/26358.png'), Path('train/3/26364.png'), Path('train/3/26378.png'), Path('train/3/26383.png'), Path('train/3/26391.png'), Path('train/3/26399.png'), Path('train/3/26403.png'), Path('train/3/26412.png'), Path('train/3/26419.png'), Path('train/3/26433.png'), Path('train/3/26448.png'), Path('train/3/26449.png'), Path('train/3/26463.png'), Path('train/3/26478.png'), Path('train/3/26488.png'), Path('train/3/26503.png'), Path('train/3/26505.png'), Path('train/3/2652.png'), Path('train/3/26526.png'), Path('train/3/26534.png'), Path('train/3/26542.png'), Path('train/3/26548.png'), Path('train/3/26550.png'), Path('train/3/26554.png'), Path('train/3/26555.png'), Path('train/3/26561.png'), Path('train/3/26593.png'), Path('train/3/26596.png'), Path('train/3/2660.png'), Path('train/3/2661.png'), Path('train/3/26625.png'), Path('train/3/26629.png'), Path('train/3/26644.png'), Path('train/3/26651.png'), Path('train/3/26662.png'), Path('train/3/26671.png'), Path('train/3/26674.png'), Path('train/3/26678.png'), Path('train/3/2669.png'), Path('train/3/26691.png'), Path('train/3/26692.png'), Path('train/3/26694.png'), Path('train/3/26702.png'), Path('train/3/2671.png'), Path('train/3/26710.png'), Path('train/3/26711.png'), Path('train/3/26715.png'), Path('train/3/26724.png'), Path('train/3/26732.png'), Path('train/3/26739.png'), Path('train/3/26744.png'), Path('train/3/2675.png'), Path('train/3/26781.png'), Path('train/3/26783.png'), Path('train/3/26809.png'), Path('train/3/26824.png'), Path('train/3/26825.png'), Path('train/3/26830.png'), Path('train/3/26831.png'), Path('train/3/26849.png'), Path('train/3/26866.png'), Path('train/3/26871.png'), Path('train/3/26878.png'), Path('train/3/26880.png'), Path('train/3/26909.png'), Path('train/3/26928.png'), Path('train/3/26929.png'), Path('train/3/26942.png'), Path('train/3/26943.png'), Path('train/3/26965.png'), Path('train/3/26975.png'), Path('train/3/26981.png'), Path('train/3/26989.png'), Path('train/3/26998.png'), Path('train/3/27.png'), Path('train/3/27022.png'), Path('train/3/27031.png'), Path('train/3/27032.png'), Path('train/3/27047.png'), Path('train/3/2705.png'), Path('train/3/27060.png'), Path('train/3/27067.png'), Path('train/3/2707.png'), Path('train/3/27075.png'), Path('train/3/27078.png'), Path('train/3/27084.png'), Path('train/3/27095.png'), Path('train/3/27115.png'), Path('train/3/27132.png'), Path('train/3/27133.png'), Path('train/3/27135.png'), Path('train/3/27140.png'), Path('train/3/27143.png'), Path('train/3/27152.png'), Path('train/3/27160.png'), Path('train/3/27167.png'), Path('train/3/27172.png'), Path('train/3/27173.png'), Path('train/3/27183.png'), Path('train/3/2720.png'), Path('train/3/27211.png'), Path('train/3/27212.png'), Path('train/3/27214.png'), Path('train/3/27238.png'), Path('train/3/27248.png'), Path('train/3/2726.png'), Path('train/3/27261.png'), Path('train/3/27274.png'), Path('train/3/27279.png'), Path('train/3/27282.png'), Path('train/3/27287.png'), Path('train/3/27313.png'), Path('train/3/27316.png'), Path('train/3/27333.png'), Path('train/3/2734.png'), Path('train/3/27349.png'), Path('train/3/2735.png'), Path('train/3/27362.png'), Path('train/3/27366.png'), Path('train/3/27389.png'), Path('train/3/2740.png'), Path('train/3/27419.png'), Path('train/3/27420.png'), Path('train/3/27423.png'), Path('train/3/27435.png'), Path('train/3/27443.png'), Path('train/3/27467.png'), Path('train/3/27478.png'), Path('train/3/27480.png'), Path('train/3/27486.png'), Path('train/3/2751.png'), Path('train/3/27518.png'), Path('train/3/27527.png'), Path('train/3/27534.png'), Path('train/3/27540.png'), Path('train/3/27541.png'), Path('train/3/27553.png'), Path('train/3/27560.png'), Path('train/3/27570.png'), Path('train/3/27573.png'), Path('train/3/27589.png'), Path('train/3/2760.png'), Path('train/3/27610.png'), Path('train/3/27625.png'), Path('train/3/27640.png'), Path('train/3/27644.png'), Path('train/3/27645.png'), Path('train/3/27649.png'), Path('train/3/27651.png'), Path('train/3/27666.png'), Path('train/3/27670.png'), Path('train/3/27671.png'), Path('train/3/27675.png'), Path('train/3/27690.png'), Path('train/3/27691.png'), Path('train/3/27701.png'), Path('train/3/2771.png'), Path('train/3/27718.png'), Path('train/3/27726.png'), Path('train/3/2774.png'), Path('train/3/27741.png'), Path('train/3/27755.png'), Path('train/3/27763.png'), Path('train/3/27783.png'), Path('train/3/27784.png'), Path('train/3/27786.png'), Path('train/3/27795.png'), Path('train/3/27803.png'), Path('train/3/27804.png'), Path('train/3/27828.png'), Path('train/3/27835.png'), Path('train/3/27838.png'), Path('train/3/27840.png'), Path('train/3/27847.png'), Path('train/3/27856.png'), Path('train/3/2786.png'), Path('train/3/27861.png'), Path('train/3/27866.png'), Path('train/3/27870.png'), Path('train/3/2788.png'), Path('train/3/27899.png'), Path('train/3/279.png'), Path('train/3/27917.png'), Path('train/3/27930.png'), Path('train/3/27937.png'), Path('train/3/27946.png'), Path('train/3/2796.png'), Path('train/3/27960.png'), Path('train/3/27977.png'), Path('train/3/27987.png'), Path('train/3/27988.png'), Path('train/3/28006.png'), Path('train/3/28026.png'), Path('train/3/2803.png'), Path('train/3/28031.png'), Path('train/3/28032.png'), Path('train/3/28037.png'), Path('train/3/28075.png'), Path('train/3/281.png'), Path('train/3/28107.png'), Path('train/3/28111.png'), Path('train/3/28119.png'), Path('train/3/28123.png'), Path('train/3/28132.png'), Path('train/3/28137.png'), Path('train/3/28157.png'), Path('train/3/2816.png'), Path('train/3/28171.png'), Path('train/3/28174.png'), Path('train/3/2818.png'), Path('train/3/28193.png'), Path('train/3/28199.png'), Path('train/3/2820.png'), Path('train/3/28204.png'), Path('train/3/28224.png'), Path('train/3/28252.png'), Path('train/3/28256.png'), Path('train/3/28263.png'), Path('train/3/28264.png'), Path('train/3/28265.png'), Path('train/3/28276.png'), Path('train/3/28299.png'), Path('train/3/28303.png'), Path('train/3/28316.png'), Path('train/3/2834.png'), Path('train/3/28343.png'), Path('train/3/28344.png'), Path('train/3/28359.png'), Path('train/3/28371.png'), Path('train/3/28374.png'), Path('train/3/28380.png'), Path('train/3/28391.png'), Path('train/3/28392.png'), Path('train/3/28406.png'), Path('train/3/28409.png'), Path('train/3/28418.png'), Path('train/3/28431.png'), Path('train/3/28441.png'), Path('train/3/28444.png'), Path('train/3/28458.png'), Path('train/3/28472.png'), Path('train/3/28476.png'), Path('train/3/28485.png'), Path('train/3/28499.png'), Path('train/3/28515.png'), Path('train/3/28527.png'), Path('train/3/28528.png'), Path('train/3/28536.png'), Path('train/3/28561.png'), Path('train/3/28571.png'), Path('train/3/28580.png'), Path('train/3/28613.png'), Path('train/3/28626.png'), Path('train/3/28633.png'), Path('train/3/28653.png'), Path('train/3/28668.png'), Path('train/3/28693.png'), Path('train/3/28707.png'), Path('train/3/28709.png'), Path('train/3/2871.png'), Path('train/3/28716.png'), Path('train/3/28734.png'), Path('train/3/28735.png'), Path('train/3/28752.png'), Path('train/3/28757.png'), Path('train/3/28759.png'), Path('train/3/28760.png'), Path('train/3/28773.png'), Path('train/3/28778.png'), Path('train/3/28796.png'), Path('train/3/28803.png'), Path('train/3/28820.png'), Path('train/3/28825.png'), Path('train/3/28826.png'), Path('train/3/2883.png'), Path('train/3/28841.png'), Path('train/3/28858.png'), Path('train/3/2886.png'), Path('train/3/28861.png'), Path('train/3/28881.png'), Path('train/3/28900.png'), Path('train/3/28913.png'), Path('train/3/28916.png'), Path('train/3/28936.png'), Path('train/3/2895.png'), Path('train/3/28953.png'), Path('train/3/28955.png'), Path('train/3/28957.png'), Path('train/3/28983.png'), Path('train/3/28995.png'), Path('train/3/29013.png'), Path('train/3/29014.png'), Path('train/3/29023.png'), Path('train/3/29042.png'), Path('train/3/29045.png'), Path('train/3/2905.png'), Path('train/3/29061.png'), Path('train/3/29073.png'), Path('train/3/29089.png'), Path('train/3/29094.png'), Path('train/3/29097.png'), Path('train/3/291.png'), Path('train/3/29104.png'), Path('train/3/29121.png'), Path('train/3/29146.png'), Path('train/3/2915.png'), Path('train/3/29153.png'), Path('train/3/29158.png'), Path('train/3/2917.png'), Path('train/3/29181.png'), Path('train/3/29182.png'), Path('train/3/29185.png'), Path('train/3/29224.png'), Path('train/3/29225.png'), Path('train/3/29231.png'), Path('train/3/29232.png'), Path('train/3/29237.png'), Path('train/3/29246.png'), Path('train/3/29249.png'), Path('train/3/2926.png'), Path('train/3/29266.png'), Path('train/3/29269.png'), Path('train/3/29270.png'), Path('train/3/29289.png'), Path('train/3/29294.png'), Path('train/3/29300.png'), Path('train/3/29304.png'), Path('train/3/2931.png'), Path('train/3/29313.png'), Path('train/3/29352.png'), Path('train/3/29353.png'), Path('train/3/29356.png'), Path('train/3/29357.png'), Path('train/3/29366.png'), Path('train/3/29383.png'), Path('train/3/29391.png'), Path('train/3/29398.png'), Path('train/3/2941.png'), Path('train/3/29415.png'), Path('train/3/29427.png'), Path('train/3/29458.png'), Path('train/3/29459.png'), Path('train/3/29464.png'), Path('train/3/29476.png'), Path('train/3/29483.png'), Path('train/3/29504.png'), Path('train/3/29506.png'), Path('train/3/29521.png'), Path('train/3/29528.png'), Path('train/3/29557.png'), Path('train/3/2960.png'), Path('train/3/29602.png'), Path('train/3/29608.png'), Path('train/3/2961.png'), Path('train/3/29610.png'), Path('train/3/29613.png'), Path('train/3/29636.png'), Path('train/3/2964.png'), Path('train/3/29641.png'), Path('train/3/29642.png'), Path('train/3/29650.png'), Path('train/3/29653.png'), Path('train/3/29670.png'), Path('train/3/29671.png'), Path('train/3/29675.png'), Path('train/3/29701.png'), Path('train/3/29719.png'), Path('train/3/29757.png'), Path('train/3/29763.png'), Path('train/3/29765.png'), Path('train/3/29785.png'), Path('train/3/29791.png'), Path('train/3/298.png'), Path('train/3/29800.png'), Path('train/3/2981.png'), Path('train/3/29816.png'), Path('train/3/29823.png'), Path('train/3/29844.png'), Path('train/3/29875.png'), Path('train/3/29882.png'), Path('train/3/29889.png'), Path('train/3/29894.png'), Path('train/3/29896.png'), Path('train/3/29899.png'), Path('train/3/29913.png'), Path('train/3/29936.png'), Path('train/3/29958.png'), Path('train/3/29962.png'), Path('train/3/29969.png'), Path('train/3/29972.png'), Path('train/3/29991.png'), Path('train/3/30.png'), Path('train/3/30000.png'), Path('train/3/30002.png'), Path('train/3/30011.png'), Path('train/3/30040.png'), Path('train/3/30041.png'), Path('train/3/30048.png'), Path('train/3/3005.png'), Path('train/3/30057.png'), Path('train/3/30062.png'), Path('train/3/30070.png'), Path('train/3/30072.png'), Path('train/3/30077.png'), Path('train/3/30084.png'), Path('train/3/30090.png'), Path('train/3/30093.png'), Path('train/3/30105.png'), Path('train/3/30124.png'), Path('train/3/3013.png'), Path('train/3/30130.png'), Path('train/3/30131.png'), Path('train/3/30136.png'), Path('train/3/30159.png'), Path('train/3/30175.png'), Path('train/3/30183.png'), Path('train/3/30193.png'), Path('train/3/30206.png'), Path('train/3/30213.png'), Path('train/3/30226.png'), Path('train/3/30229.png'), Path('train/3/30241.png'), Path('train/3/30251.png'), Path('train/3/30254.png'), Path('train/3/30256.png'), Path('train/3/30258.png'), Path('train/3/30265.png'), Path('train/3/30273.png'), Path('train/3/30282.png'), Path('train/3/30284.png'), Path('train/3/30304.png'), Path('train/3/30306.png'), Path('train/3/3033.png'), Path('train/3/3034.png'), Path('train/3/30354.png'), Path('train/3/30362.png'), Path('train/3/30375.png'), Path('train/3/30377.png'), Path('train/3/30379.png'), Path('train/3/30386.png'), Path('train/3/30398.png'), Path('train/3/30400.png'), Path('train/3/30411.png'), Path('train/3/30417.png'), Path('train/3/30423.png'), Path('train/3/30431.png'), Path('train/3/30445.png'), Path('train/3/30461.png'), Path('train/3/30468.png'), Path('train/3/3047.png'), Path('train/3/3048.png'), Path('train/3/30483.png'), Path('train/3/30489.png'), Path('train/3/3051.png'), Path('train/3/30511.png'), Path('train/3/30515.png'), Path('train/3/30540.png'), Path('train/3/3057.png'), Path('train/3/30571.png'), Path('train/3/30574.png'), Path('train/3/30591.png'), Path('train/3/30611.png'), Path('train/3/30642.png'), Path('train/3/30644.png'), Path('train/3/30645.png'), Path('train/3/30650.png'), Path('train/3/30662.png'), Path('train/3/30673.png'), Path('train/3/30675.png'), Path('train/3/30679.png'), Path('train/3/30681.png'), Path('train/3/30692.png'), Path('train/3/30717.png'), Path('train/3/30720.png'), Path('train/3/30729.png'), Path('train/3/30733.png'), Path('train/3/30740.png'), Path('train/3/30747.png'), Path('train/3/3075.png'), Path('train/3/30754.png'), Path('train/3/30760.png'), Path('train/3/30774.png'), Path('train/3/30780.png'), Path('train/3/30793.png'), Path('train/3/30813.png'), Path('train/3/30824.png'), Path('train/3/30833.png'), Path('train/3/30859.png'), Path('train/3/30883.png'), Path('train/3/30885.png'), Path('train/3/30895.png'), Path('train/3/30897.png'), Path('train/3/30907.png'), Path('train/3/30915.png'), Path('train/3/30934.png'), Path('train/3/30949.png'), Path('train/3/30960.png'), Path('train/3/30962.png'), Path('train/3/30974.png'), Path('train/3/30984.png'), Path('train/3/30986.png'), Path('train/3/31011.png'), Path('train/3/31021.png'), Path('train/3/31032.png'), Path('train/3/31042.png'), Path('train/3/31044.png'), Path('train/3/31049.png'), Path('train/3/31065.png'), Path('train/3/3108.png'), Path('train/3/31098.png'), Path('train/3/31108.png'), Path('train/3/31117.png'), Path('train/3/31136.png'), Path('train/3/31140.png'), Path('train/3/31153.png'), Path('train/3/31155.png'), Path('train/3/31157.png'), Path('train/3/31178.png'), Path('train/3/31183.png'), Path('train/3/31201.png'), Path('train/3/31217.png'), Path('train/3/31229.png'), Path('train/3/3124.png'), Path('train/3/31249.png'), Path('train/3/31254.png'), Path('train/3/31269.png'), Path('train/3/31274.png'), Path('train/3/31283.png'), Path('train/3/31311.png'), Path('train/3/31345.png'), Path('train/3/31347.png'), Path('train/3/31349.png'), Path('train/3/31379.png'), Path('train/3/31395.png'), Path('train/3/31404.png'), Path('train/3/31409.png'), Path('train/3/31428.png'), Path('train/3/31431.png'), Path('train/3/31446.png'), Path('train/3/31450.png'), Path('train/3/31451.png'), Path('train/3/31452.png'), Path('train/3/31469.png'), Path('train/3/31482.png'), Path('train/3/31488.png'), Path('train/3/3150.png'), Path('train/3/31504.png'), Path('train/3/31515.png'), Path('train/3/31538.png'), Path('train/3/31544.png'), Path('train/3/31548.png'), Path('train/3/31559.png'), Path('train/3/31562.png'), Path('train/3/31564.png'), Path('train/3/31579.png'), Path('train/3/31582.png'), Path('train/3/31587.png'), Path('train/3/3159.png'), Path('train/3/31595.png'), Path('train/3/31596.png'), Path('train/3/31602.png'), Path('train/3/31610.png'), Path('train/3/31627.png'), Path('train/3/31631.png'), Path('train/3/31636.png'), Path('train/3/31641.png'), Path('train/3/31664.png'), Path('train/3/31667.png'), Path('train/3/31680.png'), Path('train/3/31691.png'), Path('train/3/31703.png'), Path('train/3/3171.png'), Path('train/3/31719.png'), Path('train/3/31720.png'), Path('train/3/31722.png'), Path('train/3/31723.png'), Path('train/3/31724.png'), Path('train/3/31735.png'), Path('train/3/3174.png'), Path('train/3/31745.png'), Path('train/3/31748.png'), Path('train/3/31759.png'), Path('train/3/31775.png'), Path('train/3/3178.png'), Path('train/3/31788.png'), Path('train/3/31791.png'), Path('train/3/31805.png'), Path('train/3/3181.png'), Path('train/3/31811.png'), Path('train/3/31825.png'), Path('train/3/31831.png'), Path('train/3/31868.png'), Path('train/3/31897.png'), Path('train/3/31913.png'), Path('train/3/3192.png'), Path('train/3/31925.png'), Path('train/3/31936.png'), Path('train/3/31949.png'), Path('train/3/31952.png'), Path('train/3/31960.png'), Path('train/3/31962.png'), Path('train/3/31975.png'), Path('train/3/31988.png'), Path('train/3/31989.png'), Path('train/3/3201.png'), Path('train/3/32013.png'), Path('train/3/32017.png'), Path('train/3/32025.png'), Path('train/3/32031.png'), Path('train/3/32042.png'), Path('train/3/32044.png'), Path('train/3/32071.png'), Path('train/3/32087.png'), Path('train/3/32091.png'), Path('train/3/321.png'), Path('train/3/32106.png'), Path('train/3/32114.png'), Path('train/3/32115.png'), Path('train/3/32137.png'), Path('train/3/3215.png'), Path('train/3/32157.png'), Path('train/3/32171.png'), Path('train/3/32176.png'), Path('train/3/32192.png'), Path('train/3/32193.png'), Path('train/3/32194.png'), Path('train/3/3220.png'), Path('train/3/32203.png'), Path('train/3/32209.png'), Path('train/3/32223.png'), Path('train/3/32227.png'), Path('train/3/32234.png'), Path('train/3/32267.png'), Path('train/3/32275.png'), Path('train/3/32276.png'), Path('train/3/32281.png'), Path('train/3/32284.png'), Path('train/3/32299.png'), Path('train/3/32314.png'), Path('train/3/32319.png'), Path('train/3/3233.png'), Path('train/3/32330.png'), Path('train/3/32339.png'), Path('train/3/32371.png'), Path('train/3/32376.png'), Path('train/3/32379.png'), Path('train/3/32385.png'), Path('train/3/32398.png'), Path('train/3/32401.png'), Path('train/3/32409.png'), Path('train/3/32414.png'), Path('train/3/32420.png'), Path('train/3/32421.png'), Path('train/3/32422.png'), Path('train/3/32434.png'), Path('train/3/32444.png'), Path('train/3/32476.png'), Path('train/3/32479.png'), Path('train/3/32484.png'), Path('train/3/32490.png'), Path('train/3/32495.png'), Path('train/3/32505.png'), Path('train/3/32539.png'), Path('train/3/32563.png'), Path('train/3/3258.png'), Path('train/3/32581.png'), Path('train/3/32586.png'), Path('train/3/32588.png'), Path('train/3/32610.png'), Path('train/3/32619.png'), Path('train/3/3264.png'), Path('train/3/32642.png'), Path('train/3/32644.png'), Path('train/3/32652.png'), Path('train/3/32653.png'), Path('train/3/32656.png'), Path('train/3/32663.png'), Path('train/3/32664.png'), Path('train/3/32665.png'), Path('train/3/32680.png'), Path('train/3/32685.png'), Path('train/3/32688.png'), Path('train/3/32689.png'), Path('train/3/32691.png'), Path('train/3/327.png'), Path('train/3/32703.png'), Path('train/3/32730.png'), Path('train/3/32753.png'), Path('train/3/32764.png'), Path('train/3/32775.png'), Path('train/3/32786.png'), Path('train/3/32790.png'), Path('train/3/32794.png'), Path('train/3/32799.png'), Path('train/3/32804.png'), Path('train/3/32811.png'), Path('train/3/32827.png'), Path('train/3/32847.png'), Path('train/3/32850.png'), Path('train/3/32881.png'), Path('train/3/32883.png'), Path('train/3/32885.png'), Path('train/3/32897.png'), Path('train/3/32900.png'), Path('train/3/3291.png'), Path('train/3/32913.png'), Path('train/3/32931.png'), Path('train/3/32933.png'), Path('train/3/32940.png'), Path('train/3/32944.png'), Path('train/3/32960.png'), Path('train/3/32964.png'), Path('train/3/32975.png'), Path('train/3/32984.png'), Path('train/3/32990.png'), Path('train/3/330.png'), Path('train/3/33000.png'), Path('train/3/33002.png'), Path('train/3/33004.png'), Path('train/3/33009.png'), Path('train/3/33022.png'), Path('train/3/33028.png'), Path('train/3/33029.png'), Path('train/3/33049.png'), Path('train/3/33054.png'), Path('train/3/33080.png'), Path('train/3/33099.png'), Path('train/3/33114.png'), Path('train/3/33132.png'), Path('train/3/33139.png'), Path('train/3/3314.png'), Path('train/3/33145.png'), Path('train/3/33146.png'), Path('train/3/33161.png'), Path('train/3/33169.png'), Path('train/3/3318.png'), Path('train/3/33186.png'), Path('train/3/33189.png'), Path('train/3/3319.png'), Path('train/3/33194.png'), Path('train/3/3320.png'), Path('train/3/33208.png'), Path('train/3/33223.png'), Path('train/3/33225.png'), Path('train/3/33229.png'), Path('train/3/3323.png'), Path('train/3/33239.png'), Path('train/3/33240.png'), Path('train/3/33263.png'), Path('train/3/33276.png'), Path('train/3/33283.png'), Path('train/3/33299.png'), Path('train/3/33316.png'), Path('train/3/3332.png'), Path('train/3/33331.png'), Path('train/3/33344.png'), Path('train/3/33351.png'), Path('train/3/33357.png'), Path('train/3/3336.png'), Path('train/3/33371.png'), Path('train/3/33399.png'), Path('train/3/33400.png'), Path('train/3/33407.png'), Path('train/3/33412.png'), Path('train/3/33421.png'), Path('train/3/33432.png'), Path('train/3/33444.png'), Path('train/3/33445.png'), Path('train/3/33468.png'), Path('train/3/3347.png'), Path('train/3/33471.png'), Path('train/3/33491.png'), Path('train/3/33500.png'), Path('train/3/33507.png'), Path('train/3/33510.png'), Path('train/3/33529.png'), Path('train/3/33532.png'), Path('train/3/33566.png'), Path('train/3/33568.png'), Path('train/3/3358.png'), Path('train/3/33583.png'), Path('train/3/33587.png'), Path('train/3/33589.png'), Path('train/3/33590.png'), Path('train/3/33594.png'), Path('train/3/33607.png'), Path('train/3/33609.png'), Path('train/3/33624.png'), Path('train/3/33633.png'), Path('train/3/33649.png'), Path('train/3/33655.png'), Path('train/3/33694.png'), Path('train/3/33709.png'), Path('train/3/33722.png'), Path('train/3/33729.png'), Path('train/3/33745.png'), Path('train/3/33754.png'), Path('train/3/33758.png'), Path('train/3/33760.png'), Path('train/3/33763.png'), Path('train/3/33772.png'), Path('train/3/33786.png'), Path('train/3/33795.png'), Path('train/3/33817.png'), Path('train/3/33818.png'), Path('train/3/33828.png'), Path('train/3/3383.png'), Path('train/3/33837.png'), Path('train/3/33840.png'), Path('train/3/33845.png'), Path('train/3/33854.png'), Path('train/3/3386.png'), Path('train/3/33875.png'), Path('train/3/33877.png'), Path('train/3/33880.png'), Path('train/3/33896.png'), Path('train/3/33908.png'), Path('train/3/33911.png'), Path('train/3/33917.png'), Path('train/3/33939.png'), Path('train/3/33953.png'), Path('train/3/33962.png'), Path('train/3/33966.png'), Path('train/3/33969.png'), Path('train/3/3397.png'), Path('train/3/33970.png'), Path('train/3/33986.png'), Path('train/3/33989.png'), Path('train/3/3400.png'), Path('train/3/34006.png'), Path('train/3/34018.png'), Path('train/3/3402.png'), Path('train/3/34023.png'), Path('train/3/34026.png'), Path('train/3/3404.png'), Path('train/3/34048.png'), Path('train/3/34058.png'), Path('train/3/34076.png'), Path('train/3/34085.png'), Path('train/3/34089.png'), Path('train/3/34092.png'), Path('train/3/341.png'), Path('train/3/34105.png'), Path('train/3/34119.png'), Path('train/3/34120.png'), Path('train/3/34127.png'), Path('train/3/34140.png'), Path('train/3/34143.png'), Path('train/3/34145.png'), Path('train/3/3415.png'), Path('train/3/34170.png'), Path('train/3/34171.png'), Path('train/3/34175.png'), Path('train/3/34180.png'), Path('train/3/34183.png'), Path('train/3/34188.png'), Path('train/3/34190.png'), Path('train/3/34203.png'), Path('train/3/34204.png'), Path('train/3/34208.png'), Path('train/3/34219.png'), Path('train/3/3422.png'), Path('train/3/34235.png'), Path('train/3/34239.png'), Path('train/3/3424.png'), Path('train/3/34259.png'), Path('train/3/34268.png'), Path('train/3/34289.png'), Path('train/3/34293.png'), Path('train/3/34315.png'), Path('train/3/34316.png'), Path('train/3/34318.png'), Path('train/3/34327.png'), Path('train/3/34333.png'), Path('train/3/3435.png'), Path('train/3/34351.png'), Path('train/3/34363.png'), Path('train/3/34364.png'), Path('train/3/34366.png'), Path('train/3/34368.png'), Path('train/3/34384.png'), Path('train/3/34387.png'), Path('train/3/34390.png'), Path('train/3/34396.png'), Path('train/3/34407.png'), Path('train/3/34427.png'), Path('train/3/34461.png'), Path('train/3/34481.png'), Path('train/3/3452.png'), Path('train/3/34525.png'), Path('train/3/34526.png'), Path('train/3/34536.png'), Path('train/3/34547.png'), Path('train/3/34548.png'), Path('train/3/34551.png'), Path('train/3/34552.png'), Path('train/3/34556.png'), Path('train/3/34587.png'), Path('train/3/34597.png'), Path('train/3/3460.png'), Path('train/3/34605.png'), Path('train/3/34607.png'), Path('train/3/3462.png'), Path('train/3/34622.png'), Path('train/3/34629.png'), Path('train/3/34630.png'), Path('train/3/34642.png'), Path('train/3/34644.png'), Path('train/3/34645.png'), Path('train/3/34646.png'), Path('train/3/34659.png'), Path('train/3/3466.png'), Path('train/3/34660.png'), Path('train/3/34672.png'), Path('train/3/34684.png'), Path('train/3/34685.png'), Path('train/3/34695.png'), Path('train/3/34701.png'), Path('train/3/3471.png'), Path('train/3/34710.png'), Path('train/3/34712.png'), Path('train/3/34713.png'), Path('train/3/34716.png'), Path('train/3/3472.png'), Path('train/3/34721.png'), Path('train/3/34728.png'), Path('train/3/34736.png'), Path('train/3/34740.png'), Path('train/3/34788.png'), Path('train/3/34793.png'), Path('train/3/34802.png'), Path('train/3/34805.png'), Path('train/3/34815.png'), Path('train/3/34828.png'), Path('train/3/34832.png'), Path('train/3/34845.png'), Path('train/3/34846.png'), Path('train/3/34853.png'), Path('train/3/34862.png'), Path('train/3/34866.png'), Path('train/3/34873.png'), Path('train/3/34893.png'), Path('train/3/34898.png'), Path('train/3/34906.png'), Path('train/3/3491.png'), Path('train/3/34931.png'), Path('train/3/34967.png'), Path('train/3/34973.png'), Path('train/3/34987.png'), Path('train/3/34995.png'), Path('train/3/35010.png'), Path('train/3/35015.png'), Path('train/3/35022.png'), Path('train/3/35030.png'), Path('train/3/35043.png'), Path('train/3/35045.png'), Path('train/3/35049.png'), Path('train/3/35058.png'), Path('train/3/35066.png'), Path('train/3/35073.png'), Path('train/3/35086.png'), Path('train/3/35093.png'), Path('train/3/35113.png'), Path('train/3/35122.png'), Path('train/3/35132.png'), Path('train/3/35139.png'), Path('train/3/35143.png'), Path('train/3/35155.png'), Path('train/3/35156.png'), Path('train/3/35162.png'), Path('train/3/35165.png'), Path('train/3/35170.png'), Path('train/3/35173.png'), Path('train/3/35180.png'), Path('train/3/35190.png'), Path('train/3/35195.png'), Path('train/3/35208.png'), Path('train/3/3521.png'), Path('train/3/35221.png'), Path('train/3/35226.png'), Path('train/3/3523.png'), Path('train/3/35231.png'), Path('train/3/35248.png'), Path('train/3/35249.png'), Path('train/3/35271.png'), Path('train/3/35272.png'), Path('train/3/35317.png'), Path('train/3/35333.png'), Path('train/3/35336.png'), Path('train/3/35346.png'), Path('train/3/35349.png'), Path('train/3/35354.png'), Path('train/3/35366.png'), Path('train/3/35376.png'), Path('train/3/35379.png'), Path('train/3/35381.png'), Path('train/3/35401.png'), Path('train/3/35407.png'), Path('train/3/35415.png'), Path('train/3/3542.png'), Path('train/3/35422.png'), Path('train/3/35434.png'), Path('train/3/35447.png'), Path('train/3/35458.png'), Path('train/3/35459.png'), Path('train/3/35486.png'), Path('train/3/35491.png'), Path('train/3/35498.png'), Path('train/3/3550.png'), Path('train/3/35504.png'), Path('train/3/35511.png'), Path('train/3/3552.png'), Path('train/3/35520.png'), Path('train/3/35522.png'), Path('train/3/35528.png'), Path('train/3/35530.png'), Path('train/3/35531.png'), Path('train/3/35542.png'), Path('train/3/35548.png'), Path('train/3/35550.png'), Path('train/3/35557.png'), Path('train/3/35562.png'), Path('train/3/35563.png'), Path('train/3/35568.png'), Path('train/3/35574.png'), Path('train/3/35582.png'), Path('train/3/356.png'), Path('train/3/35610.png'), Path('train/3/35613.png'), Path('train/3/35615.png'), Path('train/3/35622.png'), Path('train/3/35631.png'), Path('train/3/35640.png'), Path('train/3/35643.png'), Path('train/3/35649.png'), Path('train/3/35658.png'), Path('train/3/35688.png'), Path('train/3/35692.png'), Path('train/3/35703.png'), Path('train/3/3571.png'), Path('train/3/35723.png'), Path('train/3/35744.png'), Path('train/3/3576.png'), Path('train/3/35765.png'), Path('train/3/35794.png'), Path('train/3/35796.png'), Path('train/3/35801.png'), Path('train/3/35803.png'), Path('train/3/35805.png'), Path('train/3/35806.png'), Path('train/3/35814.png'), Path('train/3/35833.png'), Path('train/3/35859.png'), Path('train/3/35869.png'), Path('train/3/35870.png'), Path('train/3/35874.png'), Path('train/3/35876.png'), Path('train/3/35881.png'), Path('train/3/35890.png'), Path('train/3/35891.png'), Path('train/3/35898.png'), Path('train/3/3591.png'), Path('train/3/35911.png'), Path('train/3/35914.png'), Path('train/3/35922.png'), Path('train/3/35929.png'), Path('train/3/35944.png'), Path('train/3/35949.png'), Path('train/3/35954.png'), Path('train/3/3596.png'), Path('train/3/35969.png'), Path('train/3/35979.png'), Path('train/3/35984.png'), Path('train/3/35986.png'), Path('train/3/36005.png'), Path('train/3/36018.png'), Path('train/3/36021.png'), Path('train/3/36023.png'), Path('train/3/36032.png'), Path('train/3/36046.png'), Path('train/3/36048.png'), Path('train/3/36057.png'), Path('train/3/3606.png'), Path('train/3/36076.png'), Path('train/3/36078.png'), Path('train/3/36082.png'), Path('train/3/3609.png'), Path('train/3/36093.png'), Path('train/3/361.png'), Path('train/3/36103.png'), Path('train/3/36119.png'), Path('train/3/36128.png'), Path('train/3/36130.png'), Path('train/3/36132.png'), Path('train/3/3614.png'), Path('train/3/36149.png'), Path('train/3/36154.png'), Path('train/3/36169.png'), Path('train/3/36180.png'), Path('train/3/36189.png'), Path('train/3/36206.png'), Path('train/3/36216.png'), Path('train/3/36227.png'), Path('train/3/36242.png'), Path('train/3/36247.png'), Path('train/3/36248.png'), Path('train/3/3626.png'), Path('train/3/36262.png'), Path('train/3/36263.png'), Path('train/3/36287.png'), Path('train/3/36295.png'), Path('train/3/36298.png'), Path('train/3/36301.png'), Path('train/3/36324.png'), Path('train/3/36327.png'), Path('train/3/36329.png'), Path('train/3/36337.png'), Path('train/3/36338.png'), Path('train/3/36357.png'), Path('train/3/36377.png'), Path('train/3/36406.png'), Path('train/3/36409.png'), Path('train/3/36421.png'), Path('train/3/36427.png'), Path('train/3/36432.png'), Path('train/3/36449.png'), Path('train/3/36458.png'), Path('train/3/36471.png'), Path('train/3/36488.png'), Path('train/3/3651.png'), Path('train/3/36511.png'), Path('train/3/36515.png'), Path('train/3/36525.png'), Path('train/3/36542.png'), Path('train/3/3655.png'), Path('train/3/36555.png'), Path('train/3/3656.png'), Path('train/3/36566.png'), Path('train/3/36572.png'), Path('train/3/36575.png'), Path('train/3/36592.png'), Path('train/3/36595.png'), Path('train/3/36604.png'), Path('train/3/36623.png'), Path('train/3/36644.png'), Path('train/3/36645.png'), Path('train/3/36671.png'), Path('train/3/36684.png'), Path('train/3/3670.png'), Path('train/3/36705.png'), Path('train/3/36707.png'), Path('train/3/36709.png'), Path('train/3/36716.png'), Path('train/3/36723.png'), Path('train/3/36732.png'), Path('train/3/3674.png'), Path('train/3/36740.png'), Path('train/3/36755.png'), Path('train/3/36761.png'), Path('train/3/36802.png'), Path('train/3/36803.png'), Path('train/3/36815.png'), Path('train/3/3683.png'), Path('train/3/36835.png'), Path('train/3/3684.png'), Path('train/3/36852.png'), Path('train/3/36855.png'), Path('train/3/36862.png'), Path('train/3/3687.png'), Path('train/3/36872.png'), Path('train/3/36887.png'), Path('train/3/36899.png'), Path('train/3/36911.png'), Path('train/3/36912.png'), Path('train/3/36917.png'), Path('train/3/36931.png'), Path('train/3/36946.png'), Path('train/3/36957.png'), Path('train/3/3699.png'), Path('train/3/36990.png'), Path('train/3/37013.png'), Path('train/3/37017.png'), Path('train/3/37021.png'), Path('train/3/37022.png'), Path('train/3/37035.png'), Path('train/3/37042.png'), Path('train/3/37054.png'), Path('train/3/37065.png'), Path('train/3/3707.png'), Path('train/3/37082.png'), Path('train/3/37085.png'), Path('train/3/37105.png'), Path('train/3/37118.png'), Path('train/3/37124.png'), Path('train/3/3713.png'), Path('train/3/37132.png'), Path('train/3/37134.png'), Path('train/3/37135.png'), Path('train/3/37161.png'), Path('train/3/37163.png'), Path('train/3/37166.png'), Path('train/3/37167.png'), Path('train/3/37169.png'), Path('train/3/37174.png'), Path('train/3/37186.png'), Path('train/3/37188.png'), Path('train/3/37197.png'), Path('train/3/37204.png'), Path('train/3/37205.png'), Path('train/3/37209.png'), Path('train/3/37223.png'), Path('train/3/37229.png'), Path('train/3/37244.png'), Path('train/3/37250.png'), Path('train/3/37260.png'), Path('train/3/37266.png'), Path('train/3/37271.png'), Path('train/3/37280.png'), Path('train/3/37284.png'), Path('train/3/37293.png'), Path('train/3/37304.png'), Path('train/3/37309.png'), Path('train/3/37314.png'), Path('train/3/37332.png'), Path('train/3/3735.png'), Path('train/3/37355.png'), Path('train/3/37361.png'), Path('train/3/37362.png'), Path('train/3/37368.png'), Path('train/3/37373.png'), Path('train/3/37374.png'), Path('train/3/37383.png'), Path('train/3/37397.png'), Path('train/3/3740.png'), Path('train/3/37404.png'), Path('train/3/37422.png'), Path('train/3/37439.png'), Path('train/3/37443.png'), Path('train/3/37454.png'), Path('train/3/37464.png'), Path('train/3/37468.png'), Path('train/3/37470.png'), Path('train/3/37478.png'), Path('train/3/37503.png'), Path('train/3/37517.png'), Path('train/3/37524.png'), Path('train/3/3754.png'), Path('train/3/37540.png'), Path('train/3/37555.png'), Path('train/3/3756.png'), Path('train/3/37566.png'), Path('train/3/37569.png'), Path('train/3/37572.png'), Path('train/3/37578.png'), Path('train/3/37604.png'), Path('train/3/37622.png'), Path('train/3/37625.png'), Path('train/3/37626.png'), Path('train/3/37627.png'), Path('train/3/37636.png'), Path('train/3/37643.png'), Path('train/3/37649.png'), Path('train/3/37652.png'), Path('train/3/37658.png'), Path('train/3/37689.png'), Path('train/3/37690.png'), Path('train/3/37691.png'), Path('train/3/37692.png'), Path('train/3/37700.png'), Path('train/3/37703.png'), Path('train/3/37711.png'), Path('train/3/37718.png'), Path('train/3/37729.png'), Path('train/3/37730.png'), Path('train/3/37745.png'), Path('train/3/37746.png'), Path('train/3/37756.png'), Path('train/3/37765.png'), Path('train/3/37786.png'), Path('train/3/37789.png'), Path('train/3/37792.png'), Path('train/3/37795.png'), Path('train/3/37796.png'), Path('train/3/37797.png'), Path('train/3/37821.png'), Path('train/3/37827.png'), Path('train/3/37847.png'), Path('train/3/37848.png'), Path('train/3/37855.png'), Path('train/3/37860.png'), Path('train/3/37886.png'), Path('train/3/37889.png'), Path('train/3/37890.png'), Path('train/3/37896.png'), Path('train/3/37903.png'), Path('train/3/37908.png'), Path('train/3/37912.png'), Path('train/3/37913.png'), Path('train/3/37927.png'), Path('train/3/37928.png'), Path('train/3/3793.png'), Path('train/3/37940.png'), Path('train/3/37943.png'), Path('train/3/37944.png'), Path('train/3/37959.png'), Path('train/3/37991.png'), Path('train/3/37996.png'), Path('train/3/3803.png'), Path('train/3/38037.png'), Path('train/3/38049.png'), Path('train/3/38053.png'), Path('train/3/38058.png'), Path('train/3/38066.png'), Path('train/3/38083.png'), Path('train/3/38086.png'), Path('train/3/38089.png'), Path('train/3/3810.png'), Path('train/3/38109.png'), Path('train/3/38116.png'), Path('train/3/3812.png'), Path('train/3/38129.png'), Path('train/3/38130.png'), Path('train/3/38145.png'), Path('train/3/3815.png'), Path('train/3/38166.png'), Path('train/3/38167.png'), Path('train/3/38174.png'), Path('train/3/38180.png'), Path('train/3/38193.png'), Path('train/3/38199.png'), Path('train/3/38218.png'), Path('train/3/38223.png'), Path('train/3/38238.png'), Path('train/3/38239.png'), Path('train/3/3824.png'), Path('train/3/38241.png'), Path('train/3/38245.png'), Path('train/3/38277.png'), Path('train/3/38281.png'), Path('train/3/38283.png'), Path('train/3/38294.png'), Path('train/3/38321.png'), Path('train/3/38341.png'), Path('train/3/38346.png'), Path('train/3/3835.png'), Path('train/3/38361.png'), Path('train/3/38368.png'), Path('train/3/38377.png'), Path('train/3/38383.png'), Path('train/3/38399.png'), Path('train/3/38410.png'), Path('train/3/3844.png'), Path('train/3/38441.png'), Path('train/3/38445.png'), Path('train/3/38451.png'), Path('train/3/38485.png'), Path('train/3/38495.png'), Path('train/3/38507.png'), Path('train/3/38520.png'), Path('train/3/38529.png'), Path('train/3/38536.png'), Path('train/3/38549.png'), Path('train/3/3855.png'), Path('train/3/38565.png'), Path('train/3/38580.png'), Path('train/3/38593.png'), Path('train/3/38602.png'), Path('train/3/38627.png'), Path('train/3/38653.png'), Path('train/3/38657.png'), Path('train/3/38670.png'), Path('train/3/38687.png'), Path('train/3/38712.png'), Path('train/3/38714.png'), Path('train/3/38732.png'), Path('train/3/38735.png'), Path('train/3/38752.png'), Path('train/3/38755.png'), Path('train/3/38771.png'), Path('train/3/38772.png'), Path('train/3/38797.png'), Path('train/3/38804.png'), Path('train/3/38811.png'), Path('train/3/38827.png'), Path('train/3/38859.png'), Path('train/3/38867.png'), Path('train/3/38882.png'), Path('train/3/38892.png'), Path('train/3/38894.png'), Path('train/3/38900.png'), Path('train/3/38904.png'), Path('train/3/38911.png'), Path('train/3/38927.png'), Path('train/3/3893.png'), Path('train/3/38955.png'), Path('train/3/38970.png'), Path('train/3/38982.png'), Path('train/3/38983.png'), Path('train/3/38986.png'), Path('train/3/38989.png'), Path('train/3/38990.png'), Path('train/3/38991.png'), Path('train/3/38998.png'), Path('train/3/39040.png'), Path('train/3/39061.png'), Path('train/3/39066.png'), Path('train/3/39081.png'), Path('train/3/39099.png'), Path('train/3/39100.png'), Path('train/3/39108.png'), Path('train/3/39116.png'), Path('train/3/39122.png'), Path('train/3/39124.png'), Path('train/3/39125.png'), Path('train/3/39127.png'), Path('train/3/39136.png'), Path('train/3/39140.png'), Path('train/3/39143.png'), Path('train/3/39181.png'), Path('train/3/39184.png'), Path('train/3/39189.png'), Path('train/3/392.png'), Path('train/3/3920.png'), Path('train/3/39215.png'), Path('train/3/39222.png'), Path('train/3/3923.png'), Path('train/3/39231.png'), Path('train/3/39235.png'), Path('train/3/39240.png'), Path('train/3/39267.png'), Path('train/3/39285.png'), Path('train/3/39290.png'), Path('train/3/39301.png'), Path('train/3/39312.png'), Path('train/3/39317.png'), Path('train/3/39325.png'), Path('train/3/39327.png'), Path('train/3/39329.png'), Path('train/3/39349.png'), Path('train/3/39359.png'), Path('train/3/39366.png'), Path('train/3/3938.png'), Path('train/3/39384.png'), Path('train/3/39397.png'), Path('train/3/3941.png'), Path('train/3/39412.png'), Path('train/3/39415.png'), Path('train/3/39445.png'), Path('train/3/39452.png'), Path('train/3/39461.png'), Path('train/3/39469.png'), Path('train/3/39489.png'), Path('train/3/3949.png'), Path('train/3/39509.png'), Path('train/3/39520.png'), Path('train/3/39553.png'), Path('train/3/39565.png'), Path('train/3/39566.png'), Path('train/3/39591.png'), Path('train/3/39595.png'), Path('train/3/39617.png'), Path('train/3/39618.png'), Path('train/3/39619.png'), Path('train/3/39641.png'), Path('train/3/39675.png'), Path('train/3/39678.png'), Path('train/3/39686.png'), Path('train/3/3969.png'), Path('train/3/39696.png'), Path('train/3/39704.png'), Path('train/3/39705.png'), Path('train/3/39706.png'), Path('train/3/39721.png'), Path('train/3/39728.png'), Path('train/3/39741.png'), Path('train/3/39744.png'), Path('train/3/39761.png'), Path('train/3/39768.png'), Path('train/3/39770.png'), Path('train/3/39774.png'), Path('train/3/39786.png'), Path('train/3/39798.png'), Path('train/3/39804.png'), Path('train/3/39814.png'), Path('train/3/39820.png'), Path('train/3/39836.png'), Path('train/3/39851.png'), Path('train/3/39852.png'), Path('train/3/39855.png'), Path('train/3/39871.png'), Path('train/3/39884.png'), Path('train/3/39885.png'), Path('train/3/39900.png'), Path('train/3/39904.png'), Path('train/3/39907.png'), Path('train/3/39909.png'), Path('train/3/39928.png'), Path('train/3/39933.png'), Path('train/3/39941.png'), Path('train/3/3995.png'), Path('train/3/39961.png'), Path('train/3/3997.png'), Path('train/3/39981.png'), Path('train/3/39982.png'), Path('train/3/40005.png'), Path('train/3/4001.png'), Path('train/3/40020.png'), Path('train/3/40035.png'), Path('train/3/40051.png'), Path('train/3/40055.png'), Path('train/3/40068.png'), Path('train/3/40078.png'), Path('train/3/40079.png'), Path('train/3/40087.png'), Path('train/3/40100.png'), Path('train/3/40104.png'), Path('train/3/40109.png'), Path('train/3/4011.png'), Path('train/3/40121.png'), Path('train/3/40161.png'), Path('train/3/40166.png'), Path('train/3/40184.png'), Path('train/3/40185.png'), Path('train/3/40202.png'), Path('train/3/40205.png'), Path('train/3/4022.png'), Path('train/3/40223.png'), Path('train/3/40247.png'), Path('train/3/40254.png'), Path('train/3/40256.png'), Path('train/3/40257.png'), Path('train/3/40281.png'), Path('train/3/40298.png'), Path('train/3/40301.png'), Path('train/3/40305.png'), Path('train/3/40307.png'), Path('train/3/4033.png'), Path('train/3/40337.png'), Path('train/3/40374.png'), Path('train/3/40375.png'), Path('train/3/40382.png'), Path('train/3/40384.png'), Path('train/3/40385.png'), Path('train/3/40401.png'), Path('train/3/40404.png'), Path('train/3/40427.png'), Path('train/3/40447.png'), Path('train/3/40452.png'), Path('train/3/40462.png'), Path('train/3/40463.png'), Path('train/3/40480.png'), Path('train/3/40481.png'), Path('train/3/40483.png'), Path('train/3/40490.png'), Path('train/3/405.png'), Path('train/3/40502.png'), Path('train/3/40517.png'), Path('train/3/40520.png'), Path('train/3/4053.png'), Path('train/3/40532.png'), Path('train/3/40540.png'), Path('train/3/40550.png'), Path('train/3/40555.png'), Path('train/3/40570.png'), Path('train/3/40572.png'), Path('train/3/40574.png'), Path('train/3/40575.png'), Path('train/3/40578.png'), Path('train/3/40588.png'), Path('train/3/40618.png'), Path('train/3/40619.png'), Path('train/3/40620.png'), Path('train/3/40636.png'), Path('train/3/40639.png'), Path('train/3/40655.png'), Path('train/3/40662.png'), Path('train/3/4068.png'), Path('train/3/40683.png'), Path('train/3/40691.png'), Path('train/3/40720.png'), Path('train/3/40722.png'), Path('train/3/4073.png'), Path('train/3/40734.png'), Path('train/3/40739.png'), Path('train/3/40743.png'), Path('train/3/40745.png'), Path('train/3/40752.png'), Path('train/3/40763.png'), Path('train/3/40765.png'), Path('train/3/40789.png'), Path('train/3/40805.png'), Path('train/3/40811.png'), Path('train/3/40818.png'), Path('train/3/40830.png'), Path('train/3/40836.png'), Path('train/3/40858.png'), Path('train/3/40865.png'), Path('train/3/40866.png'), Path('train/3/40883.png'), Path('train/3/40892.png'), Path('train/3/40898.png'), Path('train/3/40901.png'), Path('train/3/40904.png'), Path('train/3/40914.png'), Path('train/3/40925.png'), Path('train/3/40926.png'), Path('train/3/40931.png'), Path('train/3/40932.png'), Path('train/3/4094.png'), Path('train/3/40940.png'), Path('train/3/40947.png'), Path('train/3/40962.png'), Path('train/3/40996.png'), Path('train/3/41003.png'), Path('train/3/41007.png'), Path('train/3/4101.png'), Path('train/3/41010.png'), Path('train/3/41015.png'), Path('train/3/41048.png'), Path('train/3/41053.png'), Path('train/3/41067.png'), Path('train/3/41071.png'), Path('train/3/41085.png'), Path('train/3/41107.png'), Path('train/3/41110.png'), Path('train/3/41123.png'), Path('train/3/41136.png'), Path('train/3/41143.png'), Path('train/3/41165.png'), Path('train/3/41171.png'), Path('train/3/4121.png'), Path('train/3/41212.png'), Path('train/3/41225.png'), Path('train/3/41229.png'), Path('train/3/41233.png'), Path('train/3/41267.png'), Path('train/3/41283.png'), Path('train/3/41287.png'), Path('train/3/41299.png'), Path('train/3/41317.png'), Path('train/3/41337.png'), Path('train/3/41343.png'), Path('train/3/41356.png'), Path('train/3/4136.png'), Path('train/3/41378.png'), Path('train/3/4138.png'), Path('train/3/41385.png'), Path('train/3/41391.png'), Path('train/3/41404.png'), Path('train/3/41407.png'), Path('train/3/41411.png'), Path('train/3/41428.png'), Path('train/3/41436.png'), Path('train/3/41453.png'), Path('train/3/41471.png'), Path('train/3/41476.png'), Path('train/3/41491.png'), Path('train/3/41494.png'), Path('train/3/41507.png'), Path('train/3/41513.png'), Path('train/3/41515.png'), Path('train/3/41537.png'), Path('train/3/4154.png'), Path('train/3/41543.png'), Path('train/3/41552.png'), Path('train/3/4156.png'), Path('train/3/41565.png'), Path('train/3/41573.png'), Path('train/3/41590.png'), Path('train/3/41608.png'), Path('train/3/41619.png'), Path('train/3/41624.png'), Path('train/3/41629.png'), Path('train/3/41632.png'), Path('train/3/41639.png'), Path('train/3/41653.png'), Path('train/3/41689.png'), Path('train/3/41704.png'), Path('train/3/41720.png'), Path('train/3/41727.png'), Path('train/3/41740.png'), Path('train/3/41742.png'), Path('train/3/41747.png'), Path('train/3/41753.png'), Path('train/3/41755.png'), Path('train/3/41765.png'), Path('train/3/41767.png'), Path('train/3/41773.png'), Path('train/3/41776.png'), Path('train/3/41781.png'), Path('train/3/4179.png'), Path('train/3/41820.png'), Path('train/3/41822.png'), Path('train/3/41834.png'), Path('train/3/41843.png'), Path('train/3/41850.png'), Path('train/3/41863.png'), Path('train/3/41883.png'), Path('train/3/41902.png'), Path('train/3/4191.png'), Path('train/3/41917.png'), Path('train/3/41929.png'), Path('train/3/41943.png'), Path('train/3/4196.png'), Path('train/3/41960.png'), Path('train/3/41968.png'), Path('train/3/41969.png'), Path('train/3/41978.png'), Path('train/3/4199.png'), Path('train/3/41994.png'), Path('train/3/42024.png'), Path('train/3/42041.png'), Path('train/3/42043.png'), Path('train/3/42054.png'), Path('train/3/42055.png'), Path('train/3/42056.png'), Path('train/3/42070.png'), Path('train/3/42073.png'), Path('train/3/42082.png'), Path('train/3/42083.png'), Path('train/3/42087.png'), Path('train/3/42088.png'), Path('train/3/42097.png'), Path('train/3/42114.png'), Path('train/3/42117.png'), Path('train/3/42120.png'), Path('train/3/42137.png'), Path('train/3/42140.png'), Path('train/3/42150.png'), Path('train/3/42161.png'), Path('train/3/42178.png'), Path('train/3/42186.png'), Path('train/3/42199.png'), Path('train/3/42201.png'), Path('train/3/42203.png'), Path('train/3/42210.png'), Path('train/3/42212.png'), Path('train/3/42215.png'), Path('train/3/42220.png'), Path('train/3/4223.png'), Path('train/3/42235.png'), Path('train/3/42248.png'), Path('train/3/42251.png'), Path('train/3/42254.png'), Path('train/3/42255.png'), Path('train/3/42257.png'), Path('train/3/42264.png'), Path('train/3/42284.png'), Path('train/3/42303.png'), Path('train/3/4233.png'), Path('train/3/4234.png'), Path('train/3/42343.png'), Path('train/3/4235.png'), Path('train/3/42355.png'), Path('train/3/4236.png'), Path('train/3/42375.png'), Path('train/3/4238.png'), Path('train/3/42391.png'), Path('train/3/42398.png'), Path('train/3/42419.png'), Path('train/3/42423.png'), Path('train/3/42432.png'), Path('train/3/42434.png'), Path('train/3/42441.png'), Path('train/3/42445.png'), Path('train/3/4246.png'), Path('train/3/42469.png'), Path('train/3/42476.png'), Path('train/3/42477.png'), Path('train/3/42493.png'), Path('train/3/425.png'), Path('train/3/4250.png'), Path('train/3/42505.png'), Path('train/3/42508.png'), Path('train/3/42526.png'), Path('train/3/42534.png'), Path('train/3/42545.png'), Path('train/3/4256.png'), Path('train/3/42565.png'), Path('train/3/4257.png'), Path('train/3/42585.png'), Path('train/3/42588.png'), Path('train/3/42605.png'), Path('train/3/4262.png'), Path('train/3/42627.png'), Path('train/3/4263.png'), Path('train/3/42636.png'), Path('train/3/42669.png'), Path('train/3/42677.png'), Path('train/3/42678.png'), Path('train/3/42681.png'), Path('train/3/42707.png'), Path('train/3/4271.png'), Path('train/3/42735.png'), Path('train/3/42755.png'), Path('train/3/42758.png'), Path('train/3/4276.png'), Path('train/3/42775.png'), Path('train/3/42777.png'), Path('train/3/42791.png'), Path('train/3/42794.png'), Path('train/3/42804.png'), Path('train/3/42807.png'), Path('train/3/4281.png'), Path('train/3/42823.png'), Path('train/3/42840.png'), Path('train/3/42841.png'), Path('train/3/42886.png'), Path('train/3/42898.png'), Path('train/3/42902.png'), Path('train/3/42906.png'), Path('train/3/42907.png'), Path('train/3/42908.png'), Path('train/3/42909.png'), Path('train/3/42914.png'), Path('train/3/42930.png'), Path('train/3/42931.png'), Path('train/3/42938.png'), Path('train/3/4295.png'), Path('train/3/42951.png'), Path('train/3/42954.png'), Path('train/3/42962.png'), Path('train/3/42966.png'), Path('train/3/42971.png'), Path('train/3/42994.png'), Path('train/3/43012.png'), Path('train/3/43014.png'), Path('train/3/43027.png'), Path('train/3/43029.png'), Path('train/3/43031.png'), Path('train/3/43043.png'), Path('train/3/43064.png'), Path('train/3/43065.png'), Path('train/3/43067.png'), Path('train/3/43070.png'), Path('train/3/43076.png'), Path('train/3/43080.png'), Path('train/3/43090.png'), Path('train/3/43100.png'), Path('train/3/43103.png'), Path('train/3/43126.png'), Path('train/3/43132.png'), Path('train/3/43135.png'), Path('train/3/43140.png'), Path('train/3/43155.png'), Path('train/3/43171.png'), Path('train/3/43180.png'), Path('train/3/43192.png'), Path('train/3/43196.png'), Path('train/3/43198.png'), Path('train/3/43200.png'), Path('train/3/43204.png'), Path('train/3/43208.png'), Path('train/3/43209.png'), Path('train/3/43224.png'), Path('train/3/43230.png'), Path('train/3/43235.png'), Path('train/3/43252.png'), Path('train/3/43255.png'), Path('train/3/43256.png'), Path('train/3/4328.png'), Path('train/3/43280.png'), Path('train/3/43287.png'), Path('train/3/43298.png'), Path('train/3/433.png'), Path('train/3/43301.png'), Path('train/3/43327.png'), Path('train/3/43330.png'), Path('train/3/4335.png'), Path('train/3/43353.png'), Path('train/3/43373.png'), Path('train/3/43380.png'), Path('train/3/4339.png'), Path('train/3/43393.png'), Path('train/3/43417.png'), Path('train/3/4342.png'), Path('train/3/43428.png'), Path('train/3/43435.png'), Path('train/3/43438.png'), Path('train/3/43448.png'), Path('train/3/43456.png'), Path('train/3/43460.png'), Path('train/3/43466.png'), Path('train/3/43474.png'), Path('train/3/43475.png'), Path('train/3/43476.png'), Path('train/3/43482.png'), Path('train/3/43492.png'), Path('train/3/43494.png'), Path('train/3/43509.png'), Path('train/3/43517.png'), Path('train/3/4352.png'), Path('train/3/43537.png'), Path('train/3/43552.png'), Path('train/3/43557.png'), Path('train/3/43562.png'), Path('train/3/43563.png'), Path('train/3/43573.png'), Path('train/3/4359.png'), Path('train/3/43599.png'), Path('train/3/43619.png'), Path('train/3/43637.png'), Path('train/3/43644.png'), Path('train/3/43654.png'), Path('train/3/43658.png'), Path('train/3/43659.png'), Path('train/3/43666.png'), Path('train/3/43670.png'), Path('train/3/43672.png'), Path('train/3/43677.png'), Path('train/3/4369.png'), Path('train/3/43702.png'), Path('train/3/43711.png'), Path('train/3/43717.png'), Path('train/3/4373.png'), Path('train/3/43730.png'), Path('train/3/43739.png'), Path('train/3/43747.png'), Path('train/3/43758.png'), Path('train/3/43759.png'), Path('train/3/43762.png'), Path('train/3/43773.png'), Path('train/3/43775.png'), Path('train/3/43782.png'), Path('train/3/43783.png'), Path('train/3/43816.png'), Path('train/3/43817.png'), Path('train/3/43833.png'), Path('train/3/43853.png'), Path('train/3/43865.png'), Path('train/3/43868.png'), Path('train/3/43869.png'), Path('train/3/43875.png'), Path('train/3/43883.png'), Path('train/3/43889.png'), Path('train/3/43902.png'), Path('train/3/43922.png'), Path('train/3/43942.png'), Path('train/3/43943.png'), Path('train/3/43952.png'), Path('train/3/43962.png'), Path('train/3/43967.png'), Path('train/3/43978.png'), Path('train/3/43991.png'), Path('train/3/43997.png'), Path('train/3/44.png'), Path('train/3/4400.png'), Path('train/3/44004.png'), Path('train/3/44020.png'), Path('train/3/4403.png'), Path('train/3/44032.png'), Path('train/3/44034.png'), Path('train/3/44035.png'), Path('train/3/44051.png'), Path('train/3/44058.png'), Path('train/3/44101.png'), Path('train/3/44112.png'), Path('train/3/44134.png'), Path('train/3/44138.png'), Path('train/3/44142.png'), Path('train/3/44146.png'), Path('train/3/44157.png'), Path('train/3/44162.png'), Path('train/3/44174.png'), Path('train/3/4418.png'), Path('train/3/44181.png'), Path('train/3/44188.png'), Path('train/3/44191.png'), Path('train/3/44192.png'), Path('train/3/44193.png'), Path('train/3/44211.png'), Path('train/3/44216.png'), Path('train/3/44231.png'), Path('train/3/44240.png'), Path('train/3/44249.png'), Path('train/3/44280.png'), Path('train/3/44282.png'), Path('train/3/4429.png'), Path('train/3/44295.png'), Path('train/3/44303.png'), Path('train/3/44305.png'), Path('train/3/44312.png'), Path('train/3/44338.png'), Path('train/3/44349.png'), Path('train/3/44350.png'), Path('train/3/44373.png'), Path('train/3/44380.png'), Path('train/3/44385.png'), Path('train/3/44388.png'), Path('train/3/44397.png'), Path('train/3/44408.png'), Path('train/3/44416.png'), Path('train/3/44426.png'), Path('train/3/44435.png'), Path('train/3/44439.png'), Path('train/3/44440.png'), Path('train/3/44456.png'), Path('train/3/44457.png'), Path('train/3/44462.png'), Path('train/3/44468.png'), Path('train/3/44477.png'), Path('train/3/44478.png'), Path('train/3/4449.png'), Path('train/3/44497.png'), Path('train/3/44504.png'), Path('train/3/44510.png'), Path('train/3/44519.png'), Path('train/3/44522.png'), Path('train/3/44540.png'), Path('train/3/44543.png'), Path('train/3/44545.png'), Path('train/3/44546.png'), Path('train/3/44555.png'), Path('train/3/44557.png'), Path('train/3/44567.png'), Path('train/3/44575.png'), Path('train/3/44580.png'), Path('train/3/44596.png'), Path('train/3/44608.png'), Path('train/3/44609.png'), Path('train/3/4461.png'), Path('train/3/44630.png'), Path('train/3/44671.png'), Path('train/3/44681.png'), Path('train/3/44684.png'), Path('train/3/44709.png'), Path('train/3/4471.png'), Path('train/3/44716.png'), Path('train/3/44729.png'), Path('train/3/44749.png'), Path('train/3/44764.png'), Path('train/3/44779.png'), Path('train/3/44782.png'), Path('train/3/44799.png'), Path('train/3/44827.png'), Path('train/3/44837.png'), Path('train/3/44848.png'), Path('train/3/44873.png'), Path('train/3/44888.png'), Path('train/3/44889.png'), Path('train/3/4490.png'), Path('train/3/44903.png'), Path('train/3/44906.png'), Path('train/3/4491.png'), Path('train/3/44959.png'), Path('train/3/44969.png'), Path('train/3/45000.png'), Path('train/3/45005.png'), Path('train/3/45008.png'), Path('train/3/45015.png'), Path('train/3/45031.png'), Path('train/3/45043.png'), Path('train/3/45046.png'), Path('train/3/4506.png'), Path('train/3/45079.png'), Path('train/3/4508.png'), Path('train/3/45088.png'), Path('train/3/45089.png'), Path('train/3/45093.png'), Path('train/3/4510.png'), Path('train/3/45108.png'), Path('train/3/4511.png'), Path('train/3/4512.png'), Path('train/3/45135.png'), Path('train/3/45150.png'), Path('train/3/45151.png'), Path('train/3/45164.png'), Path('train/3/45171.png'), Path('train/3/45195.png'), Path('train/3/45196.png'), Path('train/3/452.png'), Path('train/3/45217.png'), Path('train/3/45239.png'), Path('train/3/45246.png'), Path('train/3/45260.png'), Path('train/3/45264.png'), Path('train/3/45266.png'), Path('train/3/45271.png'), Path('train/3/45272.png'), Path('train/3/45273.png'), Path('train/3/45275.png'), Path('train/3/45289.png'), Path('train/3/45312.png'), Path('train/3/45321.png'), Path('train/3/45327.png'), Path('train/3/45328.png'), Path('train/3/45336.png'), Path('train/3/45340.png'), Path('train/3/45364.png'), Path('train/3/45365.png'), Path('train/3/45377.png'), Path('train/3/45389.png'), Path('train/3/45396.png'), Path('train/3/45398.png'), Path('train/3/45400.png'), Path('train/3/45407.png'), Path('train/3/45408.png'), Path('train/3/45419.png'), Path('train/3/4543.png'), Path('train/3/45436.png'), Path('train/3/45441.png'), Path('train/3/45468.png'), Path('train/3/45473.png'), Path('train/3/45474.png'), Path('train/3/45477.png'), Path('train/3/45480.png'), Path('train/3/45508.png'), Path('train/3/45509.png'), Path('train/3/45517.png'), Path('train/3/4552.png'), Path('train/3/45545.png'), Path('train/3/45554.png'), Path('train/3/45563.png'), Path('train/3/45586.png'), Path('train/3/45597.png'), Path('train/3/45599.png'), Path('train/3/45601.png'), Path('train/3/45610.png'), Path('train/3/45612.png'), Path('train/3/45619.png'), Path('train/3/45628.png'), Path('train/3/45636.png'), Path('train/3/45642.png'), Path('train/3/45644.png'), Path('train/3/45655.png'), Path('train/3/45656.png'), Path('train/3/45658.png'), Path('train/3/45675.png'), Path('train/3/45687.png'), Path('train/3/45696.png'), Path('train/3/45699.png'), Path('train/3/4570.png'), Path('train/3/45704.png'), Path('train/3/45707.png'), Path('train/3/45712.png'), Path('train/3/45727.png'), Path('train/3/45732.png'), Path('train/3/45734.png'), Path('train/3/45736.png'), Path('train/3/45747.png'), Path('train/3/45758.png'), Path('train/3/45759.png'), Path('train/3/45764.png'), Path('train/3/45774.png'), Path('train/3/45781.png'), Path('train/3/45783.png'), Path('train/3/45786.png'), Path('train/3/45789.png'), Path('train/3/4579.png'), Path('train/3/45791.png'), Path('train/3/45796.png'), Path('train/3/45801.png'), Path('train/3/45809.png'), Path('train/3/4581.png'), Path('train/3/45814.png'), Path('train/3/45822.png'), Path('train/3/4583.png'), Path('train/3/45836.png'), Path('train/3/4584.png'), Path('train/3/45843.png'), Path('train/3/45848.png'), Path('train/3/45850.png'), Path('train/3/45854.png'), Path('train/3/45862.png'), Path('train/3/45878.png'), Path('train/3/459.png'), Path('train/3/45902.png'), Path('train/3/45903.png'), Path('train/3/45911.png'), Path('train/3/45940.png'), Path('train/3/45945.png'), Path('train/3/45946.png'), Path('train/3/4595.png'), Path('train/3/45959.png'), Path('train/3/45970.png'), Path('train/3/45979.png'), Path('train/3/45983.png'), Path('train/3/45990.png'), Path('train/3/45995.png'), Path('train/3/46005.png'), Path('train/3/46027.png'), Path('train/3/46051.png'), Path('train/3/46061.png'), Path('train/3/46062.png'), Path('train/3/46068.png'), Path('train/3/46070.png'), Path('train/3/46072.png'), Path('train/3/46075.png'), Path('train/3/46079.png'), Path('train/3/46098.png'), Path('train/3/46117.png'), Path('train/3/46126.png'), Path('train/3/46130.png'), Path('train/3/46134.png'), Path('train/3/46136.png'), Path('train/3/46138.png'), Path('train/3/46145.png'), Path('train/3/4615.png'), Path('train/3/46157.png'), Path('train/3/46182.png'), Path('train/3/46184.png'), Path('train/3/46187.png'), Path('train/3/46208.png'), Path('train/3/46211.png'), Path('train/3/46221.png'), Path('train/3/46228.png'), Path('train/3/46241.png'), Path('train/3/46242.png'), Path('train/3/46246.png'), Path('train/3/46247.png'), Path('train/3/46269.png'), Path('train/3/46279.png'), Path('train/3/4628.png'), Path('train/3/46280.png'), Path('train/3/46295.png'), Path('train/3/46296.png'), Path('train/3/46306.png'), Path('train/3/4632.png'), Path('train/3/46329.png'), Path('train/3/46350.png'), Path('train/3/46354.png'), Path('train/3/46370.png'), Path('train/3/46379.png'), Path('train/3/4638.png'), Path('train/3/46403.png'), Path('train/3/46406.png'), Path('train/3/46409.png'), Path('train/3/46424.png'), Path('train/3/46425.png'), Path('train/3/46427.png'), Path('train/3/46442.png'), Path('train/3/46449.png'), Path('train/3/46454.png'), Path('train/3/46465.png'), Path('train/3/46480.png'), Path('train/3/46485.png'), Path('train/3/46500.png'), Path('train/3/46506.png'), Path('train/3/46523.png'), Path('train/3/46525.png'), Path('train/3/46532.png'), Path('train/3/46534.png'), Path('train/3/46548.png'), Path('train/3/46549.png'), Path('train/3/46555.png'), Path('train/3/46563.png'), Path('train/3/46566.png'), Path('train/3/46570.png'), Path('train/3/4658.png'), Path('train/3/46588.png'), Path('train/3/46592.png'), Path('train/3/46595.png'), Path('train/3/46600.png'), Path('train/3/46621.png'), Path('train/3/46634.png'), Path('train/3/46639.png'), Path('train/3/46652.png'), Path('train/3/46666.png'), Path('train/3/46674.png'), Path('train/3/46681.png'), Path('train/3/46689.png'), Path('train/3/46692.png'), Path('train/3/46702.png'), Path('train/3/46709.png'), Path('train/3/46729.png'), Path('train/3/46736.png'), Path('train/3/4674.png'), Path('train/3/46743.png'), Path('train/3/46803.png'), Path('train/3/46807.png'), Path('train/3/4681.png'), Path('train/3/46815.png'), Path('train/3/46821.png'), Path('train/3/46834.png'), Path('train/3/46838.png'), Path('train/3/46848.png'), Path('train/3/46853.png'), Path('train/3/46854.png'), Path('train/3/46856.png'), Path('train/3/46857.png'), Path('train/3/46882.png'), Path('train/3/46899.png'), Path('train/3/46900.png'), Path('train/3/46902.png'), Path('train/3/46908.png'), Path('train/3/46911.png'), Path('train/3/46918.png'), Path('train/3/46923.png'), Path('train/3/46932.png'), Path('train/3/46937.png'), Path('train/3/4694.png'), Path('train/3/46953.png'), Path('train/3/46971.png'), Path('train/3/46979.png'), Path('train/3/46981.png'), Path('train/3/46983.png'), Path('train/3/46986.png'), Path('train/3/47007.png'), Path('train/3/47027.png'), Path('train/3/47059.png'), Path('train/3/47090.png'), Path('train/3/47095.png'), Path('train/3/47123.png'), Path('train/3/47140.png'), Path('train/3/47145.png'), Path('train/3/47157.png'), Path('train/3/47173.png'), Path('train/3/4719.png'), Path('train/3/47192.png'), Path('train/3/47195.png'), Path('train/3/47207.png'), Path('train/3/47217.png'), Path('train/3/47225.png'), Path('train/3/47245.png'), Path('train/3/47280.png'), Path('train/3/47287.png'), Path('train/3/47311.png'), Path('train/3/47329.png'), Path('train/3/4735.png'), Path('train/3/47352.png'), Path('train/3/47356.png'), Path('train/3/4736.png'), Path('train/3/47361.png'), Path('train/3/47367.png'), Path('train/3/47377.png'), Path('train/3/47380.png'), Path('train/3/47395.png'), Path('train/3/4740.png'), Path('train/3/47411.png'), Path('train/3/4742.png'), Path('train/3/47424.png'), Path('train/3/47426.png'), Path('train/3/47441.png'), Path('train/3/47455.png'), Path('train/3/47461.png'), Path('train/3/47469.png'), Path('train/3/47481.png'), Path('train/3/47493.png'), Path('train/3/47496.png'), Path('train/3/47510.png'), Path('train/3/47514.png'), Path('train/3/47519.png'), Path('train/3/47520.png'), Path('train/3/47533.png'), Path('train/3/47539.png'), Path('train/3/4755.png'), Path('train/3/47587.png'), Path('train/3/47592.png'), Path('train/3/47594.png'), Path('train/3/47602.png'), Path('train/3/47605.png'), Path('train/3/47618.png'), Path('train/3/4762.png'), Path('train/3/47620.png'), Path('train/3/47625.png'), Path('train/3/47628.png'), Path('train/3/47643.png'), Path('train/3/47651.png'), Path('train/3/47653.png'), Path('train/3/47654.png'), Path('train/3/47655.png'), Path('train/3/47669.png'), Path('train/3/47676.png'), Path('train/3/47678.png'), Path('train/3/47684.png'), Path('train/3/47689.png'), Path('train/3/47720.png'), Path('train/3/47724.png'), Path('train/3/47725.png'), Path('train/3/47742.png'), Path('train/3/47746.png'), Path('train/3/47749.png'), Path('train/3/47760.png'), Path('train/3/47781.png'), Path('train/3/47795.png'), Path('train/3/47802.png'), Path('train/3/47803.png'), Path('train/3/47818.png'), Path('train/3/47821.png'), Path('train/3/4783.png'), Path('train/3/47834.png'), Path('train/3/47838.png'), Path('train/3/47841.png'), Path('train/3/47872.png'), Path('train/3/47876.png'), Path('train/3/47881.png'), Path('train/3/47895.png'), Path('train/3/479.png'), Path('train/3/47901.png'), Path('train/3/47913.png'), Path('train/3/4792.png'), Path('train/3/47925.png'), Path('train/3/47930.png'), Path('train/3/47939.png'), Path('train/3/47946.png'), Path('train/3/4795.png'), Path('train/3/47950.png'), Path('train/3/47970.png'), Path('train/3/47975.png'), Path('train/3/47979.png'), Path('train/3/47992.png'), Path('train/3/48014.png'), Path('train/3/48031.png'), Path('train/3/48038.png'), Path('train/3/48045.png'), Path('train/3/48064.png'), Path('train/3/48065.png'), Path('train/3/48076.png'), Path('train/3/4808.png'), Path('train/3/48088.png'), Path('train/3/48091.png'), Path('train/3/48137.png'), Path('train/3/48139.png'), Path('train/3/48163.png'), Path('train/3/48164.png'), Path('train/3/48174.png'), Path('train/3/48179.png'), Path('train/3/48193.png'), Path('train/3/48213.png'), Path('train/3/4823.png'), Path('train/3/48233.png'), Path('train/3/48258.png'), Path('train/3/48264.png'), Path('train/3/48281.png'), Path('train/3/48291.png'), Path('train/3/48300.png'), Path('train/3/48302.png'), Path('train/3/48311.png'), Path('train/3/48321.png'), Path('train/3/48324.png'), Path('train/3/48325.png'), Path('train/3/48336.png'), Path('train/3/48352.png'), Path('train/3/48355.png'), Path('train/3/4836.png'), Path('train/3/48360.png'), Path('train/3/48385.png'), Path('train/3/48386.png'), Path('train/3/48392.png'), Path('train/3/48396.png'), Path('train/3/48415.png'), Path('train/3/48426.png'), Path('train/3/48431.png'), Path('train/3/48435.png'), Path('train/3/48445.png'), Path('train/3/48465.png'), Path('train/3/48480.png'), Path('train/3/48482.png'), Path('train/3/48485.png'), Path('train/3/48498.png'), Path('train/3/48499.png'), Path('train/3/4850.png'), Path('train/3/48500.png'), Path('train/3/48521.png'), Path('train/3/48551.png'), Path('train/3/48557.png'), Path('train/3/48563.png'), Path('train/3/48579.png'), Path('train/3/48587.png'), Path('train/3/48599.png'), Path('train/3/486.png'), Path('train/3/48626.png'), Path('train/3/48628.png'), Path('train/3/4864.png'), Path('train/3/48642.png'), Path('train/3/4866.png'), Path('train/3/48662.png'), Path('train/3/48666.png'), Path('train/3/48667.png'), Path('train/3/4868.png'), Path('train/3/48682.png'), Path('train/3/48683.png'), Path('train/3/48700.png'), Path('train/3/48701.png'), Path('train/3/48702.png'), Path('train/3/48722.png'), Path('train/3/48725.png'), Path('train/3/48732.png'), Path('train/3/48735.png'), Path('train/3/48746.png'), Path('train/3/48761.png'), Path('train/3/48770.png'), Path('train/3/4878.png'), Path('train/3/48781.png'), Path('train/3/48783.png'), Path('train/3/48788.png'), Path('train/3/48794.png'), Path('train/3/48798.png'), Path('train/3/48806.png'), Path('train/3/4881.png'), Path('train/3/48817.png'), Path('train/3/4883.png'), Path('train/3/48849.png'), Path('train/3/48859.png'), Path('train/3/48868.png'), Path('train/3/48873.png'), Path('train/3/48901.png'), Path('train/3/48904.png'), Path('train/3/4891.png'), Path('train/3/48917.png'), Path('train/3/48922.png'), Path('train/3/48930.png'), Path('train/3/48932.png'), Path('train/3/48935.png'), Path('train/3/48965.png'), Path('train/3/48974.png'), Path('train/3/48978.png'), Path('train/3/4898.png'), Path('train/3/48981.png'), Path('train/3/48995.png'), Path('train/3/48998.png'), Path('train/3/49.png'), Path('train/3/490.png'), Path('train/3/49006.png'), Path('train/3/49018.png'), Path('train/3/49020.png'), Path('train/3/49054.png'), Path('train/3/49055.png'), Path('train/3/49057.png'), Path('train/3/49077.png'), Path('train/3/49080.png'), Path('train/3/49081.png'), Path('train/3/49082.png'), Path('train/3/49091.png'), Path('train/3/49103.png'), Path('train/3/49108.png'), Path('train/3/49117.png'), Path('train/3/49122.png'), Path('train/3/49135.png'), Path('train/3/49137.png'), Path('train/3/49142.png'), Path('train/3/49147.png'), Path('train/3/49149.png'), Path('train/3/49156.png'), Path('train/3/49157.png'), Path('train/3/49166.png'), Path('train/3/4917.png'), Path('train/3/49183.png'), Path('train/3/49188.png'), Path('train/3/49193.png'), Path('train/3/49207.png'), Path('train/3/49222.png'), Path('train/3/49228.png'), Path('train/3/49230.png'), Path('train/3/49234.png'), Path('train/3/49249.png'), Path('train/3/49254.png'), Path('train/3/49269.png'), Path('train/3/49286.png'), Path('train/3/49287.png'), Path('train/3/49288.png'), Path('train/3/49294.png'), Path('train/3/49297.png'), Path('train/3/49300.png'), Path('train/3/49307.png'), Path('train/3/49312.png'), Path('train/3/49318.png'), Path('train/3/49321.png'), Path('train/3/49324.png'), Path('train/3/49329.png'), Path('train/3/49350.png'), Path('train/3/4937.png'), Path('train/3/49376.png'), Path('train/3/49378.png'), Path('train/3/49390.png'), Path('train/3/49404.png'), Path('train/3/49406.png'), Path('train/3/49410.png'), Path('train/3/49431.png'), Path('train/3/49433.png'), Path('train/3/49435.png'), Path('train/3/49446.png'), Path('train/3/49450.png'), Path('train/3/49461.png'), Path('train/3/49467.png'), Path('train/3/49477.png'), Path('train/3/49494.png'), Path('train/3/495.png'), Path('train/3/49529.png'), Path('train/3/49556.png'), Path('train/3/4956.png'), Path('train/3/49560.png'), Path('train/3/49566.png'), Path('train/3/4957.png'), Path('train/3/49570.png'), Path('train/3/49585.png'), Path('train/3/49586.png'), Path('train/3/49589.png'), Path('train/3/49602.png'), Path('train/3/49607.png'), Path('train/3/49627.png'), Path('train/3/49638.png'), Path('train/3/49645.png'), Path('train/3/49648.png'), Path('train/3/49650.png'), Path('train/3/49654.png'), Path('train/3/4966.png'), Path('train/3/49670.png'), Path('train/3/49673.png'), Path('train/3/49678.png'), Path('train/3/49725.png'), Path('train/3/49729.png'), Path('train/3/49732.png'), Path('train/3/49746.png'), Path('train/3/49748.png'), Path('train/3/49749.png'), Path('train/3/49763.png'), Path('train/3/49771.png'), Path('train/3/49789.png'), Path('train/3/49791.png'), Path('train/3/49809.png'), Path('train/3/49810.png'), Path('train/3/49813.png'), Path('train/3/49814.png'), Path('train/3/49821.png'), Path('train/3/49826.png'), Path('train/3/49841.png'), Path('train/3/49859.png'), Path('train/3/49864.png'), Path('train/3/49868.png'), Path('train/3/4988.png'), Path('train/3/49882.png'), Path('train/3/49893.png'), Path('train/3/49896.png'), Path('train/3/49912.png'), Path('train/3/49913.png'), Path('train/3/49926.png'), Path('train/3/49938.png'), Path('train/3/49946.png'), Path('train/3/49948.png'), Path('train/3/49955.png'), Path('train/3/4996.png'), Path('train/3/49966.png'), Path('train/3/49968.png'), Path('train/3/49981.png'), Path('train/3/49985.png'), Path('train/3/50.png'), Path('train/3/500.png'), Path('train/3/50000.png'), Path('train/3/50007.png'), Path('train/3/5001.png'), Path('train/3/50012.png'), Path('train/3/50025.png'), Path('train/3/50033.png'), Path('train/3/50043.png'), Path('train/3/50045.png'), Path('train/3/50067.png'), Path('train/3/50087.png'), Path('train/3/50107.png'), Path('train/3/5011.png'), Path('train/3/50131.png'), Path('train/3/50140.png'), Path('train/3/50141.png'), Path('train/3/50148.png'), Path('train/3/50175.png'), Path('train/3/50181.png'), Path('train/3/50184.png'), Path('train/3/50195.png'), Path('train/3/50201.png'), Path('train/3/50206.png'), Path('train/3/50210.png'), Path('train/3/50212.png'), Path('train/3/50213.png'), Path('train/3/50214.png'), Path('train/3/50253.png'), Path('train/3/50260.png'), Path('train/3/50262.png'), Path('train/3/50265.png'), Path('train/3/50286.png'), Path('train/3/50288.png'), Path('train/3/50297.png'), Path('train/3/50300.png'), Path('train/3/50308.png'), Path('train/3/5031.png'), Path('train/3/50312.png'), Path('train/3/50317.png'), Path('train/3/50330.png'), Path('train/3/50336.png'), Path('train/3/50337.png'), Path('train/3/50340.png'), Path('train/3/5036.png'), Path('train/3/50361.png'), Path('train/3/50364.png'), Path('train/3/50369.png'), Path('train/3/50372.png'), Path('train/3/50374.png'), Path('train/3/50378.png'), Path('train/3/50401.png'), Path('train/3/50403.png'), Path('train/3/5041.png'), Path('train/3/50412.png'), Path('train/3/50417.png'), Path('train/3/50431.png'), Path('train/3/50470.png'), Path('train/3/50481.png'), Path('train/3/50491.png'), Path('train/3/50500.png'), Path('train/3/50516.png'), Path('train/3/50529.png'), Path('train/3/50545.png'), Path('train/3/50554.png'), Path('train/3/50560.png'), Path('train/3/50565.png'), Path('train/3/50603.png'), Path('train/3/50611.png'), Path('train/3/50613.png'), Path('train/3/50644.png'), Path('train/3/50658.png'), Path('train/3/5067.png'), Path('train/3/50671.png'), Path('train/3/50672.png'), Path('train/3/50679.png'), Path('train/3/50680.png'), Path('train/3/50683.png'), Path('train/3/50688.png'), Path('train/3/50693.png'), Path('train/3/50713.png'), Path('train/3/50717.png'), Path('train/3/50726.png'), Path('train/3/50728.png'), Path('train/3/50735.png'), Path('train/3/50755.png'), Path('train/3/50770.png'), Path('train/3/50775.png'), Path('train/3/5080.png'), Path('train/3/50803.png'), Path('train/3/50809.png'), Path('train/3/50815.png'), Path('train/3/50824.png'), Path('train/3/50834.png'), Path('train/3/50837.png'), Path('train/3/5086.png'), Path('train/3/5088.png'), Path('train/3/50885.png'), Path('train/3/50892.png'), Path('train/3/509.png'), Path('train/3/50906.png'), Path('train/3/50915.png'), Path('train/3/5092.png'), Path('train/3/50922.png'), Path('train/3/50935.png'), Path('train/3/50936.png'), Path('train/3/50940.png'), Path('train/3/50946.png'), Path('train/3/50950.png'), Path('train/3/50955.png'), Path('train/3/50960.png'), Path('train/3/50964.png'), Path('train/3/50969.png'), Path('train/3/5097.png'), Path('train/3/50975.png'), Path('train/3/50976.png'), Path('train/3/50982.png'), Path('train/3/50989.png'), Path('train/3/50995.png'), Path('train/3/5102.png'), Path('train/3/51030.png'), Path('train/3/51038.png'), Path('train/3/51054.png'), Path('train/3/51063.png'), Path('train/3/51085.png'), Path('train/3/51091.png'), Path('train/3/51092.png'), Path('train/3/51101.png'), Path('train/3/51106.png'), Path('train/3/51116.png'), Path('train/3/51133.png'), Path('train/3/51142.png'), Path('train/3/51153.png'), Path('train/3/51154.png'), Path('train/3/51173.png'), Path('train/3/51196.png'), Path('train/3/51201.png'), Path('train/3/51211.png'), Path('train/3/51217.png'), Path('train/3/51222.png'), Path('train/3/51230.png'), Path('train/3/51237.png'), Path('train/3/51245.png'), Path('train/3/51257.png'), Path('train/3/51260.png'), Path('train/3/51268.png'), Path('train/3/5127.png'), Path('train/3/51274.png'), Path('train/3/51321.png'), Path('train/3/51332.png'), Path('train/3/51333.png'), Path('train/3/51343.png'), Path('train/3/51373.png'), Path('train/3/51376.png'), Path('train/3/51381.png'), Path('train/3/51388.png'), Path('train/3/5139.png'), Path('train/3/51401.png'), Path('train/3/51421.png'), Path('train/3/51428.png'), Path('train/3/5143.png'), Path('train/3/51462.png'), Path('train/3/51463.png'), Path('train/3/51469.png'), Path('train/3/51471.png'), Path('train/3/51474.png'), Path('train/3/5148.png'), Path('train/3/51486.png'), Path('train/3/51519.png'), Path('train/3/5152.png'), Path('train/3/51522.png'), Path('train/3/5153.png'), Path('train/3/51534.png'), Path('train/3/51536.png'), Path('train/3/51543.png'), Path('train/3/51555.png'), Path('train/3/51561.png'), Path('train/3/51571.png'), Path('train/3/51578.png'), Path('train/3/5160.png'), Path('train/3/51613.png'), Path('train/3/51616.png'), Path('train/3/51617.png'), Path('train/3/51635.png'), Path('train/3/51640.png'), Path('train/3/51655.png'), Path('train/3/51675.png'), Path('train/3/51686.png'), Path('train/3/51695.png'), Path('train/3/51701.png'), Path('train/3/51706.png'), Path('train/3/51717.png'), Path('train/3/5173.png'), Path('train/3/51756.png'), Path('train/3/51759.png'), Path('train/3/51763.png'), Path('train/3/51768.png'), Path('train/3/51771.png'), Path('train/3/51776.png'), Path('train/3/51790.png'), Path('train/3/51798.png'), Path('train/3/51799.png'), Path('train/3/51811.png'), Path('train/3/51816.png'), Path('train/3/51837.png'), Path('train/3/5184.png'), Path('train/3/51848.png'), Path('train/3/51851.png'), Path('train/3/5186.png'), Path('train/3/51871.png'), Path('train/3/51890.png'), Path('train/3/51896.png'), Path('train/3/5190.png'), Path('train/3/51903.png'), Path('train/3/51909.png'), Path('train/3/51915.png'), Path('train/3/51918.png'), Path('train/3/5193.png'), Path('train/3/51934.png'), Path('train/3/51940.png'), Path('train/3/51946.png'), Path('train/3/51947.png'), Path('train/3/51970.png'), Path('train/3/51987.png'), Path('train/3/51991.png'), Path('train/3/51998.png'), Path('train/3/52014.png'), Path('train/3/52022.png'), Path('train/3/52027.png'), Path('train/3/52035.png'), Path('train/3/52038.png'), Path('train/3/52041.png'), Path('train/3/52059.png'), Path('train/3/5207.png'), Path('train/3/52085.png'), Path('train/3/52096.png'), Path('train/3/52098.png'), Path('train/3/52101.png'), Path('train/3/52104.png'), Path('train/3/52111.png'), Path('train/3/52116.png'), Path('train/3/52129.png'), Path('train/3/52134.png'), Path('train/3/52160.png'), Path('train/3/52164.png'), Path('train/3/52168.png'), Path('train/3/52191.png'), Path('train/3/52209.png'), Path('train/3/52227.png'), Path('train/3/52240.png'), Path('train/3/52252.png'), Path('train/3/52259.png'), Path('train/3/52269.png'), Path('train/3/52272.png'), Path('train/3/52281.png'), Path('train/3/52287.png'), Path('train/3/52298.png'), Path('train/3/52300.png'), Path('train/3/52307.png'), Path('train/3/52327.png'), Path('train/3/52350.png'), Path('train/3/52371.png'), Path('train/3/52375.png'), Path('train/3/52378.png'), Path('train/3/52379.png'), Path('train/3/5238.png'), Path('train/3/52385.png'), Path('train/3/52386.png'), Path('train/3/52394.png'), Path('train/3/52404.png'), Path('train/3/52415.png'), Path('train/3/52432.png'), Path('train/3/52435.png'), Path('train/3/52446.png'), Path('train/3/52455.png'), Path('train/3/52464.png'), Path('train/3/52476.png'), Path('train/3/52479.png'), Path('train/3/52487.png'), Path('train/3/5252.png'), Path('train/3/52539.png'), Path('train/3/52543.png'), Path('train/3/52545.png'), Path('train/3/52563.png'), Path('train/3/52565.png'), Path('train/3/52585.png'), Path('train/3/52590.png'), Path('train/3/52601.png'), Path('train/3/52607.png'), Path('train/3/52636.png'), Path('train/3/52661.png'), Path('train/3/52664.png'), Path('train/3/52676.png'), Path('train/3/52679.png'), Path('train/3/52690.png'), Path('train/3/52692.png'), Path('train/3/52697.png'), Path('train/3/5270.png'), Path('train/3/52700.png'), Path('train/3/52702.png'), Path('train/3/52713.png'), Path('train/3/52740.png'), Path('train/3/52747.png'), Path('train/3/52751.png'), Path('train/3/52753.png'), Path('train/3/5277.png'), Path('train/3/52771.png'), Path('train/3/52773.png'), Path('train/3/52785.png'), Path('train/3/52790.png'), Path('train/3/52794.png'), Path('train/3/52810.png'), Path('train/3/52816.png'), Path('train/3/52818.png'), Path('train/3/52828.png'), Path('train/3/5284.png'), Path('train/3/52853.png'), Path('train/3/52864.png'), Path('train/3/52871.png'), Path('train/3/52891.png'), Path('train/3/52904.png'), Path('train/3/52907.png'), Path('train/3/52917.png'), Path('train/3/52922.png'), Path('train/3/52924.png'), Path('train/3/52931.png'), Path('train/3/52936.png'), Path('train/3/52939.png'), Path('train/3/52940.png'), Path('train/3/52966.png'), Path('train/3/52972.png'), Path('train/3/52974.png'), Path('train/3/52994.png'), Path('train/3/53035.png'), Path('train/3/53037.png'), Path('train/3/53039.png'), Path('train/3/53042.png'), Path('train/3/53048.png'), Path('train/3/53075.png'), Path('train/3/53083.png'), Path('train/3/53084.png'), Path('train/3/53091.png'), Path('train/3/53104.png'), Path('train/3/53107.png'), Path('train/3/53108.png'), Path('train/3/53123.png'), Path('train/3/53136.png'), Path('train/3/5315.png'), Path('train/3/53156.png'), Path('train/3/53158.png'), Path('train/3/53165.png'), Path('train/3/53167.png'), Path('train/3/53182.png'), Path('train/3/53209.png'), Path('train/3/53223.png'), Path('train/3/53225.png'), Path('train/3/5323.png'), Path('train/3/53231.png'), Path('train/3/53241.png'), Path('train/3/53246.png'), Path('train/3/53252.png'), Path('train/3/53262.png'), Path('train/3/5328.png'), Path('train/3/53282.png'), Path('train/3/53283.png'), Path('train/3/53287.png'), Path('train/3/53305.png'), Path('train/3/5332.png'), Path('train/3/53325.png'), Path('train/3/53332.png'), Path('train/3/53345.png'), Path('train/3/53357.png'), Path('train/3/53358.png'), Path('train/3/53365.png'), Path('train/3/5337.png'), Path('train/3/53374.png'), Path('train/3/53376.png'), Path('train/3/53382.png'), Path('train/3/53385.png'), Path('train/3/53402.png'), Path('train/3/53412.png'), Path('train/3/53419.png'), Path('train/3/53447.png'), Path('train/3/53453.png'), Path('train/3/53457.png'), Path('train/3/53474.png'), Path('train/3/53475.png'), Path('train/3/53480.png'), Path('train/3/53482.png'), Path('train/3/53488.png'), Path('train/3/53493.png'), Path('train/3/53514.png'), Path('train/3/53527.png'), Path('train/3/5354.png'), Path('train/3/53542.png'), Path('train/3/53545.png'), Path('train/3/53547.png'), Path('train/3/53554.png'), Path('train/3/53558.png'), Path('train/3/53560.png'), Path('train/3/53566.png'), Path('train/3/53570.png'), Path('train/3/5358.png'), Path('train/3/53583.png'), Path('train/3/53584.png'), Path('train/3/53586.png'), Path('train/3/5359.png'), Path('train/3/53591.png'), Path('train/3/53595.png'), Path('train/3/53609.png'), Path('train/3/53619.png'), Path('train/3/53630.png'), Path('train/3/53671.png'), Path('train/3/53688.png'), Path('train/3/53691.png'), Path('train/3/5370.png'), Path('train/3/53704.png'), Path('train/3/53711.png'), Path('train/3/53712.png'), Path('train/3/53716.png'), Path('train/3/53722.png'), Path('train/3/53724.png'), Path('train/3/53740.png'), Path('train/3/53749.png'), Path('train/3/53755.png'), Path('train/3/53757.png'), Path('train/3/53758.png'), Path('train/3/5379.png'), Path('train/3/53803.png'), Path('train/3/53815.png'), Path('train/3/53838.png'), Path('train/3/53846.png'), Path('train/3/53863.png'), Path('train/3/53874.png'), Path('train/3/53875.png'), Path('train/3/5388.png'), Path('train/3/53889.png'), Path('train/3/53903.png'), Path('train/3/5392.png'), Path('train/3/53923.png'), Path('train/3/53938.png'), Path('train/3/53943.png'), Path('train/3/53954.png'), Path('train/3/53958.png'), Path('train/3/5396.png'), Path('train/3/53960.png'), Path('train/3/53975.png'), Path('train/3/53987.png'), Path('train/3/5399.png'), Path('train/3/53995.png'), Path('train/3/540.png'), Path('train/3/54001.png'), Path('train/3/54008.png'), Path('train/3/54013.png'), Path('train/3/54014.png'), Path('train/3/54016.png'), Path('train/3/54020.png'), Path('train/3/54028.png'), Path('train/3/54029.png'), Path('train/3/54060.png'), Path('train/3/54062.png'), Path('train/3/54073.png'), Path('train/3/54074.png'), Path('train/3/54077.png'), Path('train/3/5408.png'), Path('train/3/54084.png'), Path('train/3/54088.png'), Path('train/3/54107.png'), Path('train/3/5412.png'), Path('train/3/54126.png'), Path('train/3/54127.png'), Path('train/3/54140.png'), Path('train/3/54147.png'), Path('train/3/54174.png'), Path('train/3/54191.png'), Path('train/3/54199.png'), Path('train/3/54201.png'), Path('train/3/54208.png'), Path('train/3/54228.png'), Path('train/3/54242.png'), Path('train/3/54248.png'), Path('train/3/54249.png'), Path('train/3/54250.png'), Path('train/3/54258.png'), Path('train/3/54270.png'), Path('train/3/54273.png'), Path('train/3/54285.png'), Path('train/3/54291.png'), Path('train/3/54296.png'), Path('train/3/54301.png'), Path('train/3/54304.png'), Path('train/3/5432.png'), Path('train/3/54322.png'), Path('train/3/5433.png'), Path('train/3/54339.png'), Path('train/3/5434.png'), Path('train/3/54343.png'), Path('train/3/54357.png'), Path('train/3/54377.png'), Path('train/3/54397.png'), Path('train/3/54398.png'), Path('train/3/54402.png'), Path('train/3/54406.png'), Path('train/3/54413.png'), Path('train/3/5442.png'), Path('train/3/54430.png'), Path('train/3/54436.png'), Path('train/3/54444.png'), Path('train/3/54460.png'), Path('train/3/54476.png'), Path('train/3/54481.png'), Path('train/3/54487.png'), Path('train/3/54493.png'), Path('train/3/54499.png'), Path('train/3/54516.png'), Path('train/3/54524.png'), Path('train/3/54526.png'), Path('train/3/54530.png'), Path('train/3/54531.png'), Path('train/3/54534.png'), Path('train/3/54535.png'), Path('train/3/5455.png'), Path('train/3/54559.png'), Path('train/3/54560.png'), Path('train/3/54568.png'), Path('train/3/5458.png'), Path('train/3/54587.png'), Path('train/3/546.png'), Path('train/3/54603.png'), Path('train/3/54615.png'), Path('train/3/54616.png'), Path('train/3/54622.png'), Path('train/3/54635.png'), Path('train/3/54648.png'), Path('train/3/54655.png'), Path('train/3/54658.png'), Path('train/3/54660.png'), Path('train/3/5467.png'), Path('train/3/54694.png'), Path('train/3/54697.png'), Path('train/3/54700.png'), Path('train/3/54704.png'), Path('train/3/54706.png'), Path('train/3/54707.png'), Path('train/3/5471.png'), Path('train/3/54722.png'), Path('train/3/54724.png'), Path('train/3/54727.png'), Path('train/3/54730.png'), Path('train/3/54735.png'), Path('train/3/54736.png'), Path('train/3/54739.png'), Path('train/3/54746.png'), Path('train/3/54767.png'), Path('train/3/54772.png'), Path('train/3/54780.png'), Path('train/3/54782.png'), Path('train/3/54797.png'), Path('train/3/54798.png'), Path('train/3/54829.png'), Path('train/3/54845.png'), Path('train/3/54849.png'), Path('train/3/54856.png'), Path('train/3/54858.png'), Path('train/3/54859.png'), Path('train/3/54867.png'), Path('train/3/54879.png'), Path('train/3/54888.png'), Path('train/3/54892.png'), Path('train/3/54898.png'), Path('train/3/549.png'), Path('train/3/5491.png'), Path('train/3/54910.png'), Path('train/3/54915.png'), Path('train/3/5493.png'), Path('train/3/54930.png'), Path('train/3/54952.png'), Path('train/3/54953.png'), Path('train/3/5497.png'), Path('train/3/54972.png'), Path('train/3/54976.png'), Path('train/3/54977.png'), Path('train/3/54983.png'), Path('train/3/54996.png'), Path('train/3/55008.png'), Path('train/3/55017.png'), Path('train/3/55028.png'), Path('train/3/55035.png'), Path('train/3/55038.png'), Path('train/3/55050.png'), Path('train/3/55051.png'), Path('train/3/55054.png'), Path('train/3/55062.png'), Path('train/3/55071.png'), Path('train/3/55091.png'), Path('train/3/55093.png'), Path('train/3/5510.png'), Path('train/3/55103.png'), Path('train/3/55104.png'), Path('train/3/55106.png'), Path('train/3/5511.png'), Path('train/3/55116.png'), Path('train/3/55133.png'), Path('train/3/55139.png'), Path('train/3/55144.png'), Path('train/3/55151.png'), Path('train/3/55179.png'), Path('train/3/55190.png'), Path('train/3/55194.png'), Path('train/3/55198.png'), Path('train/3/55231.png'), Path('train/3/55249.png'), Path('train/3/55257.png'), Path('train/3/55283.png'), Path('train/3/55292.png'), Path('train/3/55301.png'), Path('train/3/5531.png'), Path('train/3/55312.png'), Path('train/3/55321.png'), Path('train/3/55334.png'), Path('train/3/55336.png'), Path('train/3/55341.png'), Path('train/3/55343.png'), Path('train/3/55353.png'), Path('train/3/55377.png'), Path('train/3/55378.png'), Path('train/3/55383.png'), Path('train/3/55393.png'), Path('train/3/55419.png'), Path('train/3/5542.png'), Path('train/3/55432.png'), Path('train/3/55440.png'), Path('train/3/55461.png'), Path('train/3/5547.png'), Path('train/3/55470.png'), Path('train/3/55472.png'), Path('train/3/55474.png'), Path('train/3/55482.png'), Path('train/3/55485.png'), Path('train/3/55488.png'), Path('train/3/55509.png'), Path('train/3/55527.png'), Path('train/3/55547.png'), Path('train/3/55548.png'), Path('train/3/55550.png'), Path('train/3/55566.png'), Path('train/3/55579.png'), Path('train/3/55580.png'), Path('train/3/55592.png'), Path('train/3/5562.png'), Path('train/3/55628.png'), Path('train/3/55640.png'), Path('train/3/55649.png'), Path('train/3/55665.png'), Path('train/3/5567.png'), Path('train/3/55677.png'), Path('train/3/55688.png'), Path('train/3/55694.png'), Path('train/3/55698.png'), Path('train/3/557.png'), Path('train/3/55705.png'), Path('train/3/55715.png'), Path('train/3/55717.png'), Path('train/3/55726.png'), Path('train/3/5573.png'), Path('train/3/55732.png'), Path('train/3/55737.png'), Path('train/3/55743.png'), Path('train/3/55746.png'), Path('train/3/55751.png'), Path('train/3/55758.png'), Path('train/3/55771.png'), Path('train/3/5578.png'), Path('train/3/55791.png'), Path('train/3/55796.png'), Path('train/3/55831.png'), Path('train/3/55844.png'), Path('train/3/55845.png'), Path('train/3/55851.png'), Path('train/3/55858.png'), Path('train/3/55864.png'), Path('train/3/55866.png'), Path('train/3/55869.png'), Path('train/3/55874.png'), Path('train/3/55876.png'), Path('train/3/5588.png'), Path('train/3/55881.png'), Path('train/3/55893.png'), Path('train/3/55914.png'), Path('train/3/55923.png'), Path('train/3/55926.png'), Path('train/3/55932.png'), Path('train/3/55937.png'), Path('train/3/55941.png'), Path('train/3/55947.png'), Path('train/3/55960.png'), Path('train/3/55962.png'), Path('train/3/55966.png'), Path('train/3/55974.png'), Path('train/3/55998.png'), Path('train/3/55999.png'), Path('train/3/56006.png'), Path('train/3/56008.png'), Path('train/3/56012.png'), Path('train/3/56029.png'), Path('train/3/56043.png'), Path('train/3/56047.png'), Path('train/3/5605.png'), Path('train/3/56053.png'), Path('train/3/56067.png'), Path('train/3/56073.png'), Path('train/3/561.png'), Path('train/3/5611.png'), Path('train/3/56134.png'), Path('train/3/56136.png'), Path('train/3/56139.png'), Path('train/3/5616.png'), Path('train/3/56164.png'), Path('train/3/56165.png'), Path('train/3/56191.png'), Path('train/3/56197.png'), Path('train/3/56198.png'), Path('train/3/56204.png'), Path('train/3/56207.png'), Path('train/3/5621.png'), Path('train/3/56225.png'), Path('train/3/56228.png'), Path('train/3/56234.png'), Path('train/3/56245.png'), Path('train/3/56260.png'), Path('train/3/56265.png'), Path('train/3/56275.png'), Path('train/3/56288.png'), Path('train/3/56297.png'), Path('train/3/56305.png'), Path('train/3/56321.png'), Path('train/3/56324.png'), Path('train/3/56337.png'), Path('train/3/5637.png'), Path('train/3/56383.png'), Path('train/3/56391.png'), Path('train/3/56398.png'), Path('train/3/5640.png'), Path('train/3/5642.png'), Path('train/3/56420.png'), Path('train/3/56434.png'), Path('train/3/56437.png'), Path('train/3/56448.png'), Path('train/3/56449.png'), Path('train/3/56457.png'), Path('train/3/56474.png'), Path('train/3/56475.png'), Path('train/3/56488.png'), Path('train/3/5649.png'), Path('train/3/56492.png'), Path('train/3/56495.png'), Path('train/3/56504.png'), Path('train/3/56515.png'), Path('train/3/56524.png'), Path('train/3/56528.png'), Path('train/3/56535.png'), Path('train/3/56561.png'), Path('train/3/56565.png'), Path('train/3/56574.png'), Path('train/3/56578.png'), Path('train/3/56581.png'), Path('train/3/56585.png'), Path('train/3/5660.png'), Path('train/3/56615.png'), Path('train/3/56616.png'), Path('train/3/56621.png'), Path('train/3/56624.png'), Path('train/3/56645.png'), Path('train/3/56654.png'), Path('train/3/56657.png'), Path('train/3/56697.png'), Path('train/3/56721.png'), Path('train/3/56730.png'), Path('train/3/56738.png'), Path('train/3/56741.png'), Path('train/3/56754.png'), Path('train/3/56761.png'), Path('train/3/56776.png'), Path('train/3/5679.png'), Path('train/3/56791.png'), Path('train/3/56817.png'), Path('train/3/56820.png'), Path('train/3/56823.png'), Path('train/3/5683.png'), Path('train/3/56849.png'), Path('train/3/56869.png'), Path('train/3/5687.png'), Path('train/3/56871.png'), Path('train/3/56875.png'), Path('train/3/56921.png'), Path('train/3/56925.png'), Path('train/3/56927.png'), Path('train/3/56934.png'), Path('train/3/56966.png'), Path('train/3/56974.png'), Path('train/3/56975.png'), Path('train/3/56994.png'), Path('train/3/56995.png'), Path('train/3/57004.png'), Path('train/3/57009.png'), Path('train/3/57016.png'), Path('train/3/5702.png'), Path('train/3/57040.png'), Path('train/3/57056.png'), Path('train/3/5710.png'), Path('train/3/57103.png'), Path('train/3/57107.png'), Path('train/3/57131.png'), Path('train/3/57141.png'), Path('train/3/57149.png'), Path('train/3/57166.png'), Path('train/3/5717.png'), Path('train/3/57171.png'), Path('train/3/57172.png'), Path('train/3/57173.png'), Path('train/3/57194.png'), Path('train/3/57195.png'), Path('train/3/57199.png'), Path('train/3/57207.png'), Path('train/3/57227.png'), Path('train/3/57247.png'), Path('train/3/57264.png'), Path('train/3/57265.png'), Path('train/3/57278.png'), Path('train/3/5728.png'), Path('train/3/57291.png'), Path('train/3/57300.png'), Path('train/3/57306.png'), Path('train/3/57308.png'), Path('train/3/57312.png'), Path('train/3/57336.png'), Path('train/3/57341.png'), Path('train/3/57351.png'), Path('train/3/5736.png'), Path('train/3/57373.png'), Path('train/3/5738.png'), Path('train/3/57391.png'), Path('train/3/57396.png'), Path('train/3/57399.png'), Path('train/3/574.png'), Path('train/3/57401.png'), Path('train/3/57402.png'), Path('train/3/57415.png'), Path('train/3/57424.png'), Path('train/3/57426.png'), Path('train/3/57441.png'), Path('train/3/57457.png'), Path('train/3/57468.png'), Path('train/3/57472.png'), Path('train/3/57474.png'), Path('train/3/57477.png'), Path('train/3/5748.png'), Path('train/3/57488.png'), Path('train/3/57492.png'), Path('train/3/57495.png'), Path('train/3/57522.png'), Path('train/3/57523.png'), Path('train/3/57527.png'), Path('train/3/5753.png'), Path('train/3/57533.png'), Path('train/3/57568.png'), Path('train/3/57584.png'), Path('train/3/57594.png'), Path('train/3/57598.png'), Path('train/3/57608.png'), Path('train/3/57612.png'), Path('train/3/57625.png'), Path('train/3/57635.png'), Path('train/3/57651.png'), Path('train/3/57660.png'), Path('train/3/57679.png'), Path('train/3/57680.png'), Path('train/3/57689.png'), Path('train/3/57698.png'), Path('train/3/5770.png'), Path('train/3/57717.png'), Path('train/3/57734.png'), Path('train/3/57735.png'), Path('train/3/57739.png'), Path('train/3/57750.png'), Path('train/3/57762.png'), Path('train/3/57765.png'), Path('train/3/57766.png'), Path('train/3/57771.png'), Path('train/3/57781.png'), Path('train/3/57788.png'), Path('train/3/57801.png'), Path('train/3/57804.png'), Path('train/3/57806.png'), Path('train/3/57817.png'), Path('train/3/57820.png'), Path('train/3/57833.png'), Path('train/3/57856.png'), Path('train/3/57863.png'), Path('train/3/57864.png'), Path('train/3/57868.png'), Path('train/3/5787.png'), Path('train/3/57872.png'), Path('train/3/57877.png'), Path('train/3/57879.png'), Path('train/3/5788.png'), Path('train/3/57886.png'), Path('train/3/57893.png'), Path('train/3/57897.png'), Path('train/3/57909.png'), Path('train/3/57914.png'), Path('train/3/57919.png'), Path('train/3/57920.png'), Path('train/3/5793.png'), Path('train/3/57932.png'), Path('train/3/57941.png'), Path('train/3/57952.png'), Path('train/3/57967.png'), Path('train/3/57974.png'), Path('train/3/5798.png'), Path('train/3/57983.png'), Path('train/3/5799.png'), Path('train/3/57990.png'), Path('train/3/58001.png'), Path('train/3/58021.png'), Path('train/3/58045.png'), Path('train/3/58048.png'), Path('train/3/58064.png'), Path('train/3/58065.png'), Path('train/3/58067.png'), Path('train/3/58077.png'), Path('train/3/58079.png'), Path('train/3/58080.png'), Path('train/3/58084.png'), Path('train/3/58086.png'), Path('train/3/58089.png'), Path('train/3/58097.png'), Path('train/3/581.png'), Path('train/3/58113.png'), Path('train/3/5812.png'), Path('train/3/58144.png'), Path('train/3/58149.png'), Path('train/3/58163.png'), Path('train/3/58173.png'), Path('train/3/58183.png'), Path('train/3/5820.png'), Path('train/3/58200.png'), Path('train/3/58219.png'), Path('train/3/58227.png'), Path('train/3/58237.png'), Path('train/3/58249.png'), Path('train/3/58250.png'), Path('train/3/58252.png'), Path('train/3/58257.png'), Path('train/3/58268.png'), Path('train/3/58278.png'), Path('train/3/58288.png'), Path('train/3/58298.png'), Path('train/3/5831.png'), Path('train/3/58311.png'), Path('train/3/58324.png'), Path('train/3/58327.png'), Path('train/3/58328.png'), Path('train/3/58333.png'), Path('train/3/58336.png'), Path('train/3/58339.png'), Path('train/3/58343.png'), Path('train/3/58379.png'), Path('train/3/5838.png'), Path('train/3/58389.png'), Path('train/3/58399.png'), Path('train/3/58406.png'), Path('train/3/58410.png'), Path('train/3/58411.png'), Path('train/3/58412.png'), Path('train/3/58421.png'), Path('train/3/58431.png'), Path('train/3/58449.png'), Path('train/3/58465.png'), Path('train/3/58483.png'), Path('train/3/58491.png'), Path('train/3/58495.png'), Path('train/3/58503.png'), Path('train/3/58513.png'), Path('train/3/5852.png'), Path('train/3/58525.png'), Path('train/3/58527.png'), Path('train/3/58541.png'), Path('train/3/58544.png'), Path('train/3/58550.png'), Path('train/3/58558.png'), Path('train/3/58564.png'), Path('train/3/5858.png'), Path('train/3/58582.png'), Path('train/3/58587.png'), Path('train/3/58602.png'), Path('train/3/58612.png'), Path('train/3/58620.png'), Path('train/3/58640.png'), Path('train/3/58642.png'), Path('train/3/58654.png'), Path('train/3/58656.png'), Path('train/3/58660.png'), Path('train/3/58664.png'), Path('train/3/58667.png'), Path('train/3/58678.png'), Path('train/3/5870.png'), Path('train/3/58700.png'), Path('train/3/58707.png'), Path('train/3/5871.png'), Path('train/3/58711.png'), Path('train/3/58721.png'), Path('train/3/58729.png'), Path('train/3/58747.png'), Path('train/3/5875.png'), Path('train/3/58758.png'), Path('train/3/58759.png'), Path('train/3/58760.png'), Path('train/3/58774.png'), Path('train/3/58785.png'), Path('train/3/58793.png'), Path('train/3/58800.png'), Path('train/3/58812.png'), Path('train/3/58822.png'), Path('train/3/58832.png'), Path('train/3/58853.png'), Path('train/3/58855.png'), Path('train/3/58874.png'), Path('train/3/58878.png'), Path('train/3/58881.png'), Path('train/3/58892.png'), Path('train/3/58924.png'), Path('train/3/58931.png'), Path('train/3/58937.png'), Path('train/3/58946.png'), Path('train/3/58955.png'), Path('train/3/58966.png'), Path('train/3/58971.png'), Path('train/3/58983.png'), Path('train/3/59001.png'), Path('train/3/59014.png'), Path('train/3/59016.png'), Path('train/3/59038.png'), Path('train/3/59046.png'), Path('train/3/59054.png'), Path('train/3/59062.png'), Path('train/3/59070.png'), Path('train/3/59081.png'), Path('train/3/59092.png'), Path('train/3/59100.png'), Path('train/3/59104.png'), Path('train/3/5911.png'), Path('train/3/59119.png'), Path('train/3/59120.png'), Path('train/3/59137.png'), Path('train/3/59151.png'), Path('train/3/59158.png'), Path('train/3/59168.png'), Path('train/3/59178.png'), Path('train/3/5919.png'), Path('train/3/59195.png'), Path('train/3/59202.png'), Path('train/3/5922.png'), Path('train/3/59228.png'), Path('train/3/59229.png'), Path('train/3/5923.png'), Path('train/3/59239.png'), Path('train/3/59242.png'), Path('train/3/5926.png'), Path('train/3/59262.png'), Path('train/3/59263.png'), Path('train/3/59271.png'), Path('train/3/59275.png'), Path('train/3/59282.png'), Path('train/3/59299.png'), Path('train/3/59307.png'), Path('train/3/59308.png'), Path('train/3/59315.png'), Path('train/3/59318.png'), Path('train/3/59322.png'), Path('train/3/59328.png'), Path('train/3/59334.png'), Path('train/3/59350.png'), Path('train/3/59352.png'), Path('train/3/59356.png'), Path('train/3/59366.png'), Path('train/3/59375.png'), Path('train/3/59383.png'), Path('train/3/59394.png'), Path('train/3/59398.png'), Path('train/3/59408.png'), Path('train/3/5941.png'), Path('train/3/59416.png'), Path('train/3/5942.png'), Path('train/3/59436.png'), Path('train/3/59440.png'), Path('train/3/59461.png'), Path('train/3/59467.png'), Path('train/3/59471.png'), Path('train/3/59480.png'), Path('train/3/59490.png'), Path('train/3/59500.png'), Path('train/3/59512.png'), Path('train/3/59528.png'), Path('train/3/59529.png'), Path('train/3/59535.png'), Path('train/3/59550.png'), Path('train/3/59569.png'), Path('train/3/5958.png'), Path('train/3/59588.png'), Path('train/3/59598.png'), Path('train/3/59624.png'), Path('train/3/59630.png'), Path('train/3/59631.png'), Path('train/3/59643.png'), Path('train/3/59652.png'), Path('train/3/59660.png'), Path('train/3/5967.png'), Path('train/3/59678.png'), Path('train/3/59691.png'), Path('train/3/59699.png'), Path('train/3/5970.png'), Path('train/3/59707.png'), Path('train/3/59715.png'), Path('train/3/59725.png'), Path('train/3/59735.png'), Path('train/3/5974.png'), Path('train/3/59760.png'), Path('train/3/59769.png'), Path('train/3/59777.png'), Path('train/3/59778.png'), Path('train/3/59798.png'), Path('train/3/5980.png'), Path('train/3/59808.png'), Path('train/3/59815.png'), Path('train/3/59818.png'), Path('train/3/59825.png'), Path('train/3/59828.png'), Path('train/3/59860.png'), Path('train/3/5987.png'), Path('train/3/59870.png'), Path('train/3/59883.png'), Path('train/3/59886.png'), Path('train/3/59891.png'), Path('train/3/59904.png'), Path('train/3/59914.png'), Path('train/3/59921.png'), Path('train/3/59930.png'), Path('train/3/59955.png'), Path('train/3/59957.png'), Path('train/3/59961.png'), Path('train/3/59964.png'), Path('train/3/59978.png'), Path('train/3/59980.png'), Path('train/3/59996.png'), Path('train/3/6007.png'), Path('train/3/6016.png'), Path('train/3/6032.png'), Path('train/3/6033.png'), Path('train/3/6040.png'), Path('train/3/6048.png'), Path('train/3/6057.png'), Path('train/3/6059.png'), Path('train/3/6069.png'), Path('train/3/6071.png'), Path('train/3/6081.png'), Path('train/3/6089.png'), Path('train/3/6098.png'), Path('train/3/6106.png'), Path('train/3/6118.png'), Path('train/3/6123.png'), Path('train/3/613.png'), Path('train/3/6148.png'), Path('train/3/6170.png'), Path('train/3/6175.png'), Path('train/3/6182.png'), Path('train/3/6185.png'), Path('train/3/6213.png'), Path('train/3/6216.png'), Path('train/3/6230.png'), Path('train/3/6233.png'), Path('train/3/6251.png'), Path('train/3/6269.png'), Path('train/3/6282.png'), Path('train/3/6286.png'), Path('train/3/629.png'), Path('train/3/6291.png'), Path('train/3/6293.png'), Path('train/3/6297.png'), Path('train/3/6298.png'), Path('train/3/6299.png'), Path('train/3/6309.png'), Path('train/3/6317.png'), Path('train/3/6340.png'), Path('train/3/6342.png'), Path('train/3/6347.png'), Path('train/3/6350.png'), Path('train/3/6362.png'), Path('train/3/6398.png'), Path('train/3/6405.png'), Path('train/3/6410.png'), Path('train/3/6415.png'), Path('train/3/6416.png'), Path('train/3/6420.png'), Path('train/3/6427.png'), Path('train/3/6428.png'), Path('train/3/643.png'), Path('train/3/6430.png'), Path('train/3/6440.png'), Path('train/3/6447.png'), Path('train/3/645.png'), Path('train/3/6450.png'), Path('train/3/6467.png'), Path('train/3/6489.png'), Path('train/3/6497.png'), Path('train/3/6500.png'), Path('train/3/6516.png'), Path('train/3/6522.png'), Path('train/3/6539.png'), Path('train/3/6543.png'), Path('train/3/6545.png'), Path('train/3/6559.png'), Path('train/3/6561.png'), Path('train/3/6576.png'), Path('train/3/6584.png'), Path('train/3/6585.png'), Path('train/3/659.png'), Path('train/3/6592.png'), Path('train/3/6594.png'), Path('train/3/6595.png'), Path('train/3/6601.png'), Path('train/3/6612.png'), Path('train/3/6632.png'), Path('train/3/6651.png'), Path('train/3/6658.png'), Path('train/3/6662.png'), Path('train/3/6667.png'), Path('train/3/6687.png'), Path('train/3/670.png'), Path('train/3/6706.png'), Path('train/3/6710.png'), Path('train/3/6711.png'), Path('train/3/6719.png'), Path('train/3/6739.png'), Path('train/3/675.png'), Path('train/3/6750.png'), Path('train/3/6754.png'), Path('train/3/6762.png'), Path('train/3/6766.png'), Path('train/3/6784.png'), Path('train/3/6809.png'), Path('train/3/6825.png'), Path('train/3/6826.png'), Path('train/3/6827.png'), Path('train/3/6844.png'), Path('train/3/6855.png'), Path('train/3/6856.png'), Path('train/3/6858.png'), Path('train/3/6863.png'), Path('train/3/6892.png'), Path('train/3/6894.png'), Path('train/3/6898.png'), Path('train/3/6904.png'), Path('train/3/6906.png'), Path('train/3/6912.png'), Path('train/3/6920.png'), Path('train/3/6939.png'), Path('train/3/6945.png'), Path('train/3/695.png'), Path('train/3/6959.png'), Path('train/3/6966.png'), Path('train/3/7.png'), Path('train/3/7030.png'), Path('train/3/7031.png'), Path('train/3/7043.png'), Path('train/3/7046.png'), Path('train/3/7058.png'), Path('train/3/7065.png'), Path('train/3/7067.png'), Path('train/3/7080.png'), Path('train/3/7097.png'), Path('train/3/7106.png'), Path('train/3/7123.png'), Path('train/3/7132.png'), Path('train/3/7134.png'), Path('train/3/7147.png'), Path('train/3/715.png'), Path('train/3/7150.png'), Path('train/3/7156.png'), Path('train/3/7162.png'), Path('train/3/7189.png'), Path('train/3/7192.png'), Path('train/3/7209.png'), Path('train/3/7214.png'), Path('train/3/7225.png'), Path('train/3/7250.png'), Path('train/3/7261.png'), Path('train/3/7263.png'), Path('train/3/7283.png'), Path('train/3/7288.png'), Path('train/3/7293.png'), Path('train/3/7295.png'), Path('train/3/731.png'), Path('train/3/7322.png'), Path('train/3/7332.png'), Path('train/3/7336.png'), Path('train/3/7339.png'), Path('train/3/7367.png'), Path('train/3/7383.png'), Path('train/3/7387.png'), Path('train/3/7396.png'), Path('train/3/7397.png'), Path('train/3/74.png'), Path('train/3/7412.png'), Path('train/3/7415.png'), Path('train/3/7422.png'), Path('train/3/7433.png'), Path('train/3/7455.png'), Path('train/3/7463.png'), Path('train/3/7483.png'), Path('train/3/7497.png'), Path('train/3/7501.png'), Path('train/3/7507.png'), Path('train/3/752.png'), Path('train/3/7521.png'), Path('train/3/7556.png'), Path('train/3/7569.png'), Path('train/3/7582.png'), Path('train/3/7584.png'), Path('train/3/7590.png'), Path('train/3/760.png'), Path('train/3/7600.png'), Path('train/3/7613.png'), Path('train/3/7618.png'), Path('train/3/7625.png'), Path('train/3/7626.png'), Path('train/3/7634.png'), Path('train/3/7635.png'), Path('train/3/7655.png'), Path('train/3/7660.png'), Path('train/3/7666.png'), Path('train/3/767.png'), Path('train/3/7672.png'), Path('train/3/7675.png'), Path('train/3/7678.png'), Path('train/3/7692.png'), Path('train/3/7698.png'), Path('train/3/7701.png'), Path('train/3/7721.png'), Path('train/3/7745.png'), Path('train/3/7762.png'), Path('train/3/7765.png'), Path('train/3/7766.png'), Path('train/3/7767.png'), Path('train/3/7771.png'), Path('train/3/7778.png'), Path('train/3/7784.png'), Path('train/3/7794.png'), Path('train/3/7800.png'), Path('train/3/7803.png'), Path('train/3/7832.png'), Path('train/3/7841.png'), Path('train/3/7861.png'), Path('train/3/7862.png'), Path('train/3/7878.png'), Path('train/3/7881.png'), Path('train/3/789.png'), Path('train/3/7915.png'), Path('train/3/7935.png'), Path('train/3/7966.png'), Path('train/3/7976.png'), Path('train/3/7980.png'), Path('train/3/7982.png'), Path('train/3/7987.png'), Path('train/3/8012.png'), Path('train/3/8013.png'), Path('train/3/8014.png'), Path('train/3/8017.png'), Path('train/3/8018.png'), Path('train/3/8039.png'), Path('train/3/8048.png'), Path('train/3/8052.png'), Path('train/3/8054.png'), Path('train/3/8055.png'), Path('train/3/8065.png'), Path('train/3/8075.png'), Path('train/3/8077.png'), Path('train/3/808.png'), Path('train/3/8094.png'), Path('train/3/8099.png'), Path('train/3/811.png'), Path('train/3/8115.png'), Path('train/3/8120.png'), Path('train/3/8122.png'), Path('train/3/8135.png'), Path('train/3/8163.png'), Path('train/3/8164.png'), Path('train/3/8169.png'), Path('train/3/8184.png'), Path('train/3/8188.png'), Path('train/3/8192.png'), Path('train/3/8195.png'), Path('train/3/8200.png'), Path('train/3/8227.png'), Path('train/3/8228.png'), Path('train/3/8230.png'), Path('train/3/8236.png'), Path('train/3/8241.png'), Path('train/3/8246.png'), Path('train/3/8254.png'), Path('train/3/8259.png'), Path('train/3/8264.png'), Path('train/3/8279.png'), Path('train/3/8295.png'), Path('train/3/8338.png'), Path('train/3/8350.png'), Path('train/3/8360.png'), Path('train/3/8381.png'), Path('train/3/8395.png'), Path('train/3/840.png'), Path('train/3/8405.png'), Path('train/3/8406.png'), Path('train/3/8425.png'), Path('train/3/8427.png'), Path('train/3/843.png'), Path('train/3/8447.png'), Path('train/3/8450.png'), Path('train/3/8455.png'), Path('train/3/8475.png'), Path('train/3/8494.png'), Path('train/3/8498.png'), Path('train/3/8505.png'), Path('train/3/8524.png'), Path('train/3/8528.png'), Path('train/3/8537.png'), Path('train/3/8541.png'), Path('train/3/8544.png'), Path('train/3/8551.png'), Path('train/3/8554.png'), Path('train/3/8557.png'), Path('train/3/856.png'), Path('train/3/8568.png'), Path('train/3/857.png'), Path('train/3/8597.png'), Path('train/3/86.png'), Path('train/3/8605.png'), Path('train/3/8606.png'), Path('train/3/861.png'), Path('train/3/8635.png'), Path('train/3/8643.png'), Path('train/3/8663.png'), Path('train/3/867.png'), Path('train/3/8672.png'), Path('train/3/8684.png'), Path('train/3/8693.png'), Path('train/3/8700.png'), Path('train/3/8708.png'), Path('train/3/8709.png'), Path('train/3/8710.png'), Path('train/3/8716.png'), Path('train/3/8729.png'), Path('train/3/874.png'), Path('train/3/875.png'), Path('train/3/8756.png'), Path('train/3/8762.png'), Path('train/3/8765.png'), Path('train/3/8771.png'), Path('train/3/8773.png'), Path('train/3/878.png'), Path('train/3/8786.png'), Path('train/3/8790.png'), Path('train/3/8794.png'), Path('train/3/8795.png'), Path('train/3/8800.png'), Path('train/3/8808.png'), Path('train/3/8816.png'), Path('train/3/8818.png'), Path('train/3/8821.png'), Path('train/3/8824.png'), Path('train/3/8830.png'), Path('train/3/8865.png'), Path('train/3/8879.png'), Path('train/3/8880.png'), Path('train/3/8882.png'), Path('train/3/8884.png'), Path('train/3/8888.png'), Path('train/3/8893.png'), Path('train/3/890.png'), Path('train/3/8907.png'), Path('train/3/8923.png'), Path('train/3/8936.png'), Path('train/3/8941.png'), Path('train/3/8946.png'), Path('train/3/8948.png'), Path('train/3/895.png'), Path('train/3/8957.png'), Path('train/3/8958.png'), Path('train/3/8967.png'), Path('train/3/8976.png'), Path('train/3/9004.png'), Path('train/3/9006.png'), Path('train/3/9037.png'), Path('train/3/9053.png'), Path('train/3/9059.png'), Path('train/3/9065.png'), Path('train/3/9074.png'), Path('train/3/9078.png'), Path('train/3/9080.png'), Path('train/3/9089.png'), Path('train/3/909.png'), Path('train/3/9107.png'), Path('train/3/9140.png'), Path('train/3/9141.png'), Path('train/3/9146.png'), Path('train/3/9153.png'), Path('train/3/9168.png'), Path('train/3/9180.png'), Path('train/3/9182.png'), Path('train/3/9183.png'), Path('train/3/9184.png'), Path('train/3/9192.png'), Path('train/3/9226.png'), Path('train/3/9230.png'), Path('train/3/9253.png'), Path('train/3/9255.png'), Path('train/3/9268.png'), Path('train/3/9272.png'), Path('train/3/9278.png'), Path('train/3/9279.png'), Path('train/3/9289.png'), Path('train/3/9293.png'), Path('train/3/9294.png'), Path('train/3/9300.png'), Path('train/3/9302.png'), Path('train/3/9303.png'), Path('train/3/9319.png'), Path('train/3/9324.png'), Path('train/3/9335.png'), Path('train/3/9355.png'), Path('train/3/9363.png'), Path('train/3/9380.png'), Path('train/3/9386.png'), Path('train/3/9400.png'), Path('train/3/9401.png'), Path('train/3/9403.png'), Path('train/3/9411.png'), Path('train/3/9412.png'), Path('train/3/9413.png'), Path('train/3/9418.png'), Path('train/3/9420.png'), Path('train/3/9424.png'), Path('train/3/9427.png'), Path('train/3/9443.png'), Path('train/3/9466.png'), Path('train/3/9482.png'), Path('train/3/9491.png'), Path('train/3/9511.png'), Path('train/3/9516.png'), Path('train/3/9520.png'), Path('train/3/9529.png'), Path('train/3/953.png'), Path('train/3/9553.png'), Path('train/3/9561.png'), Path('train/3/9592.png'), Path('train/3/9602.png'), Path('train/3/9610.png'), Path('train/3/9612.png'), Path('train/3/9617.png'), Path('train/3/9620.png'), Path('train/3/9621.png'), Path('train/3/9623.png'), Path('train/3/9624.png'), Path('train/3/9636.png'), Path('train/3/9637.png'), Path('train/3/9638.png'), Path('train/3/9639.png'), Path('train/3/9648.png'), Path('train/3/966.png'), Path('train/3/9663.png'), Path('train/3/9664.png'), Path('train/3/9670.png'), Path('train/3/9679.png'), Path('train/3/9680.png'), Path('train/3/9685.png'), Path('train/3/9696.png'), Path('train/3/9706.png'), Path('train/3/9730.png'), Path('train/3/9739.png'), Path('train/3/975.png'), Path('train/3/9759.png'), Path('train/3/9766.png'), Path('train/3/9778.png'), Path('train/3/9779.png'), Path('train/3/9786.png'), Path('train/3/9797.png'), Path('train/3/98.png'), Path('train/3/9812.png'), Path('train/3/9829.png'), Path('train/3/983.png'), Path('train/3/9848.png'), Path('train/3/9851.png'), Path('train/3/9864.png'), Path('train/3/9868.png'), Path('train/3/9871.png'), Path('train/3/9879.png'), Path('train/3/9904.png'), Path('train/3/9913.png'), Path('train/3/9915.png'), Path('train/3/9916.png'), Path('train/3/992.png'), Path('train/3/9932.png'), Path('train/3/9953.png'), Path('train/3/9959.png'), Path('train/3/9974.png'), Path('train/3/9977.png'), Path('train/3/998.png'), Path('train/3/9991.png')]\n",
      "6265 [Path('train/7/10002.png'), Path('train/7/1001.png'), Path('train/7/10014.png'), Path('train/7/10019.png'), Path('train/7/10039.png'), Path('train/7/10046.png'), Path('train/7/10050.png'), Path('train/7/10063.png'), Path('train/7/10077.png'), Path('train/7/10086.png'), Path('train/7/10095.png'), Path('train/7/10096.png'), Path('train/7/101.png'), Path('train/7/10131.png'), Path('train/7/1014.png'), Path('train/7/10147.png'), Path('train/7/10148.png'), Path('train/7/10154.png'), Path('train/7/10160.png'), Path('train/7/10170.png'), Path('train/7/10171.png'), Path('train/7/10178.png'), Path('train/7/10179.png'), Path('train/7/10181.png'), Path('train/7/1019.png'), Path('train/7/10202.png'), Path('train/7/10215.png'), Path('train/7/1022.png'), Path('train/7/1023.png'), Path('train/7/10231.png'), Path('train/7/10243.png'), Path('train/7/10251.png'), Path('train/7/10253.png'), Path('train/7/10263.png'), Path('train/7/10287.png'), Path('train/7/10295.png'), Path('train/7/10296.png'), Path('train/7/10297.png'), Path('train/7/103.png'), Path('train/7/10302.png'), Path('train/7/10309.png'), Path('train/7/10315.png'), Path('train/7/10324.png'), Path('train/7/10337.png'), Path('train/7/10357.png'), Path('train/7/10377.png'), Path('train/7/10388.png'), Path('train/7/10392.png'), Path('train/7/10394.png'), Path('train/7/10408.png'), Path('train/7/1042.png'), Path('train/7/10427.png'), Path('train/7/1043.png'), Path('train/7/10431.png'), Path('train/7/10457.png'), Path('train/7/10461.png'), Path('train/7/10474.png'), Path('train/7/10485.png'), Path('train/7/10487.png'), Path('train/7/10496.png'), Path('train/7/10510.png'), Path('train/7/10517.png'), Path('train/7/10522.png'), Path('train/7/10533.png'), Path('train/7/1054.png'), Path('train/7/10544.png'), Path('train/7/10547.png'), Path('train/7/10548.png'), Path('train/7/1057.png'), Path('train/7/10573.png'), Path('train/7/10590.png'), Path('train/7/10593.png'), Path('train/7/10609.png'), Path('train/7/10637.png'), Path('train/7/10640.png'), Path('train/7/10648.png'), Path('train/7/10651.png'), Path('train/7/10682.png'), Path('train/7/10702.png'), Path('train/7/10708.png'), Path('train/7/10715.png'), Path('train/7/10716.png'), Path('train/7/10718.png'), Path('train/7/1072.png'), Path('train/7/10727.png'), Path('train/7/10735.png'), Path('train/7/10744.png'), Path('train/7/1075.png'), Path('train/7/10759.png'), Path('train/7/10763.png'), Path('train/7/10769.png'), Path('train/7/10788.png'), Path('train/7/10795.png'), Path('train/7/10815.png'), Path('train/7/1082.png'), Path('train/7/10828.png'), Path('train/7/10835.png'), Path('train/7/10841.png'), Path('train/7/10864.png'), Path('train/7/10873.png'), Path('train/7/1088.png'), Path('train/7/10890.png'), Path('train/7/10893.png'), Path('train/7/10911.png'), Path('train/7/10932.png'), Path('train/7/10935.png'), Path('train/7/10940.png'), Path('train/7/10946.png'), Path('train/7/10965.png'), Path('train/7/10969.png'), Path('train/7/10986.png'), Path('train/7/10989.png'), Path('train/7/11007.png'), Path('train/7/11020.png'), Path('train/7/11049.png'), Path('train/7/11054.png'), Path('train/7/11056.png'), Path('train/7/11059.png'), Path('train/7/1106.png'), Path('train/7/11076.png'), Path('train/7/11080.png'), Path('train/7/11085.png'), Path('train/7/11088.png'), Path('train/7/11092.png'), Path('train/7/11099.png'), Path('train/7/11119.png'), Path('train/7/11122.png'), Path('train/7/11125.png'), Path('train/7/11130.png'), Path('train/7/11137.png'), Path('train/7/1114.png'), Path('train/7/11159.png'), Path('train/7/11164.png'), Path('train/7/11166.png'), Path('train/7/11168.png'), Path('train/7/11170.png'), Path('train/7/11180.png'), Path('train/7/11185.png'), Path('train/7/11188.png'), Path('train/7/11204.png'), Path('train/7/11207.png'), Path('train/7/11220.png'), Path('train/7/11235.png'), Path('train/7/11247.png'), Path('train/7/1125.png'), Path('train/7/11254.png'), Path('train/7/1126.png'), Path('train/7/11266.png'), Path('train/7/1127.png'), Path('train/7/11274.png'), Path('train/7/11290.png'), Path('train/7/11294.png'), Path('train/7/11309.png'), Path('train/7/11328.png'), Path('train/7/11329.png'), Path('train/7/11332.png'), Path('train/7/11334.png'), Path('train/7/11349.png'), Path('train/7/11350.png'), Path('train/7/11370.png'), Path('train/7/11372.png'), Path('train/7/11399.png'), Path('train/7/11400.png'), Path('train/7/11407.png'), Path('train/7/11421.png'), Path('train/7/11426.png'), Path('train/7/11430.png'), Path('train/7/11435.png'), Path('train/7/11437.png'), Path('train/7/11455.png'), Path('train/7/11473.png'), Path('train/7/11488.png'), Path('train/7/11498.png'), Path('train/7/11510.png'), Path('train/7/11516.png'), Path('train/7/11517.png'), Path('train/7/11525.png'), Path('train/7/11528.png'), Path('train/7/1153.png'), Path('train/7/11534.png'), Path('train/7/1154.png'), Path('train/7/11540.png'), Path('train/7/11548.png'), Path('train/7/11553.png'), Path('train/7/1156.png'), Path('train/7/11564.png'), Path('train/7/11566.png'), Path('train/7/1157.png'), Path('train/7/11573.png'), Path('train/7/11591.png'), Path('train/7/11594.png'), Path('train/7/11595.png'), Path('train/7/11616.png'), Path('train/7/11623.png'), Path('train/7/11640.png'), Path('train/7/11642.png'), Path('train/7/11650.png'), Path('train/7/1166.png'), Path('train/7/11660.png'), Path('train/7/11664.png'), Path('train/7/11686.png'), Path('train/7/11687.png'), Path('train/7/11689.png'), Path('train/7/11703.png'), Path('train/7/11716.png'), Path('train/7/11733.png'), Path('train/7/11736.png'), Path('train/7/11757.png'), Path('train/7/11763.png'), Path('train/7/11766.png'), Path('train/7/11768.png'), Path('train/7/11771.png'), Path('train/7/11778.png'), Path('train/7/11786.png'), Path('train/7/11789.png'), Path('train/7/11798.png'), Path('train/7/11805.png'), Path('train/7/11810.png'), Path('train/7/11821.png'), Path('train/7/11822.png'), Path('train/7/11829.png'), Path('train/7/11831.png'), Path('train/7/11838.png'), Path('train/7/11854.png'), Path('train/7/1186.png'), Path('train/7/11877.png'), Path('train/7/11894.png'), Path('train/7/11898.png'), Path('train/7/11907.png'), Path('train/7/1191.png'), Path('train/7/11919.png'), Path('train/7/11937.png'), Path('train/7/11944.png'), Path('train/7/11946.png'), Path('train/7/11987.png'), Path('train/7/11994.png'), Path('train/7/12000.png'), Path('train/7/12007.png'), Path('train/7/12018.png'), Path('train/7/12025.png'), Path('train/7/12031.png'), Path('train/7/12048.png'), Path('train/7/1205.png'), Path('train/7/12062.png'), Path('train/7/12065.png'), Path('train/7/12067.png'), Path('train/7/1208.png'), Path('train/7/12081.png'), Path('train/7/12116.png'), Path('train/7/12123.png'), Path('train/7/12126.png'), Path('train/7/12138.png'), Path('train/7/12139.png'), Path('train/7/12143.png'), Path('train/7/12149.png'), Path('train/7/1216.png'), Path('train/7/12165.png'), Path('train/7/1217.png'), Path('train/7/12176.png'), Path('train/7/12185.png'), Path('train/7/12188.png'), Path('train/7/12206.png'), Path('train/7/12208.png'), Path('train/7/12233.png'), Path('train/7/1225.png'), Path('train/7/12252.png'), Path('train/7/12253.png'), Path('train/7/12273.png'), Path('train/7/12278.png'), Path('train/7/12287.png'), Path('train/7/1229.png'), Path('train/7/12292.png'), Path('train/7/12293.png'), Path('train/7/12296.png'), Path('train/7/123.png'), Path('train/7/12304.png'), Path('train/7/1231.png'), Path('train/7/12348.png'), Path('train/7/12363.png'), Path('train/7/12364.png'), Path('train/7/12373.png'), Path('train/7/12390.png'), Path('train/7/12391.png'), Path('train/7/12395.png'), Path('train/7/12403.png'), Path('train/7/12408.png'), Path('train/7/12413.png'), Path('train/7/12420.png'), Path('train/7/12428.png'), Path('train/7/12439.png'), Path('train/7/12453.png'), Path('train/7/12454.png'), Path('train/7/12464.png'), Path('train/7/12471.png'), Path('train/7/12478.png'), Path('train/7/12491.png'), Path('train/7/12492.png'), Path('train/7/1251.png'), Path('train/7/12511.png'), Path('train/7/12524.png'), Path('train/7/12526.png'), Path('train/7/12537.png'), Path('train/7/12558.png'), Path('train/7/12571.png'), Path('train/7/12576.png'), Path('train/7/12579.png'), Path('train/7/12597.png'), Path('train/7/12599.png'), Path('train/7/12601.png'), Path('train/7/12624.png'), Path('train/7/12628.png'), Path('train/7/12641.png'), Path('train/7/12649.png'), Path('train/7/12659.png'), Path('train/7/12668.png'), Path('train/7/12676.png'), Path('train/7/12678.png'), Path('train/7/12717.png'), Path('train/7/12724.png'), Path('train/7/12730.png'), Path('train/7/12737.png'), Path('train/7/12742.png'), Path('train/7/12751.png'), Path('train/7/12754.png'), Path('train/7/12757.png'), Path('train/7/12769.png'), Path('train/7/12772.png'), Path('train/7/12774.png'), Path('train/7/12781.png'), Path('train/7/12794.png'), Path('train/7/12806.png'), Path('train/7/1281.png'), Path('train/7/12813.png'), Path('train/7/12819.png'), Path('train/7/12835.png'), Path('train/7/12841.png'), Path('train/7/12849.png'), Path('train/7/12850.png'), Path('train/7/12863.png'), Path('train/7/12865.png'), Path('train/7/12896.png'), Path('train/7/12908.png'), Path('train/7/12921.png'), Path('train/7/12941.png'), Path('train/7/12956.png'), Path('train/7/12961.png'), Path('train/7/12970.png'), Path('train/7/12979.png'), Path('train/7/12982.png'), Path('train/7/12993.png'), Path('train/7/12994.png'), Path('train/7/1300.png'), Path('train/7/13000.png'), Path('train/7/1302.png'), Path('train/7/13024.png'), Path('train/7/13027.png'), Path('train/7/13042.png'), Path('train/7/13048.png'), Path('train/7/13053.png'), Path('train/7/13056.png'), Path('train/7/1306.png'), Path('train/7/13064.png'), Path('train/7/13091.png'), Path('train/7/13119.png'), Path('train/7/13123.png'), Path('train/7/13131.png'), Path('train/7/13136.png'), Path('train/7/1314.png'), Path('train/7/13149.png'), Path('train/7/13150.png'), Path('train/7/13158.png'), Path('train/7/13162.png'), Path('train/7/13166.png'), Path('train/7/13169.png'), Path('train/7/13174.png'), Path('train/7/13180.png'), Path('train/7/13187.png'), Path('train/7/13188.png'), Path('train/7/13192.png'), Path('train/7/13199.png'), Path('train/7/13205.png'), Path('train/7/1322.png'), Path('train/7/13243.png'), Path('train/7/13244.png'), Path('train/7/13255.png'), Path('train/7/1326.png'), Path('train/7/13292.png'), Path('train/7/13311.png'), Path('train/7/13319.png'), Path('train/7/1332.png'), Path('train/7/13329.png'), Path('train/7/13333.png'), Path('train/7/13337.png'), Path('train/7/1335.png'), Path('train/7/13355.png'), Path('train/7/1338.png'), Path('train/7/13380.png'), Path('train/7/13382.png'), Path('train/7/13391.png'), Path('train/7/13405.png'), Path('train/7/13410.png'), Path('train/7/13416.png'), Path('train/7/1342.png'), Path('train/7/13421.png'), Path('train/7/1343.png'), Path('train/7/13469.png'), Path('train/7/1347.png'), Path('train/7/13479.png'), Path('train/7/13482.png'), Path('train/7/13512.png'), Path('train/7/13513.png'), Path('train/7/13515.png'), Path('train/7/13529.png'), Path('train/7/1353.png'), Path('train/7/13534.png'), Path('train/7/13540.png'), Path('train/7/13555.png'), Path('train/7/13561.png'), Path('train/7/13566.png'), Path('train/7/13570.png'), Path('train/7/13571.png'), Path('train/7/13599.png'), Path('train/7/13600.png'), Path('train/7/13637.png'), Path('train/7/13638.png'), Path('train/7/13644.png'), Path('train/7/13651.png'), Path('train/7/13662.png'), Path('train/7/13665.png'), Path('train/7/13684.png'), Path('train/7/13691.png'), Path('train/7/13710.png'), Path('train/7/13718.png'), Path('train/7/13744.png'), Path('train/7/13746.png'), Path('train/7/13753.png'), Path('train/7/13754.png'), Path('train/7/13755.png'), Path('train/7/13756.png'), Path('train/7/1376.png'), Path('train/7/13767.png'), Path('train/7/13776.png'), Path('train/7/13786.png'), Path('train/7/13789.png'), Path('train/7/13794.png'), Path('train/7/13802.png'), Path('train/7/1381.png'), Path('train/7/13810.png'), Path('train/7/13814.png'), Path('train/7/13815.png'), Path('train/7/13819.png'), Path('train/7/13834.png'), Path('train/7/13842.png'), Path('train/7/13847.png'), Path('train/7/13867.png'), Path('train/7/13883.png'), Path('train/7/13890.png'), Path('train/7/13900.png'), Path('train/7/13905.png'), Path('train/7/13907.png'), Path('train/7/13915.png'), Path('train/7/1392.png'), Path('train/7/13933.png'), Path('train/7/13963.png'), Path('train/7/13975.png'), Path('train/7/13978.png'), Path('train/7/140.png'), Path('train/7/1400.png'), Path('train/7/14004.png'), Path('train/7/14011.png'), Path('train/7/14022.png'), Path('train/7/14032.png'), Path('train/7/14033.png'), Path('train/7/14046.png'), Path('train/7/14053.png'), Path('train/7/14073.png'), Path('train/7/14076.png'), Path('train/7/14088.png'), Path('train/7/14094.png'), Path('train/7/14095.png'), Path('train/7/141.png'), Path('train/7/14104.png'), Path('train/7/14111.png'), Path('train/7/14114.png'), Path('train/7/1412.png'), Path('train/7/14138.png'), Path('train/7/14141.png'), Path('train/7/14145.png'), Path('train/7/14152.png'), Path('train/7/1416.png'), Path('train/7/1417.png'), Path('train/7/14197.png'), Path('train/7/14201.png'), Path('train/7/14219.png'), Path('train/7/1422.png'), Path('train/7/14231.png'), Path('train/7/14238.png'), Path('train/7/14242.png'), Path('train/7/14243.png'), Path('train/7/14245.png'), Path('train/7/14246.png'), Path('train/7/14277.png'), Path('train/7/14280.png'), Path('train/7/14284.png'), Path('train/7/14287.png'), Path('train/7/14288.png'), Path('train/7/14299.png'), Path('train/7/14307.png'), Path('train/7/14313.png'), Path('train/7/14337.png'), Path('train/7/14348.png'), Path('train/7/14360.png'), Path('train/7/1437.png'), Path('train/7/14379.png'), Path('train/7/14386.png'), Path('train/7/14387.png'), Path('train/7/14391.png'), Path('train/7/14395.png'), Path('train/7/14398.png'), Path('train/7/14403.png'), Path('train/7/14439.png'), Path('train/7/14448.png'), Path('train/7/14455.png'), Path('train/7/14460.png'), Path('train/7/14470.png'), Path('train/7/14475.png'), Path('train/7/14505.png'), Path('train/7/14506.png'), Path('train/7/1451.png'), Path('train/7/14519.png'), Path('train/7/14522.png'), Path('train/7/14531.png'), Path('train/7/14532.png'), Path('train/7/14536.png'), Path('train/7/14540.png'), Path('train/7/14556.png'), Path('train/7/14563.png'), Path('train/7/14573.png'), Path('train/7/14581.png'), Path('train/7/14586.png'), Path('train/7/14590.png'), Path('train/7/14594.png'), Path('train/7/14597.png'), Path('train/7/14598.png'), Path('train/7/14600.png'), Path('train/7/14601.png'), Path('train/7/14605.png'), Path('train/7/14622.png'), Path('train/7/14642.png'), Path('train/7/14643.png'), Path('train/7/14663.png'), Path('train/7/14684.png'), Path('train/7/14710.png'), Path('train/7/14718.png'), Path('train/7/14719.png'), Path('train/7/14727.png'), Path('train/7/14741.png'), Path('train/7/14750.png'), Path('train/7/14755.png'), Path('train/7/14757.png'), Path('train/7/14770.png'), Path('train/7/14777.png'), Path('train/7/14795.png'), Path('train/7/148.png'), Path('train/7/1480.png'), Path('train/7/14802.png'), Path('train/7/14814.png'), Path('train/7/14824.png'), Path('train/7/14829.png'), Path('train/7/14832.png'), Path('train/7/14833.png'), Path('train/7/14841.png'), Path('train/7/14850.png'), Path('train/7/14866.png'), Path('train/7/14871.png'), Path('train/7/14891.png'), Path('train/7/14898.png'), Path('train/7/1491.png'), Path('train/7/14911.png'), Path('train/7/14920.png'), Path('train/7/14926.png'), Path('train/7/14930.png'), Path('train/7/14954.png'), Path('train/7/14961.png'), Path('train/7/14969.png'), Path('train/7/14983.png'), Path('train/7/1499.png'), Path('train/7/14997.png'), Path('train/7/14999.png'), Path('train/7/15.png'), Path('train/7/15019.png'), Path('train/7/15037.png'), Path('train/7/15062.png'), Path('train/7/15074.png'), Path('train/7/15081.png'), Path('train/7/15086.png'), Path('train/7/15087.png'), Path('train/7/15098.png'), Path('train/7/15106.png'), Path('train/7/15113.png'), Path('train/7/15122.png'), Path('train/7/15127.png'), Path('train/7/1513.png'), Path('train/7/15147.png'), Path('train/7/15168.png'), Path('train/7/15172.png'), Path('train/7/15173.png'), Path('train/7/15192.png'), Path('train/7/15199.png'), Path('train/7/15200.png'), Path('train/7/15202.png'), Path('train/7/15204.png'), Path('train/7/15209.png'), Path('train/7/15213.png'), Path('train/7/15215.png'), Path('train/7/15229.png'), Path('train/7/1523.png'), Path('train/7/15230.png'), Path('train/7/15243.png'), Path('train/7/1525.png'), Path('train/7/15254.png'), Path('train/7/15256.png'), Path('train/7/15260.png'), Path('train/7/15276.png'), Path('train/7/15305.png'), Path('train/7/15319.png'), Path('train/7/15327.png'), Path('train/7/15331.png'), Path('train/7/15340.png'), Path('train/7/15393.png'), Path('train/7/15410.png'), Path('train/7/15422.png'), Path('train/7/15425.png'), Path('train/7/15449.png'), Path('train/7/15452.png'), Path('train/7/15460.png'), Path('train/7/15465.png'), Path('train/7/15468.png'), Path('train/7/15469.png'), Path('train/7/1547.png'), Path('train/7/15485.png'), Path('train/7/15490.png'), Path('train/7/15494.png'), Path('train/7/15499.png'), Path('train/7/15513.png'), Path('train/7/15518.png'), Path('train/7/15531.png'), Path('train/7/15545.png'), Path('train/7/15554.png'), Path('train/7/15570.png'), Path('train/7/15577.png'), Path('train/7/15586.png'), Path('train/7/15589.png'), Path('train/7/15597.png'), Path('train/7/15635.png'), Path('train/7/1564.png'), Path('train/7/15643.png'), Path('train/7/15646.png'), Path('train/7/15671.png'), Path('train/7/15689.png'), Path('train/7/15690.png'), Path('train/7/1570.png'), Path('train/7/15705.png'), Path('train/7/15718.png'), Path('train/7/15721.png'), Path('train/7/15737.png'), Path('train/7/15740.png'), Path('train/7/15750.png'), Path('train/7/15754.png'), Path('train/7/15792.png'), Path('train/7/158.png'), Path('train/7/15801.png'), Path('train/7/15808.png'), Path('train/7/15811.png'), Path('train/7/15818.png'), Path('train/7/15824.png'), Path('train/7/15833.png'), Path('train/7/15849.png'), Path('train/7/15856.png'), Path('train/7/15859.png'), Path('train/7/1586.png'), Path('train/7/15877.png'), Path('train/7/1589.png'), Path('train/7/15895.png'), Path('train/7/15900.png'), Path('train/7/15906.png'), Path('train/7/15909.png'), Path('train/7/15922.png'), Path('train/7/15923.png'), Path('train/7/15932.png'), Path('train/7/15939.png'), Path('train/7/15952.png'), Path('train/7/15953.png'), Path('train/7/15954.png'), Path('train/7/15976.png'), Path('train/7/15983.png'), Path('train/7/15997.png'), Path('train/7/15998.png'), Path('train/7/16004.png'), Path('train/7/16015.png'), Path('train/7/16016.png'), Path('train/7/16041.png'), Path('train/7/16049.png'), Path('train/7/16052.png'), Path('train/7/16079.png'), Path('train/7/1608.png'), Path('train/7/16099.png'), Path('train/7/16100.png'), Path('train/7/16113.png'), Path('train/7/16133.png'), Path('train/7/16138.png'), Path('train/7/16143.png'), Path('train/7/16150.png'), Path('train/7/16162.png'), Path('train/7/16169.png'), Path('train/7/1618.png'), Path('train/7/16186.png'), Path('train/7/16189.png'), Path('train/7/1619.png'), Path('train/7/16194.png'), Path('train/7/16197.png'), Path('train/7/16199.png'), Path('train/7/16205.png'), Path('train/7/16212.png'), Path('train/7/16226.png'), Path('train/7/16240.png'), Path('train/7/16247.png'), Path('train/7/16248.png'), Path('train/7/16264.png'), Path('train/7/16271.png'), Path('train/7/16272.png'), Path('train/7/16288.png'), Path('train/7/16299.png'), Path('train/7/16304.png'), Path('train/7/16316.png'), Path('train/7/16319.png'), Path('train/7/16324.png'), Path('train/7/16337.png'), Path('train/7/16343.png'), Path('train/7/1636.png'), Path('train/7/16369.png'), Path('train/7/16379.png'), Path('train/7/16383.png'), Path('train/7/1639.png'), Path('train/7/16394.png'), Path('train/7/16395.png'), Path('train/7/16401.png'), Path('train/7/16419.png'), Path('train/7/16420.png'), Path('train/7/16437.png'), Path('train/7/16454.png'), Path('train/7/16478.png'), Path('train/7/16496.png'), Path('train/7/16505.png'), Path('train/7/16514.png'), Path('train/7/1652.png'), Path('train/7/16524.png'), Path('train/7/16528.png'), Path('train/7/16537.png'), Path('train/7/16548.png'), Path('train/7/1655.png'), Path('train/7/16557.png'), Path('train/7/1656.png'), Path('train/7/16577.png'), Path('train/7/16594.png'), Path('train/7/16596.png'), Path('train/7/16609.png'), Path('train/7/16613.png'), Path('train/7/16615.png'), Path('train/7/16623.png'), Path('train/7/16630.png'), Path('train/7/16641.png'), Path('train/7/16644.png'), Path('train/7/16661.png'), Path('train/7/16672.png'), Path('train/7/16687.png'), Path('train/7/16696.png'), Path('train/7/16700.png'), Path('train/7/16710.png'), Path('train/7/16711.png'), Path('train/7/16712.png'), Path('train/7/16717.png'), Path('train/7/16721.png'), Path('train/7/1673.png'), Path('train/7/16756.png'), Path('train/7/16771.png'), Path('train/7/16795.png'), Path('train/7/168.png'), Path('train/7/16800.png'), Path('train/7/16809.png'), Path('train/7/16823.png'), Path('train/7/16836.png'), Path('train/7/16840.png'), Path('train/7/16842.png'), Path('train/7/16843.png'), Path('train/7/16848.png'), Path('train/7/16852.png'), Path('train/7/1687.png'), Path('train/7/16871.png'), Path('train/7/16882.png'), Path('train/7/16915.png'), Path('train/7/16935.png'), Path('train/7/16949.png'), Path('train/7/16962.png'), Path('train/7/16966.png'), Path('train/7/16970.png'), Path('train/7/16978.png'), Path('train/7/16984.png'), Path('train/7/16986.png'), Path('train/7/16990.png'), Path('train/7/16999.png'), Path('train/7/17007.png'), Path('train/7/17017.png'), Path('train/7/17031.png'), Path('train/7/17033.png'), Path('train/7/17044.png'), Path('train/7/17053.png'), Path('train/7/17054.png'), Path('train/7/17068.png'), Path('train/7/17069.png'), Path('train/7/17086.png'), Path('train/7/17109.png'), Path('train/7/17113.png'), Path('train/7/17114.png'), Path('train/7/17117.png'), Path('train/7/17136.png'), Path('train/7/17140.png'), Path('train/7/17143.png'), Path('train/7/17144.png'), Path('train/7/17163.png'), Path('train/7/17177.png'), Path('train/7/17183.png'), Path('train/7/17185.png'), Path('train/7/1719.png'), Path('train/7/17205.png'), Path('train/7/17206.png'), Path('train/7/17228.png'), Path('train/7/17248.png'), Path('train/7/17261.png'), Path('train/7/17267.png'), Path('train/7/17278.png'), Path('train/7/17282.png'), Path('train/7/1730.png'), Path('train/7/17303.png'), Path('train/7/17306.png'), Path('train/7/17307.png'), Path('train/7/17316.png'), Path('train/7/17329.png'), Path('train/7/17340.png'), Path('train/7/17343.png'), Path('train/7/17350.png'), Path('train/7/17356.png'), Path('train/7/17359.png'), Path('train/7/17368.png'), Path('train/7/17370.png'), Path('train/7/17373.png'), Path('train/7/17380.png'), Path('train/7/17383.png'), Path('train/7/17388.png'), Path('train/7/1739.png'), Path('train/7/17391.png'), Path('train/7/17419.png'), Path('train/7/17420.png'), Path('train/7/17424.png'), Path('train/7/17440.png'), Path('train/7/17441.png'), Path('train/7/17443.png'), Path('train/7/1746.png'), Path('train/7/1747.png'), Path('train/7/17481.png'), Path('train/7/17483.png'), Path('train/7/17486.png'), Path('train/7/17490.png'), Path('train/7/17497.png'), Path('train/7/17513.png'), Path('train/7/17525.png'), Path('train/7/17532.png'), Path('train/7/17533.png'), Path('train/7/17557.png'), Path('train/7/17615.png'), Path('train/7/17617.png'), Path('train/7/17630.png'), Path('train/7/17649.png'), Path('train/7/17659.png'), Path('train/7/17683.png'), Path('train/7/17687.png'), Path('train/7/17696.png'), Path('train/7/1770.png'), Path('train/7/17703.png'), Path('train/7/17714.png'), Path('train/7/17718.png'), Path('train/7/17719.png'), Path('train/7/1772.png'), Path('train/7/17724.png'), Path('train/7/17735.png'), Path('train/7/17762.png'), Path('train/7/17772.png'), Path('train/7/17776.png'), Path('train/7/17789.png'), Path('train/7/17795.png'), Path('train/7/17798.png'), Path('train/7/17800.png'), Path('train/7/17807.png'), Path('train/7/17809.png'), Path('train/7/17813.png'), Path('train/7/17816.png'), Path('train/7/17830.png'), Path('train/7/17833.png'), Path('train/7/17849.png'), Path('train/7/17866.png'), Path('train/7/17882.png'), Path('train/7/17887.png'), Path('train/7/1789.png'), Path('train/7/17897.png'), Path('train/7/17917.png'), Path('train/7/17918.png'), Path('train/7/17935.png'), Path('train/7/17946.png'), Path('train/7/17955.png'), Path('train/7/17961.png'), Path('train/7/17962.png'), Path('train/7/17963.png'), Path('train/7/17969.png'), Path('train/7/17974.png'), Path('train/7/17979.png'), Path('train/7/18002.png'), Path('train/7/18006.png'), Path('train/7/18020.png'), Path('train/7/18025.png'), Path('train/7/1803.png'), Path('train/7/18037.png'), Path('train/7/18046.png'), Path('train/7/18048.png'), Path('train/7/18066.png'), Path('train/7/18086.png'), Path('train/7/18087.png'), Path('train/7/18100.png'), Path('train/7/18107.png'), Path('train/7/18122.png'), Path('train/7/18127.png'), Path('train/7/18142.png'), Path('train/7/18152.png'), Path('train/7/18160.png'), Path('train/7/18161.png'), Path('train/7/18170.png'), Path('train/7/18173.png'), Path('train/7/18183.png'), Path('train/7/18191.png'), Path('train/7/18204.png'), Path('train/7/1821.png'), Path('train/7/1825.png'), Path('train/7/18257.png'), Path('train/7/18265.png'), Path('train/7/18269.png'), Path('train/7/18289.png'), Path('train/7/18309.png'), Path('train/7/18315.png'), Path('train/7/1832.png'), Path('train/7/18320.png'), Path('train/7/18322.png'), Path('train/7/1833.png'), Path('train/7/18333.png'), Path('train/7/18346.png'), Path('train/7/18351.png'), Path('train/7/18358.png'), Path('train/7/18367.png'), Path('train/7/18391.png'), Path('train/7/18392.png'), Path('train/7/18402.png'), Path('train/7/18408.png'), Path('train/7/18410.png'), Path('train/7/18427.png'), Path('train/7/18429.png'), Path('train/7/18449.png'), Path('train/7/1846.png'), Path('train/7/18469.png'), Path('train/7/18472.png'), Path('train/7/18479.png'), Path('train/7/1848.png'), Path('train/7/18494.png'), Path('train/7/18498.png'), Path('train/7/185.png'), Path('train/7/18502.png'), Path('train/7/1851.png'), Path('train/7/18513.png'), Path('train/7/18532.png'), Path('train/7/18534.png'), Path('train/7/18537.png'), Path('train/7/18539.png'), Path('train/7/18556.png'), Path('train/7/18557.png'), Path('train/7/1858.png'), Path('train/7/18597.png'), Path('train/7/18609.png'), Path('train/7/18616.png'), Path('train/7/18621.png'), Path('train/7/18648.png'), Path('train/7/18671.png'), Path('train/7/18681.png'), Path('train/7/18682.png'), Path('train/7/18691.png'), Path('train/7/18706.png'), Path('train/7/1871.png'), Path('train/7/18720.png'), Path('train/7/18729.png'), Path('train/7/18734.png'), Path('train/7/18736.png'), Path('train/7/18753.png'), Path('train/7/18754.png'), Path('train/7/18757.png'), Path('train/7/18773.png'), Path('train/7/18784.png'), Path('train/7/18793.png'), Path('train/7/18809.png'), Path('train/7/18810.png'), Path('train/7/18816.png'), Path('train/7/18818.png'), Path('train/7/18819.png'), Path('train/7/18824.png'), Path('train/7/18825.png'), Path('train/7/18834.png'), Path('train/7/18843.png'), Path('train/7/18844.png'), Path('train/7/18855.png'), Path('train/7/18857.png'), Path('train/7/18871.png'), Path('train/7/18873.png'), Path('train/7/18876.png'), Path('train/7/18894.png'), Path('train/7/1891.png'), Path('train/7/18910.png'), Path('train/7/18950.png'), Path('train/7/18951.png'), Path('train/7/18962.png'), Path('train/7/18966.png'), Path('train/7/18969.png'), Path('train/7/18979.png'), Path('train/7/1899.png'), Path('train/7/19003.png'), Path('train/7/19023.png'), Path('train/7/19039.png'), Path('train/7/19050.png'), Path('train/7/19054.png'), Path('train/7/19057.png'), Path('train/7/19073.png'), Path('train/7/19086.png'), Path('train/7/19141.png'), Path('train/7/19153.png'), Path('train/7/19164.png'), Path('train/7/19172.png'), Path('train/7/19183.png'), Path('train/7/19184.png'), Path('train/7/19187.png'), Path('train/7/1919.png'), Path('train/7/19193.png'), Path('train/7/19199.png'), Path('train/7/19221.png'), Path('train/7/19226.png'), Path('train/7/19235.png'), Path('train/7/19251.png'), Path('train/7/19257.png'), Path('train/7/19259.png'), Path('train/7/19260.png'), Path('train/7/19262.png'), Path('train/7/19270.png'), Path('train/7/19283.png'), Path('train/7/19284.png'), Path('train/7/193.png'), Path('train/7/19312.png'), Path('train/7/19327.png'), Path('train/7/1933.png'), Path('train/7/19334.png'), Path('train/7/19341.png'), Path('train/7/19344.png'), Path('train/7/19352.png'), Path('train/7/19370.png'), Path('train/7/19372.png'), Path('train/7/19379.png'), Path('train/7/19383.png'), Path('train/7/19409.png'), Path('train/7/19416.png'), Path('train/7/19424.png'), Path('train/7/19433.png'), Path('train/7/19434.png'), Path('train/7/1944.png'), Path('train/7/19448.png'), Path('train/7/19453.png'), Path('train/7/1946.png'), Path('train/7/19473.png'), Path('train/7/19479.png'), Path('train/7/19493.png'), Path('train/7/19509.png'), Path('train/7/19511.png'), Path('train/7/19525.png'), Path('train/7/19527.png'), Path('train/7/1953.png'), Path('train/7/19534.png'), Path('train/7/19572.png'), Path('train/7/19574.png'), Path('train/7/1958.png'), Path('train/7/19580.png'), Path('train/7/19592.png'), Path('train/7/196.png'), Path('train/7/19611.png'), Path('train/7/19625.png'), Path('train/7/19635.png'), Path('train/7/19636.png'), Path('train/7/19642.png'), Path('train/7/19648.png'), Path('train/7/19658.png'), Path('train/7/19663.png'), Path('train/7/19668.png'), Path('train/7/19683.png'), Path('train/7/19703.png'), Path('train/7/19704.png'), Path('train/7/19733.png'), Path('train/7/19740.png'), Path('train/7/1975.png'), Path('train/7/19771.png'), Path('train/7/19773.png'), Path('train/7/19780.png'), Path('train/7/19791.png'), Path('train/7/19800.png'), Path('train/7/19809.png'), Path('train/7/19812.png'), Path('train/7/19817.png'), Path('train/7/1982.png'), Path('train/7/19823.png'), Path('train/7/1983.png'), Path('train/7/19838.png'), Path('train/7/19842.png'), Path('train/7/19844.png'), Path('train/7/19869.png'), Path('train/7/19893.png'), Path('train/7/19895.png'), Path('train/7/19904.png'), Path('train/7/19912.png'), Path('train/7/19929.png'), Path('train/7/19949.png'), Path('train/7/19978.png'), Path('train/7/19987.png'), Path('train/7/19989.png'), Path('train/7/20002.png'), Path('train/7/20004.png'), Path('train/7/20019.png'), Path('train/7/20030.png'), Path('train/7/20032.png'), Path('train/7/20039.png'), Path('train/7/20043.png'), Path('train/7/20048.png'), Path('train/7/20061.png'), Path('train/7/20067.png'), Path('train/7/2007.png'), Path('train/7/20090.png'), Path('train/7/20105.png'), Path('train/7/20134.png'), Path('train/7/2014.png'), Path('train/7/20155.png'), Path('train/7/20158.png'), Path('train/7/20162.png'), Path('train/7/2018.png'), Path('train/7/20189.png'), Path('train/7/20206.png'), Path('train/7/20214.png'), Path('train/7/20218.png'), Path('train/7/20223.png'), Path('train/7/20226.png'), Path('train/7/20227.png'), Path('train/7/20229.png'), Path('train/7/2024.png'), Path('train/7/20255.png'), Path('train/7/20260.png'), Path('train/7/2027.png'), Path('train/7/20273.png'), Path('train/7/20277.png'), Path('train/7/20280.png'), Path('train/7/20295.png'), Path('train/7/20296.png'), Path('train/7/20301.png'), Path('train/7/20304.png'), Path('train/7/20310.png'), Path('train/7/20311.png'), Path('train/7/20312.png'), Path('train/7/20318.png'), Path('train/7/20335.png'), Path('train/7/20354.png'), Path('train/7/20370.png'), Path('train/7/20380.png'), Path('train/7/20385.png'), Path('train/7/20386.png'), Path('train/7/20398.png'), Path('train/7/20403.png'), Path('train/7/20404.png'), Path('train/7/20406.png'), Path('train/7/20417.png'), Path('train/7/20422.png'), Path('train/7/20435.png'), Path('train/7/20449.png'), Path('train/7/20452.png'), Path('train/7/20466.png'), Path('train/7/20477.png'), Path('train/7/2048.png'), Path('train/7/20498.png'), Path('train/7/20501.png'), Path('train/7/20504.png'), Path('train/7/20509.png'), Path('train/7/20532.png'), Path('train/7/2054.png'), Path('train/7/20549.png'), Path('train/7/2055.png'), Path('train/7/20552.png'), Path('train/7/20557.png'), Path('train/7/20558.png'), Path('train/7/20566.png'), Path('train/7/20576.png'), Path('train/7/20579.png'), Path('train/7/20582.png'), Path('train/7/20583.png'), Path('train/7/20588.png'), Path('train/7/20600.png'), Path('train/7/20605.png'), Path('train/7/20619.png'), Path('train/7/2064.png'), Path('train/7/20646.png'), Path('train/7/20669.png'), Path('train/7/20694.png'), Path('train/7/20703.png'), Path('train/7/20707.png'), Path('train/7/20720.png'), Path('train/7/20723.png'), Path('train/7/20729.png'), Path('train/7/20740.png'), Path('train/7/20759.png'), Path('train/7/20765.png'), Path('train/7/20766.png'), Path('train/7/20789.png'), Path('train/7/20795.png'), Path('train/7/20834.png'), Path('train/7/20856.png'), Path('train/7/20857.png'), Path('train/7/20866.png'), Path('train/7/20883.png'), Path('train/7/2090.png'), Path('train/7/20909.png'), Path('train/7/20921.png'), Path('train/7/2095.png'), Path('train/7/20969.png'), Path('train/7/20971.png'), Path('train/7/20977.png'), Path('train/7/20980.png'), Path('train/7/20991.png'), Path('train/7/20996.png'), Path('train/7/21000.png'), Path('train/7/2102.png'), Path('train/7/21021.png'), Path('train/7/21043.png'), Path('train/7/21050.png'), Path('train/7/21062.png'), Path('train/7/21063.png'), Path('train/7/2108.png'), Path('train/7/21083.png'), Path('train/7/21086.png'), Path('train/7/21095.png'), Path('train/7/21111.png'), Path('train/7/21123.png'), Path('train/7/21133.png'), Path('train/7/21148.png'), Path('train/7/2115.png'), Path('train/7/21159.png'), Path('train/7/21160.png'), Path('train/7/21169.png'), Path('train/7/21175.png'), Path('train/7/2118.png'), Path('train/7/212.png'), Path('train/7/21217.png'), Path('train/7/21222.png'), Path('train/7/21236.png'), Path('train/7/21240.png'), Path('train/7/21243.png'), Path('train/7/21258.png'), Path('train/7/21265.png'), Path('train/7/21293.png'), Path('train/7/21313.png'), Path('train/7/21318.png'), Path('train/7/21322.png'), Path('train/7/2133.png'), Path('train/7/21333.png'), Path('train/7/21335.png'), Path('train/7/21352.png'), Path('train/7/21367.png'), Path('train/7/21386.png'), Path('train/7/21387.png'), Path('train/7/21388.png'), Path('train/7/21396.png'), Path('train/7/214.png'), Path('train/7/21400.png'), Path('train/7/21405.png'), Path('train/7/21412.png'), Path('train/7/2142.png'), Path('train/7/21429.png'), Path('train/7/21437.png'), Path('train/7/2145.png'), Path('train/7/21456.png'), Path('train/7/21459.png'), Path('train/7/21462.png'), Path('train/7/21463.png'), Path('train/7/21464.png'), Path('train/7/21478.png'), Path('train/7/21482.png'), Path('train/7/21483.png'), Path('train/7/21501.png'), Path('train/7/21514.png'), Path('train/7/21518.png'), Path('train/7/21547.png'), Path('train/7/21567.png'), Path('train/7/21572.png'), Path('train/7/21587.png'), Path('train/7/21603.png'), Path('train/7/2161.png'), Path('train/7/21621.png'), Path('train/7/21624.png'), Path('train/7/21641.png'), Path('train/7/21651.png'), Path('train/7/21662.png'), Path('train/7/21666.png'), Path('train/7/21672.png'), Path('train/7/21679.png'), Path('train/7/2168.png'), Path('train/7/21693.png'), Path('train/7/21700.png'), Path('train/7/21701.png'), Path('train/7/21704.png'), Path('train/7/21706.png'), Path('train/7/21710.png'), Path('train/7/21719.png'), Path('train/7/21725.png'), Path('train/7/2173.png'), Path('train/7/21732.png'), Path('train/7/21758.png'), Path('train/7/21761.png'), Path('train/7/21783.png'), Path('train/7/21790.png'), Path('train/7/21803.png'), Path('train/7/21816.png'), Path('train/7/21823.png'), Path('train/7/21824.png'), Path('train/7/21834.png'), Path('train/7/21841.png'), Path('train/7/21843.png'), Path('train/7/2187.png'), Path('train/7/21871.png'), Path('train/7/21885.png'), Path('train/7/21894.png'), Path('train/7/21904.png'), Path('train/7/21915.png'), Path('train/7/21937.png'), Path('train/7/21949.png'), Path('train/7/22005.png'), Path('train/7/22007.png'), Path('train/7/22016.png'), Path('train/7/22018.png'), Path('train/7/22022.png'), Path('train/7/22037.png'), Path('train/7/22052.png'), Path('train/7/22057.png'), Path('train/7/22077.png'), Path('train/7/22082.png'), Path('train/7/22090.png'), Path('train/7/22094.png'), Path('train/7/22097.png'), Path('train/7/22109.png'), Path('train/7/22129.png'), Path('train/7/2213.png'), Path('train/7/22131.png'), Path('train/7/22134.png'), Path('train/7/22167.png'), Path('train/7/22171.png'), Path('train/7/22181.png'), Path('train/7/22183.png'), Path('train/7/22220.png'), Path('train/7/22228.png'), Path('train/7/2223.png'), Path('train/7/22239.png'), Path('train/7/22250.png'), Path('train/7/22259.png'), Path('train/7/22279.png'), Path('train/7/22287.png'), Path('train/7/2229.png'), Path('train/7/223.png'), Path('train/7/22300.png'), Path('train/7/22301.png'), Path('train/7/22313.png'), Path('train/7/22314.png'), Path('train/7/22326.png'), Path('train/7/22336.png'), Path('train/7/22342.png'), Path('train/7/22346.png'), Path('train/7/22348.png'), Path('train/7/22350.png'), Path('train/7/22351.png'), Path('train/7/22371.png'), Path('train/7/22377.png'), Path('train/7/2238.png'), Path('train/7/22381.png'), Path('train/7/22392.png'), Path('train/7/22399.png'), Path('train/7/22401.png'), Path('train/7/22416.png'), Path('train/7/22420.png'), Path('train/7/2244.png'), Path('train/7/22454.png'), Path('train/7/2246.png'), Path('train/7/22467.png'), Path('train/7/22481.png'), Path('train/7/22497.png'), Path('train/7/22498.png'), Path('train/7/22513.png'), Path('train/7/22515.png'), Path('train/7/22519.png'), Path('train/7/22527.png'), Path('train/7/22528.png'), Path('train/7/22530.png'), Path('train/7/22534.png'), Path('train/7/22539.png'), Path('train/7/22546.png'), Path('train/7/22570.png'), Path('train/7/22577.png'), Path('train/7/22588.png'), Path('train/7/22593.png'), Path('train/7/22608.png'), Path('train/7/22613.png'), Path('train/7/22626.png'), Path('train/7/22651.png'), Path('train/7/22662.png'), Path('train/7/22667.png'), Path('train/7/22683.png'), Path('train/7/2271.png'), Path('train/7/22711.png'), Path('train/7/22739.png'), Path('train/7/22740.png'), Path('train/7/22743.png'), Path('train/7/22753.png'), Path('train/7/22754.png'), Path('train/7/22759.png'), Path('train/7/22781.png'), Path('train/7/22790.png'), Path('train/7/22791.png'), Path('train/7/22796.png'), Path('train/7/22797.png'), Path('train/7/22817.png'), Path('train/7/22823.png'), Path('train/7/22826.png'), Path('train/7/22836.png'), Path('train/7/22858.png'), Path('train/7/22862.png'), Path('train/7/22870.png'), Path('train/7/22871.png'), Path('train/7/22876.png'), Path('train/7/22880.png'), Path('train/7/22891.png'), Path('train/7/22911.png'), Path('train/7/2292.png'), Path('train/7/22921.png'), Path('train/7/22941.png'), Path('train/7/22950.png'), Path('train/7/22955.png'), Path('train/7/2297.png'), Path('train/7/22971.png'), Path('train/7/22984.png'), Path('train/7/22993.png'), Path('train/7/22995.png'), Path('train/7/230.png'), Path('train/7/23000.png'), Path('train/7/23002.png'), Path('train/7/23010.png'), Path('train/7/23021.png'), Path('train/7/23051.png'), Path('train/7/23054.png'), Path('train/7/23068.png'), Path('train/7/23070.png'), Path('train/7/23074.png'), Path('train/7/23094.png'), Path('train/7/23127.png'), Path('train/7/23140.png'), Path('train/7/23141.png'), Path('train/7/23149.png'), Path('train/7/23153.png'), Path('train/7/23155.png'), Path('train/7/23164.png'), Path('train/7/23173.png'), Path('train/7/23178.png'), Path('train/7/2319.png'), Path('train/7/23192.png'), Path('train/7/23207.png'), Path('train/7/23220.png'), Path('train/7/23230.png'), Path('train/7/23246.png'), Path('train/7/23248.png'), Path('train/7/23259.png'), Path('train/7/23260.png'), Path('train/7/23267.png'), Path('train/7/23271.png'), Path('train/7/23283.png'), Path('train/7/23292.png'), Path('train/7/23309.png'), Path('train/7/23334.png'), Path('train/7/23345.png'), Path('train/7/23352.png'), Path('train/7/23360.png'), Path('train/7/23381.png'), Path('train/7/23386.png'), Path('train/7/23387.png'), Path('train/7/23388.png'), Path('train/7/23402.png'), Path('train/7/23427.png'), Path('train/7/23430.png'), Path('train/7/23433.png'), Path('train/7/2344.png'), Path('train/7/23442.png'), Path('train/7/23443.png'), Path('train/7/23445.png'), Path('train/7/23451.png'), Path('train/7/23469.png'), Path('train/7/2347.png'), Path('train/7/23479.png'), Path('train/7/2348.png'), Path('train/7/23507.png'), Path('train/7/23526.png'), Path('train/7/23534.png'), Path('train/7/23535.png'), Path('train/7/23540.png'), Path('train/7/23551.png'), Path('train/7/23570.png'), Path('train/7/23571.png'), Path('train/7/23588.png'), Path('train/7/23590.png'), Path('train/7/23603.png'), Path('train/7/23607.png'), Path('train/7/23609.png'), Path('train/7/23621.png'), Path('train/7/23645.png'), Path('train/7/23661.png'), Path('train/7/23666.png'), Path('train/7/2367.png'), Path('train/7/23678.png'), Path('train/7/23684.png'), Path('train/7/23686.png'), Path('train/7/23698.png'), Path('train/7/23704.png'), Path('train/7/23708.png'), Path('train/7/23711.png'), Path('train/7/23715.png'), Path('train/7/23726.png'), Path('train/7/23752.png'), Path('train/7/2376.png'), Path('train/7/23760.png'), Path('train/7/23767.png'), Path('train/7/23782.png'), Path('train/7/23784.png'), Path('train/7/23787.png'), Path('train/7/23798.png'), Path('train/7/2380.png'), Path('train/7/23802.png'), Path('train/7/23803.png'), Path('train/7/2381.png'), Path('train/7/23811.png'), Path('train/7/23815.png'), Path('train/7/23840.png'), Path('train/7/23849.png'), Path('train/7/2386.png'), Path('train/7/23883.png'), Path('train/7/23902.png'), Path('train/7/23909.png'), Path('train/7/2391.png'), Path('train/7/23932.png'), Path('train/7/23941.png'), Path('train/7/23946.png'), Path('train/7/23951.png'), Path('train/7/23965.png'), Path('train/7/23968.png'), Path('train/7/23969.png'), Path('train/7/23978.png'), Path('train/7/23985.png'), Path('train/7/24005.png'), Path('train/7/24008.png'), Path('train/7/24022.png'), Path('train/7/24025.png'), Path('train/7/24040.png'), Path('train/7/24041.png'), Path('train/7/24044.png'), Path('train/7/24049.png'), Path('train/7/24064.png'), Path('train/7/24088.png'), Path('train/7/24094.png'), Path('train/7/24131.png'), Path('train/7/24138.png'), Path('train/7/24140.png'), Path('train/7/24141.png'), Path('train/7/24155.png'), Path('train/7/24159.png'), Path('train/7/2417.png'), Path('train/7/24171.png'), Path('train/7/24172.png'), Path('train/7/24181.png'), Path('train/7/24186.png'), Path('train/7/24200.png'), Path('train/7/24207.png'), Path('train/7/24221.png'), Path('train/7/24228.png'), Path('train/7/24236.png'), Path('train/7/24239.png'), Path('train/7/24254.png'), Path('train/7/24259.png'), Path('train/7/24260.png'), Path('train/7/2427.png'), Path('train/7/24280.png'), Path('train/7/24291.png'), Path('train/7/243.png'), Path('train/7/2431.png'), Path('train/7/24314.png'), Path('train/7/24315.png'), Path('train/7/24325.png'), Path('train/7/2433.png'), Path('train/7/24351.png'), Path('train/7/24362.png'), Path('train/7/24364.png'), Path('train/7/24372.png'), Path('train/7/24375.png'), Path('train/7/24382.png'), Path('train/7/24384.png'), Path('train/7/24409.png'), Path('train/7/24412.png'), Path('train/7/24415.png'), Path('train/7/24434.png'), Path('train/7/24443.png'), Path('train/7/24455.png'), Path('train/7/24464.png'), Path('train/7/2447.png'), Path('train/7/24477.png'), Path('train/7/24500.png'), Path('train/7/24502.png'), Path('train/7/24503.png'), Path('train/7/24505.png'), Path('train/7/24515.png'), Path('train/7/24518.png'), Path('train/7/24540.png'), Path('train/7/24544.png'), Path('train/7/24545.png'), Path('train/7/24548.png'), Path('train/7/2455.png'), Path('train/7/24550.png'), Path('train/7/24561.png'), Path('train/7/24565.png'), Path('train/7/24568.png'), Path('train/7/24571.png'), Path('train/7/24572.png'), Path('train/7/24583.png'), Path('train/7/24599.png'), Path('train/7/24639.png'), Path('train/7/24644.png'), Path('train/7/24652.png'), Path('train/7/24655.png'), Path('train/7/24662.png'), Path('train/7/24670.png'), Path('train/7/24675.png'), Path('train/7/24682.png'), Path('train/7/24692.png'), Path('train/7/24699.png'), Path('train/7/24700.png'), Path('train/7/24702.png'), Path('train/7/24705.png'), Path('train/7/24709.png'), Path('train/7/24723.png'), Path('train/7/24727.png'), Path('train/7/24742.png'), Path('train/7/24743.png'), Path('train/7/2477.png'), Path('train/7/24788.png'), Path('train/7/24797.png'), Path('train/7/24801.png'), Path('train/7/24813.png'), Path('train/7/24815.png'), Path('train/7/24816.png'), Path('train/7/24818.png'), Path('train/7/24830.png'), Path('train/7/24873.png'), Path('train/7/24878.png'), Path('train/7/2488.png'), Path('train/7/24882.png'), Path('train/7/24884.png'), Path('train/7/24907.png'), Path('train/7/2491.png'), Path('train/7/24917.png'), Path('train/7/2492.png'), Path('train/7/24928.png'), Path('train/7/24935.png'), Path('train/7/24938.png'), Path('train/7/24964.png'), Path('train/7/24975.png'), Path('train/7/24984.png'), Path('train/7/24990.png'), Path('train/7/24994.png'), Path('train/7/25009.png'), Path('train/7/25011.png'), Path('train/7/25013.png'), Path('train/7/2502.png'), Path('train/7/25021.png'), Path('train/7/25026.png'), Path('train/7/25058.png'), Path('train/7/25060.png'), Path('train/7/25062.png'), Path('train/7/25070.png'), Path('train/7/25079.png'), Path('train/7/25095.png'), Path('train/7/25110.png'), Path('train/7/25115.png'), Path('train/7/2512.png'), Path('train/7/25121.png'), Path('train/7/25123.png'), Path('train/7/25125.png'), Path('train/7/25126.png'), Path('train/7/25128.png'), Path('train/7/25130.png'), Path('train/7/25133.png'), Path('train/7/25140.png'), Path('train/7/25155.png'), Path('train/7/25160.png'), Path('train/7/25161.png'), Path('train/7/25200.png'), Path('train/7/25201.png'), Path('train/7/25211.png'), Path('train/7/2522.png'), Path('train/7/25229.png'), Path('train/7/25242.png'), Path('train/7/25286.png'), Path('train/7/25299.png'), Path('train/7/25300.png'), Path('train/7/25308.png'), Path('train/7/25314.png'), Path('train/7/25319.png'), Path('train/7/25339.png'), Path('train/7/25348.png'), Path('train/7/25350.png'), Path('train/7/25355.png'), Path('train/7/25363.png'), Path('train/7/25370.png'), Path('train/7/25392.png'), Path('train/7/2540.png'), Path('train/7/25426.png'), Path('train/7/2543.png'), Path('train/7/25439.png'), Path('train/7/25444.png'), Path('train/7/25449.png'), Path('train/7/25452.png'), Path('train/7/25458.png'), Path('train/7/25465.png'), Path('train/7/25469.png'), Path('train/7/25481.png'), Path('train/7/25491.png'), Path('train/7/25500.png'), Path('train/7/25506.png'), Path('train/7/25511.png'), Path('train/7/25522.png'), Path('train/7/25525.png'), Path('train/7/25543.png'), Path('train/7/25554.png'), Path('train/7/25561.png'), Path('train/7/25578.png'), Path('train/7/2558.png'), Path('train/7/25581.png'), Path('train/7/25594.png'), Path('train/7/25597.png'), Path('train/7/25610.png'), Path('train/7/25615.png'), Path('train/7/25639.png'), Path('train/7/25642.png'), Path('train/7/25649.png'), Path('train/7/25681.png'), Path('train/7/25693.png'), Path('train/7/25705.png'), Path('train/7/25716.png'), Path('train/7/25727.png'), Path('train/7/25733.png'), Path('train/7/2574.png'), Path('train/7/25748.png'), Path('train/7/2575.png'), Path('train/7/25756.png'), Path('train/7/2576.png'), Path('train/7/25775.png'), Path('train/7/25782.png'), Path('train/7/25788.png'), Path('train/7/25792.png'), Path('train/7/25797.png'), Path('train/7/258.png'), Path('train/7/25806.png'), Path('train/7/25808.png'), Path('train/7/25816.png'), Path('train/7/25817.png'), Path('train/7/25830.png'), Path('train/7/25833.png'), Path('train/7/25841.png'), Path('train/7/25850.png'), Path('train/7/25862.png'), Path('train/7/25863.png'), Path('train/7/25868.png'), Path('train/7/25871.png'), Path('train/7/25877.png'), Path('train/7/25888.png'), Path('train/7/25895.png'), Path('train/7/25897.png'), Path('train/7/25904.png'), Path('train/7/2591.png'), Path('train/7/25926.png'), Path('train/7/25929.png'), Path('train/7/25964.png'), Path('train/7/25972.png'), Path('train/7/25979.png'), Path('train/7/25982.png'), Path('train/7/25985.png'), Path('train/7/25998.png'), Path('train/7/26001.png'), Path('train/7/26004.png'), Path('train/7/26010.png'), Path('train/7/26021.png'), Path('train/7/26026.png'), Path('train/7/26041.png'), Path('train/7/26047.png'), Path('train/7/26049.png'), Path('train/7/26051.png'), Path('train/7/26054.png'), Path('train/7/26056.png'), Path('train/7/26063.png'), Path('train/7/26076.png'), Path('train/7/26080.png'), Path('train/7/26088.png'), Path('train/7/2609.png'), Path('train/7/26091.png'), Path('train/7/26097.png'), Path('train/7/2612.png'), Path('train/7/26141.png'), Path('train/7/26151.png'), Path('train/7/26158.png'), Path('train/7/26162.png'), Path('train/7/26169.png'), Path('train/7/2618.png'), Path('train/7/26189.png'), Path('train/7/26216.png'), Path('train/7/26218.png'), Path('train/7/26232.png'), Path('train/7/26234.png'), Path('train/7/26255.png'), Path('train/7/26266.png'), Path('train/7/26271.png'), Path('train/7/26272.png'), Path('train/7/26274.png'), Path('train/7/26287.png'), Path('train/7/263.png'), Path('train/7/26303.png'), Path('train/7/26304.png'), Path('train/7/26322.png'), Path('train/7/26337.png'), Path('train/7/2634.png'), Path('train/7/26354.png'), Path('train/7/26356.png'), Path('train/7/26374.png'), Path('train/7/26395.png'), Path('train/7/26417.png'), Path('train/7/26423.png'), Path('train/7/26441.png'), Path('train/7/26442.png'), Path('train/7/26446.png'), Path('train/7/26455.png'), Path('train/7/26489.png'), Path('train/7/26499.png'), Path('train/7/2650.png'), Path('train/7/26500.png'), Path('train/7/26528.png'), Path('train/7/26529.png'), Path('train/7/2653.png'), Path('train/7/26549.png'), Path('train/7/26560.png'), Path('train/7/26568.png'), Path('train/7/26575.png'), Path('train/7/26579.png'), Path('train/7/2658.png'), Path('train/7/26589.png'), Path('train/7/2659.png'), Path('train/7/26591.png'), Path('train/7/26600.png'), Path('train/7/26602.png'), Path('train/7/26642.png'), Path('train/7/26659.png'), Path('train/7/2666.png'), Path('train/7/26668.png'), Path('train/7/26679.png'), Path('train/7/26684.png'), Path('train/7/26699.png'), Path('train/7/26705.png'), Path('train/7/26707.png'), Path('train/7/26709.png'), Path('train/7/26714.png'), Path('train/7/26721.png'), Path('train/7/2673.png'), Path('train/7/26734.png'), Path('train/7/26742.png'), Path('train/7/26749.png'), Path('train/7/26750.png'), Path('train/7/26755.png'), Path('train/7/26756.png'), Path('train/7/2676.png'), Path('train/7/26778.png'), Path('train/7/26801.png'), Path('train/7/26811.png'), Path('train/7/26826.png'), Path('train/7/26829.png'), Path('train/7/26838.png'), Path('train/7/26851.png'), Path('train/7/26854.png'), Path('train/7/26882.png'), Path('train/7/26886.png'), Path('train/7/26894.png'), Path('train/7/26898.png'), Path('train/7/2691.png'), Path('train/7/26916.png'), Path('train/7/26917.png'), Path('train/7/26933.png'), Path('train/7/26945.png'), Path('train/7/26957.png'), Path('train/7/26964.png'), Path('train/7/26966.png'), Path('train/7/26967.png'), Path('train/7/26969.png'), Path('train/7/26982.png'), Path('train/7/27005.png'), Path('train/7/2701.png'), Path('train/7/27039.png'), Path('train/7/2704.png'), Path('train/7/27054.png'), Path('train/7/27057.png'), Path('train/7/27058.png'), Path('train/7/27059.png'), Path('train/7/2706.png'), Path('train/7/27061.png'), Path('train/7/27083.png'), Path('train/7/27098.png'), Path('train/7/27103.png'), Path('train/7/2711.png'), Path('train/7/27144.png'), Path('train/7/27151.png'), Path('train/7/27155.png'), Path('train/7/27157.png'), Path('train/7/27158.png'), Path('train/7/27166.png'), Path('train/7/27168.png'), Path('train/7/27184.png'), Path('train/7/27194.png'), Path('train/7/27199.png'), Path('train/7/27203.png'), Path('train/7/27219.png'), Path('train/7/27220.png'), Path('train/7/27225.png'), Path('train/7/27235.png'), Path('train/7/27254.png'), Path('train/7/27265.png'), Path('train/7/27292.png'), Path('train/7/27302.png'), Path('train/7/27321.png'), Path('train/7/27341.png'), Path('train/7/27357.png'), Path('train/7/27360.png'), Path('train/7/27373.png'), Path('train/7/27379.png'), Path('train/7/27392.png'), Path('train/7/27406.png'), Path('train/7/2743.png'), Path('train/7/27453.png'), Path('train/7/27463.png'), Path('train/7/27468.png'), Path('train/7/27481.png'), Path('train/7/27485.png'), Path('train/7/27497.png'), Path('train/7/27498.png'), Path('train/7/2750.png'), Path('train/7/27507.png'), Path('train/7/27516.png'), Path('train/7/2752.png'), Path('train/7/27522.png'), Path('train/7/27529.png'), Path('train/7/27532.png'), Path('train/7/2754.png'), Path('train/7/27542.png'), Path('train/7/27543.png'), Path('train/7/27546.png'), Path('train/7/27554.png'), Path('train/7/27561.png'), Path('train/7/27574.png'), Path('train/7/27577.png'), Path('train/7/2759.png'), Path('train/7/27592.png'), Path('train/7/27597.png'), Path('train/7/27621.png'), Path('train/7/27623.png'), Path('train/7/27632.png'), Path('train/7/27635.png'), Path('train/7/27647.png'), Path('train/7/2766.png'), Path('train/7/27667.png'), Path('train/7/27683.png'), Path('train/7/27706.png'), Path('train/7/27709.png'), Path('train/7/27714.png'), Path('train/7/27716.png'), Path('train/7/27717.png'), Path('train/7/27722.png'), Path('train/7/27723.png'), Path('train/7/27728.png'), Path('train/7/27747.png'), Path('train/7/27756.png'), Path('train/7/27758.png'), Path('train/7/2778.png'), Path('train/7/27808.png'), Path('train/7/27823.png'), Path('train/7/27827.png'), Path('train/7/27830.png'), Path('train/7/27837.png'), Path('train/7/27853.png'), Path('train/7/27862.png'), Path('train/7/27867.png'), Path('train/7/27868.png'), Path('train/7/27872.png'), Path('train/7/27881.png'), Path('train/7/27906.png'), Path('train/7/27912.png'), Path('train/7/27925.png'), Path('train/7/27938.png'), Path('train/7/27944.png'), Path('train/7/27945.png'), Path('train/7/27950.png'), Path('train/7/27956.png'), Path('train/7/27970.png'), Path('train/7/27971.png'), Path('train/7/27976.png'), Path('train/7/27983.png'), Path('train/7/27984.png'), Path('train/7/27986.png'), Path('train/7/28004.png'), Path('train/7/28009.png'), Path('train/7/28011.png'), Path('train/7/28012.png'), Path('train/7/28014.png'), Path('train/7/28025.png'), Path('train/7/28053.png'), Path('train/7/28061.png'), Path('train/7/28064.png'), Path('train/7/28071.png'), Path('train/7/28073.png'), Path('train/7/28082.png'), Path('train/7/28106.png'), Path('train/7/28117.png'), Path('train/7/28118.png'), Path('train/7/28120.png'), Path('train/7/28138.png'), Path('train/7/2814.png'), Path('train/7/28145.png'), Path('train/7/28158.png'), Path('train/7/28179.png'), Path('train/7/28180.png'), Path('train/7/28201.png'), Path('train/7/28205.png'), Path('train/7/28207.png'), Path('train/7/28211.png'), Path('train/7/28219.png'), Path('train/7/28220.png'), Path('train/7/28229.png'), Path('train/7/28236.png'), Path('train/7/2825.png'), Path('train/7/28270.png'), Path('train/7/28273.png'), Path('train/7/28298.png'), Path('train/7/28309.png'), Path('train/7/28314.png'), Path('train/7/28321.png'), Path('train/7/28337.png'), Path('train/7/2835.png'), Path('train/7/28362.png'), Path('train/7/28379.png'), Path('train/7/28399.png'), Path('train/7/28417.png'), Path('train/7/28421.png'), Path('train/7/28429.png'), Path('train/7/28437.png'), Path('train/7/2844.png'), Path('train/7/28443.png'), Path('train/7/28447.png'), Path('train/7/28450.png'), Path('train/7/2848.png'), Path('train/7/28514.png'), Path('train/7/2852.png'), Path('train/7/28520.png'), Path('train/7/28529.png'), Path('train/7/28532.png'), Path('train/7/28535.png'), Path('train/7/28541.png'), Path('train/7/28542.png'), Path('train/7/28550.png'), Path('train/7/28558.png'), Path('train/7/28562.png'), Path('train/7/28563.png'), Path('train/7/28575.png'), Path('train/7/28620.png'), Path('train/7/28621.png'), Path('train/7/28624.png'), Path('train/7/28632.png'), Path('train/7/28634.png'), Path('train/7/28638.png'), Path('train/7/28641.png'), Path('train/7/28642.png'), Path('train/7/2865.png'), Path('train/7/28661.png'), Path('train/7/2867.png'), Path('train/7/28670.png'), Path('train/7/28675.png'), Path('train/7/28688.png'), Path('train/7/28696.png'), Path('train/7/28697.png'), Path('train/7/28723.png'), Path('train/7/28730.png'), Path('train/7/28745.png'), Path('train/7/28764.png'), Path('train/7/28775.png'), Path('train/7/28781.png'), Path('train/7/28783.png'), Path('train/7/28790.png'), Path('train/7/28791.png'), Path('train/7/288.png'), Path('train/7/2881.png'), Path('train/7/28812.png'), Path('train/7/28848.png'), Path('train/7/28849.png'), Path('train/7/28852.png'), Path('train/7/28864.png'), Path('train/7/28869.png'), Path('train/7/28880.png'), Path('train/7/28885.png'), Path('train/7/28897.png'), Path('train/7/28921.png'), Path('train/7/28926.png'), Path('train/7/28930.png'), Path('train/7/28933.png'), Path('train/7/28956.png'), Path('train/7/28972.png'), Path('train/7/28982.png'), Path('train/7/28986.png'), Path('train/7/28988.png'), Path('train/7/28990.png'), Path('train/7/28991.png'), Path('train/7/29.png'), Path('train/7/29002.png'), Path('train/7/2903.png'), Path('train/7/29032.png'), Path('train/7/29051.png'), Path('train/7/2909.png'), Path('train/7/29099.png'), Path('train/7/29103.png'), Path('train/7/29105.png'), Path('train/7/29109.png'), Path('train/7/29117.png'), Path('train/7/29127.png'), Path('train/7/29144.png'), Path('train/7/29159.png'), Path('train/7/29184.png'), Path('train/7/29186.png'), Path('train/7/29191.png'), Path('train/7/29202.png'), Path('train/7/29210.png'), Path('train/7/29212.png'), Path('train/7/29238.png'), Path('train/7/29257.png'), Path('train/7/29277.png'), Path('train/7/29282.png'), Path('train/7/2929.png'), Path('train/7/29296.png'), Path('train/7/29297.png'), Path('train/7/29298.png'), Path('train/7/29309.png'), Path('train/7/29324.png'), Path('train/7/29325.png'), Path('train/7/29326.png'), Path('train/7/29333.png'), Path('train/7/29338.png'), Path('train/7/29363.png'), Path('train/7/29373.png'), Path('train/7/29376.png'), Path('train/7/29382.png'), Path('train/7/29412.png'), Path('train/7/29423.png'), Path('train/7/29432.png'), Path('train/7/29436.png'), Path('train/7/29440.png'), Path('train/7/29443.png'), Path('train/7/29450.png'), Path('train/7/29452.png'), Path('train/7/29463.png'), Path('train/7/29470.png'), Path('train/7/29482.png'), Path('train/7/2949.png'), Path('train/7/29491.png'), Path('train/7/2950.png'), Path('train/7/29508.png'), Path('train/7/29509.png'), Path('train/7/29512.png'), Path('train/7/29516.png'), Path('train/7/29529.png'), Path('train/7/29581.png'), Path('train/7/29582.png'), Path('train/7/29592.png'), Path('train/7/29595.png'), Path('train/7/29605.png'), Path('train/7/29607.png'), Path('train/7/29625.png'), Path('train/7/29632.png'), Path('train/7/29633.png'), Path('train/7/29652.png'), Path('train/7/29661.png'), Path('train/7/29689.png'), Path('train/7/2969.png'), Path('train/7/29694.png'), Path('train/7/29709.png'), Path('train/7/29714.png'), Path('train/7/29727.png'), Path('train/7/29730.png'), Path('train/7/29733.png'), Path('train/7/29756.png'), Path('train/7/29762.png'), Path('train/7/29775.png'), Path('train/7/29783.png'), Path('train/7/29786.png'), Path('train/7/29796.png'), Path('train/7/29797.png'), Path('train/7/29799.png'), Path('train/7/2980.png'), Path('train/7/29801.png'), Path('train/7/29806.png'), Path('train/7/2982.png'), Path('train/7/29826.png'), Path('train/7/29833.png'), Path('train/7/2984.png'), Path('train/7/2985.png'), Path('train/7/29850.png'), Path('train/7/29855.png'), Path('train/7/29859.png'), Path('train/7/2986.png'), Path('train/7/29867.png'), Path('train/7/29888.png'), Path('train/7/29900.png'), Path('train/7/29908.png'), Path('train/7/29919.png'), Path('train/7/29920.png'), Path('train/7/29931.png'), Path('train/7/29943.png'), Path('train/7/29948.png'), Path('train/7/2995.png'), Path('train/7/29951.png'), Path('train/7/29954.png'), Path('train/7/29963.png'), Path('train/7/29964.png'), Path('train/7/29982.png'), Path('train/7/29983.png'), Path('train/7/29984.png'), Path('train/7/29998.png'), Path('train/7/30001.png'), Path('train/7/30008.png'), Path('train/7/30015.png'), Path('train/7/30017.png'), Path('train/7/30018.png'), Path('train/7/30021.png'), Path('train/7/30060.png'), Path('train/7/30065.png'), Path('train/7/3008.png'), Path('train/7/301.png'), Path('train/7/3010.png'), Path('train/7/30109.png'), Path('train/7/30118.png'), Path('train/7/30153.png'), Path('train/7/30154.png'), Path('train/7/30155.png'), Path('train/7/30165.png'), Path('train/7/30166.png'), Path('train/7/30177.png'), Path('train/7/30188.png'), Path('train/7/30190.png'), Path('train/7/30201.png'), Path('train/7/30202.png'), Path('train/7/30224.png'), Path('train/7/30245.png'), Path('train/7/30250.png'), Path('train/7/30259.png'), Path('train/7/30260.png'), Path('train/7/30264.png'), Path('train/7/30271.png'), Path('train/7/30286.png'), Path('train/7/30290.png'), Path('train/7/30294.png'), Path('train/7/30302.png'), Path('train/7/30307.png'), Path('train/7/30310.png'), Path('train/7/30313.png'), Path('train/7/30339.png'), Path('train/7/30348.png'), Path('train/7/30357.png'), Path('train/7/30359.png'), Path('train/7/30380.png'), Path('train/7/30414.png'), Path('train/7/30428.png'), Path('train/7/30432.png'), Path('train/7/30433.png'), Path('train/7/30442.png'), Path('train/7/30449.png'), Path('train/7/30462.png'), Path('train/7/30465.png'), Path('train/7/30479.png'), Path('train/7/30481.png'), Path('train/7/30495.png'), Path('train/7/305.png'), Path('train/7/30501.png'), Path('train/7/30502.png'), Path('train/7/30504.png'), Path('train/7/30513.png'), Path('train/7/30531.png'), Path('train/7/30532.png'), Path('train/7/30538.png'), Path('train/7/30541.png'), Path('train/7/30549.png'), Path('train/7/30558.png'), Path('train/7/30560.png'), Path('train/7/30579.png'), Path('train/7/3059.png'), Path('train/7/30599.png'), Path('train/7/3060.png'), Path('train/7/30604.png'), Path('train/7/30610.png'), Path('train/7/30619.png'), Path('train/7/30641.png'), Path('train/7/30643.png'), Path('train/7/3065.png'), Path('train/7/30652.png'), Path('train/7/30657.png'), Path('train/7/30659.png'), Path('train/7/30664.png'), Path('train/7/30670.png'), Path('train/7/30672.png'), Path('train/7/30674.png'), Path('train/7/30677.png'), Path('train/7/307.png'), Path('train/7/30713.png'), Path('train/7/30718.png'), Path('train/7/30722.png'), Path('train/7/30723.png'), Path('train/7/30728.png'), Path('train/7/30739.png'), Path('train/7/30759.png'), Path('train/7/30764.png'), Path('train/7/30767.png'), Path('train/7/30768.png'), Path('train/7/30786.png'), Path('train/7/3079.png'), Path('train/7/30798.png'), Path('train/7/30801.png'), Path('train/7/3081.png'), Path('train/7/30821.png'), Path('train/7/30841.png'), Path('train/7/3087.png'), Path('train/7/30879.png'), Path('train/7/30902.png'), Path('train/7/30912.png'), Path('train/7/30913.png'), Path('train/7/30917.png'), Path('train/7/30924.png'), Path('train/7/30935.png'), Path('train/7/30936.png'), Path('train/7/30941.png'), Path('train/7/30946.png'), Path('train/7/30952.png'), Path('train/7/30959.png'), Path('train/7/30973.png'), Path('train/7/30979.png'), Path('train/7/30982.png'), Path('train/7/30988.png'), Path('train/7/30990.png'), Path('train/7/30998.png'), Path('train/7/31003.png'), Path('train/7/31009.png'), Path('train/7/31055.png'), Path('train/7/31062.png'), Path('train/7/31064.png'), Path('train/7/31066.png'), Path('train/7/31073.png'), Path('train/7/31076.png'), Path('train/7/31085.png'), Path('train/7/31100.png'), Path('train/7/31101.png'), Path('train/7/31125.png'), Path('train/7/31137.png'), Path('train/7/31156.png'), Path('train/7/3116.png'), Path('train/7/31160.png'), Path('train/7/31176.png'), Path('train/7/31187.png'), Path('train/7/31189.png'), Path('train/7/31192.png'), Path('train/7/31196.png'), Path('train/7/31207.png'), Path('train/7/31210.png'), Path('train/7/31219.png'), Path('train/7/31239.png'), Path('train/7/31257.png'), Path('train/7/31271.png'), Path('train/7/31284.png'), Path('train/7/31291.png'), Path('train/7/31300.png'), Path('train/7/31319.png'), Path('train/7/31330.png'), Path('train/7/31331.png'), Path('train/7/31362.png'), Path('train/7/31374.png'), Path('train/7/31382.png'), Path('train/7/31383.png'), Path('train/7/31385.png'), Path('train/7/31387.png'), Path('train/7/31391.png'), Path('train/7/31396.png'), Path('train/7/31398.png'), Path('train/7/3140.png'), Path('train/7/31408.png'), Path('train/7/31423.png'), Path('train/7/31439.png'), Path('train/7/31459.png'), Path('train/7/31460.png'), Path('train/7/31477.png'), Path('train/7/31485.png'), Path('train/7/3151.png'), Path('train/7/31510.png'), Path('train/7/31523.png'), Path('train/7/31527.png'), Path('train/7/31531.png'), Path('train/7/31533.png'), Path('train/7/31542.png'), Path('train/7/31547.png'), Path('train/7/31550.png'), Path('train/7/31553.png'), Path('train/7/31558.png'), Path('train/7/31560.png'), Path('train/7/31571.png'), Path('train/7/31576.png'), Path('train/7/31589.png'), Path('train/7/31594.png'), Path('train/7/31614.png'), Path('train/7/3162.png'), Path('train/7/31643.png'), Path('train/7/31648.png'), Path('train/7/3167.png'), Path('train/7/31671.png'), Path('train/7/31674.png'), Path('train/7/31678.png'), Path('train/7/31684.png'), Path('train/7/31690.png'), Path('train/7/31698.png'), Path('train/7/31699.png'), Path('train/7/31712.png'), Path('train/7/31713.png'), Path('train/7/31715.png'), Path('train/7/31725.png'), Path('train/7/31730.png'), Path('train/7/31731.png'), Path('train/7/31742.png'), Path('train/7/31792.png'), Path('train/7/31796.png'), Path('train/7/31799.png'), Path('train/7/31804.png'), Path('train/7/31812.png'), Path('train/7/31824.png'), Path('train/7/31826.png'), Path('train/7/31835.png'), Path('train/7/31844.png'), Path('train/7/31849.png'), Path('train/7/31850.png'), Path('train/7/31861.png'), Path('train/7/31879.png'), Path('train/7/31882.png'), Path('train/7/3189.png'), Path('train/7/31899.png'), Path('train/7/31902.png'), Path('train/7/31910.png'), Path('train/7/31912.png'), Path('train/7/31914.png'), Path('train/7/31927.png'), Path('train/7/31957.png'), Path('train/7/31964.png'), Path('train/7/31967.png'), Path('train/7/31983.png'), Path('train/7/31991.png'), Path('train/7/31992.png'), Path('train/7/31996.png'), Path('train/7/31997.png'), Path('train/7/32004.png'), Path('train/7/32028.png'), Path('train/7/32048.png'), Path('train/7/3206.png'), Path('train/7/3209.png'), Path('train/7/32095.png'), Path('train/7/32099.png'), Path('train/7/3210.png'), Path('train/7/32104.png'), Path('train/7/32117.png'), Path('train/7/32120.png'), Path('train/7/32122.png'), Path('train/7/3214.png'), Path('train/7/32145.png'), Path('train/7/32150.png'), Path('train/7/32159.png'), Path('train/7/32173.png'), Path('train/7/32174.png'), Path('train/7/32185.png'), Path('train/7/32190.png'), Path('train/7/32195.png'), Path('train/7/32197.png'), Path('train/7/32208.png'), Path('train/7/32215.png'), Path('train/7/32220.png'), Path('train/7/3223.png'), Path('train/7/32236.png'), Path('train/7/32247.png'), Path('train/7/32252.png'), Path('train/7/32266.png'), Path('train/7/3228.png'), Path('train/7/32282.png'), Path('train/7/32289.png'), Path('train/7/32291.png'), Path('train/7/32294.png'), Path('train/7/32307.png'), Path('train/7/32327.png'), Path('train/7/32346.png'), Path('train/7/32347.png'), Path('train/7/32359.png'), Path('train/7/3236.png'), Path('train/7/32363.png'), Path('train/7/32364.png'), Path('train/7/32373.png'), Path('train/7/32395.png'), Path('train/7/324.png'), Path('train/7/32416.png'), Path('train/7/32428.png'), Path('train/7/32432.png'), Path('train/7/32441.png'), Path('train/7/3246.png'), Path('train/7/32460.png'), Path('train/7/32470.png'), Path('train/7/3249.png'), Path('train/7/32497.png'), Path('train/7/3250.png'), Path('train/7/32515.png'), Path('train/7/3252.png'), Path('train/7/32527.png'), Path('train/7/32529.png'), Path('train/7/3253.png'), Path('train/7/32538.png'), Path('train/7/32542.png'), Path('train/7/3255.png'), Path('train/7/32551.png'), Path('train/7/32571.png'), Path('train/7/32580.png'), Path('train/7/32584.png'), Path('train/7/32589.png'), Path('train/7/32599.png'), Path('train/7/32604.png'), Path('train/7/32608.png'), Path('train/7/32613.png'), Path('train/7/32620.png'), Path('train/7/32626.png'), Path('train/7/32629.png'), Path('train/7/32643.png'), Path('train/7/32645.png'), Path('train/7/32649.png'), Path('train/7/32651.png'), Path('train/7/32655.png'), Path('train/7/32662.png'), Path('train/7/3267.png'), Path('train/7/32681.png'), Path('train/7/32687.png'), Path('train/7/3270.png'), Path('train/7/32700.png'), Path('train/7/32716.png'), Path('train/7/32728.png'), Path('train/7/32738.png'), Path('train/7/32740.png'), Path('train/7/3276.png'), Path('train/7/32812.png'), Path('train/7/32819.png'), Path('train/7/3282.png'), Path('train/7/32820.png'), Path('train/7/3283.png'), Path('train/7/32835.png'), Path('train/7/32844.png'), Path('train/7/32849.png'), Path('train/7/32853.png'), Path('train/7/32861.png'), Path('train/7/32873.png'), Path('train/7/32877.png'), Path('train/7/32888.png'), Path('train/7/32893.png'), Path('train/7/32896.png'), Path('train/7/32906.png'), Path('train/7/32920.png'), Path('train/7/32924.png'), Path('train/7/32941.png'), Path('train/7/32945.png'), Path('train/7/32955.png'), Path('train/7/32956.png'), Path('train/7/32957.png'), Path('train/7/3298.png'), Path('train/7/32980.png'), Path('train/7/32988.png'), Path('train/7/33017.png'), Path('train/7/33037.png'), Path('train/7/33050.png'), Path('train/7/33057.png'), Path('train/7/33062.png'), Path('train/7/33067.png'), Path('train/7/33082.png'), Path('train/7/33093.png'), Path('train/7/33103.png'), Path('train/7/33104.png'), Path('train/7/33107.png'), Path('train/7/33109.png'), Path('train/7/33123.png'), Path('train/7/33128.png'), Path('train/7/33131.png'), Path('train/7/33134.png'), Path('train/7/33153.png'), Path('train/7/33164.png'), Path('train/7/3317.png'), Path('train/7/33170.png'), Path('train/7/33171.png'), Path('train/7/33196.png'), Path('train/7/33234.png'), Path('train/7/3324.png'), Path('train/7/33241.png'), Path('train/7/33271.png'), Path('train/7/33280.png'), Path('train/7/33284.png'), Path('train/7/33287.png'), Path('train/7/33304.png'), Path('train/7/33307.png'), Path('train/7/33315.png'), Path('train/7/33335.png'), Path('train/7/33348.png'), Path('train/7/33356.png'), Path('train/7/33362.png'), Path('train/7/33384.png'), Path('train/7/33393.png'), Path('train/7/33395.png'), Path('train/7/33405.png'), Path('train/7/33406.png'), Path('train/7/33408.png'), Path('train/7/33423.png'), Path('train/7/3343.png'), Path('train/7/33430.png'), Path('train/7/33431.png'), Path('train/7/33455.png'), Path('train/7/33459.png'), Path('train/7/33466.png'), Path('train/7/33470.png'), Path('train/7/33479.png'), Path('train/7/3349.png'), Path('train/7/33499.png'), Path('train/7/33504.png'), Path('train/7/33515.png'), Path('train/7/33521.png'), Path('train/7/33524.png'), Path('train/7/33525.png'), Path('train/7/33527.png'), Path('train/7/33530.png'), Path('train/7/33543.png'), Path('train/7/33571.png'), Path('train/7/33582.png'), Path('train/7/33612.png'), Path('train/7/33616.png'), Path('train/7/33618.png'), Path('train/7/33627.png'), Path('train/7/33635.png'), Path('train/7/33639.png'), Path('train/7/33651.png'), Path('train/7/33656.png'), Path('train/7/33660.png'), Path('train/7/33676.png'), Path('train/7/3368.png'), Path('train/7/33681.png'), Path('train/7/337.png'), Path('train/7/33710.png'), Path('train/7/33717.png'), Path('train/7/3372.png'), Path('train/7/33736.png'), Path('train/7/33737.png'), Path('train/7/33753.png'), Path('train/7/33759.png'), Path('train/7/33788.png'), Path('train/7/33796.png'), Path('train/7/33797.png'), Path('train/7/33798.png'), Path('train/7/33809.png'), Path('train/7/33830.png'), Path('train/7/33834.png'), Path('train/7/33836.png'), Path('train/7/33838.png'), Path('train/7/33851.png'), Path('train/7/33867.png'), Path('train/7/33870.png'), Path('train/7/33873.png'), Path('train/7/33885.png'), Path('train/7/33912.png'), Path('train/7/33913.png'), Path('train/7/33920.png'), Path('train/7/33950.png'), Path('train/7/33957.png'), Path('train/7/33964.png'), Path('train/7/33977.png'), Path('train/7/33988.png'), Path('train/7/33995.png'), Path('train/7/33996.png'), Path('train/7/340.png'), Path('train/7/34032.png'), Path('train/7/34047.png'), Path('train/7/3405.png'), Path('train/7/34055.png'), Path('train/7/34069.png'), Path('train/7/34079.png'), Path('train/7/3408.png'), Path('train/7/34081.png'), Path('train/7/34088.png'), Path('train/7/34094.png'), Path('train/7/34110.png'), Path('train/7/34111.png'), Path('train/7/34118.png'), Path('train/7/34132.png'), Path('train/7/34142.png'), Path('train/7/34149.png'), Path('train/7/34153.png'), Path('train/7/34160.png'), Path('train/7/34161.png'), Path('train/7/34178.png'), Path('train/7/34191.png'), Path('train/7/34200.png'), Path('train/7/34207.png'), Path('train/7/34223.png'), Path('train/7/34229.png'), Path('train/7/3423.png'), Path('train/7/34230.png'), Path('train/7/34231.png'), Path('train/7/34232.png'), Path('train/7/34233.png'), Path('train/7/34245.png'), Path('train/7/3426.png'), Path('train/7/34265.png'), Path('train/7/34267.png'), Path('train/7/34278.png'), Path('train/7/3428.png'), Path('train/7/34298.png'), Path('train/7/34307.png'), Path('train/7/34314.png'), Path('train/7/34317.png'), Path('train/7/34331.png'), Path('train/7/34344.png'), Path('train/7/34353.png'), Path('train/7/34378.png'), Path('train/7/34386.png'), Path('train/7/34395.png'), Path('train/7/34410.png'), Path('train/7/34415.png'), Path('train/7/3442.png'), Path('train/7/34434.png'), Path('train/7/34435.png'), Path('train/7/34445.png'), Path('train/7/34446.png'), Path('train/7/34454.png'), Path('train/7/34459.png'), Path('train/7/34472.png'), Path('train/7/34477.png'), Path('train/7/3448.png'), Path('train/7/34485.png'), Path('train/7/34487.png'), Path('train/7/34501.png'), Path('train/7/34503.png'), Path('train/7/34506.png'), Path('train/7/34516.png'), Path('train/7/34518.png'), Path('train/7/34528.png'), Path('train/7/34560.png'), Path('train/7/34564.png'), Path('train/7/34568.png'), Path('train/7/34576.png'), Path('train/7/34583.png'), Path('train/7/34599.png'), Path('train/7/34600.png'), Path('train/7/34609.png'), Path('train/7/34618.png'), Path('train/7/3463.png'), Path('train/7/34633.png'), Path('train/7/34647.png'), Path('train/7/34661.png'), Path('train/7/34666.png'), Path('train/7/34670.png'), Path('train/7/34673.png'), Path('train/7/34676.png'), Path('train/7/34677.png'), Path('train/7/34687.png'), Path('train/7/34689.png'), Path('train/7/3469.png'), Path('train/7/34690.png'), Path('train/7/34702.png'), Path('train/7/34704.png'), Path('train/7/34732.png'), Path('train/7/34751.png'), Path('train/7/34772.png'), Path('train/7/34774.png'), Path('train/7/34807.png'), Path('train/7/34825.png'), Path('train/7/34835.png'), Path('train/7/34837.png'), Path('train/7/34861.png'), Path('train/7/34880.png'), Path('train/7/34881.png'), Path('train/7/34890.png'), Path('train/7/34899.png'), Path('train/7/349.png'), Path('train/7/34909.png'), Path('train/7/34914.png'), Path('train/7/34916.png'), Path('train/7/34925.png'), Path('train/7/34934.png'), Path('train/7/34935.png'), Path('train/7/34939.png'), Path('train/7/3494.png'), Path('train/7/34941.png'), Path('train/7/34951.png'), Path('train/7/34959.png'), Path('train/7/34970.png'), Path('train/7/34972.png'), Path('train/7/3498.png'), Path('train/7/34981.png'), Path('train/7/34982.png'), Path('train/7/34997.png'), Path('train/7/34998.png'), Path('train/7/35032.png'), Path('train/7/3505.png'), Path('train/7/35053.png'), Path('train/7/3507.png'), Path('train/7/35081.png'), Path('train/7/35101.png'), Path('train/7/35102.png'), Path('train/7/35121.png'), Path('train/7/35130.png'), Path('train/7/3515.png'), Path('train/7/35150.png'), Path('train/7/35176.png'), Path('train/7/35177.png'), Path('train/7/3518.png'), Path('train/7/35196.png'), Path('train/7/35199.png'), Path('train/7/35203.png'), Path('train/7/3522.png'), Path('train/7/35223.png'), Path('train/7/35225.png'), Path('train/7/35255.png'), Path('train/7/35260.png'), Path('train/7/35277.png'), Path('train/7/35291.png'), Path('train/7/353.png'), Path('train/7/35306.png'), Path('train/7/3531.png'), Path('train/7/35316.png'), Path('train/7/35321.png'), Path('train/7/35334.png'), Path('train/7/35337.png'), Path('train/7/35351.png'), Path('train/7/35361.png'), Path('train/7/35371.png'), Path('train/7/35372.png'), Path('train/7/3538.png'), Path('train/7/35382.png'), Path('train/7/35391.png'), Path('train/7/35416.png'), Path('train/7/35417.png'), Path('train/7/35446.png'), Path('train/7/35450.png'), Path('train/7/35451.png'), Path('train/7/35469.png'), Path('train/7/35474.png'), Path('train/7/35476.png'), Path('train/7/35499.png'), Path('train/7/35512.png'), Path('train/7/35518.png'), Path('train/7/35519.png'), Path('train/7/35539.png'), Path('train/7/35544.png'), Path('train/7/35549.png'), Path('train/7/35553.png'), Path('train/7/35555.png'), Path('train/7/3556.png'), Path('train/7/35560.png'), Path('train/7/35573.png'), Path('train/7/35580.png'), Path('train/7/35594.png'), Path('train/7/35625.png'), Path('train/7/35633.png'), Path('train/7/35636.png'), Path('train/7/35637.png'), Path('train/7/35645.png'), Path('train/7/35648.png'), Path('train/7/35668.png'), Path('train/7/35675.png'), Path('train/7/35696.png'), Path('train/7/35711.png'), Path('train/7/35728.png'), Path('train/7/35731.png'), Path('train/7/35745.png'), Path('train/7/35754.png'), Path('train/7/35773.png'), Path('train/7/35781.png'), Path('train/7/3579.png'), Path('train/7/35790.png'), Path('train/7/35834.png'), Path('train/7/35837.png'), Path('train/7/35839.png'), Path('train/7/35842.png'), Path('train/7/35845.png'), Path('train/7/35855.png'), Path('train/7/35860.png'), Path('train/7/35863.png'), Path('train/7/35871.png'), Path('train/7/35899.png'), Path('train/7/35919.png'), Path('train/7/35920.png'), Path('train/7/35937.png'), Path('train/7/35938.png'), Path('train/7/35957.png'), Path('train/7/35960.png'), Path('train/7/35961.png'), Path('train/7/35965.png'), Path('train/7/35978.png'), Path('train/7/35980.png'), Path('train/7/3599.png'), Path('train/7/35998.png'), Path('train/7/36003.png'), Path('train/7/36012.png'), Path('train/7/36027.png'), Path('train/7/36041.png'), Path('train/7/36052.png'), Path('train/7/36069.png'), Path('train/7/36088.png'), Path('train/7/36105.png'), Path('train/7/36115.png'), Path('train/7/36134.png'), Path('train/7/36135.png'), Path('train/7/36136.png'), Path('train/7/36139.png'), Path('train/7/36140.png'), Path('train/7/36150.png'), Path('train/7/36152.png'), Path('train/7/36156.png'), Path('train/7/36157.png'), Path('train/7/36158.png'), Path('train/7/3617.png'), Path('train/7/36177.png'), Path('train/7/36178.png'), Path('train/7/3618.png'), Path('train/7/36188.png'), Path('train/7/36197.png'), Path('train/7/3620.png'), Path('train/7/36205.png'), Path('train/7/36230.png'), Path('train/7/36231.png'), Path('train/7/36234.png'), Path('train/7/36238.png'), Path('train/7/36258.png'), Path('train/7/36281.png'), Path('train/7/36283.png'), Path('train/7/36284.png'), Path('train/7/36302.png'), Path('train/7/36307.png'), Path('train/7/36313.png'), Path('train/7/36316.png'), Path('train/7/3633.png'), Path('train/7/36334.png'), Path('train/7/36340.png'), Path('train/7/36345.png'), Path('train/7/36352.png'), Path('train/7/36365.png'), Path('train/7/36385.png'), Path('train/7/36395.png'), Path('train/7/36398.png'), Path('train/7/3640.png'), Path('train/7/36404.png'), Path('train/7/3641.png'), Path('train/7/36411.png'), Path('train/7/36430.png'), Path('train/7/36436.png'), Path('train/7/36443.png'), Path('train/7/36465.png'), Path('train/7/36472.png'), Path('train/7/36479.png'), Path('train/7/36498.png'), Path('train/7/36512.png'), Path('train/7/36530.png'), Path('train/7/36531.png'), Path('train/7/36534.png'), Path('train/7/36545.png'), Path('train/7/36546.png'), Path('train/7/36547.png'), Path('train/7/36554.png'), Path('train/7/36563.png'), Path('train/7/36580.png'), Path('train/7/36583.png'), Path('train/7/36603.png'), Path('train/7/36611.png'), Path('train/7/36612.png'), Path('train/7/36613.png'), Path('train/7/36615.png'), Path('train/7/36643.png'), Path('train/7/36650.png'), Path('train/7/36654.png'), Path('train/7/36688.png'), Path('train/7/36691.png'), Path('train/7/36700.png'), Path('train/7/36713.png'), Path('train/7/36719.png'), Path('train/7/36730.png'), Path('train/7/36748.png'), Path('train/7/36758.png'), Path('train/7/36760.png'), Path('train/7/36762.png'), Path('train/7/36763.png'), Path('train/7/36767.png'), Path('train/7/36796.png'), Path('train/7/36799.png'), Path('train/7/36806.png'), Path('train/7/36818.png'), Path('train/7/36823.png'), Path('train/7/36840.png'), Path('train/7/36843.png'), Path('train/7/36856.png'), Path('train/7/36859.png'), Path('train/7/36873.png'), Path('train/7/36876.png'), Path('train/7/36889.png'), Path('train/7/36902.png'), Path('train/7/36916.png'), Path('train/7/3692.png'), Path('train/7/36925.png'), Path('train/7/36926.png'), Path('train/7/36951.png'), Path('train/7/36954.png'), Path('train/7/36964.png'), Path('train/7/36967.png'), Path('train/7/36969.png'), Path('train/7/36972.png'), Path('train/7/370.png'), Path('train/7/37001.png'), Path('train/7/37034.png'), Path('train/7/37041.png'), Path('train/7/37055.png'), Path('train/7/37057.png'), Path('train/7/37064.png'), Path('train/7/37068.png'), Path('train/7/37073.png'), Path('train/7/37090.png'), Path('train/7/37093.png'), Path('train/7/37098.png'), Path('train/7/371.png'), Path('train/7/37100.png'), Path('train/7/37107.png'), Path('train/7/37131.png'), Path('train/7/37133.png'), Path('train/7/37146.png'), Path('train/7/37147.png'), Path('train/7/37165.png'), Path('train/7/37168.png'), Path('train/7/3718.png'), Path('train/7/37193.png'), Path('train/7/37203.png'), Path('train/7/3721.png'), Path('train/7/37212.png'), Path('train/7/37215.png'), Path('train/7/37245.png'), Path('train/7/37279.png'), Path('train/7/3728.png'), Path('train/7/37288.png'), Path('train/7/37297.png'), Path('train/7/37298.png'), Path('train/7/3731.png'), Path('train/7/37317.png'), Path('train/7/37327.png'), Path('train/7/37348.png'), Path('train/7/37353.png'), Path('train/7/37387.png'), Path('train/7/37389.png'), Path('train/7/37394.png'), Path('train/7/37399.png'), Path('train/7/37402.png'), Path('train/7/37420.png'), Path('train/7/37423.png'), Path('train/7/3747.png'), Path('train/7/37471.png'), Path('train/7/37480.png'), Path('train/7/37494.png'), Path('train/7/3750.png'), Path('train/7/37500.png'), Path('train/7/37508.png'), Path('train/7/3751.png'), Path('train/7/37525.png'), Path('train/7/37536.png'), Path('train/7/37537.png'), Path('train/7/37550.png'), Path('train/7/37556.png'), Path('train/7/37561.png'), Path('train/7/37573.png'), Path('train/7/37583.png'), Path('train/7/37591.png'), Path('train/7/37596.png'), Path('train/7/37602.png'), Path('train/7/37612.png'), Path('train/7/37657.png'), Path('train/7/37665.png'), Path('train/7/37673.png'), Path('train/7/37684.png'), Path('train/7/3769.png'), Path('train/7/37693.png'), Path('train/7/37694.png'), Path('train/7/377.png'), Path('train/7/37706.png'), Path('train/7/37713.png'), Path('train/7/37733.png'), Path('train/7/37753.png'), Path('train/7/37762.png'), Path('train/7/37769.png'), Path('train/7/37770.png'), Path('train/7/37775.png'), Path('train/7/37784.png'), Path('train/7/3780.png'), Path('train/7/37811.png'), Path('train/7/37818.png'), Path('train/7/37819.png'), Path('train/7/3782.png'), Path('train/7/37833.png'), Path('train/7/37834.png'), Path('train/7/37835.png'), Path('train/7/37853.png'), Path('train/7/37871.png'), Path('train/7/37875.png'), Path('train/7/37876.png'), Path('train/7/37878.png'), Path('train/7/3788.png'), Path('train/7/37898.png'), Path('train/7/3790.png'), Path('train/7/37900.png'), Path('train/7/37922.png'), Path('train/7/37930.png'), Path('train/7/37947.png'), Path('train/7/3795.png'), Path('train/7/37960.png'), Path('train/7/37963.png'), Path('train/7/37971.png'), Path('train/7/3798.png'), Path('train/7/37984.png'), Path('train/7/37987.png'), Path('train/7/37994.png'), Path('train/7/37999.png'), Path('train/7/38.png'), Path('train/7/38001.png'), Path('train/7/38004.png'), Path('train/7/38015.png'), Path('train/7/38017.png'), Path('train/7/38018.png'), Path('train/7/38026.png'), Path('train/7/38034.png'), Path('train/7/3804.png'), Path('train/7/3805.png'), Path('train/7/38075.png'), Path('train/7/38076.png'), Path('train/7/38088.png'), Path('train/7/38091.png'), Path('train/7/38096.png'), Path('train/7/38098.png'), Path('train/7/38117.png'), Path('train/7/38133.png'), Path('train/7/38144.png'), Path('train/7/38149.png'), Path('train/7/38178.png'), Path('train/7/38184.png'), Path('train/7/38186.png'), Path('train/7/38191.png'), Path('train/7/38210.png'), Path('train/7/38213.png'), Path('train/7/38215.png'), Path('train/7/38220.png'), Path('train/7/38224.png'), Path('train/7/3823.png'), Path('train/7/38242.png'), Path('train/7/38243.png'), Path('train/7/38244.png'), Path('train/7/38246.png'), Path('train/7/38255.png'), Path('train/7/38257.png'), Path('train/7/38269.png'), Path('train/7/38278.png'), Path('train/7/38282.png'), Path('train/7/38291.png'), Path('train/7/38300.png'), Path('train/7/38304.png'), Path('train/7/38320.png'), Path('train/7/38329.png'), Path('train/7/38338.png'), Path('train/7/38349.png'), Path('train/7/38350.png'), Path('train/7/38374.png'), Path('train/7/38389.png'), Path('train/7/384.png'), Path('train/7/3840.png'), Path('train/7/38422.png'), Path('train/7/3843.png'), Path('train/7/38437.png'), Path('train/7/38447.png'), Path('train/7/38458.png'), Path('train/7/3846.png'), Path('train/7/38468.png'), Path('train/7/38502.png'), Path('train/7/38504.png'), Path('train/7/38505.png'), Path('train/7/38506.png'), Path('train/7/38517.png'), Path('train/7/38521.png'), Path('train/7/38534.png'), Path('train/7/38537.png'), Path('train/7/3854.png'), Path('train/7/38550.png'), Path('train/7/38556.png'), Path('train/7/38557.png'), Path('train/7/38575.png'), Path('train/7/38586.png'), Path('train/7/38598.png'), Path('train/7/38607.png'), Path('train/7/38615.png'), Path('train/7/38620.png'), Path('train/7/38621.png'), Path('train/7/3863.png'), Path('train/7/38639.png'), Path('train/7/38650.png'), Path('train/7/38669.png'), Path('train/7/38672.png'), Path('train/7/3868.png'), Path('train/7/38688.png'), Path('train/7/387.png'), Path('train/7/38705.png'), Path('train/7/38711.png'), Path('train/7/38723.png'), Path('train/7/38728.png'), Path('train/7/38738.png'), Path('train/7/38743.png'), Path('train/7/38758.png'), Path('train/7/38763.png'), Path('train/7/38776.png'), Path('train/7/38781.png'), Path('train/7/38783.png'), Path('train/7/38788.png'), Path('train/7/38794.png'), Path('train/7/38810.png'), Path('train/7/38814.png'), Path('train/7/38819.png'), Path('train/7/38836.png'), Path('train/7/38838.png'), Path('train/7/38857.png'), Path('train/7/38869.png'), Path('train/7/3887.png'), Path('train/7/38890.png'), Path('train/7/38908.png'), Path('train/7/38913.png'), Path('train/7/38916.png'), Path('train/7/38920.png'), Path('train/7/38921.png'), Path('train/7/38923.png'), Path('train/7/3894.png'), Path('train/7/38943.png'), Path('train/7/3895.png'), Path('train/7/38954.png'), Path('train/7/38964.png'), Path('train/7/38972.png'), Path('train/7/3899.png'), Path('train/7/38994.png'), Path('train/7/39003.png'), Path('train/7/39009.png'), Path('train/7/39010.png'), Path('train/7/39013.png'), Path('train/7/39014.png'), Path('train/7/39026.png'), Path('train/7/39038.png'), Path('train/7/39047.png'), Path('train/7/39048.png'), Path('train/7/39053.png'), Path('train/7/39056.png'), Path('train/7/39060.png'), Path('train/7/39062.png'), Path('train/7/39069.png'), Path('train/7/39082.png'), Path('train/7/39088.png'), Path('train/7/39089.png'), Path('train/7/3909.png'), Path('train/7/39107.png'), Path('train/7/39113.png'), Path('train/7/39133.png'), Path('train/7/3914.png'), Path('train/7/3915.png'), Path('train/7/39150.png'), Path('train/7/3916.png'), Path('train/7/39183.png'), Path('train/7/39190.png'), Path('train/7/39223.png'), Path('train/7/39244.png'), Path('train/7/39246.png'), Path('train/7/39252.png'), Path('train/7/39254.png'), Path('train/7/39257.png'), Path('train/7/39261.png'), Path('train/7/39275.png'), Path('train/7/39276.png'), Path('train/7/39289.png'), Path('train/7/39294.png'), Path('train/7/39305.png'), Path('train/7/39310.png'), Path('train/7/39314.png'), Path('train/7/39316.png'), Path('train/7/3933.png'), Path('train/7/39345.png'), Path('train/7/39348.png'), Path('train/7/39357.png'), Path('train/7/39358.png'), Path('train/7/39371.png'), Path('train/7/39387.png'), Path('train/7/39390.png'), Path('train/7/39399.png'), Path('train/7/3940.png'), Path('train/7/39401.png'), Path('train/7/3942.png'), Path('train/7/39426.png'), Path('train/7/39439.png'), Path('train/7/39449.png'), Path('train/7/39459.png'), Path('train/7/39477.png'), Path('train/7/3948.png'), Path('train/7/39490.png'), Path('train/7/39497.png'), Path('train/7/39500.png'), Path('train/7/3951.png'), Path('train/7/39517.png'), Path('train/7/39523.png'), Path('train/7/39524.png'), Path('train/7/39534.png'), Path('train/7/39535.png'), Path('train/7/39540.png'), Path('train/7/39544.png'), Path('train/7/39557.png'), Path('train/7/39579.png'), Path('train/7/39580.png'), Path('train/7/39586.png'), Path('train/7/39605.png'), Path('train/7/39616.png'), Path('train/7/39643.png'), Path('train/7/39649.png'), Path('train/7/39651.png'), Path('train/7/39659.png'), Path('train/7/39672.png'), Path('train/7/39676.png'), Path('train/7/39687.png'), Path('train/7/39712.png'), Path('train/7/39729.png'), Path('train/7/39749.png'), Path('train/7/39752.png'), Path('train/7/39760.png'), Path('train/7/39769.png'), Path('train/7/39784.png'), Path('train/7/39813.png'), Path('train/7/39821.png'), Path('train/7/39826.png'), Path('train/7/39835.png'), Path('train/7/39845.png'), Path('train/7/39847.png'), Path('train/7/39863.png'), Path('train/7/39868.png'), Path('train/7/39877.png'), Path('train/7/39880.png'), Path('train/7/39913.png'), Path('train/7/39917.png'), Path('train/7/3992.png'), Path('train/7/39920.png'), Path('train/7/39925.png'), Path('train/7/39949.png'), Path('train/7/39969.png'), Path('train/7/39989.png'), Path('train/7/4000.png'), Path('train/7/40000.png'), Path('train/7/40001.png'), Path('train/7/40017.png'), Path('train/7/40018.png'), Path('train/7/40029.png'), Path('train/7/40046.png'), Path('train/7/40060.png'), Path('train/7/40061.png'), Path('train/7/40067.png'), Path('train/7/40070.png'), Path('train/7/40077.png'), Path('train/7/40080.png'), Path('train/7/40114.png'), Path('train/7/40117.png'), Path('train/7/40118.png'), Path('train/7/40143.png'), Path('train/7/40165.png'), Path('train/7/40170.png'), Path('train/7/40186.png'), Path('train/7/40193.png'), Path('train/7/4020.png'), Path('train/7/40204.png'), Path('train/7/40211.png'), Path('train/7/40214.png'), Path('train/7/40216.png'), Path('train/7/40222.png'), Path('train/7/40231.png'), Path('train/7/40232.png'), Path('train/7/40239.png'), Path('train/7/4024.png'), Path('train/7/40242.png'), Path('train/7/40243.png'), Path('train/7/40308.png'), Path('train/7/40311.png'), Path('train/7/40323.png'), Path('train/7/40338.png'), Path('train/7/4034.png'), Path('train/7/40344.png'), Path('train/7/40357.png'), Path('train/7/40358.png'), Path('train/7/40368.png'), Path('train/7/40370.png'), Path('train/7/40378.png'), Path('train/7/40386.png'), Path('train/7/40387.png'), Path('train/7/40397.png'), Path('train/7/40406.png'), Path('train/7/4041.png'), Path('train/7/40415.png'), Path('train/7/40419.png'), Path('train/7/4042.png'), Path('train/7/40430.png'), Path('train/7/40435.png'), Path('train/7/40436.png'), Path('train/7/40442.png'), Path('train/7/40451.png'), Path('train/7/4046.png'), Path('train/7/40465.png'), Path('train/7/40470.png'), Path('train/7/40476.png'), Path('train/7/40500.png'), Path('train/7/40505.png'), Path('train/7/40506.png'), Path('train/7/40510.png'), Path('train/7/40512.png'), Path('train/7/40524.png'), Path('train/7/40545.png'), Path('train/7/40557.png'), Path('train/7/40559.png'), Path('train/7/40590.png'), Path('train/7/40603.png'), Path('train/7/4061.png'), Path('train/7/40627.png'), Path('train/7/40638.png'), Path('train/7/40643.png'), Path('train/7/40663.png'), Path('train/7/40668.png'), Path('train/7/40675.png'), Path('train/7/40679.png'), Path('train/7/40681.png'), Path('train/7/40684.png'), Path('train/7/40700.png'), Path('train/7/40701.png'), Path('train/7/40710.png'), Path('train/7/40712.png'), Path('train/7/40728.png'), Path('train/7/40729.png'), Path('train/7/40730.png'), Path('train/7/4074.png'), Path('train/7/40742.png'), Path('train/7/40768.png'), Path('train/7/40774.png'), Path('train/7/40783.png'), Path('train/7/40784.png'), Path('train/7/40791.png'), Path('train/7/40794.png'), Path('train/7/40795.png'), Path('train/7/40807.png'), Path('train/7/4081.png'), Path('train/7/40810.png'), Path('train/7/40822.png'), Path('train/7/40837.png'), Path('train/7/40838.png'), Path('train/7/40872.png'), Path('train/7/40873.png'), Path('train/7/40891.png'), Path('train/7/40906.png'), Path('train/7/40911.png'), Path('train/7/40916.png'), Path('train/7/40937.png'), Path('train/7/41002.png'), Path('train/7/41009.png'), Path('train/7/41024.png'), Path('train/7/41026.png'), Path('train/7/41044.png'), Path('train/7/41054.png'), Path('train/7/41061.png'), Path('train/7/41062.png'), Path('train/7/41083.png'), Path('train/7/41088.png'), Path('train/7/41095.png'), Path('train/7/41099.png'), Path('train/7/411.png'), Path('train/7/41113.png'), Path('train/7/41131.png'), Path('train/7/41148.png'), Path('train/7/41151.png'), Path('train/7/4116.png'), Path('train/7/41161.png'), Path('train/7/41164.png'), Path('train/7/41168.png'), Path('train/7/41174.png'), Path('train/7/41176.png'), Path('train/7/41184.png'), Path('train/7/41194.png'), Path('train/7/41221.png'), Path('train/7/41224.png'), Path('train/7/41232.png'), Path('train/7/41236.png'), Path('train/7/41240.png'), Path('train/7/41244.png'), Path('train/7/41250.png'), Path('train/7/41275.png'), Path('train/7/41280.png'), Path('train/7/41297.png'), Path('train/7/4130.png'), Path('train/7/41300.png'), Path('train/7/41309.png'), Path('train/7/4131.png'), Path('train/7/41310.png'), Path('train/7/41313.png'), Path('train/7/41324.png'), Path('train/7/41325.png'), Path('train/7/41328.png'), Path('train/7/41336.png'), Path('train/7/41339.png'), Path('train/7/41345.png'), Path('train/7/41362.png'), Path('train/7/41365.png'), Path('train/7/41367.png'), Path('train/7/41379.png'), Path('train/7/41405.png'), Path('train/7/4141.png'), Path('train/7/41414.png'), Path('train/7/41448.png'), Path('train/7/41450.png'), Path('train/7/41461.png'), Path('train/7/41470.png'), Path('train/7/41472.png'), Path('train/7/41479.png'), Path('train/7/41493.png'), Path('train/7/41496.png'), Path('train/7/41520.png'), Path('train/7/41527.png'), Path('train/7/41530.png'), Path('train/7/41532.png'), Path('train/7/41535.png'), Path('train/7/41549.png'), Path('train/7/41551.png'), Path('train/7/41558.png'), Path('train/7/41571.png'), Path('train/7/41584.png'), Path('train/7/41597.png'), Path('train/7/41601.png'), Path('train/7/41604.png'), Path('train/7/41615.png'), Path('train/7/41630.png'), Path('train/7/4164.png'), Path('train/7/41650.png'), Path('train/7/41656.png'), Path('train/7/41660.png'), Path('train/7/41661.png'), Path('train/7/41677.png'), Path('train/7/41692.png'), Path('train/7/41697.png'), Path('train/7/41698.png'), Path('train/7/41700.png'), Path('train/7/41707.png'), Path('train/7/41717.png'), Path('train/7/41725.png'), Path('train/7/4173.png'), Path('train/7/4175.png'), Path('train/7/41760.png'), Path('train/7/41762.png'), Path('train/7/41769.png'), Path('train/7/41779.png'), Path('train/7/41788.png'), Path('train/7/41844.png'), Path('train/7/41851.png'), Path('train/7/41854.png'), Path('train/7/41871.png'), Path('train/7/41872.png'), Path('train/7/4189.png'), Path('train/7/41891.png'), Path('train/7/41892.png'), Path('train/7/41910.png'), Path('train/7/41919.png'), Path('train/7/41920.png'), Path('train/7/41928.png'), Path('train/7/41941.png'), Path('train/7/41958.png'), Path('train/7/41972.png'), Path('train/7/41998.png'), Path('train/7/42.png'), Path('train/7/4200.png'), Path('train/7/42004.png'), Path('train/7/42011.png'), Path('train/7/42016.png'), Path('train/7/42023.png'), Path('train/7/42030.png'), Path('train/7/42031.png'), Path('train/7/42036.png'), Path('train/7/42057.png'), Path('train/7/42061.png'), Path('train/7/42062.png'), Path('train/7/42064.png'), Path('train/7/42067.png'), Path('train/7/4207.png'), Path('train/7/42077.png'), Path('train/7/42094.png'), Path('train/7/42105.png'), Path('train/7/4211.png'), Path('train/7/42125.png'), Path('train/7/42134.png'), Path('train/7/42145.png'), Path('train/7/42146.png'), Path('train/7/42148.png'), Path('train/7/42163.png'), Path('train/7/42164.png'), Path('train/7/42169.png'), Path('train/7/4217.png'), Path('train/7/42177.png'), Path('train/7/42191.png'), Path('train/7/42195.png'), Path('train/7/422.png'), Path('train/7/42200.png'), Path('train/7/42202.png'), Path('train/7/42204.png'), Path('train/7/42211.png'), Path('train/7/4226.png'), Path('train/7/42265.png'), Path('train/7/42269.png'), Path('train/7/4227.png'), Path('train/7/42281.png'), Path('train/7/42282.png'), Path('train/7/42283.png'), Path('train/7/42290.png'), Path('train/7/42292.png'), Path('train/7/42296.png'), Path('train/7/42320.png'), Path('train/7/42352.png'), Path('train/7/42354.png'), Path('train/7/42363.png'), Path('train/7/42368.png'), Path('train/7/42378.png'), Path('train/7/42403.png'), Path('train/7/42410.png'), Path('train/7/42415.png'), Path('train/7/42416.png'), Path('train/7/42418.png'), Path('train/7/4242.png'), Path('train/7/42427.png'), Path('train/7/42430.png'), Path('train/7/42451.png'), Path('train/7/42461.png'), Path('train/7/42466.png'), Path('train/7/42468.png'), Path('train/7/42501.png'), Path('train/7/42514.png'), Path('train/7/42527.png'), Path('train/7/42528.png'), Path('train/7/4254.png'), Path('train/7/42544.png'), Path('train/7/42548.png'), Path('train/7/42549.png'), Path('train/7/4255.png'), Path('train/7/42573.png'), Path('train/7/42582.png'), Path('train/7/42592.png'), Path('train/7/42593.png'), Path('train/7/42594.png'), Path('train/7/426.png'), Path('train/7/42606.png'), Path('train/7/42613.png'), Path('train/7/42619.png'), Path('train/7/42621.png'), Path('train/7/42629.png'), Path('train/7/42639.png'), Path('train/7/42646.png'), Path('train/7/42648.png'), Path('train/7/42650.png'), Path('train/7/4266.png'), Path('train/7/42670.png'), Path('train/7/42672.png'), Path('train/7/42695.png'), Path('train/7/42722.png'), Path('train/7/42725.png'), Path('train/7/4273.png'), Path('train/7/42733.png'), Path('train/7/42739.png'), Path('train/7/42748.png'), Path('train/7/42751.png'), Path('train/7/42763.png'), Path('train/7/42772.png'), Path('train/7/42780.png'), Path('train/7/42782.png'), Path('train/7/42784.png'), Path('train/7/42790.png'), Path('train/7/42798.png'), Path('train/7/4280.png'), Path('train/7/42800.png'), Path('train/7/42811.png'), Path('train/7/42824.png'), Path('train/7/42828.png'), Path('train/7/42831.png'), Path('train/7/42844.png'), Path('train/7/4285.png'), Path('train/7/42876.png'), Path('train/7/42892.png'), Path('train/7/42897.png'), Path('train/7/42901.png'), Path('train/7/42928.png'), Path('train/7/42939.png'), Path('train/7/42959.png'), Path('train/7/4296.png'), Path('train/7/42976.png'), Path('train/7/42977.png'), Path('train/7/4298.png'), Path('train/7/42997.png'), Path('train/7/43005.png'), Path('train/7/43019.png'), Path('train/7/43023.png'), Path('train/7/43024.png'), Path('train/7/4303.png'), Path('train/7/43036.png'), Path('train/7/43039.png'), Path('train/7/43046.png'), Path('train/7/43052.png'), Path('train/7/43075.png'), Path('train/7/43082.png'), Path('train/7/43087.png'), Path('train/7/43089.png'), Path('train/7/43104.png'), Path('train/7/43108.png'), Path('train/7/43143.png'), Path('train/7/43160.png'), Path('train/7/43163.png'), Path('train/7/43168.png'), Path('train/7/4317.png'), Path('train/7/43178.png'), Path('train/7/43179.png'), Path('train/7/43187.png'), Path('train/7/43190.png'), Path('train/7/43202.png'), Path('train/7/43213.png'), Path('train/7/43222.png'), Path('train/7/43238.png'), Path('train/7/4326.png'), Path('train/7/43277.png'), Path('train/7/43279.png'), Path('train/7/43284.png'), Path('train/7/43285.png'), Path('train/7/43288.png'), Path('train/7/4330.png'), Path('train/7/43307.png'), Path('train/7/4331.png'), Path('train/7/43313.png'), Path('train/7/4332.png'), Path('train/7/43337.png'), Path('train/7/4334.png'), Path('train/7/43340.png'), Path('train/7/43341.png'), Path('train/7/43346.png'), Path('train/7/43352.png'), Path('train/7/43354.png'), Path('train/7/43356.png'), Path('train/7/43361.png'), Path('train/7/43362.png'), Path('train/7/43374.png'), Path('train/7/43378.png'), Path('train/7/4338.png'), Path('train/7/43381.png'), Path('train/7/43382.png'), Path('train/7/43384.png'), Path('train/7/43390.png'), Path('train/7/43400.png'), Path('train/7/43401.png'), Path('train/7/43408.png'), Path('train/7/43414.png'), Path('train/7/43427.png'), Path('train/7/43461.png'), Path('train/7/43470.png'), Path('train/7/43471.png'), Path('train/7/43483.png'), Path('train/7/43489.png'), Path('train/7/43491.png'), Path('train/7/43493.png'), Path('train/7/43496.png'), Path('train/7/43520.png'), Path('train/7/43528.png'), Path('train/7/4353.png'), Path('train/7/43533.png'), Path('train/7/4354.png'), Path('train/7/43541.png'), Path('train/7/43542.png'), Path('train/7/43555.png'), Path('train/7/4358.png'), Path('train/7/43584.png'), Path('train/7/43598.png'), Path('train/7/436.png'), Path('train/7/43607.png'), Path('train/7/43618.png'), Path('train/7/43627.png'), Path('train/7/43628.png'), Path('train/7/4363.png'), Path('train/7/43645.png'), Path('train/7/4366.png'), Path('train/7/43669.png'), Path('train/7/43686.png'), Path('train/7/43707.png'), Path('train/7/43710.png'), Path('train/7/43719.png'), Path('train/7/4372.png'), Path('train/7/43722.png'), Path('train/7/43723.png'), Path('train/7/43725.png'), Path('train/7/43763.png'), Path('train/7/43771.png'), Path('train/7/43774.png'), Path('train/7/43796.png'), Path('train/7/43798.png'), Path('train/7/43802.png'), Path('train/7/43821.png'), Path('train/7/43840.png'), Path('train/7/43841.png'), Path('train/7/4385.png'), Path('train/7/43859.png'), Path('train/7/43860.png'), Path('train/7/43886.png'), Path('train/7/43890.png'), Path('train/7/43893.png'), Path('train/7/43898.png'), Path('train/7/43911.png'), Path('train/7/43912.png'), Path('train/7/43917.png'), Path('train/7/43919.png'), Path('train/7/43923.png'), Path('train/7/43924.png'), Path('train/7/43926.png'), Path('train/7/4393.png'), Path('train/7/4394.png'), Path('train/7/4395.png'), Path('train/7/43956.png'), Path('train/7/4396.png'), Path('train/7/43969.png'), Path('train/7/43990.png'), Path('train/7/43998.png'), Path('train/7/44005.png'), Path('train/7/44015.png'), Path('train/7/44039.png'), Path('train/7/44042.png'), Path('train/7/44050.png'), Path('train/7/44059.png'), Path('train/7/44062.png'), Path('train/7/44064.png'), Path('train/7/44067.png'), Path('train/7/44080.png'), Path('train/7/44111.png'), Path('train/7/44117.png'), Path('train/7/44139.png'), Path('train/7/44141.png'), Path('train/7/44145.png'), Path('train/7/44150.png'), Path('train/7/44156.png'), Path('train/7/44160.png'), Path('train/7/44169.png'), Path('train/7/44170.png'), Path('train/7/44175.png'), Path('train/7/44178.png'), Path('train/7/44185.png'), Path('train/7/44194.png'), Path('train/7/4421.png'), Path('train/7/44212.png'), Path('train/7/44219.png'), Path('train/7/4422.png'), Path('train/7/44239.png'), Path('train/7/44246.png'), Path('train/7/44252.png'), Path('train/7/44254.png'), Path('train/7/44257.png'), Path('train/7/44271.png'), Path('train/7/44297.png'), Path('train/7/44311.png'), Path('train/7/4432.png'), Path('train/7/44322.png'), Path('train/7/44323.png'), Path('train/7/44353.png'), Path('train/7/44367.png'), Path('train/7/44378.png'), Path('train/7/44387.png'), Path('train/7/44392.png'), Path('train/7/44398.png'), Path('train/7/44409.png'), Path('train/7/44417.png'), Path('train/7/44434.png'), Path('train/7/44443.png'), Path('train/7/44465.png'), Path('train/7/44470.png'), Path('train/7/44472.png'), Path('train/7/44485.png'), Path('train/7/44500.png'), Path('train/7/44505.png'), Path('train/7/44512.png'), Path('train/7/44516.png'), Path('train/7/4452.png'), Path('train/7/44526.png'), Path('train/7/44536.png'), Path('train/7/44538.png'), Path('train/7/44539.png'), Path('train/7/44552.png'), Path('train/7/44562.png'), Path('train/7/44566.png'), Path('train/7/44570.png'), Path('train/7/44572.png'), Path('train/7/44573.png'), Path('train/7/44574.png'), Path('train/7/44577.png'), Path('train/7/4458.png'), Path('train/7/44588.png'), Path('train/7/44590.png'), Path('train/7/44595.png'), Path('train/7/446.png'), Path('train/7/44601.png'), Path('train/7/44610.png'), Path('train/7/44623.png'), Path('train/7/44626.png'), Path('train/7/44637.png'), Path('train/7/44640.png'), Path('train/7/44643.png'), Path('train/7/44658.png'), Path('train/7/44663.png'), Path('train/7/44669.png'), Path('train/7/44708.png'), Path('train/7/44717.png'), Path('train/7/4472.png'), Path('train/7/44726.png'), Path('train/7/44734.png'), Path('train/7/44737.png'), Path('train/7/44756.png'), Path('train/7/44757.png'), Path('train/7/44772.png'), Path('train/7/44774.png'), Path('train/7/4478.png'), Path('train/7/44787.png'), Path('train/7/4479.png'), Path('train/7/44795.png'), Path('train/7/44803.png'), Path('train/7/44805.png'), Path('train/7/44807.png'), Path('train/7/44818.png'), Path('train/7/44832.png'), Path('train/7/44835.png'), Path('train/7/44836.png'), Path('train/7/44840.png'), Path('train/7/44849.png'), Path('train/7/44853.png'), Path('train/7/44865.png'), Path('train/7/44868.png'), Path('train/7/44896.png'), Path('train/7/44908.png'), Path('train/7/44911.png'), Path('train/7/44912.png'), Path('train/7/44914.png'), Path('train/7/44920.png'), Path('train/7/44927.png'), Path('train/7/44940.png'), Path('train/7/44943.png'), Path('train/7/44949.png'), Path('train/7/44954.png'), Path('train/7/44957.png'), Path('train/7/44965.png'), Path('train/7/44971.png'), Path('train/7/44972.png'), Path('train/7/44975.png'), Path('train/7/4499.png'), Path('train/7/45004.png'), Path('train/7/45014.png'), Path('train/7/45020.png'), Path('train/7/45040.png'), Path('train/7/45045.png'), Path('train/7/45053.png'), Path('train/7/45054.png'), Path('train/7/45059.png'), Path('train/7/45060.png'), Path('train/7/45068.png'), Path('train/7/45081.png'), Path('train/7/45097.png'), Path('train/7/45102.png'), Path('train/7/45114.png'), Path('train/7/45143.png'), Path('train/7/45159.png'), Path('train/7/4516.png'), Path('train/7/45170.png'), Path('train/7/45179.png'), Path('train/7/45180.png'), Path('train/7/45185.png'), Path('train/7/45187.png'), Path('train/7/45188.png'), Path('train/7/4519.png'), Path('train/7/45192.png'), Path('train/7/45200.png'), Path('train/7/45215.png'), Path('train/7/45257.png'), Path('train/7/45258.png'), Path('train/7/45279.png'), Path('train/7/4528.png'), Path('train/7/45285.png'), Path('train/7/4530.png'), Path('train/7/45310.png'), Path('train/7/45314.png'), Path('train/7/45329.png'), Path('train/7/45333.png'), Path('train/7/45361.png'), Path('train/7/45374.png'), Path('train/7/45382.png'), Path('train/7/45392.png'), Path('train/7/45397.png'), Path('train/7/45411.png'), Path('train/7/45428.png'), Path('train/7/45435.png'), Path('train/7/45446.png'), Path('train/7/4545.png'), Path('train/7/45456.png'), Path('train/7/45457.png'), Path('train/7/45466.png'), Path('train/7/45469.png'), Path('train/7/4548.png'), Path('train/7/45483.png'), Path('train/7/45489.png'), Path('train/7/45492.png'), Path('train/7/45496.png'), Path('train/7/4551.png'), Path('train/7/45518.png'), Path('train/7/45521.png'), Path('train/7/45524.png'), Path('train/7/45530.png'), Path('train/7/45533.png'), Path('train/7/45535.png'), Path('train/7/45548.png'), Path('train/7/45551.png'), Path('train/7/45570.png'), Path('train/7/45571.png'), Path('train/7/45583.png'), Path('train/7/4559.png'), Path('train/7/45592.png'), Path('train/7/45594.png'), Path('train/7/45600.png'), Path('train/7/45606.png'), Path('train/7/45615.png'), Path('train/7/45618.png'), Path('train/7/45626.png'), Path('train/7/45637.png'), Path('train/7/45645.png'), Path('train/7/45652.png'), Path('train/7/45657.png'), Path('train/7/45663.png'), Path('train/7/45680.png'), Path('train/7/45691.png'), Path('train/7/45697.png'), Path('train/7/4571.png'), Path('train/7/45715.png'), Path('train/7/45720.png'), Path('train/7/45735.png'), Path('train/7/45744.png'), Path('train/7/4575.png'), Path('train/7/45776.png'), Path('train/7/45777.png'), Path('train/7/45804.png'), Path('train/7/45806.png'), Path('train/7/45807.png'), Path('train/7/45811.png'), Path('train/7/45829.png'), Path('train/7/45835.png'), Path('train/7/45844.png'), Path('train/7/45865.png'), Path('train/7/45871.png'), Path('train/7/45895.png'), Path('train/7/45901.png'), Path('train/7/4591.png'), Path('train/7/4592.png'), Path('train/7/45930.png'), Path('train/7/45937.png'), Path('train/7/45951.png'), Path('train/7/45967.png'), Path('train/7/45973.png'), Path('train/7/45978.png'), Path('train/7/45992.png'), Path('train/7/46009.png'), Path('train/7/46016.png'), Path('train/7/46031.png'), Path('train/7/46035.png'), Path('train/7/4604.png'), Path('train/7/46042.png'), Path('train/7/46048.png'), Path('train/7/46053.png'), Path('train/7/46055.png'), Path('train/7/46076.png'), Path('train/7/46078.png'), Path('train/7/46081.png'), Path('train/7/46084.png'), Path('train/7/46095.png'), Path('train/7/46106.png'), Path('train/7/46119.png'), Path('train/7/46132.png'), Path('train/7/46133.png'), Path('train/7/46147.png'), Path('train/7/46151.png'), Path('train/7/46153.png'), Path('train/7/46155.png'), Path('train/7/46156.png'), Path('train/7/46160.png'), Path('train/7/46171.png'), Path('train/7/46174.png'), Path('train/7/4618.png'), Path('train/7/46190.png'), Path('train/7/46201.png'), Path('train/7/46202.png'), Path('train/7/46215.png'), Path('train/7/46248.png'), Path('train/7/46249.png'), Path('train/7/46253.png'), Path('train/7/46260.png'), Path('train/7/46264.png'), Path('train/7/46265.png'), Path('train/7/46274.png'), Path('train/7/46278.png'), Path('train/7/46283.png'), Path('train/7/46297.png'), Path('train/7/46311.png'), Path('train/7/46321.png'), Path('train/7/46327.png'), Path('train/7/46340.png'), Path('train/7/46341.png'), Path('train/7/46349.png'), Path('train/7/46351.png'), Path('train/7/46356.png'), Path('train/7/46361.png'), Path('train/7/46363.png'), Path('train/7/46376.png'), Path('train/7/46404.png'), Path('train/7/46419.png'), Path('train/7/46422.png'), Path('train/7/46426.png'), Path('train/7/46429.png'), Path('train/7/4643.png'), Path('train/7/46457.png'), Path('train/7/46462.png'), Path('train/7/46466.png'), Path('train/7/4647.png'), Path('train/7/46473.png'), Path('train/7/46493.png'), Path('train/7/46501.png'), Path('train/7/46514.png'), Path('train/7/46515.png'), Path('train/7/46541.png'), Path('train/7/46565.png'), Path('train/7/4659.png'), Path('train/7/46605.png'), Path('train/7/46607.png'), Path('train/7/4661.png'), Path('train/7/46615.png'), Path('train/7/46618.png'), Path('train/7/46630.png'), Path('train/7/46636.png'), Path('train/7/46638.png'), Path('train/7/46641.png'), Path('train/7/46642.png'), Path('train/7/46648.png'), Path('train/7/46671.png'), Path('train/7/46672.png'), Path('train/7/46673.png'), Path('train/7/46686.png'), Path('train/7/46688.png'), Path('train/7/46697.png'), Path('train/7/467.png'), Path('train/7/46717.png'), Path('train/7/4672.png'), Path('train/7/46724.png'), Path('train/7/46737.png'), Path('train/7/46744.png'), Path('train/7/46752.png'), Path('train/7/46765.png'), Path('train/7/46769.png'), Path('train/7/46770.png'), Path('train/7/46771.png'), Path('train/7/46779.png'), Path('train/7/46799.png'), Path('train/7/468.png'), Path('train/7/4680.png'), Path('train/7/46819.png'), Path('train/7/46820.png'), Path('train/7/46832.png'), Path('train/7/46836.png'), Path('train/7/46851.png'), Path('train/7/46858.png'), Path('train/7/46873.png'), Path('train/7/46874.png'), Path('train/7/46875.png'), Path('train/7/46879.png'), Path('train/7/46888.png'), Path('train/7/46906.png'), Path('train/7/46928.png'), Path('train/7/46938.png'), Path('train/7/46945.png'), Path('train/7/46950.png'), Path('train/7/46957.png'), Path('train/7/46964.png'), Path('train/7/47003.png'), Path('train/7/47015.png'), Path('train/7/47049.png'), Path('train/7/47061.png'), Path('train/7/47062.png'), Path('train/7/47067.png'), Path('train/7/47071.png'), Path('train/7/47110.png'), Path('train/7/47117.png'), Path('train/7/47127.png'), Path('train/7/47137.png'), Path('train/7/47149.png'), Path('train/7/47160.png'), Path('train/7/47161.png'), Path('train/7/47168.png'), Path('train/7/47170.png'), Path('train/7/47180.png'), Path('train/7/47181.png'), Path('train/7/47182.png'), Path('train/7/47184.png'), Path('train/7/47203.png'), Path('train/7/47206.png'), Path('train/7/47221.png'), Path('train/7/47232.png'), Path('train/7/47242.png'), Path('train/7/47248.png'), Path('train/7/4725.png'), Path('train/7/47253.png'), Path('train/7/4726.png'), Path('train/7/47262.png'), Path('train/7/47266.png'), Path('train/7/47286.png'), Path('train/7/47303.png'), Path('train/7/47307.png'), Path('train/7/47325.png'), Path('train/7/47337.png'), Path('train/7/4734.png'), Path('train/7/47349.png'), Path('train/7/47351.png'), Path('train/7/47362.png'), Path('train/7/47364.png'), Path('train/7/47374.png'), Path('train/7/47385.png'), Path('train/7/47399.png'), Path('train/7/47402.png'), Path('train/7/47416.png'), Path('train/7/47417.png'), Path('train/7/47423.png'), Path('train/7/4743.png'), Path('train/7/47439.png'), Path('train/7/47453.png'), Path('train/7/47464.png'), Path('train/7/47485.png'), Path('train/7/47487.png'), Path('train/7/47495.png'), Path('train/7/47504.png'), Path('train/7/47511.png'), Path('train/7/47536.png'), Path('train/7/47537.png'), Path('train/7/47544.png'), Path('train/7/47559.png'), Path('train/7/47560.png'), Path('train/7/47568.png'), Path('train/7/47570.png'), Path('train/7/4759.png'), Path('train/7/47595.png'), Path('train/7/47596.png'), Path('train/7/47600.png'), Path('train/7/47604.png'), Path('train/7/47613.png'), Path('train/7/47633.png'), Path('train/7/47640.png'), Path('train/7/47666.png'), Path('train/7/47677.png'), Path('train/7/47682.png'), Path('train/7/47698.png'), Path('train/7/47700.png'), Path('train/7/47717.png'), Path('train/7/47727.png'), Path('train/7/47733.png'), Path('train/7/4774.png'), Path('train/7/47775.png'), Path('train/7/47793.png'), Path('train/7/478.png'), Path('train/7/47800.png'), Path('train/7/47806.png'), Path('train/7/47809.png'), Path('train/7/47829.png'), Path('train/7/4784.png'), Path('train/7/47844.png'), Path('train/7/47849.png'), Path('train/7/4785.png'), Path('train/7/47852.png'), Path('train/7/47859.png'), Path('train/7/47879.png'), Path('train/7/47893.png'), Path('train/7/47898.png'), Path('train/7/47906.png'), Path('train/7/47929.png'), Path('train/7/47931.png'), Path('train/7/4794.png'), Path('train/7/47941.png'), Path('train/7/47978.png'), Path('train/7/47988.png'), Path('train/7/4799.png'), Path('train/7/48001.png'), Path('train/7/48010.png'), Path('train/7/48035.png'), Path('train/7/48050.png'), Path('train/7/48053.png'), Path('train/7/4806.png'), Path('train/7/48073.png'), Path('train/7/48080.png'), Path('train/7/4809.png'), Path('train/7/48093.png'), Path('train/7/48095.png'), Path('train/7/48096.png'), Path('train/7/48098.png'), Path('train/7/48100.png'), Path('train/7/48102.png'), Path('train/7/48105.png'), Path('train/7/48108.png'), Path('train/7/48122.png'), Path('train/7/48124.png'), Path('train/7/48125.png'), Path('train/7/48135.png'), Path('train/7/48144.png'), Path('train/7/48146.png'), Path('train/7/48151.png'), Path('train/7/48165.png'), Path('train/7/48166.png'), Path('train/7/48170.png'), Path('train/7/48190.png'), Path('train/7/48201.png'), Path('train/7/48208.png'), Path('train/7/48221.png'), Path('train/7/48228.png'), Path('train/7/48241.png'), Path('train/7/48242.png'), Path('train/7/48247.png'), Path('train/7/48250.png'), Path('train/7/48259.png'), Path('train/7/48271.png'), Path('train/7/48275.png'), Path('train/7/48298.png'), Path('train/7/483.png'), Path('train/7/48305.png'), Path('train/7/48308.png'), Path('train/7/48315.png'), Path('train/7/4832.png'), Path('train/7/48333.png'), Path('train/7/48341.png'), Path('train/7/48343.png'), Path('train/7/48377.png'), Path('train/7/4840.png'), Path('train/7/48404.png'), Path('train/7/48416.png'), Path('train/7/4842.png'), Path('train/7/48422.png'), Path('train/7/48432.png'), Path('train/7/48450.png'), Path('train/7/48452.png'), Path('train/7/48453.png'), Path('train/7/48473.png'), Path('train/7/48490.png'), Path('train/7/48501.png'), Path('train/7/48515.png'), Path('train/7/48519.png'), Path('train/7/48556.png'), Path('train/7/48562.png'), Path('train/7/48575.png'), Path('train/7/4858.png'), Path('train/7/48585.png'), Path('train/7/48593.png'), Path('train/7/48610.png'), Path('train/7/48614.png'), Path('train/7/48619.png'), Path('train/7/48622.png'), Path('train/7/4863.png'), Path('train/7/48639.png'), Path('train/7/48648.png'), Path('train/7/48651.png'), Path('train/7/48672.png'), Path('train/7/48675.png'), Path('train/7/48678.png'), Path('train/7/4869.png'), Path('train/7/48691.png'), Path('train/7/48694.png'), Path('train/7/48709.png'), Path('train/7/48712.png'), Path('train/7/48717.png'), Path('train/7/48721.png'), Path('train/7/48724.png'), Path('train/7/48736.png'), Path('train/7/4875.png'), Path('train/7/48759.png'), Path('train/7/4876.png'), Path('train/7/48762.png'), Path('train/7/48768.png'), Path('train/7/48787.png'), Path('train/7/48801.png'), Path('train/7/48829.png'), Path('train/7/48832.png'), Path('train/7/48852.png'), Path('train/7/48861.png'), Path('train/7/48866.png'), Path('train/7/48869.png'), Path('train/7/48874.png'), Path('train/7/48878.png'), Path('train/7/4888.png'), Path('train/7/48889.png'), Path('train/7/48893.png'), Path('train/7/48909.png'), Path('train/7/48910.png'), Path('train/7/48914.png'), Path('train/7/48923.png'), Path('train/7/4893.png'), Path('train/7/48944.png'), Path('train/7/48948.png'), Path('train/7/48952.png'), Path('train/7/48955.png'), Path('train/7/48969.png'), Path('train/7/4897.png'), Path('train/7/48976.png'), Path('train/7/48979.png'), Path('train/7/48988.png'), Path('train/7/4899.png'), Path('train/7/48992.png'), Path('train/7/49012.png'), Path('train/7/49024.png'), Path('train/7/4904.png'), Path('train/7/49045.png'), Path('train/7/49053.png'), Path('train/7/49056.png'), Path('train/7/49058.png'), Path('train/7/49063.png'), Path('train/7/49069.png'), Path('train/7/4907.png'), Path('train/7/49071.png'), Path('train/7/49093.png'), Path('train/7/49116.png'), Path('train/7/49119.png'), Path('train/7/49120.png'), Path('train/7/49125.png'), Path('train/7/49136.png'), Path('train/7/49159.png'), Path('train/7/49174.png'), Path('train/7/49180.png'), Path('train/7/49184.png'), Path('train/7/49187.png'), Path('train/7/49209.png'), Path('train/7/49212.png'), Path('train/7/49235.png'), Path('train/7/49239.png'), Path('train/7/49240.png'), Path('train/7/49242.png'), Path('train/7/4925.png'), Path('train/7/49257.png'), Path('train/7/49277.png'), Path('train/7/4928.png'), Path('train/7/49301.png'), Path('train/7/49315.png'), Path('train/7/49320.png'), Path('train/7/49327.png'), Path('train/7/49330.png'), Path('train/7/49356.png'), Path('train/7/49361.png'), Path('train/7/49364.png'), Path('train/7/49365.png'), Path('train/7/49372.png'), Path('train/7/49385.png'), Path('train/7/49391.png'), Path('train/7/49399.png'), Path('train/7/49412.png'), Path('train/7/49413.png'), Path('train/7/49415.png'), Path('train/7/49444.png'), Path('train/7/4945.png'), Path('train/7/49458.png'), Path('train/7/4946.png'), Path('train/7/49472.png'), Path('train/7/49485.png'), Path('train/7/49491.png'), Path('train/7/49507.png'), Path('train/7/49516.png'), Path('train/7/49523.png'), Path('train/7/49531.png'), Path('train/7/49540.png'), Path('train/7/49551.png'), Path('train/7/49553.png'), Path('train/7/49554.png'), Path('train/7/49571.png'), Path('train/7/49584.png'), Path('train/7/49590.png'), Path('train/7/49615.png'), Path('train/7/49616.png'), Path('train/7/49635.png'), Path('train/7/4964.png'), Path('train/7/49644.png'), Path('train/7/4965.png'), Path('train/7/49662.png'), Path('train/7/49666.png'), Path('train/7/49691.png'), Path('train/7/49694.png'), Path('train/7/49698.png'), Path('train/7/497.png'), Path('train/7/49709.png'), Path('train/7/49719.png'), Path('train/7/49721.png'), Path('train/7/49736.png'), Path('train/7/49738.png'), Path('train/7/49742.png'), Path('train/7/49755.png'), Path('train/7/49758.png'), Path('train/7/4977.png'), Path('train/7/49799.png'), Path('train/7/49806.png'), Path('train/7/49812.png'), Path('train/7/49818.png'), Path('train/7/49829.png'), Path('train/7/4984.png'), Path('train/7/49846.png'), Path('train/7/49849.png'), Path('train/7/49862.png'), Path('train/7/49866.png'), Path('train/7/49867.png'), Path('train/7/49877.png'), Path('train/7/49891.png'), Path('train/7/49906.png'), Path('train/7/49909.png'), Path('train/7/4991.png'), Path('train/7/49918.png'), Path('train/7/49921.png'), Path('train/7/49923.png'), Path('train/7/49933.png'), Path('train/7/4995.png'), Path('train/7/49958.png'), Path('train/7/49978.png'), Path('train/7/49980.png'), Path('train/7/49986.png'), Path('train/7/5000.png'), Path('train/7/50021.png'), Path('train/7/50037.png'), Path('train/7/50038.png'), Path('train/7/50046.png'), Path('train/7/50047.png'), Path('train/7/50064.png'), Path('train/7/50066.png'), Path('train/7/50075.png'), Path('train/7/50095.png'), Path('train/7/50100.png'), Path('train/7/50115.png'), Path('train/7/50121.png'), Path('train/7/50126.png'), Path('train/7/50129.png'), Path('train/7/50137.png'), Path('train/7/5014.png'), Path('train/7/50143.png'), Path('train/7/50147.png'), Path('train/7/50162.png'), Path('train/7/50215.png'), Path('train/7/5022.png'), Path('train/7/50224.png'), Path('train/7/50227.png'), Path('train/7/50233.png'), Path('train/7/50234.png'), Path('train/7/50244.png'), Path('train/7/5025.png'), Path('train/7/50254.png'), Path('train/7/50255.png'), Path('train/7/50269.png'), Path('train/7/50278.png'), Path('train/7/50305.png'), Path('train/7/50325.png'), Path('train/7/50345.png'), Path('train/7/5035.png'), Path('train/7/50351.png'), Path('train/7/50359.png'), Path('train/7/50360.png'), Path('train/7/50365.png'), Path('train/7/50370.png'), Path('train/7/50371.png'), Path('train/7/50375.png'), Path('train/7/50376.png'), Path('train/7/50380.png'), Path('train/7/50382.png'), Path('train/7/50392.png'), Path('train/7/50426.png'), Path('train/7/50438.png'), Path('train/7/50440.png'), Path('train/7/50443.png'), Path('train/7/50455.png'), Path('train/7/50461.png'), Path('train/7/50464.png'), Path('train/7/50468.png'), Path('train/7/50483.png'), Path('train/7/50488.png'), Path('train/7/5049.png'), Path('train/7/505.png'), Path('train/7/50520.png'), Path('train/7/50536.png'), Path('train/7/50553.png'), Path('train/7/5057.png'), Path('train/7/50579.png'), Path('train/7/5059.png'), Path('train/7/50605.png'), Path('train/7/50614.png'), Path('train/7/50620.png'), Path('train/7/50627.png'), Path('train/7/50648.png'), Path('train/7/50655.png'), Path('train/7/50664.png'), Path('train/7/50665.png'), Path('train/7/50668.png'), Path('train/7/5068.png'), Path('train/7/50681.png'), Path('train/7/50697.png'), Path('train/7/50706.png'), Path('train/7/50708.png'), Path('train/7/50721.png'), Path('train/7/50730.png'), Path('train/7/50732.png'), Path('train/7/50742.png'), Path('train/7/50743.png'), Path('train/7/50760.png'), Path('train/7/50763.png'), Path('train/7/50783.png'), Path('train/7/50792.png'), Path('train/7/50794.png'), Path('train/7/50795.png'), Path('train/7/50796.png'), Path('train/7/50805.png'), Path('train/7/50822.png'), Path('train/7/50849.png'), Path('train/7/50868.png'), Path('train/7/50872.png'), Path('train/7/50874.png'), Path('train/7/50877.png'), Path('train/7/50878.png'), Path('train/7/50884.png'), Path('train/7/5089.png'), Path('train/7/50891.png'), Path('train/7/50894.png'), Path('train/7/50903.png'), Path('train/7/50905.png'), Path('train/7/50910.png'), Path('train/7/50920.png'), Path('train/7/50923.png'), Path('train/7/50942.png'), Path('train/7/50943.png'), Path('train/7/50963.png'), Path('train/7/50972.png'), Path('train/7/50978.png'), Path('train/7/50984.png'), Path('train/7/50992.png'), Path('train/7/50994.png'), Path('train/7/50999.png'), Path('train/7/5100.png'), Path('train/7/51000.png'), Path('train/7/51004.png'), Path('train/7/51011.png'), Path('train/7/51023.png'), Path('train/7/51025.png'), Path('train/7/51034.png'), Path('train/7/51043.png'), Path('train/7/51062.png'), Path('train/7/51065.png'), Path('train/7/51068.png'), Path('train/7/51070.png'), Path('train/7/51074.png'), Path('train/7/51080.png'), Path('train/7/51084.png'), Path('train/7/51088.png'), Path('train/7/511.png'), Path('train/7/51102.png'), Path('train/7/51103.png'), Path('train/7/51113.png'), Path('train/7/51126.png'), Path('train/7/51138.png'), Path('train/7/51141.png'), Path('train/7/51161.png'), Path('train/7/51162.png'), Path('train/7/51166.png'), Path('train/7/51174.png'), Path('train/7/51178.png'), Path('train/7/51180.png'), Path('train/7/51181.png'), Path('train/7/51193.png'), Path('train/7/51198.png'), Path('train/7/51203.png'), Path('train/7/51204.png'), Path('train/7/51205.png'), Path('train/7/51229.png'), Path('train/7/51236.png'), Path('train/7/51279.png'), Path('train/7/51282.png'), Path('train/7/51292.png'), Path('train/7/51294.png'), Path('train/7/51300.png'), Path('train/7/51304.png'), Path('train/7/51306.png'), Path('train/7/51322.png'), Path('train/7/51335.png'), Path('train/7/51344.png'), Path('train/7/51346.png'), Path('train/7/51353.png'), Path('train/7/51358.png'), Path('train/7/51361.png'), Path('train/7/51363.png'), Path('train/7/51384.png'), Path('train/7/51389.png'), Path('train/7/51409.png'), Path('train/7/51420.png'), Path('train/7/51429.png'), Path('train/7/51441.png'), Path('train/7/51452.png'), Path('train/7/5146.png'), Path('train/7/51460.png'), Path('train/7/51465.png'), Path('train/7/51477.png'), Path('train/7/51489.png'), Path('train/7/51496.png'), Path('train/7/51500.png'), Path('train/7/51502.png'), Path('train/7/51523.png'), Path('train/7/51526.png'), Path('train/7/51532.png'), Path('train/7/51537.png'), Path('train/7/51557.png'), Path('train/7/51558.png'), Path('train/7/51560.png'), Path('train/7/51568.png'), Path('train/7/51583.png'), Path('train/7/51586.png'), Path('train/7/51591.png'), Path('train/7/5161.png'), Path('train/7/51621.png'), Path('train/7/51634.png'), Path('train/7/51636.png'), Path('train/7/51643.png'), Path('train/7/51650.png'), Path('train/7/51663.png'), Path('train/7/51683.png'), Path('train/7/51691.png'), Path('train/7/51704.png'), Path('train/7/51707.png'), Path('train/7/51752.png'), Path('train/7/51765.png'), Path('train/7/51766.png'), Path('train/7/5178.png'), Path('train/7/518.png'), Path('train/7/51802.png'), Path('train/7/51806.png'), Path('train/7/5181.png'), Path('train/7/51819.png'), Path('train/7/5182.png'), Path('train/7/51825.png'), Path('train/7/51829.png'), Path('train/7/51832.png'), Path('train/7/51839.png'), Path('train/7/51856.png'), Path('train/7/51858.png'), Path('train/7/51859.png'), Path('train/7/51862.png'), Path('train/7/51879.png'), Path('train/7/51885.png'), Path('train/7/51911.png'), Path('train/7/51914.png'), Path('train/7/51916.png'), Path('train/7/51927.png'), Path('train/7/51935.png'), Path('train/7/51941.png'), Path('train/7/51958.png'), Path('train/7/51967.png'), Path('train/7/5197.png'), Path('train/7/51971.png'), Path('train/7/51974.png'), Path('train/7/51984.png'), Path('train/7/51988.png'), Path('train/7/51996.png'), Path('train/7/52.png'), Path('train/7/52008.png'), Path('train/7/52010.png'), Path('train/7/52013.png'), Path('train/7/52052.png'), Path('train/7/5206.png'), Path('train/7/52071.png'), Path('train/7/52077.png'), Path('train/7/52089.png'), Path('train/7/52092.png'), Path('train/7/521.png'), Path('train/7/52110.png'), Path('train/7/52113.png'), Path('train/7/52124.png'), Path('train/7/52137.png'), Path('train/7/5214.png'), Path('train/7/52146.png'), Path('train/7/52147.png'), Path('train/7/52149.png'), Path('train/7/52162.png'), Path('train/7/52166.png'), Path('train/7/52173.png'), Path('train/7/52176.png'), Path('train/7/52178.png'), Path('train/7/52181.png'), Path('train/7/52196.png'), Path('train/7/52199.png'), Path('train/7/522.png'), Path('train/7/52216.png'), Path('train/7/52217.png'), Path('train/7/5223.png'), Path('train/7/52235.png'), Path('train/7/52249.png'), Path('train/7/52256.png'), Path('train/7/52261.png'), Path('train/7/52301.png'), Path('train/7/52302.png'), Path('train/7/52321.png'), Path('train/7/52322.png'), Path('train/7/52330.png'), Path('train/7/52337.png'), Path('train/7/52339.png'), Path('train/7/52363.png'), Path('train/7/52391.png'), Path('train/7/52405.png'), Path('train/7/52407.png'), Path('train/7/5242.png'), Path('train/7/52423.png'), Path('train/7/52436.png'), Path('train/7/52443.png'), Path('train/7/52460.png'), Path('train/7/52463.png'), Path('train/7/52466.png'), Path('train/7/52471.png'), Path('train/7/52475.png'), Path('train/7/52477.png'), Path('train/7/52480.png'), Path('train/7/52484.png'), Path('train/7/52486.png'), Path('train/7/52490.png'), Path('train/7/52497.png'), Path('train/7/5251.png'), Path('train/7/52524.png'), Path('train/7/52525.png'), Path('train/7/52528.png'), Path('train/7/5253.png'), Path('train/7/52568.png'), Path('train/7/52579.png'), Path('train/7/52587.png'), Path('train/7/52588.png'), Path('train/7/52591.png'), Path('train/7/52594.png'), Path('train/7/52603.png'), Path('train/7/52606.png'), Path('train/7/52633.png'), Path('train/7/5264.png'), Path('train/7/52644.png'), Path('train/7/52666.png'), Path('train/7/52669.png'), Path('train/7/52670.png'), Path('train/7/52680.png'), Path('train/7/52687.png'), Path('train/7/5269.png'), Path('train/7/52701.png'), Path('train/7/52705.png'), Path('train/7/52707.png'), Path('train/7/52730.png'), Path('train/7/52732.png'), Path('train/7/52735.png'), Path('train/7/52736.png'), Path('train/7/52744.png'), Path('train/7/52750.png'), Path('train/7/52752.png'), Path('train/7/52760.png'), Path('train/7/52779.png'), Path('train/7/52786.png'), Path('train/7/52787.png'), Path('train/7/52791.png'), Path('train/7/5280.png'), Path('train/7/52803.png'), Path('train/7/52824.png'), Path('train/7/52825.png'), Path('train/7/5283.png'), Path('train/7/52842.png'), Path('train/7/52861.png'), Path('train/7/52866.png'), Path('train/7/52879.png'), Path('train/7/52886.png'), Path('train/7/52899.png'), Path('train/7/5291.png'), Path('train/7/52911.png'), Path('train/7/52925.png'), Path('train/7/52926.png'), Path('train/7/52937.png'), Path('train/7/52952.png'), Path('train/7/52960.png'), Path('train/7/52964.png'), Path('train/7/52969.png'), Path('train/7/52991.png'), Path('train/7/52992.png'), Path('train/7/52997.png'), Path('train/7/52998.png'), Path('train/7/5300.png'), Path('train/7/53003.png'), Path('train/7/5302.png'), Path('train/7/53021.png'), Path('train/7/53023.png'), Path('train/7/53060.png'), Path('train/7/53066.png'), Path('train/7/53074.png'), Path('train/7/5308.png'), Path('train/7/53094.png'), Path('train/7/53097.png'), Path('train/7/53102.png'), Path('train/7/53113.png'), Path('train/7/5312.png'), Path('train/7/53129.png'), Path('train/7/53137.png'), Path('train/7/53159.png'), Path('train/7/53164.png'), Path('train/7/53171.png'), Path('train/7/53183.png'), Path('train/7/53188.png'), Path('train/7/53210.png'), Path('train/7/53213.png'), Path('train/7/53214.png'), Path('train/7/53227.png'), Path('train/7/53232.png'), Path('train/7/53234.png'), Path('train/7/53242.png'), Path('train/7/5325.png'), Path('train/7/53253.png'), Path('train/7/53258.png'), Path('train/7/5326.png'), Path('train/7/53261.png'), Path('train/7/53274.png'), Path('train/7/53291.png'), Path('train/7/53302.png'), Path('train/7/53313.png'), Path('train/7/53333.png'), Path('train/7/53334.png'), Path('train/7/53338.png'), Path('train/7/53368.png'), Path('train/7/53372.png'), Path('train/7/53392.png'), Path('train/7/53415.png'), Path('train/7/53418.png'), Path('train/7/53423.png'), Path('train/7/53431.png'), Path('train/7/53441.png'), Path('train/7/53465.png'), Path('train/7/5347.png'), Path('train/7/53478.png'), Path('train/7/53483.png'), Path('train/7/5349.png'), Path('train/7/53490.png'), Path('train/7/53501.png'), Path('train/7/53510.png'), Path('train/7/5352.png'), Path('train/7/53523.png'), Path('train/7/53525.png'), Path('train/7/53548.png'), Path('train/7/53549.png'), Path('train/7/53579.png'), Path('train/7/53589.png'), Path('train/7/53600.png'), Path('train/7/53601.png'), Path('train/7/53612.png'), Path('train/7/53614.png'), Path('train/7/53624.png'), Path('train/7/53629.png'), Path('train/7/53635.png'), Path('train/7/53643.png'), Path('train/7/53666.png'), Path('train/7/5367.png'), Path('train/7/53679.png'), Path('train/7/53694.png'), Path('train/7/53699.png'), Path('train/7/53702.png'), Path('train/7/53719.png'), Path('train/7/53725.png'), Path('train/7/53763.png'), Path('train/7/53766.png'), Path('train/7/53770.png'), Path('train/7/53771.png'), Path('train/7/53779.png'), Path('train/7/53781.png'), Path('train/7/53783.png'), Path('train/7/53813.png'), Path('train/7/53832.png'), Path('train/7/53836.png'), Path('train/7/53839.png'), Path('train/7/53843.png'), Path('train/7/53852.png'), Path('train/7/53855.png'), Path('train/7/53858.png'), Path('train/7/53866.png'), Path('train/7/5387.png'), Path('train/7/53886.png'), Path('train/7/53911.png'), Path('train/7/53931.png'), Path('train/7/53944.png'), Path('train/7/53956.png'), Path('train/7/53961.png'), Path('train/7/53962.png'), Path('train/7/53977.png'), Path('train/7/53986.png'), Path('train/7/54011.png'), Path('train/7/54022.png'), Path('train/7/54035.png'), Path('train/7/54037.png'), Path('train/7/54065.png'), Path('train/7/54066.png'), Path('train/7/5407.png'), Path('train/7/54072.png'), Path('train/7/54096.png'), Path('train/7/54097.png'), Path('train/7/54099.png'), Path('train/7/54100.png'), Path('train/7/54106.png'), Path('train/7/54114.png'), Path('train/7/54115.png'), Path('train/7/54118.png'), Path('train/7/54135.png'), Path('train/7/54148.png'), Path('train/7/54152.png'), Path('train/7/54155.png'), Path('train/7/5416.png'), Path('train/7/54167.png'), Path('train/7/54176.png'), Path('train/7/54186.png'), Path('train/7/54193.png'), Path('train/7/54194.png'), Path('train/7/54207.png'), Path('train/7/54212.png'), Path('train/7/54218.png'), Path('train/7/54219.png'), Path('train/7/5422.png'), Path('train/7/54253.png'), Path('train/7/54256.png'), Path('train/7/54267.png'), Path('train/7/5427.png'), Path('train/7/54274.png'), Path('train/7/54278.png'), Path('train/7/54287.png'), Path('train/7/54317.png'), Path('train/7/54364.png'), Path('train/7/54365.png'), Path('train/7/5437.png'), Path('train/7/54372.png'), Path('train/7/54378.png'), Path('train/7/54385.png'), Path('train/7/54396.png'), Path('train/7/54405.png'), Path('train/7/5441.png'), Path('train/7/54426.png'), Path('train/7/54435.png'), Path('train/7/54439.png'), Path('train/7/54441.png'), Path('train/7/54453.png'), Path('train/7/5446.png'), Path('train/7/5447.png'), Path('train/7/54472.png'), Path('train/7/54477.png'), Path('train/7/54478.png'), Path('train/7/5448.png'), Path('train/7/54482.png'), Path('train/7/54494.png'), Path('train/7/54497.png'), Path('train/7/54522.png'), Path('train/7/54529.png'), Path('train/7/54532.png'), Path('train/7/54536.png'), Path('train/7/54540.png'), Path('train/7/54542.png'), Path('train/7/54555.png'), Path('train/7/54558.png'), Path('train/7/54561.png'), Path('train/7/54565.png'), Path('train/7/54606.png'), Path('train/7/54623.png'), Path('train/7/54632.png'), Path('train/7/54638.png'), Path('train/7/54643.png'), Path('train/7/54644.png'), Path('train/7/5465.png'), Path('train/7/54663.png'), Path('train/7/54669.png'), Path('train/7/54678.png'), Path('train/7/54681.png'), Path('train/7/54688.png'), Path('train/7/54691.png'), Path('train/7/54695.png'), Path('train/7/54696.png'), Path('train/7/5472.png'), Path('train/7/54721.png'), Path('train/7/5473.png'), Path('train/7/54731.png'), Path('train/7/54732.png'), Path('train/7/54734.png'), Path('train/7/54740.png'), Path('train/7/54751.png'), Path('train/7/54759.png'), Path('train/7/54760.png'), Path('train/7/54761.png'), Path('train/7/54789.png'), Path('train/7/54792.png'), Path('train/7/54818.png'), Path('train/7/54863.png'), Path('train/7/54871.png'), Path('train/7/54882.png'), Path('train/7/54887.png'), Path('train/7/54890.png'), Path('train/7/54891.png'), Path('train/7/54912.png'), Path('train/7/54917.png'), Path('train/7/54925.png'), Path('train/7/54937.png'), Path('train/7/54940.png'), Path('train/7/54957.png'), Path('train/7/5496.png'), Path('train/7/54964.png'), Path('train/7/54966.png'), Path('train/7/54971.png'), Path('train/7/54995.png'), Path('train/7/55003.png'), Path('train/7/55021.png'), Path('train/7/55034.png'), Path('train/7/5504.png'), Path('train/7/55041.png'), Path('train/7/55052.png'), Path('train/7/55059.png'), Path('train/7/55078.png'), Path('train/7/55079.png'), Path('train/7/55082.png'), Path('train/7/55084.png'), Path('train/7/55086.png'), Path('train/7/55088.png'), Path('train/7/55090.png'), Path('train/7/55094.png'), Path('train/7/55113.png'), Path('train/7/55117.png'), Path('train/7/55119.png'), Path('train/7/55147.png'), Path('train/7/55167.png'), Path('train/7/55171.png'), Path('train/7/55174.png'), Path('train/7/55180.png'), Path('train/7/55189.png'), Path('train/7/5519.png'), Path('train/7/55195.png'), Path('train/7/55205.png'), Path('train/7/55210.png'), Path('train/7/55216.png'), Path('train/7/55237.png'), Path('train/7/55238.png'), Path('train/7/55244.png'), Path('train/7/55266.png'), Path('train/7/55270.png'), Path('train/7/55276.png'), Path('train/7/55291.png'), Path('train/7/55309.png'), Path('train/7/55329.png'), Path('train/7/55344.png'), Path('train/7/55346.png'), Path('train/7/5535.png'), Path('train/7/55363.png'), Path('train/7/55365.png'), Path('train/7/55374.png'), Path('train/7/55384.png'), Path('train/7/5540.png'), Path('train/7/55409.png'), Path('train/7/55413.png'), Path('train/7/55422.png'), Path('train/7/55425.png'), Path('train/7/55426.png'), Path('train/7/55431.png'), Path('train/7/55439.png'), Path('train/7/55444.png'), Path('train/7/55446.png'), Path('train/7/55448.png'), Path('train/7/55452.png'), Path('train/7/5546.png'), Path('train/7/55466.png'), Path('train/7/55467.png'), Path('train/7/55476.png'), Path('train/7/55480.png'), Path('train/7/55486.png'), Path('train/7/55492.png'), Path('train/7/55494.png'), Path('train/7/55514.png'), Path('train/7/55517.png'), Path('train/7/55518.png'), Path('train/7/55535.png'), Path('train/7/55544.png'), Path('train/7/5555.png'), Path('train/7/55553.png'), Path('train/7/55560.png'), Path('train/7/55562.png'), Path('train/7/55603.png'), Path('train/7/55608.png'), Path('train/7/55613.png'), Path('train/7/5564.png'), Path('train/7/55647.png'), Path('train/7/5565.png'), Path('train/7/55659.png'), Path('train/7/55668.png'), Path('train/7/5568.png'), Path('train/7/55689.png'), Path('train/7/5569.png'), Path('train/7/55693.png'), Path('train/7/55699.png'), Path('train/7/55700.png'), Path('train/7/55709.png'), Path('train/7/55724.png'), Path('train/7/55735.png'), Path('train/7/55744.png'), Path('train/7/5575.png'), Path('train/7/55750.png'), Path('train/7/55756.png'), Path('train/7/55759.png'), Path('train/7/55779.png'), Path('train/7/5579.png'), Path('train/7/55799.png'), Path('train/7/55802.png'), Path('train/7/55809.png'), Path('train/7/55826.png'), Path('train/7/55829.png'), Path('train/7/5584.png'), Path('train/7/55842.png'), Path('train/7/55843.png'), Path('train/7/55848.png'), Path('train/7/55854.png'), Path('train/7/55863.png'), Path('train/7/55882.png'), Path('train/7/55885.png'), Path('train/7/55887.png'), Path('train/7/55895.png'), Path('train/7/55896.png'), Path('train/7/55915.png'), Path('train/7/55916.png'), Path('train/7/55918.png'), Path('train/7/55928.png'), Path('train/7/55934.png'), Path('train/7/55945.png'), Path('train/7/5596.png'), Path('train/7/55971.png'), Path('train/7/560.png'), Path('train/7/56017.png'), Path('train/7/56028.png'), Path('train/7/56030.png'), Path('train/7/56034.png'), Path('train/7/56037.png'), Path('train/7/56042.png'), Path('train/7/56052.png'), Path('train/7/56058.png'), Path('train/7/56064.png'), Path('train/7/56066.png'), Path('train/7/56074.png'), Path('train/7/56076.png'), Path('train/7/56077.png'), Path('train/7/56086.png'), Path('train/7/56095.png'), Path('train/7/56096.png'), Path('train/7/56107.png'), Path('train/7/56109.png'), Path('train/7/56111.png'), Path('train/7/56112.png'), Path('train/7/56121.png'), Path('train/7/56131.png'), Path('train/7/56132.png'), Path('train/7/56160.png'), Path('train/7/56167.png'), Path('train/7/56196.png'), Path('train/7/562.png'), Path('train/7/56209.png'), Path('train/7/56218.png'), Path('train/7/56220.png'), Path('train/7/56233.png'), Path('train/7/56253.png'), Path('train/7/5626.png'), Path('train/7/56266.png'), Path('train/7/56272.png'), Path('train/7/56274.png'), Path('train/7/56285.png'), Path('train/7/56287.png'), Path('train/7/56294.png'), Path('train/7/56329.png'), Path('train/7/56346.png'), Path('train/7/56354.png'), Path('train/7/56356.png'), Path('train/7/56359.png'), Path('train/7/56381.png'), Path('train/7/56382.png'), Path('train/7/56390.png'), Path('train/7/56392.png'), Path('train/7/56393.png'), Path('train/7/56410.png'), Path('train/7/56416.png'), Path('train/7/56418.png'), Path('train/7/56426.png'), Path('train/7/56432.png'), Path('train/7/56438.png'), Path('train/7/56439.png'), Path('train/7/56451.png'), Path('train/7/56453.png'), Path('train/7/56462.png'), Path('train/7/56472.png'), Path('train/7/56482.png'), Path('train/7/56483.png'), Path('train/7/5650.png'), Path('train/7/56500.png'), Path('train/7/56503.png'), Path('train/7/5651.png'), Path('train/7/56510.png'), Path('train/7/56518.png'), Path('train/7/5652.png'), Path('train/7/56521.png'), Path('train/7/56531.png'), Path('train/7/56534.png'), Path('train/7/56542.png'), Path('train/7/56543.png'), Path('train/7/56546.png'), Path('train/7/56555.png'), Path('train/7/56567.png'), Path('train/7/5657.png'), Path('train/7/56588.png'), Path('train/7/56591.png'), Path('train/7/56601.png'), Path('train/7/56604.png'), Path('train/7/56611.png'), Path('train/7/5663.png'), Path('train/7/56638.png'), Path('train/7/56640.png'), Path('train/7/56650.png'), Path('train/7/56652.png'), Path('train/7/56653.png'), Path('train/7/56670.png'), Path('train/7/56679.png'), Path('train/7/56680.png'), Path('train/7/56694.png'), Path('train/7/567.png'), Path('train/7/56701.png'), Path('train/7/56722.png'), Path('train/7/56729.png'), Path('train/7/56749.png'), Path('train/7/56756.png'), Path('train/7/5676.png'), Path('train/7/56769.png'), Path('train/7/56780.png'), Path('train/7/56787.png'), Path('train/7/56794.png'), Path('train/7/56798.png'), Path('train/7/56806.png'), Path('train/7/56814.png'), Path('train/7/56815.png'), Path('train/7/56816.png'), Path('train/7/56822.png'), Path('train/7/56828.png'), Path('train/7/56832.png'), Path('train/7/56837.png'), Path('train/7/56841.png'), Path('train/7/56844.png'), Path('train/7/56846.png'), Path('train/7/56850.png'), Path('train/7/56873.png'), Path('train/7/56880.png'), Path('train/7/56888.png'), Path('train/7/56892.png'), Path('train/7/56895.png'), Path('train/7/56897.png'), Path('train/7/56900.png'), Path('train/7/56909.png'), Path('train/7/56915.png'), Path('train/7/56920.png'), Path('train/7/56924.png'), Path('train/7/56931.png'), Path('train/7/56932.png'), Path('train/7/56983.png'), Path('train/7/56992.png'), Path('train/7/57017.png'), Path('train/7/57032.png'), Path('train/7/57044.png'), Path('train/7/57048.png'), Path('train/7/57063.png'), Path('train/7/57066.png'), Path('train/7/57071.png'), Path('train/7/57074.png'), Path('train/7/57078.png'), Path('train/7/57083.png'), Path('train/7/57097.png'), Path('train/7/57098.png'), Path('train/7/57099.png'), Path('train/7/57110.png'), Path('train/7/57119.png'), Path('train/7/57134.png'), Path('train/7/57137.png'), Path('train/7/57150.png'), Path('train/7/5716.png'), Path('train/7/57177.png'), Path('train/7/57178.png'), Path('train/7/57181.png'), Path('train/7/57188.png'), Path('train/7/57196.png'), Path('train/7/57204.png'), Path('train/7/57215.png'), Path('train/7/5723.png'), Path('train/7/57230.png'), Path('train/7/57235.png'), Path('train/7/57255.png'), Path('train/7/57280.png'), Path('train/7/57282.png'), Path('train/7/57285.png'), Path('train/7/57286.png'), Path('train/7/57292.png'), Path('train/7/57323.png'), Path('train/7/57325.png'), Path('train/7/57334.png'), Path('train/7/57337.png'), Path('train/7/57344.png'), Path('train/7/57350.png'), Path('train/7/57357.png'), Path('train/7/57365.png'), Path('train/7/57367.png'), Path('train/7/57372.png'), Path('train/7/57376.png'), Path('train/7/57380.png'), Path('train/7/57386.png'), Path('train/7/57405.png'), Path('train/7/5741.png'), Path('train/7/57414.png'), Path('train/7/57429.png'), Path('train/7/57431.png'), Path('train/7/57445.png'), Path('train/7/57458.png'), Path('train/7/57465.png'), Path('train/7/57479.png'), Path('train/7/57485.png'), Path('train/7/57502.png'), Path('train/7/57504.png'), Path('train/7/57512.png'), Path('train/7/57526.png'), Path('train/7/57534.png'), Path('train/7/57535.png'), Path('train/7/5754.png'), Path('train/7/57540.png'), Path('train/7/57541.png'), Path('train/7/57546.png'), Path('train/7/57547.png'), Path('train/7/57549.png'), Path('train/7/57550.png'), Path('train/7/57555.png'), Path('train/7/57556.png'), Path('train/7/57560.png'), Path('train/7/57564.png'), Path('train/7/57570.png'), Path('train/7/57572.png'), Path('train/7/57576.png'), Path('train/7/57581.png'), Path('train/7/57600.png'), Path('train/7/57609.png'), Path('train/7/5761.png'), Path('train/7/57621.png'), Path('train/7/57643.png'), Path('train/7/57646.png'), Path('train/7/57652.png'), Path('train/7/57653.png'), Path('train/7/57663.png'), Path('train/7/57672.png'), Path('train/7/57676.png'), Path('train/7/5768.png'), Path('train/7/5769.png'), Path('train/7/57692.png'), Path('train/7/57702.png'), Path('train/7/57703.png'), Path('train/7/57718.png'), Path('train/7/57723.png'), Path('train/7/57725.png'), Path('train/7/57748.png'), Path('train/7/57751.png'), Path('train/7/57763.png'), Path('train/7/57774.png'), Path('train/7/5778.png'), Path('train/7/57792.png'), Path('train/7/57809.png'), Path('train/7/57825.png'), Path('train/7/57828.png'), Path('train/7/57836.png'), Path('train/7/57839.png'), Path('train/7/5784.png'), Path('train/7/57851.png'), Path('train/7/57858.png'), Path('train/7/5786.png'), Path('train/7/57866.png'), Path('train/7/57867.png'), Path('train/7/57884.png'), Path('train/7/57885.png'), Path('train/7/57905.png'), Path('train/7/57921.png'), Path('train/7/57923.png'), Path('train/7/57925.png'), Path('train/7/57927.png'), Path('train/7/57949.png'), Path('train/7/5795.png'), Path('train/7/57958.png'), Path('train/7/57970.png'), Path('train/7/57978.png'), Path('train/7/57980.png'), Path('train/7/57991.png'), Path('train/7/57996.png'), Path('train/7/58009.png'), Path('train/7/58029.png'), Path('train/7/58042.png'), Path('train/7/58061.png'), Path('train/7/58078.png'), Path('train/7/58090.png'), Path('train/7/58092.png'), Path('train/7/58094.png'), Path('train/7/58095.png'), Path('train/7/58099.png'), Path('train/7/58106.png'), Path('train/7/58109.png'), Path('train/7/5811.png'), Path('train/7/58118.png'), Path('train/7/58125.png'), Path('train/7/58128.png'), Path('train/7/58140.png'), Path('train/7/58143.png'), Path('train/7/58167.png'), Path('train/7/58177.png'), Path('train/7/5818.png'), Path('train/7/58185.png'), Path('train/7/58188.png'), Path('train/7/58197.png'), Path('train/7/58202.png'), Path('train/7/58204.png'), Path('train/7/58205.png'), Path('train/7/5821.png'), Path('train/7/58214.png'), Path('train/7/58221.png'), Path('train/7/58228.png'), Path('train/7/5825.png'), Path('train/7/58258.png'), Path('train/7/58272.png'), Path('train/7/58282.png'), Path('train/7/58292.png'), Path('train/7/58299.png'), Path('train/7/58308.png'), Path('train/7/58310.png'), Path('train/7/58337.png'), Path('train/7/58342.png'), Path('train/7/58346.png'), Path('train/7/58349.png'), Path('train/7/58367.png'), Path('train/7/58383.png'), Path('train/7/58393.png'), Path('train/7/58425.png'), Path('train/7/58444.png'), Path('train/7/58450.png'), Path('train/7/58453.png'), Path('train/7/58455.png'), Path('train/7/58480.png'), Path('train/7/58485.png'), Path('train/7/58490.png'), Path('train/7/58497.png'), Path('train/7/58507.png'), Path('train/7/5851.png'), Path('train/7/58517.png'), Path('train/7/58520.png'), Path('train/7/58524.png'), Path('train/7/58526.png'), Path('train/7/58528.png'), Path('train/7/58530.png'), Path('train/7/5855.png'), Path('train/7/58565.png'), Path('train/7/58571.png'), Path('train/7/58574.png'), Path('train/7/58583.png'), Path('train/7/58589.png'), Path('train/7/586.png'), Path('train/7/58606.png'), Path('train/7/58614.png'), Path('train/7/58624.png'), Path('train/7/58631.png'), Path('train/7/58635.png'), Path('train/7/58648.png'), Path('train/7/58671.png'), Path('train/7/58676.png'), Path('train/7/58681.png'), Path('train/7/58683.png'), Path('train/7/58687.png'), Path('train/7/58690.png'), Path('train/7/58701.png'), Path('train/7/58708.png'), Path('train/7/58715.png'), Path('train/7/58725.png'), Path('train/7/58733.png'), Path('train/7/58750.png'), Path('train/7/58751.png'), Path('train/7/58778.png'), Path('train/7/58788.png'), Path('train/7/58816.png'), Path('train/7/58826.png'), Path('train/7/58836.png'), Path('train/7/58844.png'), Path('train/7/58848.png'), Path('train/7/58885.png'), Path('train/7/58890.png'), Path('train/7/58899.png'), Path('train/7/58901.png'), Path('train/7/58907.png'), Path('train/7/58912.png'), Path('train/7/58925.png'), Path('train/7/58932.png'), Path('train/7/58941.png'), Path('train/7/58950.png'), Path('train/7/58959.png'), Path('train/7/5897.png'), Path('train/7/58972.png'), Path('train/7/58974.png'), Path('train/7/58975.png'), Path('train/7/58977.png'), Path('train/7/58981.png'), Path('train/7/58988.png'), Path('train/7/59003.png'), Path('train/7/59019.png'), Path('train/7/59025.png'), Path('train/7/59031.png'), Path('train/7/59048.png'), Path('train/7/59056.png'), Path('train/7/5906.png'), Path('train/7/59066.png'), Path('train/7/59068.png'), Path('train/7/59082.png'), Path('train/7/59083.png'), Path('train/7/59088.png'), Path('train/7/59107.png'), Path('train/7/59115.png'), Path('train/7/59118.png'), Path('train/7/5912.png'), Path('train/7/59124.png'), Path('train/7/59138.png'), Path('train/7/59140.png'), Path('train/7/59162.png'), Path('train/7/59172.png'), Path('train/7/59182.png'), Path('train/7/59198.png'), Path('train/7/59204.png'), Path('train/7/59209.png'), Path('train/7/59213.png'), Path('train/7/59246.png'), Path('train/7/59250.png'), Path('train/7/59254.png'), Path('train/7/59264.png'), Path('train/7/59276.png'), Path('train/7/59279.png'), Path('train/7/59285.png'), Path('train/7/59293.png'), Path('train/7/59304.png'), Path('train/7/59306.png'), Path('train/7/59323.png'), Path('train/7/59332.png'), Path('train/7/59348.png'), Path('train/7/59360.png'), Path('train/7/59370.png'), Path('train/7/59379.png'), Path('train/7/59388.png'), Path('train/7/59389.png'), Path('train/7/59405.png'), Path('train/7/59412.png'), Path('train/7/59424.png'), Path('train/7/59435.png'), Path('train/7/59441.png'), Path('train/7/5946.png'), Path('train/7/59462.png'), Path('train/7/59468.png'), Path('train/7/59469.png'), Path('train/7/59484.png'), Path('train/7/59494.png'), Path('train/7/59504.png'), Path('train/7/59513.png'), Path('train/7/59516.png'), Path('train/7/59520.png'), Path('train/7/59524.png'), Path('train/7/59526.png'), Path('train/7/5953.png'), Path('train/7/59533.png'), Path('train/7/59552.png'), Path('train/7/59554.png'), Path('train/7/59560.png'), Path('train/7/59561.png'), Path('train/7/5959.png'), Path('train/7/59592.png'), Path('train/7/59602.png'), Path('train/7/59611.png'), Path('train/7/59617.png'), Path('train/7/59626.png'), Path('train/7/59638.png'), Path('train/7/59646.png'), Path('train/7/59661.png'), Path('train/7/59664.png'), Path('train/7/59665.png'), Path('train/7/5968.png'), Path('train/7/59682.png'), Path('train/7/59703.png'), Path('train/7/59710.png'), Path('train/7/59717.png'), Path('train/7/59724.png'), Path('train/7/59733.png'), Path('train/7/59739.png'), Path('train/7/59740.png'), Path('train/7/59745.png'), Path('train/7/59746.png'), Path('train/7/5975.png'), Path('train/7/5976.png'), Path('train/7/59767.png'), Path('train/7/59774.png'), Path('train/7/59779.png'), Path('train/7/59792.png'), Path('train/7/59802.png'), Path('train/7/59812.png'), Path('train/7/59830.png'), Path('train/7/59839.png'), Path('train/7/59842.png'), Path('train/7/59843.png'), Path('train/7/59845.png'), Path('train/7/59851.png'), Path('train/7/59856.png'), Path('train/7/5986.png'), Path('train/7/59871.png'), Path('train/7/59894.png'), Path('train/7/599.png'), Path('train/7/59908.png'), Path('train/7/59925.png'), Path('train/7/59935.png'), Path('train/7/59937.png'), Path('train/7/59938.png'), Path('train/7/5995.png'), Path('train/7/59953.png'), Path('train/7/59963.png'), Path('train/7/59977.png'), Path('train/7/59988.png'), Path('train/7/6014.png'), Path('train/7/6015.png'), Path('train/7/6046.png'), Path('train/7/6050.png'), Path('train/7/6053.png'), Path('train/7/6054.png'), Path('train/7/6064.png'), Path('train/7/608.png'), Path('train/7/6087.png'), Path('train/7/6088.png'), Path('train/7/6091.png'), Path('train/7/6109.png'), Path('train/7/611.png'), Path('train/7/6115.png'), Path('train/7/6130.png'), Path('train/7/6132.png'), Path('train/7/6134.png'), Path('train/7/6140.png'), Path('train/7/6141.png'), Path('train/7/6147.png'), Path('train/7/6167.png'), Path('train/7/617.png'), Path('train/7/6173.png'), Path('train/7/6176.png'), Path('train/7/6202.png'), Path('train/7/6221.png'), Path('train/7/6224.png'), Path('train/7/624.png'), Path('train/7/6241.png'), Path('train/7/6248.png'), Path('train/7/6250.png'), Path('train/7/6259.png'), Path('train/7/6278.png'), Path('train/7/6280.png'), Path('train/7/6287.png'), Path('train/7/6304.png'), Path('train/7/6315.png'), Path('train/7/6319.png'), Path('train/7/632.png'), Path('train/7/6333.png'), Path('train/7/6339.png'), Path('train/7/634.png'), Path('train/7/6358.png'), Path('train/7/636.png'), Path('train/7/6361.png'), Path('train/7/6375.png'), Path('train/7/6378.png'), Path('train/7/6381.png'), Path('train/7/6397.png'), Path('train/7/640.png'), Path('train/7/6403.png'), Path('train/7/6432.png'), Path('train/7/6435.png'), Path('train/7/644.png'), Path('train/7/6455.png'), Path('train/7/6475.png'), Path('train/7/6476.png'), Path('train/7/6481.png'), Path('train/7/6485.png'), Path('train/7/6487.png'), Path('train/7/6507.png'), Path('train/7/651.png'), Path('train/7/6510.png'), Path('train/7/6525.png'), Path('train/7/6528.png'), Path('train/7/654.png'), Path('train/7/6550.png'), Path('train/7/6566.png'), Path('train/7/6579.png'), Path('train/7/6587.png'), Path('train/7/6590.png'), Path('train/7/6597.png'), Path('train/7/6600.png'), Path('train/7/6616.png'), Path('train/7/6623.png'), Path('train/7/6650.png'), Path('train/7/6666.png'), Path('train/7/6675.png'), Path('train/7/6686.png'), Path('train/7/6688.png'), Path('train/7/6695.png'), Path('train/7/6696.png'), Path('train/7/6707.png'), Path('train/7/6713.png'), Path('train/7/6715.png'), Path('train/7/6722.png'), Path('train/7/6740.png'), Path('train/7/6752.png'), Path('train/7/6756.png'), Path('train/7/6770.png'), Path('train/7/6777.png'), Path('train/7/6818.png'), Path('train/7/6824.png'), Path('train/7/683.png'), Path('train/7/6835.png'), Path('train/7/6843.png'), Path('train/7/6845.png'), Path('train/7/686.png'), Path('train/7/6862.png'), Path('train/7/6866.png'), Path('train/7/6871.png'), Path('train/7/6878.png'), Path('train/7/6881.png'), Path('train/7/6882.png'), Path('train/7/6889.png'), Path('train/7/6902.png'), Path('train/7/6908.png'), Path('train/7/6911.png'), Path('train/7/6914.png'), Path('train/7/6915.png'), Path('train/7/6932.png'), Path('train/7/6947.png'), Path('train/7/6953.png'), Path('train/7/6956.png'), Path('train/7/6965.png'), Path('train/7/6986.png'), Path('train/7/7001.png'), Path('train/7/7010.png'), Path('train/7/7017.png'), Path('train/7/7028.png'), Path('train/7/703.png'), Path('train/7/7033.png'), Path('train/7/7054.png'), Path('train/7/7059.png'), Path('train/7/7085.png'), Path('train/7/7092.png'), Path('train/7/7099.png'), Path('train/7/71.png'), Path('train/7/7113.png'), Path('train/7/7125.png'), Path('train/7/7167.png'), Path('train/7/7173.png'), Path('train/7/7174.png'), Path('train/7/7197.png'), Path('train/7/7210.png'), Path('train/7/7213.png'), Path('train/7/7226.png'), Path('train/7/7229.png'), Path('train/7/723.png'), Path('train/7/7236.png'), Path('train/7/724.png'), Path('train/7/7255.png'), Path('train/7/7277.png'), Path('train/7/7278.png'), Path('train/7/728.png'), Path('train/7/7284.png'), Path('train/7/7287.png'), Path('train/7/730.png'), Path('train/7/7301.png'), Path('train/7/7304.png'), Path('train/7/7306.png'), Path('train/7/7309.png'), Path('train/7/7314.png'), Path('train/7/7331.png'), Path('train/7/7334.png'), Path('train/7/7340.png'), Path('train/7/7348.png'), Path('train/7/7352.png'), Path('train/7/7362.png'), Path('train/7/7380.png'), Path('train/7/7384.png'), Path('train/7/7386.png'), Path('train/7/7388.png'), Path('train/7/7403.png'), Path('train/7/7418.png'), Path('train/7/7420.png'), Path('train/7/7423.png'), Path('train/7/7437.png'), Path('train/7/7438.png'), Path('train/7/7445.png'), Path('train/7/7446.png'), Path('train/7/7470.png'), Path('train/7/7494.png'), Path('train/7/750.png'), Path('train/7/7509.png'), Path('train/7/7513.png'), Path('train/7/7525.png'), Path('train/7/7527.png'), Path('train/7/753.png'), Path('train/7/7530.png'), Path('train/7/7534.png'), Path('train/7/7547.png'), Path('train/7/7565.png'), Path('train/7/7568.png'), Path('train/7/7605.png'), Path('train/7/7608.png'), Path('train/7/7610.png'), Path('train/7/7616.png'), Path('train/7/7621.png'), Path('train/7/7643.png'), Path('train/7/7644.png'), Path('train/7/7663.png'), Path('train/7/7679.png'), Path('train/7/7686.png'), Path('train/7/7694.png'), Path('train/7/7697.png'), Path('train/7/773.png'), Path('train/7/7730.png'), Path('train/7/7731.png'), Path('train/7/7737.png'), Path('train/7/7754.png'), Path('train/7/7769.png'), Path('train/7/7770.png'), Path('train/7/7781.png'), Path('train/7/7783.png'), Path('train/7/7795.png'), Path('train/7/7808.png'), Path('train/7/7809.png'), Path('train/7/7849.png'), Path('train/7/7852.png'), Path('train/7/786.png'), Path('train/7/7866.png'), Path('train/7/7869.png'), Path('train/7/7889.png'), Path('train/7/7899.png'), Path('train/7/79.png'), Path('train/7/7906.png'), Path('train/7/7913.png'), Path('train/7/7931.png'), Path('train/7/7943.png'), Path('train/7/7945.png'), Path('train/7/795.png'), Path('train/7/7950.png'), Path('train/7/7959.png'), Path('train/7/7961.png'), Path('train/7/798.png'), Path('train/7/7992.png'), Path('train/7/7994.png'), Path('train/7/8020.png'), Path('train/7/803.png'), Path('train/7/8038.png'), Path('train/7/8044.png'), Path('train/7/8049.png'), Path('train/7/8068.png'), Path('train/7/8069.png'), Path('train/7/8079.png'), Path('train/7/8084.png'), Path('train/7/8090.png'), Path('train/7/8107.png'), Path('train/7/8114.png'), Path('train/7/8123.png'), Path('train/7/8130.png'), Path('train/7/8137.png'), Path('train/7/8138.png'), Path('train/7/8142.png'), Path('train/7/8143.png'), Path('train/7/8144.png'), Path('train/7/8167.png'), Path('train/7/8168.png'), Path('train/7/8170.png'), Path('train/7/8182.png'), Path('train/7/8186.png'), Path('train/7/819.png'), Path('train/7/8196.png'), Path('train/7/8198.png'), Path('train/7/820.png'), Path('train/7/8205.png'), Path('train/7/8214.png'), Path('train/7/8217.png'), Path('train/7/8232.png'), Path('train/7/8237.png'), Path('train/7/824.png'), Path('train/7/8248.png'), Path('train/7/8256.png'), Path('train/7/8267.png'), Path('train/7/8268.png'), Path('train/7/8280.png'), Path('train/7/8283.png'), Path('train/7/8286.png'), Path('train/7/8297.png'), Path('train/7/8302.png'), Path('train/7/8345.png'), Path('train/7/8353.png'), Path('train/7/8361.png'), Path('train/7/8362.png'), Path('train/7/8364.png'), Path('train/7/8375.png'), Path('train/7/8377.png'), Path('train/7/8389.png'), Path('train/7/839.png'), Path('train/7/8396.png'), Path('train/7/84.png'), Path('train/7/8401.png'), Path('train/7/8429.png'), Path('train/7/8436.png'), Path('train/7/8437.png'), Path('train/7/8444.png'), Path('train/7/8463.png'), Path('train/7/8476.png'), Path('train/7/8483.png'), Path('train/7/8499.png'), Path('train/7/8502.png'), Path('train/7/8511.png'), Path('train/7/8516.png'), Path('train/7/8517.png'), Path('train/7/853.png'), Path('train/7/8556.png'), Path('train/7/8559.png'), Path('train/7/8562.png'), Path('train/7/8566.png'), Path('train/7/8571.png'), Path('train/7/8572.png'), Path('train/7/8576.png'), Path('train/7/8594.png'), Path('train/7/8596.png'), Path('train/7/8604.png'), Path('train/7/8616.png'), Path('train/7/8629.png'), Path('train/7/8637.png'), Path('train/7/8647.png'), Path('train/7/8651.png'), Path('train/7/8655.png'), Path('train/7/8665.png'), Path('train/7/868.png'), Path('train/7/8698.png'), Path('train/7/8699.png'), Path('train/7/8717.png'), Path('train/7/8718.png'), Path('train/7/8735.png'), Path('train/7/8741.png'), Path('train/7/8758.png'), Path('train/7/8783.png'), Path('train/7/8791.png'), Path('train/7/8798.png'), Path('train/7/880.png'), Path('train/7/8801.png'), Path('train/7/8803.png'), Path('train/7/8804.png'), Path('train/7/8805.png'), Path('train/7/8827.png'), Path('train/7/8828.png'), Path('train/7/883.png'), Path('train/7/884.png'), Path('train/7/8845.png'), Path('train/7/8849.png'), Path('train/7/8861.png'), Path('train/7/8866.png'), Path('train/7/888.png'), Path('train/7/8910.png'), Path('train/7/8913.png'), Path('train/7/8931.png'), Path('train/7/8949.png'), Path('train/7/8954.png'), Path('train/7/8959.png'), Path('train/7/8965.png'), Path('train/7/898.png'), Path('train/7/8980.png'), Path('train/7/8990.png'), Path('train/7/8991.png'), Path('train/7/9001.png'), Path('train/7/9007.png'), Path('train/7/9022.png'), Path('train/7/9023.png'), Path('train/7/904.png'), Path('train/7/9052.png'), Path('train/7/9060.png'), Path('train/7/9077.png'), Path('train/7/908.png'), Path('train/7/9082.png'), Path('train/7/9086.png'), Path('train/7/9097.png'), Path('train/7/91.png'), Path('train/7/9102.png'), Path('train/7/911.png'), Path('train/7/9115.png'), Path('train/7/9143.png'), Path('train/7/9157.png'), Path('train/7/9162.png'), Path('train/7/918.png'), Path('train/7/9188.png'), Path('train/7/9198.png'), Path('train/7/9200.png'), Path('train/7/9214.png'), Path('train/7/9223.png'), Path('train/7/9224.png'), Path('train/7/9235.png'), Path('train/7/9243.png'), Path('train/7/9263.png'), Path('train/7/9267.png'), Path('train/7/9270.png'), Path('train/7/9273.png'), Path('train/7/9274.png'), Path('train/7/9276.png'), Path('train/7/928.png'), Path('train/7/9283.png'), Path('train/7/9286.png'), Path('train/7/9307.png'), Path('train/7/9327.png'), Path('train/7/933.png'), Path('train/7/934.png'), Path('train/7/9343.png'), Path('train/7/9351.png'), Path('train/7/9356.png'), Path('train/7/936.png'), Path('train/7/9373.png'), Path('train/7/9382.png'), Path('train/7/9395.png'), Path('train/7/9416.png'), Path('train/7/942.png'), Path('train/7/9426.png'), Path('train/7/9429.png'), Path('train/7/9432.png'), Path('train/7/9433.png'), Path('train/7/9434.png'), Path('train/7/9444.png'), Path('train/7/9445.png'), Path('train/7/9454.png'), Path('train/7/9467.png'), Path('train/7/9470.png'), Path('train/7/948.png'), Path('train/7/9494.png'), Path('train/7/9498.png'), Path('train/7/9499.png'), Path('train/7/950.png'), Path('train/7/9502.png'), Path('train/7/9510.png'), Path('train/7/9519.png'), Path('train/7/9522.png'), Path('train/7/9535.png'), Path('train/7/9538.png'), Path('train/7/954.png'), Path('train/7/9545.png'), Path('train/7/9548.png'), Path('train/7/9549.png'), Path('train/7/9551.png'), Path('train/7/9560.png'), Path('train/7/9571.png'), Path('train/7/9582.png'), Path('train/7/9588.png'), Path('train/7/9598.png'), Path('train/7/96.png'), Path('train/7/9603.png'), Path('train/7/9606.png'), Path('train/7/962.png'), Path('train/7/9644.png'), Path('train/7/9656.png'), Path('train/7/9657.png'), Path('train/7/9660.png'), Path('train/7/9665.png'), Path('train/7/9669.png'), Path('train/7/9676.png'), Path('train/7/968.png'), Path('train/7/9681.png'), Path('train/7/969.png'), Path('train/7/971.png'), Path('train/7/9711.png'), Path('train/7/9716.png'), Path('train/7/9724.png'), Path('train/7/9740.png'), Path('train/7/9747.png'), Path('train/7/9767.png'), Path('train/7/9768.png'), Path('train/7/9774.png'), Path('train/7/9787.png'), Path('train/7/9788.png'), Path('train/7/9793.png'), Path('train/7/981.png'), Path('train/7/9831.png'), Path('train/7/9833.png'), Path('train/7/9843.png'), Path('train/7/9854.png'), Path('train/7/9878.png'), Path('train/7/9882.png'), Path('train/7/9885.png'), Path('train/7/9886.png'), Path('train/7/9888.png'), Path('train/7/9901.png'), Path('train/7/9905.png'), Path('train/7/9908.png'), Path('train/7/9911.png'), Path('train/7/9927.png'), Path('train/7/994.png'), Path('train/7/995.png'), Path('train/7/9954.png'), Path('train/7/9955.png'), Path('train/7/9988.png'), Path('train/7/9990.png'), Path('train/7/9992.png'), Path('train/7/9999.png')]\n"
     ]
    }
   ],
   "source": [
    "# Check the number of 3s and 7s in the training set\n",
    "print(len(threes), threes)\n",
    "print(len(sevens), sevens)"
   ]
  },
  {
   "cell_type": "code",
   "execution_count": 31,
   "metadata": {},
   "outputs": [
    {
     "data": {
      "image/jpeg": "[encoded data removed]",
      "image/png": "[encoded data removed]",
      "text/plain": [
       "<PIL.PngImagePlugin.PngImageFile image mode=L size=28x28>"
      ]
     },
     "execution_count": 31,
     "metadata": {},
     "output_type": "execute_result"
    }
   ],
   "source": [
    "# Ensure that the images are correct\n",
    "im3_path = threes[0]\n",
    "im3 = Image.open(im3_path)\n",
    "im3"
   ]
  },
  {
   "cell_type": "code",
   "execution_count": 27,
   "metadata": {},
   "outputs": [
    {
     "data": {
      "image/jpeg": "[encoded data removed]",
      "image/png": "[encoded data removed]",
      "text/plain": [
       "<PIL.PngImagePlugin.PngImageFile image mode=L size=28x28>"
      ]
     },
     "execution_count": 27,
     "metadata": {},
     "output_type": "execute_result"
    }
   ],
   "source": [
    "# Ensure that the images are correct\n",
    "im7_path = sevens[0]\n",
    "im7 = Image.open(im7_path)\n",
    "im7"
   ]
  },
  {
   "cell_type": "code",
   "execution_count": 33,
   "metadata": {},
   "outputs": [
    {
     "data": {
      "text/html": [
       "<style type=\"text/css\">\n",
       "#T_fb048_row0_col0, #T_fb048_row0_col1, #T_fb048_row0_col2, #T_fb048_row0_col3, #T_fb048_row0_col4, #T_fb048_row0_col5, #T_fb048_row0_col6, #T_fb048_row0_col7, #T_fb048_row0_col8, #T_fb048_row0_col9, #T_fb048_row0_col10, #T_fb048_row0_col11, #T_fb048_row0_col12, #T_fb048_row0_col13, #T_fb048_row0_col14, #T_fb048_row0_col15, #T_fb048_row0_col16, #T_fb048_row0_col17, #T_fb048_row0_col18, #T_fb048_row0_col19, #T_fb048_row0_col20, #T_fb048_row0_col21, #T_fb048_row0_col22, #T_fb048_row0_col23, #T_fb048_row0_col24, #T_fb048_row0_col25, #T_fb048_row0_col26, #T_fb048_row0_col27, #T_fb048_row1_col0, #T_fb048_row1_col1, #T_fb048_row1_col2, #T_fb048_row1_col3, #T_fb048_row1_col4, #T_fb048_row1_col5, #T_fb048_row1_col6, #T_fb048_row1_col7, #T_fb048_row1_col8, #T_fb048_row1_col9, #T_fb048_row1_col10, #T_fb048_row1_col11, #T_fb048_row1_col12, #T_fb048_row1_col13, #T_fb048_row1_col14, #T_fb048_row1_col15, #T_fb048_row1_col16, #T_fb048_row1_col17, #T_fb048_row1_col18, #T_fb048_row1_col19, #T_fb048_row1_col20, #T_fb048_row1_col21, #T_fb048_row1_col22, #T_fb048_row1_col23, #T_fb048_row1_col24, #T_fb048_row1_col25, #T_fb048_row1_col26, #T_fb048_row1_col27, #T_fb048_row2_col0, #T_fb048_row2_col1, #T_fb048_row2_col2, #T_fb048_row2_col3, #T_fb048_row2_col4, #T_fb048_row2_col5, #T_fb048_row2_col6, #T_fb048_row2_col7, #T_fb048_row2_col8, #T_fb048_row2_col9, #T_fb048_row2_col10, #T_fb048_row2_col11, #T_fb048_row2_col12, #T_fb048_row2_col13, #T_fb048_row2_col14, #T_fb048_row2_col15, #T_fb048_row2_col16, #T_fb048_row2_col17, #T_fb048_row2_col18, #T_fb048_row2_col19, #T_fb048_row2_col20, #T_fb048_row2_col21, #T_fb048_row2_col22, #T_fb048_row2_col23, #T_fb048_row2_col24, #T_fb048_row2_col25, #T_fb048_row2_col26, #T_fb048_row2_col27, #T_fb048_row3_col0, #T_fb048_row3_col1, #T_fb048_row3_col2, #T_fb048_row3_col3, #T_fb048_row3_col4, #T_fb048_row3_col5, #T_fb048_row3_col6, #T_fb048_row3_col7, #T_fb048_row3_col8, #T_fb048_row3_col9, #T_fb048_row3_col10, #T_fb048_row3_col11, #T_fb048_row3_col12, #T_fb048_row3_col13, #T_fb048_row3_col14, #T_fb048_row3_col15, #T_fb048_row3_col16, #T_fb048_row3_col17, #T_fb048_row3_col18, #T_fb048_row3_col19, #T_fb048_row3_col20, #T_fb048_row3_col21, #T_fb048_row3_col22, #T_fb048_row3_col23, #T_fb048_row3_col24, #T_fb048_row3_col25, #T_fb048_row3_col26, #T_fb048_row3_col27, #T_fb048_row4_col0, #T_fb048_row4_col1, #T_fb048_row4_col2, #T_fb048_row4_col3, #T_fb048_row4_col4, #T_fb048_row4_col5, #T_fb048_row4_col6, #T_fb048_row4_col7, #T_fb048_row4_col8, #T_fb048_row4_col9, #T_fb048_row4_col10, #T_fb048_row4_col18, #T_fb048_row4_col19, #T_fb048_row4_col20, #T_fb048_row4_col21, #T_fb048_row4_col22, #T_fb048_row4_col23, #T_fb048_row4_col24, #T_fb048_row4_col25, #T_fb048_row4_col26, #T_fb048_row4_col27, #T_fb048_row5_col0, #T_fb048_row5_col1, #T_fb048_row5_col2, #T_fb048_row5_col3, #T_fb048_row5_col4, #T_fb048_row5_col5, #T_fb048_row5_col6, #T_fb048_row5_col7, #T_fb048_row5_col8, #T_fb048_row5_col9, #T_fb048_row5_col18, #T_fb048_row5_col19, #T_fb048_row5_col20, #T_fb048_row5_col21, #T_fb048_row5_col22, #T_fb048_row5_col23, #T_fb048_row5_col24, #T_fb048_row5_col25, #T_fb048_row5_col26, #T_fb048_row5_col27, #T_fb048_row6_col0, #T_fb048_row6_col1, #T_fb048_row6_col2, #T_fb048_row6_col3, #T_fb048_row6_col4, #T_fb048_row6_col5, #T_fb048_row6_col6, #T_fb048_row6_col7, #T_fb048_row6_col8, #T_fb048_row6_col9, #T_fb048_row6_col19, #T_fb048_row6_col20, #T_fb048_row6_col21, #T_fb048_row6_col22, #T_fb048_row6_col23, #T_fb048_row6_col24, #T_fb048_row6_col25, #T_fb048_row6_col26, #T_fb048_row6_col27, #T_fb048_row7_col0, #T_fb048_row7_col1, #T_fb048_row7_col2, #T_fb048_row7_col3, #T_fb048_row7_col4, #T_fb048_row7_col5, #T_fb048_row7_col6, #T_fb048_row7_col7, #T_fb048_row7_col8, #T_fb048_row7_col9, #T_fb048_row7_col10, #T_fb048_row7_col19, #T_fb048_row7_col20, #T_fb048_row7_col21, #T_fb048_row7_col22, #T_fb048_row7_col23, #T_fb048_row7_col24, #T_fb048_row7_col25, #T_fb048_row7_col26, #T_fb048_row7_col27, #T_fb048_row8_col0, #T_fb048_row8_col1, #T_fb048_row8_col2, #T_fb048_row8_col3, #T_fb048_row8_col4, #T_fb048_row8_col5, #T_fb048_row8_col6, #T_fb048_row8_col7, #T_fb048_row8_col8, #T_fb048_row8_col9, #T_fb048_row8_col10, #T_fb048_row8_col11, #T_fb048_row8_col19, #T_fb048_row8_col20, #T_fb048_row8_col21, #T_fb048_row8_col22, #T_fb048_row8_col23, #T_fb048_row8_col24, #T_fb048_row8_col25, #T_fb048_row8_col26, #T_fb048_row8_col27, #T_fb048_row9_col0, #T_fb048_row9_col1, #T_fb048_row9_col2, #T_fb048_row9_col3, #T_fb048_row9_col4, #T_fb048_row9_col5, #T_fb048_row9_col6, #T_fb048_row9_col7, #T_fb048_row9_col8, #T_fb048_row9_col9, #T_fb048_row9_col10, #T_fb048_row9_col11, #T_fb048_row9_col19, #T_fb048_row9_col20, #T_fb048_row9_col21, #T_fb048_row9_col22, #T_fb048_row9_col23, #T_fb048_row9_col24, #T_fb048_row9_col25, #T_fb048_row9_col26, #T_fb048_row9_col27, #T_fb048_row10_col0, #T_fb048_row10_col1, #T_fb048_row10_col2, #T_fb048_row10_col3, #T_fb048_row10_col4, #T_fb048_row10_col5, #T_fb048_row10_col6, #T_fb048_row10_col7, #T_fb048_row10_col8, #T_fb048_row10_col9, #T_fb048_row10_col10, #T_fb048_row10_col11, #T_fb048_row10_col12, #T_fb048_row10_col19, #T_fb048_row10_col20, #T_fb048_row10_col21, #T_fb048_row10_col22, #T_fb048_row10_col23, #T_fb048_row10_col24, #T_fb048_row10_col25, #T_fb048_row10_col26, #T_fb048_row10_col27, #T_fb048_row11_col0, #T_fb048_row11_col1, #T_fb048_row11_col2, #T_fb048_row11_col3, #T_fb048_row11_col4, #T_fb048_row11_col5, #T_fb048_row11_col6, #T_fb048_row11_col7, #T_fb048_row11_col8, #T_fb048_row11_col9, #T_fb048_row11_col10, #T_fb048_row11_col11, #T_fb048_row11_col19, #T_fb048_row11_col20, #T_fb048_row11_col21, #T_fb048_row11_col22, #T_fb048_row11_col23, #T_fb048_row11_col24, #T_fb048_row11_col25, #T_fb048_row11_col26, #T_fb048_row11_col27, #T_fb048_row12_col0, #T_fb048_row12_col1, #T_fb048_row12_col2, #T_fb048_row12_col3, #T_fb048_row12_col4, #T_fb048_row12_col5, #T_fb048_row12_col6, #T_fb048_row12_col7, #T_fb048_row12_col8, #T_fb048_row12_col9, #T_fb048_row12_col19, #T_fb048_row12_col20, #T_fb048_row12_col21, #T_fb048_row12_col22, #T_fb048_row12_col23, #T_fb048_row12_col24, #T_fb048_row12_col25, #T_fb048_row12_col26, #T_fb048_row12_col27, #T_fb048_row13_col0, #T_fb048_row13_col1, #T_fb048_row13_col2, #T_fb048_row13_col3, #T_fb048_row13_col4, #T_fb048_row13_col5, #T_fb048_row13_col6, #T_fb048_row13_col7, #T_fb048_row13_col8, #T_fb048_row13_col9, #T_fb048_row13_col19, #T_fb048_row13_col20, #T_fb048_row13_col21, #T_fb048_row13_col22, #T_fb048_row13_col23, #T_fb048_row13_col24, #T_fb048_row13_col25, #T_fb048_row13_col26, #T_fb048_row13_col27, #T_fb048_row14_col0, #T_fb048_row14_col1, #T_fb048_row14_col2, #T_fb048_row14_col3, #T_fb048_row14_col4, #T_fb048_row14_col5, #T_fb048_row14_col6, #T_fb048_row14_col7, #T_fb048_row14_col8, #T_fb048_row14_col9, #T_fb048_row14_col10, #T_fb048_row14_col19, #T_fb048_row14_col20, #T_fb048_row14_col21, #T_fb048_row14_col22, #T_fb048_row14_col23, #T_fb048_row14_col24, #T_fb048_row14_col25, #T_fb048_row14_col26, #T_fb048_row14_col27, #T_fb048_row15_col0, #T_fb048_row15_col1, #T_fb048_row15_col2, #T_fb048_row15_col3, #T_fb048_row15_col4, #T_fb048_row15_col5, #T_fb048_row15_col6, #T_fb048_row15_col7, #T_fb048_row15_col8, #T_fb048_row15_col9, #T_fb048_row15_col10, #T_fb048_row15_col11, #T_fb048_row15_col19, #T_fb048_row15_col20, #T_fb048_row15_col21, #T_fb048_row15_col22, #T_fb048_row15_col23, #T_fb048_row15_col24, #T_fb048_row15_col25, #T_fb048_row15_col26, #T_fb048_row15_col27, #T_fb048_row16_col0, #T_fb048_row16_col1, #T_fb048_row16_col2, #T_fb048_row16_col3, #T_fb048_row16_col4, #T_fb048_row16_col5, #T_fb048_row16_col6, #T_fb048_row16_col7, #T_fb048_row16_col8, #T_fb048_row16_col9, #T_fb048_row16_col10, #T_fb048_row16_col11, #T_fb048_row16_col12, #T_fb048_row16_col13, #T_fb048_row16_col14, #T_fb048_row16_col15, #T_fb048_row16_col20, #T_fb048_row16_col21, #T_fb048_row16_col22, #T_fb048_row16_col23, #T_fb048_row16_col24, #T_fb048_row16_col25, #T_fb048_row16_col26, #T_fb048_row16_col27, #T_fb048_row17_col0, #T_fb048_row17_col1, #T_fb048_row17_col2, #T_fb048_row17_col3, #T_fb048_row17_col4, #T_fb048_row17_col5, #T_fb048_row17_col6, #T_fb048_row17_col7, #T_fb048_row17_col8, #T_fb048_row17_col9, #T_fb048_row17_col10, #T_fb048_row17_col11, #T_fb048_row17_col12, #T_fb048_row17_col13, #T_fb048_row17_col14, #T_fb048_row17_col20, #T_fb048_row17_col21, #T_fb048_row17_col22, #T_fb048_row17_col23, #T_fb048_row17_col24, #T_fb048_row17_col25, #T_fb048_row17_col26, #T_fb048_row17_col27, #T_fb048_row18_col0, #T_fb048_row18_col1, #T_fb048_row18_col2, #T_fb048_row18_col3, #T_fb048_row18_col4, #T_fb048_row18_col5, #T_fb048_row18_col6, #T_fb048_row18_col7, #T_fb048_row18_col8, #T_fb048_row18_col9, #T_fb048_row18_col10, #T_fb048_row18_col11, #T_fb048_row18_col12, #T_fb048_row18_col13, #T_fb048_row18_col14, #T_fb048_row18_col19, #T_fb048_row18_col20, #T_fb048_row18_col21, #T_fb048_row18_col22, #T_fb048_row18_col23, #T_fb048_row18_col24, #T_fb048_row18_col25, #T_fb048_row18_col26, #T_fb048_row18_col27, #T_fb048_row19_col0, #T_fb048_row19_col1, #T_fb048_row19_col2, #T_fb048_row19_col3, #T_fb048_row19_col4, #T_fb048_row19_col5, #T_fb048_row19_col9, #T_fb048_row19_col10, #T_fb048_row19_col11, #T_fb048_row19_col12, #T_fb048_row19_col13, #T_fb048_row19_col19, #T_fb048_row19_col20, #T_fb048_row19_col21, #T_fb048_row19_col22, #T_fb048_row19_col23, #T_fb048_row19_col24, #T_fb048_row19_col25, #T_fb048_row19_col26, #T_fb048_row19_col27, #T_fb048_row20_col0, #T_fb048_row20_col1, #T_fb048_row20_col2, #T_fb048_row20_col3, #T_fb048_row20_col4, #T_fb048_row20_col5, #T_fb048_row20_col11, #T_fb048_row20_col19, #T_fb048_row20_col20, #T_fb048_row20_col21, #T_fb048_row20_col22, #T_fb048_row20_col23, #T_fb048_row20_col24, #T_fb048_row20_col25, #T_fb048_row20_col26, #T_fb048_row20_col27, #T_fb048_row21_col0, #T_fb048_row21_col1, #T_fb048_row21_col2, #T_fb048_row21_col3, #T_fb048_row21_col4, #T_fb048_row21_col5, #T_fb048_row21_col18, #T_fb048_row21_col19, #T_fb048_row21_col20, #T_fb048_row21_col21, #T_fb048_row21_col22, #T_fb048_row21_col23, #T_fb048_row21_col24, #T_fb048_row21_col25, #T_fb048_row21_col26, #T_fb048_row21_col27, #T_fb048_row22_col0, #T_fb048_row22_col1, #T_fb048_row22_col2, #T_fb048_row22_col3, #T_fb048_row22_col4, #T_fb048_row22_col5, #T_fb048_row22_col6, #T_fb048_row22_col16, #T_fb048_row22_col17, #T_fb048_row22_col18, #T_fb048_row22_col19, #T_fb048_row22_col20, #T_fb048_row22_col21, #T_fb048_row22_col22, #T_fb048_row22_col23, #T_fb048_row22_col24, #T_fb048_row22_col25, #T_fb048_row22_col26, #T_fb048_row22_col27, #T_fb048_row23_col0, #T_fb048_row23_col1, #T_fb048_row23_col2, #T_fb048_row23_col3, #T_fb048_row23_col4, #T_fb048_row23_col5, #T_fb048_row23_col6, #T_fb048_row23_col7, #T_fb048_row23_col16, #T_fb048_row23_col17, #T_fb048_row23_col18, #T_fb048_row23_col19, #T_fb048_row23_col20, #T_fb048_row23_col21, #T_fb048_row23_col22, #T_fb048_row23_col23, #T_fb048_row23_col24, #T_fb048_row23_col25, #T_fb048_row23_col26, #T_fb048_row23_col27, #T_fb048_row24_col0, #T_fb048_row24_col1, #T_fb048_row24_col2, #T_fb048_row24_col3, #T_fb048_row24_col4, #T_fb048_row24_col5, #T_fb048_row24_col6, #T_fb048_row24_col7, #T_fb048_row24_col8, #T_fb048_row24_col9, #T_fb048_row24_col10, #T_fb048_row24_col11, #T_fb048_row24_col12, #T_fb048_row24_col13, #T_fb048_row24_col14, #T_fb048_row24_col15, #T_fb048_row24_col16, #T_fb048_row24_col17, #T_fb048_row24_col18, #T_fb048_row24_col19, #T_fb048_row24_col20, #T_fb048_row24_col21, #T_fb048_row24_col22, #T_fb048_row24_col23, #T_fb048_row24_col24, #T_fb048_row24_col25, #T_fb048_row24_col26, #T_fb048_row24_col27, #T_fb048_row25_col0, #T_fb048_row25_col1, #T_fb048_row25_col2, #T_fb048_row25_col3, #T_fb048_row25_col4, #T_fb048_row25_col5, #T_fb048_row25_col6, #T_fb048_row25_col7, #T_fb048_row25_col8, #T_fb048_row25_col9, #T_fb048_row25_col10, #T_fb048_row25_col11, #T_fb048_row25_col12, #T_fb048_row25_col13, #T_fb048_row25_col14, #T_fb048_row25_col15, #T_fb048_row25_col16, #T_fb048_row25_col17, #T_fb048_row25_col18, #T_fb048_row25_col19, #T_fb048_row25_col20, #T_fb048_row25_col21, #T_fb048_row25_col22, #T_fb048_row25_col23, #T_fb048_row25_col24, #T_fb048_row25_col25, #T_fb048_row25_col26, #T_fb048_row25_col27, #T_fb048_row26_col0, #T_fb048_row26_col1, #T_fb048_row26_col2, #T_fb048_row26_col3, #T_fb048_row26_col4, #T_fb048_row26_col5, #T_fb048_row26_col6, #T_fb048_row26_col7, #T_fb048_row26_col8, #T_fb048_row26_col9, #T_fb048_row26_col10, #T_fb048_row26_col11, #T_fb048_row26_col12, #T_fb048_row26_col13, #T_fb048_row26_col14, #T_fb048_row26_col15, #T_fb048_row26_col16, #T_fb048_row26_col17, #T_fb048_row26_col18, #T_fb048_row26_col19, #T_fb048_row26_col20, #T_fb048_row26_col21, #T_fb048_row26_col22, #T_fb048_row26_col23, #T_fb048_row26_col24, #T_fb048_row26_col25, #T_fb048_row26_col26, #T_fb048_row26_col27, #T_fb048_row27_col0, #T_fb048_row27_col1, #T_fb048_row27_col2, #T_fb048_row27_col3, #T_fb048_row27_col4, #T_fb048_row27_col5, #T_fb048_row27_col6, #T_fb048_row27_col7, #T_fb048_row27_col8, #T_fb048_row27_col9, #T_fb048_row27_col10, #T_fb048_row27_col11, #T_fb048_row27_col12, #T_fb048_row27_col13, #T_fb048_row27_col14, #T_fb048_row27_col15, #T_fb048_row27_col16, #T_fb048_row27_col17, #T_fb048_row27_col18, #T_fb048_row27_col19, #T_fb048_row27_col20, #T_fb048_row27_col21, #T_fb048_row27_col22, #T_fb048_row27_col23, #T_fb048_row27_col24, #T_fb048_row27_col25, #T_fb048_row27_col26, #T_fb048_row27_col27 {\n",
       "  font-size: 8pt;\n",
       "  background-color: #ffffff;\n",
       "  color: #000000;\n",
       "}\n",
       "#T_fb048_row4_col11 {\n",
       "  font-size: 8pt;\n",
       "  background-color: #e9e9e9;\n",
       "  color: #000000;\n",
       "}\n",
       "#T_fb048_row4_col12, #T_fb048_row4_col15, #T_fb048_row4_col16 {\n",
       "  font-size: 8pt;\n",
       "  background-color: #a2a2a2;\n",
       "  color: #f1f1f1;\n",
       "}\n",
       "#T_fb048_row4_col13 {\n",
       "  font-size: 8pt;\n",
       "  background-color: #292929;\n",
       "  color: #f1f1f1;\n",
       "}\n",
       "#T_fb048_row4_col14 {\n",
       "  font-size: 8pt;\n",
       "  background-color: #6b6b6b;\n",
       "  color: #f1f1f1;\n",
       "}\n",
       "#T_fb048_row4_col17, #T_fb048_row17_col15, #T_fb048_row23_col8 {\n",
       "  font-size: 8pt;\n",
       "  background-color: #fcfcfc;\n",
       "  color: #000000;\n",
       "}\n",
       "#T_fb048_row5_col10 {\n",
       "  font-size: 8pt;\n",
       "  background-color: #b4b4b4;\n",
       "  color: #000000;\n",
       "}\n",
       "#T_fb048_row5_col11 {\n",
       "  font-size: 8pt;\n",
       "  background-color: #0e0e0e;\n",
       "  color: #f1f1f1;\n",
       "}\n",
       "#T_fb048_row5_col12, #T_fb048_row5_col13, #T_fb048_row5_col14, #T_fb048_row5_col15, #T_fb048_row5_col16, #T_fb048_row6_col12, #T_fb048_row6_col13, #T_fb048_row6_col14, #T_fb048_row6_col15, #T_fb048_row6_col16, #T_fb048_row7_col13, #T_fb048_row7_col15, #T_fb048_row7_col16, #T_fb048_row7_col17, #T_fb048_row8_col13, #T_fb048_row8_col15, #T_fb048_row8_col16, #T_fb048_row8_col17, #T_fb048_row9_col14, #T_fb048_row9_col15, #T_fb048_row9_col16, #T_fb048_row9_col17, #T_fb048_row10_col15, #T_fb048_row10_col16, #T_fb048_row10_col17, #T_fb048_row11_col15, #T_fb048_row11_col16, #T_fb048_row11_col17, #T_fb048_row12_col13, #T_fb048_row12_col14, #T_fb048_row12_col15, #T_fb048_row12_col16, #T_fb048_row12_col17, #T_fb048_row13_col12, #T_fb048_row13_col13, #T_fb048_row13_col14, #T_fb048_row13_col15, #T_fb048_row13_col16, #T_fb048_row13_col17, #T_fb048_row14_col13, #T_fb048_row14_col14, #T_fb048_row14_col15, #T_fb048_row14_col16, #T_fb048_row14_col17, #T_fb048_row15_col17, #T_fb048_row16_col17, #T_fb048_row16_col18, #T_fb048_row16_col19, #T_fb048_row17_col16, #T_fb048_row17_col17, #T_fb048_row18_col16, #T_fb048_row18_col17, #T_fb048_row19_col16, #T_fb048_row19_col17, #T_fb048_row20_col6, #T_fb048_row20_col7, #T_fb048_row20_col15, #T_fb048_row20_col16, #T_fb048_row21_col8, #T_fb048_row21_col9, #T_fb048_row21_col13, #T_fb048_row21_col14, #T_fb048_row22_col9, #T_fb048_row22_col10, #T_fb048_row22_col11, #T_fb048_row22_col12, #T_fb048_row22_col13, #T_fb048_row22_col14, #T_fb048_row23_col12, #T_fb048_row23_col13 {\n",
       "  font-size: 8pt;\n",
       "  background-color: #000000;\n",
       "  color: #f1f1f1;\n",
       "}\n",
       "#T_fb048_row5_col17 {\n",
       "  font-size: 8pt;\n",
       "  background-color: #d7d7d7;\n",
       "  color: #000000;\n",
       "}\n",
       "#T_fb048_row6_col10 {\n",
       "  font-size: 8pt;\n",
       "  background-color: #f7f7f7;\n",
       "  color: #000000;\n",
       "}\n",
       "#T_fb048_row6_col11 {\n",
       "  font-size: 8pt;\n",
       "  background-color: #1a1a1a;\n",
       "  color: #f1f1f1;\n",
       "}\n",
       "#T_fb048_row6_col17 {\n",
       "  font-size: 8pt;\n",
       "  background-color: #131313;\n",
       "  color: #f1f1f1;\n",
       "}\n",
       "#T_fb048_row6_col18, #T_fb048_row13_col10 {\n",
       "  font-size: 8pt;\n",
       "  background-color: #cacaca;\n",
       "  color: #000000;\n",
       "}\n",
       "#T_fb048_row7_col11 {\n",
       "  font-size: 8pt;\n",
       "  background-color: #b3b3b3;\n",
       "  color: #000000;\n",
       "}\n",
       "#T_fb048_row7_col12 {\n",
       "  font-size: 8pt;\n",
       "  background-color: #0c0c0c;\n",
       "  color: #f1f1f1;\n",
       "}\n",
       "#T_fb048_row7_col14 {\n",
       "  font-size: 8pt;\n",
       "  background-color: #232323;\n",
       "  color: #f1f1f1;\n",
       "}\n",
       "#T_fb048_row7_col18 {\n",
       "  font-size: 8pt;\n",
       "  background-color: #6e6e6e;\n",
       "  color: #f1f1f1;\n",
       "}\n",
       "#T_fb048_row8_col12 {\n",
       "  font-size: 8pt;\n",
       "  background-color: #3a3a3a;\n",
       "  color: #f1f1f1;\n",
       "}\n",
       "#T_fb048_row8_col14 {\n",
       "  font-size: 8pt;\n",
       "  background-color: #363636;\n",
       "  color: #f1f1f1;\n",
       "}\n",
       "#T_fb048_row8_col18, #T_fb048_row12_col18, #T_fb048_row19_col18 {\n",
       "  font-size: 8pt;\n",
       "  background-color: #ebebeb;\n",
       "  color: #000000;\n",
       "}\n",
       "#T_fb048_row9_col12 {\n",
       "  font-size: 8pt;\n",
       "  background-color: #c7c7c7;\n",
       "  color: #000000;\n",
       "}\n",
       "#T_fb048_row9_col13, #T_fb048_row20_col14 {\n",
       "  font-size: 8pt;\n",
       "  background-color: #3c3c3c;\n",
       "  color: #f1f1f1;\n",
       "}\n",
       "#T_fb048_row9_col18 {\n",
       "  font-size: 8pt;\n",
       "  background-color: #e5e5e5;\n",
       "  color: #000000;\n",
       "}\n",
       "#T_fb048_row10_col13 {\n",
       "  font-size: 8pt;\n",
       "  background-color: #f4f4f4;\n",
       "  color: #000000;\n",
       "}\n",
       "#T_fb048_row10_col14 {\n",
       "  font-size: 8pt;\n",
       "  background-color: #383838;\n",
       "  color: #f1f1f1;\n",
       "}\n",
       "#T_fb048_row10_col18, #T_fb048_row14_col18, #T_fb048_row15_col18 {\n",
       "  font-size: 8pt;\n",
       "  background-color: #474747;\n",
       "  color: #f1f1f1;\n",
       "}\n",
       "#T_fb048_row11_col12 {\n",
       "  font-size: 8pt;\n",
       "  background-color: #c1c1c1;\n",
       "  color: #000000;\n",
       "}\n",
       "#T_fb048_row11_col13 {\n",
       "  font-size: 8pt;\n",
       "  background-color: #8a8a8a;\n",
       "  color: #f1f1f1;\n",
       "}\n",
       "#T_fb048_row11_col14, #T_fb048_row21_col15 {\n",
       "  font-size: 8pt;\n",
       "  background-color: #010101;\n",
       "  color: #f1f1f1;\n",
       "}\n",
       "#T_fb048_row11_col18 {\n",
       "  font-size: 8pt;\n",
       "  background-color: #939393;\n",
       "  color: #f1f1f1;\n",
       "}\n",
       "#T_fb048_row12_col10 {\n",
       "  font-size: 8pt;\n",
       "  background-color: #eaeaea;\n",
       "  color: #000000;\n",
       "}\n",
       "#T_fb048_row12_col11 {\n",
       "  font-size: 8pt;\n",
       "  background-color: #303030;\n",
       "  color: #f1f1f1;\n",
       "}\n",
       "#T_fb048_row12_col12 {\n",
       "  font-size: 8pt;\n",
       "  background-color: #050505;\n",
       "  color: #f1f1f1;\n",
       "}\n",
       "#T_fb048_row13_col11 {\n",
       "  font-size: 8pt;\n",
       "  background-color: #080808;\n",
       "  color: #f1f1f1;\n",
       "}\n",
       "#T_fb048_row13_col18 {\n",
       "  font-size: 8pt;\n",
       "  background-color: #686868;\n",
       "  color: #f1f1f1;\n",
       "}\n",
       "#T_fb048_row14_col11 {\n",
       "  font-size: 8pt;\n",
       "  background-color: #ababab;\n",
       "  color: #000000;\n",
       "}\n",
       "#T_fb048_row14_col12 {\n",
       "  font-size: 8pt;\n",
       "  background-color: #090909;\n",
       "  color: #f1f1f1;\n",
       "}\n",
       "#T_fb048_row15_col12 {\n",
       "  font-size: 8pt;\n",
       "  background-color: #d1d1d1;\n",
       "  color: #000000;\n",
       "}\n",
       "#T_fb048_row15_col13, #T_fb048_row15_col14, #T_fb048_row20_col13 {\n",
       "  font-size: 8pt;\n",
       "  background-color: #c3c3c3;\n",
       "  color: #000000;\n",
       "}\n",
       "#T_fb048_row15_col15 {\n",
       "  font-size: 8pt;\n",
       "  background-color: #bfbfbf;\n",
       "  color: #000000;\n",
       "}\n",
       "#T_fb048_row15_col16, #T_fb048_row19_col15 {\n",
       "  font-size: 8pt;\n",
       "  background-color: #101010;\n",
       "  color: #f1f1f1;\n",
       "}\n",
       "#T_fb048_row16_col16 {\n",
       "  font-size: 8pt;\n",
       "  background-color: #949494;\n",
       "  color: #f1f1f1;\n",
       "}\n",
       "#T_fb048_row17_col18 {\n",
       "  font-size: 8pt;\n",
       "  background-color: #060606;\n",
       "  color: #f1f1f1;\n",
       "}\n",
       "#T_fb048_row17_col19 {\n",
       "  font-size: 8pt;\n",
       "  background-color: #1c1c1c;\n",
       "  color: #f1f1f1;\n",
       "}\n",
       "#T_fb048_row18_col15 {\n",
       "  font-size: 8pt;\n",
       "  background-color: #898989;\n",
       "  color: #f1f1f1;\n",
       "}\n",
       "#T_fb048_row18_col18 {\n",
       "  font-size: 8pt;\n",
       "  background-color: #8e8e8e;\n",
       "  color: #f1f1f1;\n",
       "}\n",
       "#T_fb048_row19_col6 {\n",
       "  font-size: 8pt;\n",
       "  background-color: #f1f1f1;\n",
       "  color: #000000;\n",
       "}\n",
       "#T_fb048_row19_col7 {\n",
       "  font-size: 8pt;\n",
       "  background-color: #606060;\n",
       "  color: #f1f1f1;\n",
       "}\n",
       "#T_fb048_row19_col8 {\n",
       "  font-size: 8pt;\n",
       "  background-color: #c2c2c2;\n",
       "  color: #000000;\n",
       "}\n",
       "#T_fb048_row19_col14 {\n",
       "  font-size: 8pt;\n",
       "  background-color: #f3f3f3;\n",
       "  color: #000000;\n",
       "}\n",
       "#T_fb048_row20_col8 {\n",
       "  font-size: 8pt;\n",
       "  background-color: #2f2f2f;\n",
       "  color: #f1f1f1;\n",
       "}\n",
       "#T_fb048_row20_col9 {\n",
       "  font-size: 8pt;\n",
       "  background-color: #dadada;\n",
       "  color: #000000;\n",
       "}\n",
       "#T_fb048_row20_col10 {\n",
       "  font-size: 8pt;\n",
       "  background-color: #ededed;\n",
       "  color: #000000;\n",
       "}\n",
       "#T_fb048_row20_col12 {\n",
       "  font-size: 8pt;\n",
       "  background-color: #e2e2e2;\n",
       "  color: #000000;\n",
       "}\n",
       "#T_fb048_row20_col17 {\n",
       "  font-size: 8pt;\n",
       "  background-color: #888888;\n",
       "  color: #f1f1f1;\n",
       "}\n",
       "#T_fb048_row20_col18 {\n",
       "  font-size: 8pt;\n",
       "  background-color: #fbfbfb;\n",
       "  color: #000000;\n",
       "}\n",
       "#T_fb048_row21_col6 {\n",
       "  font-size: 8pt;\n",
       "  background-color: #c4c4c4;\n",
       "  color: #000000;\n",
       "}\n",
       "#T_fb048_row21_col7 {\n",
       "  font-size: 8pt;\n",
       "  background-color: #484848;\n",
       "  color: #f1f1f1;\n",
       "}\n",
       "#T_fb048_row21_col10 {\n",
       "  font-size: 8pt;\n",
       "  background-color: #252525;\n",
       "  color: #f1f1f1;\n",
       "}\n",
       "#T_fb048_row21_col11 {\n",
       "  font-size: 8pt;\n",
       "  background-color: #5d5d5d;\n",
       "  color: #f1f1f1;\n",
       "}\n",
       "#T_fb048_row21_col12 {\n",
       "  font-size: 8pt;\n",
       "  background-color: #0f0f0f;\n",
       "  color: #f1f1f1;\n",
       "}\n",
       "#T_fb048_row21_col16 {\n",
       "  font-size: 8pt;\n",
       "  background-color: #323232;\n",
       "  color: #f1f1f1;\n",
       "}\n",
       "#T_fb048_row21_col17 {\n",
       "  font-size: 8pt;\n",
       "  background-color: #fafafa;\n",
       "  color: #000000;\n",
       "}\n",
       "#T_fb048_row22_col7 {\n",
       "  font-size: 8pt;\n",
       "  background-color: #878787;\n",
       "  color: #f1f1f1;\n",
       "}\n",
       "#T_fb048_row22_col8 {\n",
       "  font-size: 8pt;\n",
       "  background-color: #b2b2b2;\n",
       "  color: #000000;\n",
       "}\n",
       "#T_fb048_row22_col15 {\n",
       "  font-size: 8pt;\n",
       "  background-color: #151515;\n",
       "  color: #f1f1f1;\n",
       "}\n",
       "#T_fb048_row23_col9, #T_fb048_row23_col10 {\n",
       "  font-size: 8pt;\n",
       "  background-color: #a3a3a3;\n",
       "  color: #f1f1f1;\n",
       "}\n",
       "#T_fb048_row23_col11 {\n",
       "  font-size: 8pt;\n",
       "  background-color: #6c6c6c;\n",
       "  color: #f1f1f1;\n",
       "}\n",
       "#T_fb048_row23_col14 {\n",
       "  font-size: 8pt;\n",
       "  background-color: #111111;\n",
       "  color: #f1f1f1;\n",
       "}\n",
       "#T_fb048_row23_col15 {\n",
       "  font-size: 8pt;\n",
       "  background-color: #e3e3e3;\n",
       "  color: #000000;\n",
       "}\n",
       "</style>\n",
       "<table id=\"T_fb048\">\n",
       "  <thead>\n",
       "    <tr>\n",
       "      <th class=\"blank level0\" >&nbsp;</th>\n",
       "      <th id=\"T_fb048_level0_col0\" class=\"col_heading level0 col0\" >0</th>\n",
       "      <th id=\"T_fb048_level0_col1\" class=\"col_heading level0 col1\" >1</th>\n",
       "      <th id=\"T_fb048_level0_col2\" class=\"col_heading level0 col2\" >2</th>\n",
       "      <th id=\"T_fb048_level0_col3\" class=\"col_heading level0 col3\" >3</th>\n",
       "      <th id=\"T_fb048_level0_col4\" class=\"col_heading level0 col4\" >4</th>\n",
       "      <th id=\"T_fb048_level0_col5\" class=\"col_heading level0 col5\" >5</th>\n",
       "      <th id=\"T_fb048_level0_col6\" class=\"col_heading level0 col6\" >6</th>\n",
       "      <th id=\"T_fb048_level0_col7\" class=\"col_heading level0 col7\" >7</th>\n",
       "      <th id=\"T_fb048_level0_col8\" class=\"col_heading level0 col8\" >8</th>\n",
       "      <th id=\"T_fb048_level0_col9\" class=\"col_heading level0 col9\" >9</th>\n",
       "      <th id=\"T_fb048_level0_col10\" class=\"col_heading level0 col10\" >10</th>\n",
       "      <th id=\"T_fb048_level0_col11\" class=\"col_heading level0 col11\" >11</th>\n",
       "      <th id=\"T_fb048_level0_col12\" class=\"col_heading level0 col12\" >12</th>\n",
       "      <th id=\"T_fb048_level0_col13\" class=\"col_heading level0 col13\" >13</th>\n",
       "      <th id=\"T_fb048_level0_col14\" class=\"col_heading level0 col14\" >14</th>\n",
       "      <th id=\"T_fb048_level0_col15\" class=\"col_heading level0 col15\" >15</th>\n",
       "      <th id=\"T_fb048_level0_col16\" class=\"col_heading level0 col16\" >16</th>\n",
       "      <th id=\"T_fb048_level0_col17\" class=\"col_heading level0 col17\" >17</th>\n",
       "      <th id=\"T_fb048_level0_col18\" class=\"col_heading level0 col18\" >18</th>\n",
       "      <th id=\"T_fb048_level0_col19\" class=\"col_heading level0 col19\" >19</th>\n",
       "      <th id=\"T_fb048_level0_col20\" class=\"col_heading level0 col20\" >20</th>\n",
       "      <th id=\"T_fb048_level0_col21\" class=\"col_heading level0 col21\" >21</th>\n",
       "      <th id=\"T_fb048_level0_col22\" class=\"col_heading level0 col22\" >22</th>\n",
       "      <th id=\"T_fb048_level0_col23\" class=\"col_heading level0 col23\" >23</th>\n",
       "      <th id=\"T_fb048_level0_col24\" class=\"col_heading level0 col24\" >24</th>\n",
       "      <th id=\"T_fb048_level0_col25\" class=\"col_heading level0 col25\" >25</th>\n",
       "      <th id=\"T_fb048_level0_col26\" class=\"col_heading level0 col26\" >26</th>\n",
       "      <th id=\"T_fb048_level0_col27\" class=\"col_heading level0 col27\" >27</th>\n",
       "    </tr>\n",
       "  </thead>\n",
       "  <tbody>\n",
       "    <tr>\n",
       "      <th id=\"T_fb048_level0_row0\" class=\"row_heading level0 row0\" >0</th>\n",
       "      <td id=\"T_fb048_row0_col0\" class=\"data row0 col0\" >0</td>\n",
       "      <td id=\"T_fb048_row0_col1\" class=\"data row0 col1\" >0</td>\n",
       "      <td id=\"T_fb048_row0_col2\" class=\"data row0 col2\" >0</td>\n",
       "      <td id=\"T_fb048_row0_col3\" class=\"data row0 col3\" >0</td>\n",
       "      <td id=\"T_fb048_row0_col4\" class=\"data row0 col4\" >0</td>\n",
       "      <td id=\"T_fb048_row0_col5\" class=\"data row0 col5\" >0</td>\n",
       "      <td id=\"T_fb048_row0_col6\" class=\"data row0 col6\" >0</td>\n",
       "      <td id=\"T_fb048_row0_col7\" class=\"data row0 col7\" >0</td>\n",
       "      <td id=\"T_fb048_row0_col8\" class=\"data row0 col8\" >0</td>\n",
       "      <td id=\"T_fb048_row0_col9\" class=\"data row0 col9\" >0</td>\n",
       "      <td id=\"T_fb048_row0_col10\" class=\"data row0 col10\" >0</td>\n",
       "      <td id=\"T_fb048_row0_col11\" class=\"data row0 col11\" >0</td>\n",
       "      <td id=\"T_fb048_row0_col12\" class=\"data row0 col12\" >0</td>\n",
       "      <td id=\"T_fb048_row0_col13\" class=\"data row0 col13\" >0</td>\n",
       "      <td id=\"T_fb048_row0_col14\" class=\"data row0 col14\" >0</td>\n",
       "      <td id=\"T_fb048_row0_col15\" class=\"data row0 col15\" >0</td>\n",
       "      <td id=\"T_fb048_row0_col16\" class=\"data row0 col16\" >0</td>\n",
       "      <td id=\"T_fb048_row0_col17\" class=\"data row0 col17\" >0</td>\n",
       "      <td id=\"T_fb048_row0_col18\" class=\"data row0 col18\" >0</td>\n",
       "      <td id=\"T_fb048_row0_col19\" class=\"data row0 col19\" >0</td>\n",
       "      <td id=\"T_fb048_row0_col20\" class=\"data row0 col20\" >0</td>\n",
       "      <td id=\"T_fb048_row0_col21\" class=\"data row0 col21\" >0</td>\n",
       "      <td id=\"T_fb048_row0_col22\" class=\"data row0 col22\" >0</td>\n",
       "      <td id=\"T_fb048_row0_col23\" class=\"data row0 col23\" >0</td>\n",
       "      <td id=\"T_fb048_row0_col24\" class=\"data row0 col24\" >0</td>\n",
       "      <td id=\"T_fb048_row0_col25\" class=\"data row0 col25\" >0</td>\n",
       "      <td id=\"T_fb048_row0_col26\" class=\"data row0 col26\" >0</td>\n",
       "      <td id=\"T_fb048_row0_col27\" class=\"data row0 col27\" >0</td>\n",
       "    </tr>\n",
       "    <tr>\n",
       "      <th id=\"T_fb048_level0_row1\" class=\"row_heading level0 row1\" >1</th>\n",
       "      <td id=\"T_fb048_row1_col0\" class=\"data row1 col0\" >0</td>\n",
       "      <td id=\"T_fb048_row1_col1\" class=\"data row1 col1\" >0</td>\n",
       "      <td id=\"T_fb048_row1_col2\" class=\"data row1 col2\" >0</td>\n",
       "      <td id=\"T_fb048_row1_col3\" class=\"data row1 col3\" >0</td>\n",
       "      <td id=\"T_fb048_row1_col4\" class=\"data row1 col4\" >0</td>\n",
       "      <td id=\"T_fb048_row1_col5\" class=\"data row1 col5\" >0</td>\n",
       "      <td id=\"T_fb048_row1_col6\" class=\"data row1 col6\" >0</td>\n",
       "      <td id=\"T_fb048_row1_col7\" class=\"data row1 col7\" >0</td>\n",
       "      <td id=\"T_fb048_row1_col8\" class=\"data row1 col8\" >0</td>\n",
       "      <td id=\"T_fb048_row1_col9\" class=\"data row1 col9\" >0</td>\n",
       "      <td id=\"T_fb048_row1_col10\" class=\"data row1 col10\" >0</td>\n",
       "      <td id=\"T_fb048_row1_col11\" class=\"data row1 col11\" >0</td>\n",
       "      <td id=\"T_fb048_row1_col12\" class=\"data row1 col12\" >0</td>\n",
       "      <td id=\"T_fb048_row1_col13\" class=\"data row1 col13\" >0</td>\n",
       "      <td id=\"T_fb048_row1_col14\" class=\"data row1 col14\" >0</td>\n",
       "      <td id=\"T_fb048_row1_col15\" class=\"data row1 col15\" >0</td>\n",
       "      <td id=\"T_fb048_row1_col16\" class=\"data row1 col16\" >0</td>\n",
       "      <td id=\"T_fb048_row1_col17\" class=\"data row1 col17\" >0</td>\n",
       "      <td id=\"T_fb048_row1_col18\" class=\"data row1 col18\" >0</td>\n",
       "      <td id=\"T_fb048_row1_col19\" class=\"data row1 col19\" >0</td>\n",
       "      <td id=\"T_fb048_row1_col20\" class=\"data row1 col20\" >0</td>\n",
       "      <td id=\"T_fb048_row1_col21\" class=\"data row1 col21\" >0</td>\n",
       "      <td id=\"T_fb048_row1_col22\" class=\"data row1 col22\" >0</td>\n",
       "      <td id=\"T_fb048_row1_col23\" class=\"data row1 col23\" >0</td>\n",
       "      <td id=\"T_fb048_row1_col24\" class=\"data row1 col24\" >0</td>\n",
       "      <td id=\"T_fb048_row1_col25\" class=\"data row1 col25\" >0</td>\n",
       "      <td id=\"T_fb048_row1_col26\" class=\"data row1 col26\" >0</td>\n",
       "      <td id=\"T_fb048_row1_col27\" class=\"data row1 col27\" >0</td>\n",
       "    </tr>\n",
       "    <tr>\n",
       "      <th id=\"T_fb048_level0_row2\" class=\"row_heading level0 row2\" >2</th>\n",
       "      <td id=\"T_fb048_row2_col0\" class=\"data row2 col0\" >0</td>\n",
       "      <td id=\"T_fb048_row2_col1\" class=\"data row2 col1\" >0</td>\n",
       "      <td id=\"T_fb048_row2_col2\" class=\"data row2 col2\" >0</td>\n",
       "      <td id=\"T_fb048_row2_col3\" class=\"data row2 col3\" >0</td>\n",
       "      <td id=\"T_fb048_row2_col4\" class=\"data row2 col4\" >0</td>\n",
       "      <td id=\"T_fb048_row2_col5\" class=\"data row2 col5\" >0</td>\n",
       "      <td id=\"T_fb048_row2_col6\" class=\"data row2 col6\" >0</td>\n",
       "      <td id=\"T_fb048_row2_col7\" class=\"data row2 col7\" >0</td>\n",
       "      <td id=\"T_fb048_row2_col8\" class=\"data row2 col8\" >0</td>\n",
       "      <td id=\"T_fb048_row2_col9\" class=\"data row2 col9\" >0</td>\n",
       "      <td id=\"T_fb048_row2_col10\" class=\"data row2 col10\" >0</td>\n",
       "      <td id=\"T_fb048_row2_col11\" class=\"data row2 col11\" >0</td>\n",
       "      <td id=\"T_fb048_row2_col12\" class=\"data row2 col12\" >0</td>\n",
       "      <td id=\"T_fb048_row2_col13\" class=\"data row2 col13\" >0</td>\n",
       "      <td id=\"T_fb048_row2_col14\" class=\"data row2 col14\" >0</td>\n",
       "      <td id=\"T_fb048_row2_col15\" class=\"data row2 col15\" >0</td>\n",
       "      <td id=\"T_fb048_row2_col16\" class=\"data row2 col16\" >0</td>\n",
       "      <td id=\"T_fb048_row2_col17\" class=\"data row2 col17\" >0</td>\n",
       "      <td id=\"T_fb048_row2_col18\" class=\"data row2 col18\" >0</td>\n",
       "      <td id=\"T_fb048_row2_col19\" class=\"data row2 col19\" >0</td>\n",
       "      <td id=\"T_fb048_row2_col20\" class=\"data row2 col20\" >0</td>\n",
       "      <td id=\"T_fb048_row2_col21\" class=\"data row2 col21\" >0</td>\n",
       "      <td id=\"T_fb048_row2_col22\" class=\"data row2 col22\" >0</td>\n",
       "      <td id=\"T_fb048_row2_col23\" class=\"data row2 col23\" >0</td>\n",
       "      <td id=\"T_fb048_row2_col24\" class=\"data row2 col24\" >0</td>\n",
       "      <td id=\"T_fb048_row2_col25\" class=\"data row2 col25\" >0</td>\n",
       "      <td id=\"T_fb048_row2_col26\" class=\"data row2 col26\" >0</td>\n",
       "      <td id=\"T_fb048_row2_col27\" class=\"data row2 col27\" >0</td>\n",
       "    </tr>\n",
       "    <tr>\n",
       "      <th id=\"T_fb048_level0_row3\" class=\"row_heading level0 row3\" >3</th>\n",
       "      <td id=\"T_fb048_row3_col0\" class=\"data row3 col0\" >0</td>\n",
       "      <td id=\"T_fb048_row3_col1\" class=\"data row3 col1\" >0</td>\n",
       "      <td id=\"T_fb048_row3_col2\" class=\"data row3 col2\" >0</td>\n",
       "      <td id=\"T_fb048_row3_col3\" class=\"data row3 col3\" >0</td>\n",
       "      <td id=\"T_fb048_row3_col4\" class=\"data row3 col4\" >0</td>\n",
       "      <td id=\"T_fb048_row3_col5\" class=\"data row3 col5\" >0</td>\n",
       "      <td id=\"T_fb048_row3_col6\" class=\"data row3 col6\" >0</td>\n",
       "      <td id=\"T_fb048_row3_col7\" class=\"data row3 col7\" >0</td>\n",
       "      <td id=\"T_fb048_row3_col8\" class=\"data row3 col8\" >0</td>\n",
       "      <td id=\"T_fb048_row3_col9\" class=\"data row3 col9\" >0</td>\n",
       "      <td id=\"T_fb048_row3_col10\" class=\"data row3 col10\" >0</td>\n",
       "      <td id=\"T_fb048_row3_col11\" class=\"data row3 col11\" >0</td>\n",
       "      <td id=\"T_fb048_row3_col12\" class=\"data row3 col12\" >0</td>\n",
       "      <td id=\"T_fb048_row3_col13\" class=\"data row3 col13\" >0</td>\n",
       "      <td id=\"T_fb048_row3_col14\" class=\"data row3 col14\" >0</td>\n",
       "      <td id=\"T_fb048_row3_col15\" class=\"data row3 col15\" >0</td>\n",
       "      <td id=\"T_fb048_row3_col16\" class=\"data row3 col16\" >0</td>\n",
       "      <td id=\"T_fb048_row3_col17\" class=\"data row3 col17\" >0</td>\n",
       "      <td id=\"T_fb048_row3_col18\" class=\"data row3 col18\" >0</td>\n",
       "      <td id=\"T_fb048_row3_col19\" class=\"data row3 col19\" >0</td>\n",
       "      <td id=\"T_fb048_row3_col20\" class=\"data row3 col20\" >0</td>\n",
       "      <td id=\"T_fb048_row3_col21\" class=\"data row3 col21\" >0</td>\n",
       "      <td id=\"T_fb048_row3_col22\" class=\"data row3 col22\" >0</td>\n",
       "      <td id=\"T_fb048_row3_col23\" class=\"data row3 col23\" >0</td>\n",
       "      <td id=\"T_fb048_row3_col24\" class=\"data row3 col24\" >0</td>\n",
       "      <td id=\"T_fb048_row3_col25\" class=\"data row3 col25\" >0</td>\n",
       "      <td id=\"T_fb048_row3_col26\" class=\"data row3 col26\" >0</td>\n",
       "      <td id=\"T_fb048_row3_col27\" class=\"data row3 col27\" >0</td>\n",
       "    </tr>\n",
       "    <tr>\n",
       "      <th id=\"T_fb048_level0_row4\" class=\"row_heading level0 row4\" >4</th>\n",
       "      <td id=\"T_fb048_row4_col0\" class=\"data row4 col0\" >0</td>\n",
       "      <td id=\"T_fb048_row4_col1\" class=\"data row4 col1\" >0</td>\n",
       "      <td id=\"T_fb048_row4_col2\" class=\"data row4 col2\" >0</td>\n",
       "      <td id=\"T_fb048_row4_col3\" class=\"data row4 col3\" >0</td>\n",
       "      <td id=\"T_fb048_row4_col4\" class=\"data row4 col4\" >0</td>\n",
       "      <td id=\"T_fb048_row4_col5\" class=\"data row4 col5\" >0</td>\n",
       "      <td id=\"T_fb048_row4_col6\" class=\"data row4 col6\" >0</td>\n",
       "      <td id=\"T_fb048_row4_col7\" class=\"data row4 col7\" >0</td>\n",
       "      <td id=\"T_fb048_row4_col8\" class=\"data row4 col8\" >0</td>\n",
       "      <td id=\"T_fb048_row4_col9\" class=\"data row4 col9\" >0</td>\n",
       "      <td id=\"T_fb048_row4_col10\" class=\"data row4 col10\" >0</td>\n",
       "      <td id=\"T_fb048_row4_col11\" class=\"data row4 col11\" >42</td>\n",
       "      <td id=\"T_fb048_row4_col12\" class=\"data row4 col12\" >118</td>\n",
       "      <td id=\"T_fb048_row4_col13\" class=\"data row4 col13\" >219</td>\n",
       "      <td id=\"T_fb048_row4_col14\" class=\"data row4 col14\" >166</td>\n",
       "      <td id=\"T_fb048_row4_col15\" class=\"data row4 col15\" >118</td>\n",
       "      <td id=\"T_fb048_row4_col16\" class=\"data row4 col16\" >118</td>\n",
       "      <td id=\"T_fb048_row4_col17\" class=\"data row4 col17\" >6</td>\n",
       "      <td id=\"T_fb048_row4_col18\" class=\"data row4 col18\" >0</td>\n",
       "      <td id=\"T_fb048_row4_col19\" class=\"data row4 col19\" >0</td>\n",
       "      <td id=\"T_fb048_row4_col20\" class=\"data row4 col20\" >0</td>\n",
       "      <td id=\"T_fb048_row4_col21\" class=\"data row4 col21\" >0</td>\n",
       "      <td id=\"T_fb048_row4_col22\" class=\"data row4 col22\" >0</td>\n",
       "      <td id=\"T_fb048_row4_col23\" class=\"data row4 col23\" >0</td>\n",
       "      <td id=\"T_fb048_row4_col24\" class=\"data row4 col24\" >0</td>\n",
       "      <td id=\"T_fb048_row4_col25\" class=\"data row4 col25\" >0</td>\n",
       "      <td id=\"T_fb048_row4_col26\" class=\"data row4 col26\" >0</td>\n",
       "      <td id=\"T_fb048_row4_col27\" class=\"data row4 col27\" >0</td>\n",
       "    </tr>\n",
       "    <tr>\n",
       "      <th id=\"T_fb048_level0_row5\" class=\"row_heading level0 row5\" >5</th>\n",
       "      <td id=\"T_fb048_row5_col0\" class=\"data row5 col0\" >0</td>\n",
       "      <td id=\"T_fb048_row5_col1\" class=\"data row5 col1\" >0</td>\n",
       "      <td id=\"T_fb048_row5_col2\" class=\"data row5 col2\" >0</td>\n",
       "      <td id=\"T_fb048_row5_col3\" class=\"data row5 col3\" >0</td>\n",
       "      <td id=\"T_fb048_row5_col4\" class=\"data row5 col4\" >0</td>\n",
       "      <td id=\"T_fb048_row5_col5\" class=\"data row5 col5\" >0</td>\n",
       "      <td id=\"T_fb048_row5_col6\" class=\"data row5 col6\" >0</td>\n",
       "      <td id=\"T_fb048_row5_col7\" class=\"data row5 col7\" >0</td>\n",
       "      <td id=\"T_fb048_row5_col8\" class=\"data row5 col8\" >0</td>\n",
       "      <td id=\"T_fb048_row5_col9\" class=\"data row5 col9\" >0</td>\n",
       "      <td id=\"T_fb048_row5_col10\" class=\"data row5 col10\" >103</td>\n",
       "      <td id=\"T_fb048_row5_col11\" class=\"data row5 col11\" >242</td>\n",
       "      <td id=\"T_fb048_row5_col12\" class=\"data row5 col12\" >254</td>\n",
       "      <td id=\"T_fb048_row5_col13\" class=\"data row5 col13\" >254</td>\n",
       "      <td id=\"T_fb048_row5_col14\" class=\"data row5 col14\" >254</td>\n",
       "      <td id=\"T_fb048_row5_col15\" class=\"data row5 col15\" >254</td>\n",
       "      <td id=\"T_fb048_row5_col16\" class=\"data row5 col16\" >254</td>\n",
       "      <td id=\"T_fb048_row5_col17\" class=\"data row5 col17\" >66</td>\n",
       "      <td id=\"T_fb048_row5_col18\" class=\"data row5 col18\" >0</td>\n",
       "      <td id=\"T_fb048_row5_col19\" class=\"data row5 col19\" >0</td>\n",
       "      <td id=\"T_fb048_row5_col20\" class=\"data row5 col20\" >0</td>\n",
       "      <td id=\"T_fb048_row5_col21\" class=\"data row5 col21\" >0</td>\n",
       "      <td id=\"T_fb048_row5_col22\" class=\"data row5 col22\" >0</td>\n",
       "      <td id=\"T_fb048_row5_col23\" class=\"data row5 col23\" >0</td>\n",
       "      <td id=\"T_fb048_row5_col24\" class=\"data row5 col24\" >0</td>\n",
       "      <td id=\"T_fb048_row5_col25\" class=\"data row5 col25\" >0</td>\n",
       "      <td id=\"T_fb048_row5_col26\" class=\"data row5 col26\" >0</td>\n",
       "      <td id=\"T_fb048_row5_col27\" class=\"data row5 col27\" >0</td>\n",
       "    </tr>\n",
       "    <tr>\n",
       "      <th id=\"T_fb048_level0_row6\" class=\"row_heading level0 row6\" >6</th>\n",
       "      <td id=\"T_fb048_row6_col0\" class=\"data row6 col0\" >0</td>\n",
       "      <td id=\"T_fb048_row6_col1\" class=\"data row6 col1\" >0</td>\n",
       "      <td id=\"T_fb048_row6_col2\" class=\"data row6 col2\" >0</td>\n",
       "      <td id=\"T_fb048_row6_col3\" class=\"data row6 col3\" >0</td>\n",
       "      <td id=\"T_fb048_row6_col4\" class=\"data row6 col4\" >0</td>\n",
       "      <td id=\"T_fb048_row6_col5\" class=\"data row6 col5\" >0</td>\n",
       "      <td id=\"T_fb048_row6_col6\" class=\"data row6 col6\" >0</td>\n",
       "      <td id=\"T_fb048_row6_col7\" class=\"data row6 col7\" >0</td>\n",
       "      <td id=\"T_fb048_row6_col8\" class=\"data row6 col8\" >0</td>\n",
       "      <td id=\"T_fb048_row6_col9\" class=\"data row6 col9\" >0</td>\n",
       "      <td id=\"T_fb048_row6_col10\" class=\"data row6 col10\" >18</td>\n",
       "      <td id=\"T_fb048_row6_col11\" class=\"data row6 col11\" >232</td>\n",
       "      <td id=\"T_fb048_row6_col12\" class=\"data row6 col12\" >254</td>\n",
       "      <td id=\"T_fb048_row6_col13\" class=\"data row6 col13\" >254</td>\n",
       "      <td id=\"T_fb048_row6_col14\" class=\"data row6 col14\" >254</td>\n",
       "      <td id=\"T_fb048_row6_col15\" class=\"data row6 col15\" >254</td>\n",
       "      <td id=\"T_fb048_row6_col16\" class=\"data row6 col16\" >254</td>\n",
       "      <td id=\"T_fb048_row6_col17\" class=\"data row6 col17\" >238</td>\n",
       "      <td id=\"T_fb048_row6_col18\" class=\"data row6 col18\" >70</td>\n",
       "      <td id=\"T_fb048_row6_col19\" class=\"data row6 col19\" >0</td>\n",
       "      <td id=\"T_fb048_row6_col20\" class=\"data row6 col20\" >0</td>\n",
       "      <td id=\"T_fb048_row6_col21\" class=\"data row6 col21\" >0</td>\n",
       "      <td id=\"T_fb048_row6_col22\" class=\"data row6 col22\" >0</td>\n",
       "      <td id=\"T_fb048_row6_col23\" class=\"data row6 col23\" >0</td>\n",
       "      <td id=\"T_fb048_row6_col24\" class=\"data row6 col24\" >0</td>\n",
       "      <td id=\"T_fb048_row6_col25\" class=\"data row6 col25\" >0</td>\n",
       "      <td id=\"T_fb048_row6_col26\" class=\"data row6 col26\" >0</td>\n",
       "      <td id=\"T_fb048_row6_col27\" class=\"data row6 col27\" >0</td>\n",
       "    </tr>\n",
       "    <tr>\n",
       "      <th id=\"T_fb048_level0_row7\" class=\"row_heading level0 row7\" >7</th>\n",
       "      <td id=\"T_fb048_row7_col0\" class=\"data row7 col0\" >0</td>\n",
       "      <td id=\"T_fb048_row7_col1\" class=\"data row7 col1\" >0</td>\n",
       "      <td id=\"T_fb048_row7_col2\" class=\"data row7 col2\" >0</td>\n",
       "      <td id=\"T_fb048_row7_col3\" class=\"data row7 col3\" >0</td>\n",
       "      <td id=\"T_fb048_row7_col4\" class=\"data row7 col4\" >0</td>\n",
       "      <td id=\"T_fb048_row7_col5\" class=\"data row7 col5\" >0</td>\n",
       "      <td id=\"T_fb048_row7_col6\" class=\"data row7 col6\" >0</td>\n",
       "      <td id=\"T_fb048_row7_col7\" class=\"data row7 col7\" >0</td>\n",
       "      <td id=\"T_fb048_row7_col8\" class=\"data row7 col8\" >0</td>\n",
       "      <td id=\"T_fb048_row7_col9\" class=\"data row7 col9\" >0</td>\n",
       "      <td id=\"T_fb048_row7_col10\" class=\"data row7 col10\" >0</td>\n",
       "      <td id=\"T_fb048_row7_col11\" class=\"data row7 col11\" >104</td>\n",
       "      <td id=\"T_fb048_row7_col12\" class=\"data row7 col12\" >244</td>\n",
       "      <td id=\"T_fb048_row7_col13\" class=\"data row7 col13\" >254</td>\n",
       "      <td id=\"T_fb048_row7_col14\" class=\"data row7 col14\" >224</td>\n",
       "      <td id=\"T_fb048_row7_col15\" class=\"data row7 col15\" >254</td>\n",
       "      <td id=\"T_fb048_row7_col16\" class=\"data row7 col16\" >254</td>\n",
       "      <td id=\"T_fb048_row7_col17\" class=\"data row7 col17\" >254</td>\n",
       "      <td id=\"T_fb048_row7_col18\" class=\"data row7 col18\" >141</td>\n",
       "      <td id=\"T_fb048_row7_col19\" class=\"data row7 col19\" >0</td>\n",
       "      <td id=\"T_fb048_row7_col20\" class=\"data row7 col20\" >0</td>\n",
       "      <td id=\"T_fb048_row7_col21\" class=\"data row7 col21\" >0</td>\n",
       "      <td id=\"T_fb048_row7_col22\" class=\"data row7 col22\" >0</td>\n",
       "      <td id=\"T_fb048_row7_col23\" class=\"data row7 col23\" >0</td>\n",
       "      <td id=\"T_fb048_row7_col24\" class=\"data row7 col24\" >0</td>\n",
       "      <td id=\"T_fb048_row7_col25\" class=\"data row7 col25\" >0</td>\n",
       "      <td id=\"T_fb048_row7_col26\" class=\"data row7 col26\" >0</td>\n",
       "      <td id=\"T_fb048_row7_col27\" class=\"data row7 col27\" >0</td>\n",
       "    </tr>\n",
       "    <tr>\n",
       "      <th id=\"T_fb048_level0_row8\" class=\"row_heading level0 row8\" >8</th>\n",
       "      <td id=\"T_fb048_row8_col0\" class=\"data row8 col0\" >0</td>\n",
       "      <td id=\"T_fb048_row8_col1\" class=\"data row8 col1\" >0</td>\n",
       "      <td id=\"T_fb048_row8_col2\" class=\"data row8 col2\" >0</td>\n",
       "      <td id=\"T_fb048_row8_col3\" class=\"data row8 col3\" >0</td>\n",
       "      <td id=\"T_fb048_row8_col4\" class=\"data row8 col4\" >0</td>\n",
       "      <td id=\"T_fb048_row8_col5\" class=\"data row8 col5\" >0</td>\n",
       "      <td id=\"T_fb048_row8_col6\" class=\"data row8 col6\" >0</td>\n",
       "      <td id=\"T_fb048_row8_col7\" class=\"data row8 col7\" >0</td>\n",
       "      <td id=\"T_fb048_row8_col8\" class=\"data row8 col8\" >0</td>\n",
       "      <td id=\"T_fb048_row8_col9\" class=\"data row8 col9\" >0</td>\n",
       "      <td id=\"T_fb048_row8_col10\" class=\"data row8 col10\" >0</td>\n",
       "      <td id=\"T_fb048_row8_col11\" class=\"data row8 col11\" >0</td>\n",
       "      <td id=\"T_fb048_row8_col12\" class=\"data row8 col12\" >207</td>\n",
       "      <td id=\"T_fb048_row8_col13\" class=\"data row8 col13\" >254</td>\n",
       "      <td id=\"T_fb048_row8_col14\" class=\"data row8 col14\" >210</td>\n",
       "      <td id=\"T_fb048_row8_col15\" class=\"data row8 col15\" >254</td>\n",
       "      <td id=\"T_fb048_row8_col16\" class=\"data row8 col16\" >254</td>\n",
       "      <td id=\"T_fb048_row8_col17\" class=\"data row8 col17\" >254</td>\n",
       "      <td id=\"T_fb048_row8_col18\" class=\"data row8 col18\" >34</td>\n",
       "      <td id=\"T_fb048_row8_col19\" class=\"data row8 col19\" >0</td>\n",
       "      <td id=\"T_fb048_row8_col20\" class=\"data row8 col20\" >0</td>\n",
       "      <td id=\"T_fb048_row8_col21\" class=\"data row8 col21\" >0</td>\n",
       "      <td id=\"T_fb048_row8_col22\" class=\"data row8 col22\" >0</td>\n",
       "      <td id=\"T_fb048_row8_col23\" class=\"data row8 col23\" >0</td>\n",
       "      <td id=\"T_fb048_row8_col24\" class=\"data row8 col24\" >0</td>\n",
       "      <td id=\"T_fb048_row8_col25\" class=\"data row8 col25\" >0</td>\n",
       "      <td id=\"T_fb048_row8_col26\" class=\"data row8 col26\" >0</td>\n",
       "      <td id=\"T_fb048_row8_col27\" class=\"data row8 col27\" >0</td>\n",
       "    </tr>\n",
       "    <tr>\n",
       "      <th id=\"T_fb048_level0_row9\" class=\"row_heading level0 row9\" >9</th>\n",
       "      <td id=\"T_fb048_row9_col0\" class=\"data row9 col0\" >0</td>\n",
       "      <td id=\"T_fb048_row9_col1\" class=\"data row9 col1\" >0</td>\n",
       "      <td id=\"T_fb048_row9_col2\" class=\"data row9 col2\" >0</td>\n",
       "      <td id=\"T_fb048_row9_col3\" class=\"data row9 col3\" >0</td>\n",
       "      <td id=\"T_fb048_row9_col4\" class=\"data row9 col4\" >0</td>\n",
       "      <td id=\"T_fb048_row9_col5\" class=\"data row9 col5\" >0</td>\n",
       "      <td id=\"T_fb048_row9_col6\" class=\"data row9 col6\" >0</td>\n",
       "      <td id=\"T_fb048_row9_col7\" class=\"data row9 col7\" >0</td>\n",
       "      <td id=\"T_fb048_row9_col8\" class=\"data row9 col8\" >0</td>\n",
       "      <td id=\"T_fb048_row9_col9\" class=\"data row9 col9\" >0</td>\n",
       "      <td id=\"T_fb048_row9_col10\" class=\"data row9 col10\" >0</td>\n",
       "      <td id=\"T_fb048_row9_col11\" class=\"data row9 col11\" >0</td>\n",
       "      <td id=\"T_fb048_row9_col12\" class=\"data row9 col12\" >84</td>\n",
       "      <td id=\"T_fb048_row9_col13\" class=\"data row9 col13\" >206</td>\n",
       "      <td id=\"T_fb048_row9_col14\" class=\"data row9 col14\" >254</td>\n",
       "      <td id=\"T_fb048_row9_col15\" class=\"data row9 col15\" >254</td>\n",
       "      <td id=\"T_fb048_row9_col16\" class=\"data row9 col16\" >254</td>\n",
       "      <td id=\"T_fb048_row9_col17\" class=\"data row9 col17\" >254</td>\n",
       "      <td id=\"T_fb048_row9_col18\" class=\"data row9 col18\" >41</td>\n",
       "      <td id=\"T_fb048_row9_col19\" class=\"data row9 col19\" >0</td>\n",
       "      <td id=\"T_fb048_row9_col20\" class=\"data row9 col20\" >0</td>\n",
       "      <td id=\"T_fb048_row9_col21\" class=\"data row9 col21\" >0</td>\n",
       "      <td id=\"T_fb048_row9_col22\" class=\"data row9 col22\" >0</td>\n",
       "      <td id=\"T_fb048_row9_col23\" class=\"data row9 col23\" >0</td>\n",
       "      <td id=\"T_fb048_row9_col24\" class=\"data row9 col24\" >0</td>\n",
       "      <td id=\"T_fb048_row9_col25\" class=\"data row9 col25\" >0</td>\n",
       "      <td id=\"T_fb048_row9_col26\" class=\"data row9 col26\" >0</td>\n",
       "      <td id=\"T_fb048_row9_col27\" class=\"data row9 col27\" >0</td>\n",
       "    </tr>\n",
       "    <tr>\n",
       "      <th id=\"T_fb048_level0_row10\" class=\"row_heading level0 row10\" >10</th>\n",
       "      <td id=\"T_fb048_row10_col0\" class=\"data row10 col0\" >0</td>\n",
       "      <td id=\"T_fb048_row10_col1\" class=\"data row10 col1\" >0</td>\n",
       "      <td id=\"T_fb048_row10_col2\" class=\"data row10 col2\" >0</td>\n",
       "      <td id=\"T_fb048_row10_col3\" class=\"data row10 col3\" >0</td>\n",
       "      <td id=\"T_fb048_row10_col4\" class=\"data row10 col4\" >0</td>\n",
       "      <td id=\"T_fb048_row10_col5\" class=\"data row10 col5\" >0</td>\n",
       "      <td id=\"T_fb048_row10_col6\" class=\"data row10 col6\" >0</td>\n",
       "      <td id=\"T_fb048_row10_col7\" class=\"data row10 col7\" >0</td>\n",
       "      <td id=\"T_fb048_row10_col8\" class=\"data row10 col8\" >0</td>\n",
       "      <td id=\"T_fb048_row10_col9\" class=\"data row10 col9\" >0</td>\n",
       "      <td id=\"T_fb048_row10_col10\" class=\"data row10 col10\" >0</td>\n",
       "      <td id=\"T_fb048_row10_col11\" class=\"data row10 col11\" >0</td>\n",
       "      <td id=\"T_fb048_row10_col12\" class=\"data row10 col12\" >0</td>\n",
       "      <td id=\"T_fb048_row10_col13\" class=\"data row10 col13\" >24</td>\n",
       "      <td id=\"T_fb048_row10_col14\" class=\"data row10 col14\" >209</td>\n",
       "      <td id=\"T_fb048_row10_col15\" class=\"data row10 col15\" >254</td>\n",
       "      <td id=\"T_fb048_row10_col16\" class=\"data row10 col16\" >254</td>\n",
       "      <td id=\"T_fb048_row10_col17\" class=\"data row10 col17\" >254</td>\n",
       "      <td id=\"T_fb048_row10_col18\" class=\"data row10 col18\" >171</td>\n",
       "      <td id=\"T_fb048_row10_col19\" class=\"data row10 col19\" >0</td>\n",
       "      <td id=\"T_fb048_row10_col20\" class=\"data row10 col20\" >0</td>\n",
       "      <td id=\"T_fb048_row10_col21\" class=\"data row10 col21\" >0</td>\n",
       "      <td id=\"T_fb048_row10_col22\" class=\"data row10 col22\" >0</td>\n",
       "      <td id=\"T_fb048_row10_col23\" class=\"data row10 col23\" >0</td>\n",
       "      <td id=\"T_fb048_row10_col24\" class=\"data row10 col24\" >0</td>\n",
       "      <td id=\"T_fb048_row10_col25\" class=\"data row10 col25\" >0</td>\n",
       "      <td id=\"T_fb048_row10_col26\" class=\"data row10 col26\" >0</td>\n",
       "      <td id=\"T_fb048_row10_col27\" class=\"data row10 col27\" >0</td>\n",
       "    </tr>\n",
       "    <tr>\n",
       "      <th id=\"T_fb048_level0_row11\" class=\"row_heading level0 row11\" >11</th>\n",
       "      <td id=\"T_fb048_row11_col0\" class=\"data row11 col0\" >0</td>\n",
       "      <td id=\"T_fb048_row11_col1\" class=\"data row11 col1\" >0</td>\n",
       "      <td id=\"T_fb048_row11_col2\" class=\"data row11 col2\" >0</td>\n",
       "      <td id=\"T_fb048_row11_col3\" class=\"data row11 col3\" >0</td>\n",
       "      <td id=\"T_fb048_row11_col4\" class=\"data row11 col4\" >0</td>\n",
       "      <td id=\"T_fb048_row11_col5\" class=\"data row11 col5\" >0</td>\n",
       "      <td id=\"T_fb048_row11_col6\" class=\"data row11 col6\" >0</td>\n",
       "      <td id=\"T_fb048_row11_col7\" class=\"data row11 col7\" >0</td>\n",
       "      <td id=\"T_fb048_row11_col8\" class=\"data row11 col8\" >0</td>\n",
       "      <td id=\"T_fb048_row11_col9\" class=\"data row11 col9\" >0</td>\n",
       "      <td id=\"T_fb048_row11_col10\" class=\"data row11 col10\" >0</td>\n",
       "      <td id=\"T_fb048_row11_col11\" class=\"data row11 col11\" >0</td>\n",
       "      <td id=\"T_fb048_row11_col12\" class=\"data row11 col12\" >91</td>\n",
       "      <td id=\"T_fb048_row11_col13\" class=\"data row11 col13\" >137</td>\n",
       "      <td id=\"T_fb048_row11_col14\" class=\"data row11 col14\" >253</td>\n",
       "      <td id=\"T_fb048_row11_col15\" class=\"data row11 col15\" >254</td>\n",
       "      <td id=\"T_fb048_row11_col16\" class=\"data row11 col16\" >254</td>\n",
       "      <td id=\"T_fb048_row11_col17\" class=\"data row11 col17\" >254</td>\n",
       "      <td id=\"T_fb048_row11_col18\" class=\"data row11 col18\" >112</td>\n",
       "      <td id=\"T_fb048_row11_col19\" class=\"data row11 col19\" >0</td>\n",
       "      <td id=\"T_fb048_row11_col20\" class=\"data row11 col20\" >0</td>\n",
       "      <td id=\"T_fb048_row11_col21\" class=\"data row11 col21\" >0</td>\n",
       "      <td id=\"T_fb048_row11_col22\" class=\"data row11 col22\" >0</td>\n",
       "      <td id=\"T_fb048_row11_col23\" class=\"data row11 col23\" >0</td>\n",
       "      <td id=\"T_fb048_row11_col24\" class=\"data row11 col24\" >0</td>\n",
       "      <td id=\"T_fb048_row11_col25\" class=\"data row11 col25\" >0</td>\n",
       "      <td id=\"T_fb048_row11_col26\" class=\"data row11 col26\" >0</td>\n",
       "      <td id=\"T_fb048_row11_col27\" class=\"data row11 col27\" >0</td>\n",
       "    </tr>\n",
       "    <tr>\n",
       "      <th id=\"T_fb048_level0_row12\" class=\"row_heading level0 row12\" >12</th>\n",
       "      <td id=\"T_fb048_row12_col0\" class=\"data row12 col0\" >0</td>\n",
       "      <td id=\"T_fb048_row12_col1\" class=\"data row12 col1\" >0</td>\n",
       "      <td id=\"T_fb048_row12_col2\" class=\"data row12 col2\" >0</td>\n",
       "      <td id=\"T_fb048_row12_col3\" class=\"data row12 col3\" >0</td>\n",
       "      <td id=\"T_fb048_row12_col4\" class=\"data row12 col4\" >0</td>\n",
       "      <td id=\"T_fb048_row12_col5\" class=\"data row12 col5\" >0</td>\n",
       "      <td id=\"T_fb048_row12_col6\" class=\"data row12 col6\" >0</td>\n",
       "      <td id=\"T_fb048_row12_col7\" class=\"data row12 col7\" >0</td>\n",
       "      <td id=\"T_fb048_row12_col8\" class=\"data row12 col8\" >0</td>\n",
       "      <td id=\"T_fb048_row12_col9\" class=\"data row12 col9\" >0</td>\n",
       "      <td id=\"T_fb048_row12_col10\" class=\"data row12 col10\" >40</td>\n",
       "      <td id=\"T_fb048_row12_col11\" class=\"data row12 col11\" >214</td>\n",
       "      <td id=\"T_fb048_row12_col12\" class=\"data row12 col12\" >250</td>\n",
       "      <td id=\"T_fb048_row12_col13\" class=\"data row12 col13\" >254</td>\n",
       "      <td id=\"T_fb048_row12_col14\" class=\"data row12 col14\" >254</td>\n",
       "      <td id=\"T_fb048_row12_col15\" class=\"data row12 col15\" >254</td>\n",
       "      <td id=\"T_fb048_row12_col16\" class=\"data row12 col16\" >254</td>\n",
       "      <td id=\"T_fb048_row12_col17\" class=\"data row12 col17\" >254</td>\n",
       "      <td id=\"T_fb048_row12_col18\" class=\"data row12 col18\" >34</td>\n",
       "      <td id=\"T_fb048_row12_col19\" class=\"data row12 col19\" >0</td>\n",
       "      <td id=\"T_fb048_row12_col20\" class=\"data row12 col20\" >0</td>\n",
       "      <td id=\"T_fb048_row12_col21\" class=\"data row12 col21\" >0</td>\n",
       "      <td id=\"T_fb048_row12_col22\" class=\"data row12 col22\" >0</td>\n",
       "      <td id=\"T_fb048_row12_col23\" class=\"data row12 col23\" >0</td>\n",
       "      <td id=\"T_fb048_row12_col24\" class=\"data row12 col24\" >0</td>\n",
       "      <td id=\"T_fb048_row12_col25\" class=\"data row12 col25\" >0</td>\n",
       "      <td id=\"T_fb048_row12_col26\" class=\"data row12 col26\" >0</td>\n",
       "      <td id=\"T_fb048_row12_col27\" class=\"data row12 col27\" >0</td>\n",
       "    </tr>\n",
       "    <tr>\n",
       "      <th id=\"T_fb048_level0_row13\" class=\"row_heading level0 row13\" >13</th>\n",
       "      <td id=\"T_fb048_row13_col0\" class=\"data row13 col0\" >0</td>\n",
       "      <td id=\"T_fb048_row13_col1\" class=\"data row13 col1\" >0</td>\n",
       "      <td id=\"T_fb048_row13_col2\" class=\"data row13 col2\" >0</td>\n",
       "      <td id=\"T_fb048_row13_col3\" class=\"data row13 col3\" >0</td>\n",
       "      <td id=\"T_fb048_row13_col4\" class=\"data row13 col4\" >0</td>\n",
       "      <td id=\"T_fb048_row13_col5\" class=\"data row13 col5\" >0</td>\n",
       "      <td id=\"T_fb048_row13_col6\" class=\"data row13 col6\" >0</td>\n",
       "      <td id=\"T_fb048_row13_col7\" class=\"data row13 col7\" >0</td>\n",
       "      <td id=\"T_fb048_row13_col8\" class=\"data row13 col8\" >0</td>\n",
       "      <td id=\"T_fb048_row13_col9\" class=\"data row13 col9\" >0</td>\n",
       "      <td id=\"T_fb048_row13_col10\" class=\"data row13 col10\" >81</td>\n",
       "      <td id=\"T_fb048_row13_col11\" class=\"data row13 col11\" >247</td>\n",
       "      <td id=\"T_fb048_row13_col12\" class=\"data row13 col12\" >254</td>\n",
       "      <td id=\"T_fb048_row13_col13\" class=\"data row13 col13\" >254</td>\n",
       "      <td id=\"T_fb048_row13_col14\" class=\"data row13 col14\" >254</td>\n",
       "      <td id=\"T_fb048_row13_col15\" class=\"data row13 col15\" >254</td>\n",
       "      <td id=\"T_fb048_row13_col16\" class=\"data row13 col16\" >254</td>\n",
       "      <td id=\"T_fb048_row13_col17\" class=\"data row13 col17\" >254</td>\n",
       "      <td id=\"T_fb048_row13_col18\" class=\"data row13 col18\" >146</td>\n",
       "      <td id=\"T_fb048_row13_col19\" class=\"data row13 col19\" >0</td>\n",
       "      <td id=\"T_fb048_row13_col20\" class=\"data row13 col20\" >0</td>\n",
       "      <td id=\"T_fb048_row13_col21\" class=\"data row13 col21\" >0</td>\n",
       "      <td id=\"T_fb048_row13_col22\" class=\"data row13 col22\" >0</td>\n",
       "      <td id=\"T_fb048_row13_col23\" class=\"data row13 col23\" >0</td>\n",
       "      <td id=\"T_fb048_row13_col24\" class=\"data row13 col24\" >0</td>\n",
       "      <td id=\"T_fb048_row13_col25\" class=\"data row13 col25\" >0</td>\n",
       "      <td id=\"T_fb048_row13_col26\" class=\"data row13 col26\" >0</td>\n",
       "      <td id=\"T_fb048_row13_col27\" class=\"data row13 col27\" >0</td>\n",
       "    </tr>\n",
       "    <tr>\n",
       "      <th id=\"T_fb048_level0_row14\" class=\"row_heading level0 row14\" >14</th>\n",
       "      <td id=\"T_fb048_row14_col0\" class=\"data row14 col0\" >0</td>\n",
       "      <td id=\"T_fb048_row14_col1\" class=\"data row14 col1\" >0</td>\n",
       "      <td id=\"T_fb048_row14_col2\" class=\"data row14 col2\" >0</td>\n",
       "      <td id=\"T_fb048_row14_col3\" class=\"data row14 col3\" >0</td>\n",
       "      <td id=\"T_fb048_row14_col4\" class=\"data row14 col4\" >0</td>\n",
       "      <td id=\"T_fb048_row14_col5\" class=\"data row14 col5\" >0</td>\n",
       "      <td id=\"T_fb048_row14_col6\" class=\"data row14 col6\" >0</td>\n",
       "      <td id=\"T_fb048_row14_col7\" class=\"data row14 col7\" >0</td>\n",
       "      <td id=\"T_fb048_row14_col8\" class=\"data row14 col8\" >0</td>\n",
       "      <td id=\"T_fb048_row14_col9\" class=\"data row14 col9\" >0</td>\n",
       "      <td id=\"T_fb048_row14_col10\" class=\"data row14 col10\" >0</td>\n",
       "      <td id=\"T_fb048_row14_col11\" class=\"data row14 col11\" >110</td>\n",
       "      <td id=\"T_fb048_row14_col12\" class=\"data row14 col12\" >246</td>\n",
       "      <td id=\"T_fb048_row14_col13\" class=\"data row14 col13\" >254</td>\n",
       "      <td id=\"T_fb048_row14_col14\" class=\"data row14 col14\" >254</td>\n",
       "      <td id=\"T_fb048_row14_col15\" class=\"data row14 col15\" >254</td>\n",
       "      <td id=\"T_fb048_row14_col16\" class=\"data row14 col16\" >254</td>\n",
       "      <td id=\"T_fb048_row14_col17\" class=\"data row14 col17\" >254</td>\n",
       "      <td id=\"T_fb048_row14_col18\" class=\"data row14 col18\" >171</td>\n",
       "      <td id=\"T_fb048_row14_col19\" class=\"data row14 col19\" >0</td>\n",
       "      <td id=\"T_fb048_row14_col20\" class=\"data row14 col20\" >0</td>\n",
       "      <td id=\"T_fb048_row14_col21\" class=\"data row14 col21\" >0</td>\n",
       "      <td id=\"T_fb048_row14_col22\" class=\"data row14 col22\" >0</td>\n",
       "      <td id=\"T_fb048_row14_col23\" class=\"data row14 col23\" >0</td>\n",
       "      <td id=\"T_fb048_row14_col24\" class=\"data row14 col24\" >0</td>\n",
       "      <td id=\"T_fb048_row14_col25\" class=\"data row14 col25\" >0</td>\n",
       "      <td id=\"T_fb048_row14_col26\" class=\"data row14 col26\" >0</td>\n",
       "      <td id=\"T_fb048_row14_col27\" class=\"data row14 col27\" >0</td>\n",
       "    </tr>\n",
       "    <tr>\n",
       "      <th id=\"T_fb048_level0_row15\" class=\"row_heading level0 row15\" >15</th>\n",
       "      <td id=\"T_fb048_row15_col0\" class=\"data row15 col0\" >0</td>\n",
       "      <td id=\"T_fb048_row15_col1\" class=\"data row15 col1\" >0</td>\n",
       "      <td id=\"T_fb048_row15_col2\" class=\"data row15 col2\" >0</td>\n",
       "      <td id=\"T_fb048_row15_col3\" class=\"data row15 col3\" >0</td>\n",
       "      <td id=\"T_fb048_row15_col4\" class=\"data row15 col4\" >0</td>\n",
       "      <td id=\"T_fb048_row15_col5\" class=\"data row15 col5\" >0</td>\n",
       "      <td id=\"T_fb048_row15_col6\" class=\"data row15 col6\" >0</td>\n",
       "      <td id=\"T_fb048_row15_col7\" class=\"data row15 col7\" >0</td>\n",
       "      <td id=\"T_fb048_row15_col8\" class=\"data row15 col8\" >0</td>\n",
       "      <td id=\"T_fb048_row15_col9\" class=\"data row15 col9\" >0</td>\n",
       "      <td id=\"T_fb048_row15_col10\" class=\"data row15 col10\" >0</td>\n",
       "      <td id=\"T_fb048_row15_col11\" class=\"data row15 col11\" >0</td>\n",
       "      <td id=\"T_fb048_row15_col12\" class=\"data row15 col12\" >73</td>\n",
       "      <td id=\"T_fb048_row15_col13\" class=\"data row15 col13\" >89</td>\n",
       "      <td id=\"T_fb048_row15_col14\" class=\"data row15 col14\" >89</td>\n",
       "      <td id=\"T_fb048_row15_col15\" class=\"data row15 col15\" >93</td>\n",
       "      <td id=\"T_fb048_row15_col16\" class=\"data row15 col16\" >240</td>\n",
       "      <td id=\"T_fb048_row15_col17\" class=\"data row15 col17\" >254</td>\n",
       "      <td id=\"T_fb048_row15_col18\" class=\"data row15 col18\" >171</td>\n",
       "      <td id=\"T_fb048_row15_col19\" class=\"data row15 col19\" >0</td>\n",
       "      <td id=\"T_fb048_row15_col20\" class=\"data row15 col20\" >0</td>\n",
       "      <td id=\"T_fb048_row15_col21\" class=\"data row15 col21\" >0</td>\n",
       "      <td id=\"T_fb048_row15_col22\" class=\"data row15 col22\" >0</td>\n",
       "      <td id=\"T_fb048_row15_col23\" class=\"data row15 col23\" >0</td>\n",
       "      <td id=\"T_fb048_row15_col24\" class=\"data row15 col24\" >0</td>\n",
       "      <td id=\"T_fb048_row15_col25\" class=\"data row15 col25\" >0</td>\n",
       "      <td id=\"T_fb048_row15_col26\" class=\"data row15 col26\" >0</td>\n",
       "      <td id=\"T_fb048_row15_col27\" class=\"data row15 col27\" >0</td>\n",
       "    </tr>\n",
       "    <tr>\n",
       "      <th id=\"T_fb048_level0_row16\" class=\"row_heading level0 row16\" >16</th>\n",
       "      <td id=\"T_fb048_row16_col0\" class=\"data row16 col0\" >0</td>\n",
       "      <td id=\"T_fb048_row16_col1\" class=\"data row16 col1\" >0</td>\n",
       "      <td id=\"T_fb048_row16_col2\" class=\"data row16 col2\" >0</td>\n",
       "      <td id=\"T_fb048_row16_col3\" class=\"data row16 col3\" >0</td>\n",
       "      <td id=\"T_fb048_row16_col4\" class=\"data row16 col4\" >0</td>\n",
       "      <td id=\"T_fb048_row16_col5\" class=\"data row16 col5\" >0</td>\n",
       "      <td id=\"T_fb048_row16_col6\" class=\"data row16 col6\" >0</td>\n",
       "      <td id=\"T_fb048_row16_col7\" class=\"data row16 col7\" >0</td>\n",
       "      <td id=\"T_fb048_row16_col8\" class=\"data row16 col8\" >0</td>\n",
       "      <td id=\"T_fb048_row16_col9\" class=\"data row16 col9\" >0</td>\n",
       "      <td id=\"T_fb048_row16_col10\" class=\"data row16 col10\" >0</td>\n",
       "      <td id=\"T_fb048_row16_col11\" class=\"data row16 col11\" >0</td>\n",
       "      <td id=\"T_fb048_row16_col12\" class=\"data row16 col12\" >0</td>\n",
       "      <td id=\"T_fb048_row16_col13\" class=\"data row16 col13\" >0</td>\n",
       "      <td id=\"T_fb048_row16_col14\" class=\"data row16 col14\" >0</td>\n",
       "      <td id=\"T_fb048_row16_col15\" class=\"data row16 col15\" >1</td>\n",
       "      <td id=\"T_fb048_row16_col16\" class=\"data row16 col16\" >128</td>\n",
       "      <td id=\"T_fb048_row16_col17\" class=\"data row16 col17\" >254</td>\n",
       "      <td id=\"T_fb048_row16_col18\" class=\"data row16 col18\" >219</td>\n",
       "      <td id=\"T_fb048_row16_col19\" class=\"data row16 col19\" >31</td>\n",
       "      <td id=\"T_fb048_row16_col20\" class=\"data row16 col20\" >0</td>\n",
       "      <td id=\"T_fb048_row16_col21\" class=\"data row16 col21\" >0</td>\n",
       "      <td id=\"T_fb048_row16_col22\" class=\"data row16 col22\" >0</td>\n",
       "      <td id=\"T_fb048_row16_col23\" class=\"data row16 col23\" >0</td>\n",
       "      <td id=\"T_fb048_row16_col24\" class=\"data row16 col24\" >0</td>\n",
       "      <td id=\"T_fb048_row16_col25\" class=\"data row16 col25\" >0</td>\n",
       "      <td id=\"T_fb048_row16_col26\" class=\"data row16 col26\" >0</td>\n",
       "      <td id=\"T_fb048_row16_col27\" class=\"data row16 col27\" >0</td>\n",
       "    </tr>\n",
       "    <tr>\n",
       "      <th id=\"T_fb048_level0_row17\" class=\"row_heading level0 row17\" >17</th>\n",
       "      <td id=\"T_fb048_row17_col0\" class=\"data row17 col0\" >0</td>\n",
       "      <td id=\"T_fb048_row17_col1\" class=\"data row17 col1\" >0</td>\n",
       "      <td id=\"T_fb048_row17_col2\" class=\"data row17 col2\" >0</td>\n",
       "      <td id=\"T_fb048_row17_col3\" class=\"data row17 col3\" >0</td>\n",
       "      <td id=\"T_fb048_row17_col4\" class=\"data row17 col4\" >0</td>\n",
       "      <td id=\"T_fb048_row17_col5\" class=\"data row17 col5\" >0</td>\n",
       "      <td id=\"T_fb048_row17_col6\" class=\"data row17 col6\" >0</td>\n",
       "      <td id=\"T_fb048_row17_col7\" class=\"data row17 col7\" >0</td>\n",
       "      <td id=\"T_fb048_row17_col8\" class=\"data row17 col8\" >0</td>\n",
       "      <td id=\"T_fb048_row17_col9\" class=\"data row17 col9\" >0</td>\n",
       "      <td id=\"T_fb048_row17_col10\" class=\"data row17 col10\" >0</td>\n",
       "      <td id=\"T_fb048_row17_col11\" class=\"data row17 col11\" >0</td>\n",
       "      <td id=\"T_fb048_row17_col12\" class=\"data row17 col12\" >0</td>\n",
       "      <td id=\"T_fb048_row17_col13\" class=\"data row17 col13\" >0</td>\n",
       "      <td id=\"T_fb048_row17_col14\" class=\"data row17 col14\" >0</td>\n",
       "      <td id=\"T_fb048_row17_col15\" class=\"data row17 col15\" >7</td>\n",
       "      <td id=\"T_fb048_row17_col16\" class=\"data row17 col16\" >254</td>\n",
       "      <td id=\"T_fb048_row17_col17\" class=\"data row17 col17\" >254</td>\n",
       "      <td id=\"T_fb048_row17_col18\" class=\"data row17 col18\" >214</td>\n",
       "      <td id=\"T_fb048_row17_col19\" class=\"data row17 col19\" >28</td>\n",
       "      <td id=\"T_fb048_row17_col20\" class=\"data row17 col20\" >0</td>\n",
       "      <td id=\"T_fb048_row17_col21\" class=\"data row17 col21\" >0</td>\n",
       "      <td id=\"T_fb048_row17_col22\" class=\"data row17 col22\" >0</td>\n",
       "      <td id=\"T_fb048_row17_col23\" class=\"data row17 col23\" >0</td>\n",
       "      <td id=\"T_fb048_row17_col24\" class=\"data row17 col24\" >0</td>\n",
       "      <td id=\"T_fb048_row17_col25\" class=\"data row17 col25\" >0</td>\n",
       "      <td id=\"T_fb048_row17_col26\" class=\"data row17 col26\" >0</td>\n",
       "      <td id=\"T_fb048_row17_col27\" class=\"data row17 col27\" >0</td>\n",
       "    </tr>\n",
       "    <tr>\n",
       "      <th id=\"T_fb048_level0_row18\" class=\"row_heading level0 row18\" >18</th>\n",
       "      <td id=\"T_fb048_row18_col0\" class=\"data row18 col0\" >0</td>\n",
       "      <td id=\"T_fb048_row18_col1\" class=\"data row18 col1\" >0</td>\n",
       "      <td id=\"T_fb048_row18_col2\" class=\"data row18 col2\" >0</td>\n",
       "      <td id=\"T_fb048_row18_col3\" class=\"data row18 col3\" >0</td>\n",
       "      <td id=\"T_fb048_row18_col4\" class=\"data row18 col4\" >0</td>\n",
       "      <td id=\"T_fb048_row18_col5\" class=\"data row18 col5\" >0</td>\n",
       "      <td id=\"T_fb048_row18_col6\" class=\"data row18 col6\" >0</td>\n",
       "      <td id=\"T_fb048_row18_col7\" class=\"data row18 col7\" >0</td>\n",
       "      <td id=\"T_fb048_row18_col8\" class=\"data row18 col8\" >0</td>\n",
       "      <td id=\"T_fb048_row18_col9\" class=\"data row18 col9\" >0</td>\n",
       "      <td id=\"T_fb048_row18_col10\" class=\"data row18 col10\" >0</td>\n",
       "      <td id=\"T_fb048_row18_col11\" class=\"data row18 col11\" >0</td>\n",
       "      <td id=\"T_fb048_row18_col12\" class=\"data row18 col12\" >0</td>\n",
       "      <td id=\"T_fb048_row18_col13\" class=\"data row18 col13\" >0</td>\n",
       "      <td id=\"T_fb048_row18_col14\" class=\"data row18 col14\" >0</td>\n",
       "      <td id=\"T_fb048_row18_col15\" class=\"data row18 col15\" >138</td>\n",
       "      <td id=\"T_fb048_row18_col16\" class=\"data row18 col16\" >254</td>\n",
       "      <td id=\"T_fb048_row18_col17\" class=\"data row18 col17\" >254</td>\n",
       "      <td id=\"T_fb048_row18_col18\" class=\"data row18 col18\" >116</td>\n",
       "      <td id=\"T_fb048_row18_col19\" class=\"data row18 col19\" >0</td>\n",
       "      <td id=\"T_fb048_row18_col20\" class=\"data row18 col20\" >0</td>\n",
       "      <td id=\"T_fb048_row18_col21\" class=\"data row18 col21\" >0</td>\n",
       "      <td id=\"T_fb048_row18_col22\" class=\"data row18 col22\" >0</td>\n",
       "      <td id=\"T_fb048_row18_col23\" class=\"data row18 col23\" >0</td>\n",
       "      <td id=\"T_fb048_row18_col24\" class=\"data row18 col24\" >0</td>\n",
       "      <td id=\"T_fb048_row18_col25\" class=\"data row18 col25\" >0</td>\n",
       "      <td id=\"T_fb048_row18_col26\" class=\"data row18 col26\" >0</td>\n",
       "      <td id=\"T_fb048_row18_col27\" class=\"data row18 col27\" >0</td>\n",
       "    </tr>\n",
       "    <tr>\n",
       "      <th id=\"T_fb048_level0_row19\" class=\"row_heading level0 row19\" >19</th>\n",
       "      <td id=\"T_fb048_row19_col0\" class=\"data row19 col0\" >0</td>\n",
       "      <td id=\"T_fb048_row19_col1\" class=\"data row19 col1\" >0</td>\n",
       "      <td id=\"T_fb048_row19_col2\" class=\"data row19 col2\" >0</td>\n",
       "      <td id=\"T_fb048_row19_col3\" class=\"data row19 col3\" >0</td>\n",
       "      <td id=\"T_fb048_row19_col4\" class=\"data row19 col4\" >0</td>\n",
       "      <td id=\"T_fb048_row19_col5\" class=\"data row19 col5\" >0</td>\n",
       "      <td id=\"T_fb048_row19_col6\" class=\"data row19 col6\" >19</td>\n",
       "      <td id=\"T_fb048_row19_col7\" class=\"data row19 col7\" >177</td>\n",
       "      <td id=\"T_fb048_row19_col8\" class=\"data row19 col8\" >90</td>\n",
       "      <td id=\"T_fb048_row19_col9\" class=\"data row19 col9\" >0</td>\n",
       "      <td id=\"T_fb048_row19_col10\" class=\"data row19 col10\" >0</td>\n",
       "      <td id=\"T_fb048_row19_col11\" class=\"data row19 col11\" >0</td>\n",
       "      <td id=\"T_fb048_row19_col12\" class=\"data row19 col12\" >0</td>\n",
       "      <td id=\"T_fb048_row19_col13\" class=\"data row19 col13\" >0</td>\n",
       "      <td id=\"T_fb048_row19_col14\" class=\"data row19 col14\" >25</td>\n",
       "      <td id=\"T_fb048_row19_col15\" class=\"data row19 col15\" >240</td>\n",
       "      <td id=\"T_fb048_row19_col16\" class=\"data row19 col16\" >254</td>\n",
       "      <td id=\"T_fb048_row19_col17\" class=\"data row19 col17\" >254</td>\n",
       "      <td id=\"T_fb048_row19_col18\" class=\"data row19 col18\" >34</td>\n",
       "      <td id=\"T_fb048_row19_col19\" class=\"data row19 col19\" >0</td>\n",
       "      <td id=\"T_fb048_row19_col20\" class=\"data row19 col20\" >0</td>\n",
       "      <td id=\"T_fb048_row19_col21\" class=\"data row19 col21\" >0</td>\n",
       "      <td id=\"T_fb048_row19_col22\" class=\"data row19 col22\" >0</td>\n",
       "      <td id=\"T_fb048_row19_col23\" class=\"data row19 col23\" >0</td>\n",
       "      <td id=\"T_fb048_row19_col24\" class=\"data row19 col24\" >0</td>\n",
       "      <td id=\"T_fb048_row19_col25\" class=\"data row19 col25\" >0</td>\n",
       "      <td id=\"T_fb048_row19_col26\" class=\"data row19 col26\" >0</td>\n",
       "      <td id=\"T_fb048_row19_col27\" class=\"data row19 col27\" >0</td>\n",
       "    </tr>\n",
       "    <tr>\n",
       "      <th id=\"T_fb048_level0_row20\" class=\"row_heading level0 row20\" >20</th>\n",
       "      <td id=\"T_fb048_row20_col0\" class=\"data row20 col0\" >0</td>\n",
       "      <td id=\"T_fb048_row20_col1\" class=\"data row20 col1\" >0</td>\n",
       "      <td id=\"T_fb048_row20_col2\" class=\"data row20 col2\" >0</td>\n",
       "      <td id=\"T_fb048_row20_col3\" class=\"data row20 col3\" >0</td>\n",
       "      <td id=\"T_fb048_row20_col4\" class=\"data row20 col4\" >0</td>\n",
       "      <td id=\"T_fb048_row20_col5\" class=\"data row20 col5\" >0</td>\n",
       "      <td id=\"T_fb048_row20_col6\" class=\"data row20 col6\" >164</td>\n",
       "      <td id=\"T_fb048_row20_col7\" class=\"data row20 col7\" >254</td>\n",
       "      <td id=\"T_fb048_row20_col8\" class=\"data row20 col8\" >215</td>\n",
       "      <td id=\"T_fb048_row20_col9\" class=\"data row20 col9\" >63</td>\n",
       "      <td id=\"T_fb048_row20_col10\" class=\"data row20 col10\" >36</td>\n",
       "      <td id=\"T_fb048_row20_col11\" class=\"data row20 col11\" >0</td>\n",
       "      <td id=\"T_fb048_row20_col12\" class=\"data row20 col12\" >51</td>\n",
       "      <td id=\"T_fb048_row20_col13\" class=\"data row20 col13\" >89</td>\n",
       "      <td id=\"T_fb048_row20_col14\" class=\"data row20 col14\" >206</td>\n",
       "      <td id=\"T_fb048_row20_col15\" class=\"data row20 col15\" >254</td>\n",
       "      <td id=\"T_fb048_row20_col16\" class=\"data row20 col16\" >254</td>\n",
       "      <td id=\"T_fb048_row20_col17\" class=\"data row20 col17\" >139</td>\n",
       "      <td id=\"T_fb048_row20_col18\" class=\"data row20 col18\" >8</td>\n",
       "      <td id=\"T_fb048_row20_col19\" class=\"data row20 col19\" >0</td>\n",
       "      <td id=\"T_fb048_row20_col20\" class=\"data row20 col20\" >0</td>\n",
       "      <td id=\"T_fb048_row20_col21\" class=\"data row20 col21\" >0</td>\n",
       "      <td id=\"T_fb048_row20_col22\" class=\"data row20 col22\" >0</td>\n",
       "      <td id=\"T_fb048_row20_col23\" class=\"data row20 col23\" >0</td>\n",
       "      <td id=\"T_fb048_row20_col24\" class=\"data row20 col24\" >0</td>\n",
       "      <td id=\"T_fb048_row20_col25\" class=\"data row20 col25\" >0</td>\n",
       "      <td id=\"T_fb048_row20_col26\" class=\"data row20 col26\" >0</td>\n",
       "      <td id=\"T_fb048_row20_col27\" class=\"data row20 col27\" >0</td>\n",
       "    </tr>\n",
       "    <tr>\n",
       "      <th id=\"T_fb048_level0_row21\" class=\"row_heading level0 row21\" >21</th>\n",
       "      <td id=\"T_fb048_row21_col0\" class=\"data row21 col0\" >0</td>\n",
       "      <td id=\"T_fb048_row21_col1\" class=\"data row21 col1\" >0</td>\n",
       "      <td id=\"T_fb048_row21_col2\" class=\"data row21 col2\" >0</td>\n",
       "      <td id=\"T_fb048_row21_col3\" class=\"data row21 col3\" >0</td>\n",
       "      <td id=\"T_fb048_row21_col4\" class=\"data row21 col4\" >0</td>\n",
       "      <td id=\"T_fb048_row21_col5\" class=\"data row21 col5\" >0</td>\n",
       "      <td id=\"T_fb048_row21_col6\" class=\"data row21 col6\" >57</td>\n",
       "      <td id=\"T_fb048_row21_col7\" class=\"data row21 col7\" >197</td>\n",
       "      <td id=\"T_fb048_row21_col8\" class=\"data row21 col8\" >254</td>\n",
       "      <td id=\"T_fb048_row21_col9\" class=\"data row21 col9\" >254</td>\n",
       "      <td id=\"T_fb048_row21_col10\" class=\"data row21 col10\" >222</td>\n",
       "      <td id=\"T_fb048_row21_col11\" class=\"data row21 col11\" >180</td>\n",
       "      <td id=\"T_fb048_row21_col12\" class=\"data row21 col12\" >241</td>\n",
       "      <td id=\"T_fb048_row21_col13\" class=\"data row21 col13\" >254</td>\n",
       "      <td id=\"T_fb048_row21_col14\" class=\"data row21 col14\" >254</td>\n",
       "      <td id=\"T_fb048_row21_col15\" class=\"data row21 col15\" >253</td>\n",
       "      <td id=\"T_fb048_row21_col16\" class=\"data row21 col16\" >213</td>\n",
       "      <td id=\"T_fb048_row21_col17\" class=\"data row21 col17\" >11</td>\n",
       "      <td id=\"T_fb048_row21_col18\" class=\"data row21 col18\" >0</td>\n",
       "      <td id=\"T_fb048_row21_col19\" class=\"data row21 col19\" >0</td>\n",
       "      <td id=\"T_fb048_row21_col20\" class=\"data row21 col20\" >0</td>\n",
       "      <td id=\"T_fb048_row21_col21\" class=\"data row21 col21\" >0</td>\n",
       "      <td id=\"T_fb048_row21_col22\" class=\"data row21 col22\" >0</td>\n",
       "      <td id=\"T_fb048_row21_col23\" class=\"data row21 col23\" >0</td>\n",
       "      <td id=\"T_fb048_row21_col24\" class=\"data row21 col24\" >0</td>\n",
       "      <td id=\"T_fb048_row21_col25\" class=\"data row21 col25\" >0</td>\n",
       "      <td id=\"T_fb048_row21_col26\" class=\"data row21 col26\" >0</td>\n",
       "      <td id=\"T_fb048_row21_col27\" class=\"data row21 col27\" >0</td>\n",
       "    </tr>\n",
       "    <tr>\n",
       "      <th id=\"T_fb048_level0_row22\" class=\"row_heading level0 row22\" >22</th>\n",
       "      <td id=\"T_fb048_row22_col0\" class=\"data row22 col0\" >0</td>\n",
       "      <td id=\"T_fb048_row22_col1\" class=\"data row22 col1\" >0</td>\n",
       "      <td id=\"T_fb048_row22_col2\" class=\"data row22 col2\" >0</td>\n",
       "      <td id=\"T_fb048_row22_col3\" class=\"data row22 col3\" >0</td>\n",
       "      <td id=\"T_fb048_row22_col4\" class=\"data row22 col4\" >0</td>\n",
       "      <td id=\"T_fb048_row22_col5\" class=\"data row22 col5\" >0</td>\n",
       "      <td id=\"T_fb048_row22_col6\" class=\"data row22 col6\" >0</td>\n",
       "      <td id=\"T_fb048_row22_col7\" class=\"data row22 col7\" >140</td>\n",
       "      <td id=\"T_fb048_row22_col8\" class=\"data row22 col8\" >105</td>\n",
       "      <td id=\"T_fb048_row22_col9\" class=\"data row22 col9\" >254</td>\n",
       "      <td id=\"T_fb048_row22_col10\" class=\"data row22 col10\" >254</td>\n",
       "      <td id=\"T_fb048_row22_col11\" class=\"data row22 col11\" >254</td>\n",
       "      <td id=\"T_fb048_row22_col12\" class=\"data row22 col12\" >254</td>\n",
       "      <td id=\"T_fb048_row22_col13\" class=\"data row22 col13\" >254</td>\n",
       "      <td id=\"T_fb048_row22_col14\" class=\"data row22 col14\" >254</td>\n",
       "      <td id=\"T_fb048_row22_col15\" class=\"data row22 col15\" >236</td>\n",
       "      <td id=\"T_fb048_row22_col16\" class=\"data row22 col16\" >0</td>\n",
       "      <td id=\"T_fb048_row22_col17\" class=\"data row22 col17\" >0</td>\n",
       "      <td id=\"T_fb048_row22_col18\" class=\"data row22 col18\" >0</td>\n",
       "      <td id=\"T_fb048_row22_col19\" class=\"data row22 col19\" >0</td>\n",
       "      <td id=\"T_fb048_row22_col20\" class=\"data row22 col20\" >0</td>\n",
       "      <td id=\"T_fb048_row22_col21\" class=\"data row22 col21\" >0</td>\n",
       "      <td id=\"T_fb048_row22_col22\" class=\"data row22 col22\" >0</td>\n",
       "      <td id=\"T_fb048_row22_col23\" class=\"data row22 col23\" >0</td>\n",
       "      <td id=\"T_fb048_row22_col24\" class=\"data row22 col24\" >0</td>\n",
       "      <td id=\"T_fb048_row22_col25\" class=\"data row22 col25\" >0</td>\n",
       "      <td id=\"T_fb048_row22_col26\" class=\"data row22 col26\" >0</td>\n",
       "      <td id=\"T_fb048_row22_col27\" class=\"data row22 col27\" >0</td>\n",
       "    </tr>\n",
       "    <tr>\n",
       "      <th id=\"T_fb048_level0_row23\" class=\"row_heading level0 row23\" >23</th>\n",
       "      <td id=\"T_fb048_row23_col0\" class=\"data row23 col0\" >0</td>\n",
       "      <td id=\"T_fb048_row23_col1\" class=\"data row23 col1\" >0</td>\n",
       "      <td id=\"T_fb048_row23_col2\" class=\"data row23 col2\" >0</td>\n",
       "      <td id=\"T_fb048_row23_col3\" class=\"data row23 col3\" >0</td>\n",
       "      <td id=\"T_fb048_row23_col4\" class=\"data row23 col4\" >0</td>\n",
       "      <td id=\"T_fb048_row23_col5\" class=\"data row23 col5\" >0</td>\n",
       "      <td id=\"T_fb048_row23_col6\" class=\"data row23 col6\" >0</td>\n",
       "      <td id=\"T_fb048_row23_col7\" class=\"data row23 col7\" >0</td>\n",
       "      <td id=\"T_fb048_row23_col8\" class=\"data row23 col8\" >7</td>\n",
       "      <td id=\"T_fb048_row23_col9\" class=\"data row23 col9\" >117</td>\n",
       "      <td id=\"T_fb048_row23_col10\" class=\"data row23 col10\" >117</td>\n",
       "      <td id=\"T_fb048_row23_col11\" class=\"data row23 col11\" >165</td>\n",
       "      <td id=\"T_fb048_row23_col12\" class=\"data row23 col12\" >254</td>\n",
       "      <td id=\"T_fb048_row23_col13\" class=\"data row23 col13\" >254</td>\n",
       "      <td id=\"T_fb048_row23_col14\" class=\"data row23 col14\" >239</td>\n",
       "      <td id=\"T_fb048_row23_col15\" class=\"data row23 col15\" >50</td>\n",
       "      <td id=\"T_fb048_row23_col16\" class=\"data row23 col16\" >0</td>\n",
       "      <td id=\"T_fb048_row23_col17\" class=\"data row23 col17\" >0</td>\n",
       "      <td id=\"T_fb048_row23_col18\" class=\"data row23 col18\" >0</td>\n",
       "      <td id=\"T_fb048_row23_col19\" class=\"data row23 col19\" >0</td>\n",
       "      <td id=\"T_fb048_row23_col20\" class=\"data row23 col20\" >0</td>\n",
       "      <td id=\"T_fb048_row23_col21\" class=\"data row23 col21\" >0</td>\n",
       "      <td id=\"T_fb048_row23_col22\" class=\"data row23 col22\" >0</td>\n",
       "      <td id=\"T_fb048_row23_col23\" class=\"data row23 col23\" >0</td>\n",
       "      <td id=\"T_fb048_row23_col24\" class=\"data row23 col24\" >0</td>\n",
       "      <td id=\"T_fb048_row23_col25\" class=\"data row23 col25\" >0</td>\n",
       "      <td id=\"T_fb048_row23_col26\" class=\"data row23 col26\" >0</td>\n",
       "      <td id=\"T_fb048_row23_col27\" class=\"data row23 col27\" >0</td>\n",
       "    </tr>\n",
       "    <tr>\n",
       "      <th id=\"T_fb048_level0_row24\" class=\"row_heading level0 row24\" >24</th>\n",
       "      <td id=\"T_fb048_row24_col0\" class=\"data row24 col0\" >0</td>\n",
       "      <td id=\"T_fb048_row24_col1\" class=\"data row24 col1\" >0</td>\n",
       "      <td id=\"T_fb048_row24_col2\" class=\"data row24 col2\" >0</td>\n",
       "      <td id=\"T_fb048_row24_col3\" class=\"data row24 col3\" >0</td>\n",
       "      <td id=\"T_fb048_row24_col4\" class=\"data row24 col4\" >0</td>\n",
       "      <td id=\"T_fb048_row24_col5\" class=\"data row24 col5\" >0</td>\n",
       "      <td id=\"T_fb048_row24_col6\" class=\"data row24 col6\" >0</td>\n",
       "      <td id=\"T_fb048_row24_col7\" class=\"data row24 col7\" >0</td>\n",
       "      <td id=\"T_fb048_row24_col8\" class=\"data row24 col8\" >0</td>\n",
       "      <td id=\"T_fb048_row24_col9\" class=\"data row24 col9\" >0</td>\n",
       "      <td id=\"T_fb048_row24_col10\" class=\"data row24 col10\" >0</td>\n",
       "      <td id=\"T_fb048_row24_col11\" class=\"data row24 col11\" >0</td>\n",
       "      <td id=\"T_fb048_row24_col12\" class=\"data row24 col12\" >0</td>\n",
       "      <td id=\"T_fb048_row24_col13\" class=\"data row24 col13\" >0</td>\n",
       "      <td id=\"T_fb048_row24_col14\" class=\"data row24 col14\" >0</td>\n",
       "      <td id=\"T_fb048_row24_col15\" class=\"data row24 col15\" >0</td>\n",
       "      <td id=\"T_fb048_row24_col16\" class=\"data row24 col16\" >0</td>\n",
       "      <td id=\"T_fb048_row24_col17\" class=\"data row24 col17\" >0</td>\n",
       "      <td id=\"T_fb048_row24_col18\" class=\"data row24 col18\" >0</td>\n",
       "      <td id=\"T_fb048_row24_col19\" class=\"data row24 col19\" >0</td>\n",
       "      <td id=\"T_fb048_row24_col20\" class=\"data row24 col20\" >0</td>\n",
       "      <td id=\"T_fb048_row24_col21\" class=\"data row24 col21\" >0</td>\n",
       "      <td id=\"T_fb048_row24_col22\" class=\"data row24 col22\" >0</td>\n",
       "      <td id=\"T_fb048_row24_col23\" class=\"data row24 col23\" >0</td>\n",
       "      <td id=\"T_fb048_row24_col24\" class=\"data row24 col24\" >0</td>\n",
       "      <td id=\"T_fb048_row24_col25\" class=\"data row24 col25\" >0</td>\n",
       "      <td id=\"T_fb048_row24_col26\" class=\"data row24 col26\" >0</td>\n",
       "      <td id=\"T_fb048_row24_col27\" class=\"data row24 col27\" >0</td>\n",
       "    </tr>\n",
       "    <tr>\n",
       "      <th id=\"T_fb048_level0_row25\" class=\"row_heading level0 row25\" >25</th>\n",
       "      <td id=\"T_fb048_row25_col0\" class=\"data row25 col0\" >0</td>\n",
       "      <td id=\"T_fb048_row25_col1\" class=\"data row25 col1\" >0</td>\n",
       "      <td id=\"T_fb048_row25_col2\" class=\"data row25 col2\" >0</td>\n",
       "      <td id=\"T_fb048_row25_col3\" class=\"data row25 col3\" >0</td>\n",
       "      <td id=\"T_fb048_row25_col4\" class=\"data row25 col4\" >0</td>\n",
       "      <td id=\"T_fb048_row25_col5\" class=\"data row25 col5\" >0</td>\n",
       "      <td id=\"T_fb048_row25_col6\" class=\"data row25 col6\" >0</td>\n",
       "      <td id=\"T_fb048_row25_col7\" class=\"data row25 col7\" >0</td>\n",
       "      <td id=\"T_fb048_row25_col8\" class=\"data row25 col8\" >0</td>\n",
       "      <td id=\"T_fb048_row25_col9\" class=\"data row25 col9\" >0</td>\n",
       "      <td id=\"T_fb048_row25_col10\" class=\"data row25 col10\" >0</td>\n",
       "      <td id=\"T_fb048_row25_col11\" class=\"data row25 col11\" >0</td>\n",
       "      <td id=\"T_fb048_row25_col12\" class=\"data row25 col12\" >0</td>\n",
       "      <td id=\"T_fb048_row25_col13\" class=\"data row25 col13\" >0</td>\n",
       "      <td id=\"T_fb048_row25_col14\" class=\"data row25 col14\" >0</td>\n",
       "      <td id=\"T_fb048_row25_col15\" class=\"data row25 col15\" >0</td>\n",
       "      <td id=\"T_fb048_row25_col16\" class=\"data row25 col16\" >0</td>\n",
       "      <td id=\"T_fb048_row25_col17\" class=\"data row25 col17\" >0</td>\n",
       "      <td id=\"T_fb048_row25_col18\" class=\"data row25 col18\" >0</td>\n",
       "      <td id=\"T_fb048_row25_col19\" class=\"data row25 col19\" >0</td>\n",
       "      <td id=\"T_fb048_row25_col20\" class=\"data row25 col20\" >0</td>\n",
       "      <td id=\"T_fb048_row25_col21\" class=\"data row25 col21\" >0</td>\n",
       "      <td id=\"T_fb048_row25_col22\" class=\"data row25 col22\" >0</td>\n",
       "      <td id=\"T_fb048_row25_col23\" class=\"data row25 col23\" >0</td>\n",
       "      <td id=\"T_fb048_row25_col24\" class=\"data row25 col24\" >0</td>\n",
       "      <td id=\"T_fb048_row25_col25\" class=\"data row25 col25\" >0</td>\n",
       "      <td id=\"T_fb048_row25_col26\" class=\"data row25 col26\" >0</td>\n",
       "      <td id=\"T_fb048_row25_col27\" class=\"data row25 col27\" >0</td>\n",
       "    </tr>\n",
       "    <tr>\n",
       "      <th id=\"T_fb048_level0_row26\" class=\"row_heading level0 row26\" >26</th>\n",
       "      <td id=\"T_fb048_row26_col0\" class=\"data row26 col0\" >0</td>\n",
       "      <td id=\"T_fb048_row26_col1\" class=\"data row26 col1\" >0</td>\n",
       "      <td id=\"T_fb048_row26_col2\" class=\"data row26 col2\" >0</td>\n",
       "      <td id=\"T_fb048_row26_col3\" class=\"data row26 col3\" >0</td>\n",
       "      <td id=\"T_fb048_row26_col4\" class=\"data row26 col4\" >0</td>\n",
       "      <td id=\"T_fb048_row26_col5\" class=\"data row26 col5\" >0</td>\n",
       "      <td id=\"T_fb048_row26_col6\" class=\"data row26 col6\" >0</td>\n",
       "      <td id=\"T_fb048_row26_col7\" class=\"data row26 col7\" >0</td>\n",
       "      <td id=\"T_fb048_row26_col8\" class=\"data row26 col8\" >0</td>\n",
       "      <td id=\"T_fb048_row26_col9\" class=\"data row26 col9\" >0</td>\n",
       "      <td id=\"T_fb048_row26_col10\" class=\"data row26 col10\" >0</td>\n",
       "      <td id=\"T_fb048_row26_col11\" class=\"data row26 col11\" >0</td>\n",
       "      <td id=\"T_fb048_row26_col12\" class=\"data row26 col12\" >0</td>\n",
       "      <td id=\"T_fb048_row26_col13\" class=\"data row26 col13\" >0</td>\n",
       "      <td id=\"T_fb048_row26_col14\" class=\"data row26 col14\" >0</td>\n",
       "      <td id=\"T_fb048_row26_col15\" class=\"data row26 col15\" >0</td>\n",
       "      <td id=\"T_fb048_row26_col16\" class=\"data row26 col16\" >0</td>\n",
       "      <td id=\"T_fb048_row26_col17\" class=\"data row26 col17\" >0</td>\n",
       "      <td id=\"T_fb048_row26_col18\" class=\"data row26 col18\" >0</td>\n",
       "      <td id=\"T_fb048_row26_col19\" class=\"data row26 col19\" >0</td>\n",
       "      <td id=\"T_fb048_row26_col20\" class=\"data row26 col20\" >0</td>\n",
       "      <td id=\"T_fb048_row26_col21\" class=\"data row26 col21\" >0</td>\n",
       "      <td id=\"T_fb048_row26_col22\" class=\"data row26 col22\" >0</td>\n",
       "      <td id=\"T_fb048_row26_col23\" class=\"data row26 col23\" >0</td>\n",
       "      <td id=\"T_fb048_row26_col24\" class=\"data row26 col24\" >0</td>\n",
       "      <td id=\"T_fb048_row26_col25\" class=\"data row26 col25\" >0</td>\n",
       "      <td id=\"T_fb048_row26_col26\" class=\"data row26 col26\" >0</td>\n",
       "      <td id=\"T_fb048_row26_col27\" class=\"data row26 col27\" >0</td>\n",
       "    </tr>\n",
       "    <tr>\n",
       "      <th id=\"T_fb048_level0_row27\" class=\"row_heading level0 row27\" >27</th>\n",
       "      <td id=\"T_fb048_row27_col0\" class=\"data row27 col0\" >0</td>\n",
       "      <td id=\"T_fb048_row27_col1\" class=\"data row27 col1\" >0</td>\n",
       "      <td id=\"T_fb048_row27_col2\" class=\"data row27 col2\" >0</td>\n",
       "      <td id=\"T_fb048_row27_col3\" class=\"data row27 col3\" >0</td>\n",
       "      <td id=\"T_fb048_row27_col4\" class=\"data row27 col4\" >0</td>\n",
       "      <td id=\"T_fb048_row27_col5\" class=\"data row27 col5\" >0</td>\n",
       "      <td id=\"T_fb048_row27_col6\" class=\"data row27 col6\" >0</td>\n",
       "      <td id=\"T_fb048_row27_col7\" class=\"data row27 col7\" >0</td>\n",
       "      <td id=\"T_fb048_row27_col8\" class=\"data row27 col8\" >0</td>\n",
       "      <td id=\"T_fb048_row27_col9\" class=\"data row27 col9\" >0</td>\n",
       "      <td id=\"T_fb048_row27_col10\" class=\"data row27 col10\" >0</td>\n",
       "      <td id=\"T_fb048_row27_col11\" class=\"data row27 col11\" >0</td>\n",
       "      <td id=\"T_fb048_row27_col12\" class=\"data row27 col12\" >0</td>\n",
       "      <td id=\"T_fb048_row27_col13\" class=\"data row27 col13\" >0</td>\n",
       "      <td id=\"T_fb048_row27_col14\" class=\"data row27 col14\" >0</td>\n",
       "      <td id=\"T_fb048_row27_col15\" class=\"data row27 col15\" >0</td>\n",
       "      <td id=\"T_fb048_row27_col16\" class=\"data row27 col16\" >0</td>\n",
       "      <td id=\"T_fb048_row27_col17\" class=\"data row27 col17\" >0</td>\n",
       "      <td id=\"T_fb048_row27_col18\" class=\"data row27 col18\" >0</td>\n",
       "      <td id=\"T_fb048_row27_col19\" class=\"data row27 col19\" >0</td>\n",
       "      <td id=\"T_fb048_row27_col20\" class=\"data row27 col20\" >0</td>\n",
       "      <td id=\"T_fb048_row27_col21\" class=\"data row27 col21\" >0</td>\n",
       "      <td id=\"T_fb048_row27_col22\" class=\"data row27 col22\" >0</td>\n",
       "      <td id=\"T_fb048_row27_col23\" class=\"data row27 col23\" >0</td>\n",
       "      <td id=\"T_fb048_row27_col24\" class=\"data row27 col24\" >0</td>\n",
       "      <td id=\"T_fb048_row27_col25\" class=\"data row27 col25\" >0</td>\n",
       "      <td id=\"T_fb048_row27_col26\" class=\"data row27 col26\" >0</td>\n",
       "      <td id=\"T_fb048_row27_col27\" class=\"data row27 col27\" >0</td>\n",
       "    </tr>\n",
       "  </tbody>\n",
       "</table>\n"
      ],
      "text/plain": [
       "<pandas.io.formats.style.Styler at 0x247f1a24cd0>"
      ]
     },
     "execution_count": 33,
     "metadata": {},
     "output_type": "execute_result"
    }
   ],
   "source": [
    "# Visualize the tensor\n",
    "im3_t = tensor(im3)\n",
    "df = pd.DataFrame(im3_t)\n",
    "df.style.set_properties(**{'font-size':'8pt'}).background_gradient('Greys')"
   ]
  },
  {
   "cell_type": "markdown",
   "metadata": {},
   "source": [
    "## First attempt using Pixel Similarity"
   ]
  },
  {
   "cell_type": "code",
   "execution_count": 34,
   "metadata": {},
   "outputs": [
    {
     "data": {
      "text/plain": [
       "(6131, 6265)"
      ]
     },
     "execution_count": 34,
     "metadata": {},
     "output_type": "execute_result"
    }
   ],
   "source": [
    "seven_tensors = [tensor(Image.open(o)) for o in sevens]\n",
    "three_tensors = [tensor(Image.open(o)) for o in threes]\n",
    "len(three_tensors),len(seven_tensors)"
   ]
  },
  {
   "cell_type": "code",
   "execution_count": 38,
   "metadata": {},
   "outputs": [
    {
     "data": {
      "image/png": "[encoded data removed]",
      "text/plain": [
       "<Figure size 100x100 with 1 Axes>"
      ]
     },
     "metadata": {},
     "output_type": "display_data"
    },
    {
     "data": {
      "image/png": "[encoded data removed]",
      "text/plain": [
       "<Figure size 100x100 with 1 Axes>"
      ]
     },
     "metadata": {},
     "output_type": "display_data"
    }
   ],
   "source": [
    "show_image(three_tensors[0]);\n",
    "show_image(seven_tensors[0]);"
   ]
  },
  {
   "cell_type": "code",
   "execution_count": 40,
   "metadata": {},
   "outputs": [
    {
     "name": "stdout",
     "output_type": "stream",
     "text": [
      "torch.Size([6131, 28, 28])\n",
      "torch.Size([6265, 28, 28])\n"
     ]
    }
   ],
   "source": [
    "stacked_sevens = torch.stack(seven_tensors).float()/255\n",
    "stacked_threes = torch.stack(three_tensors).float()/255\n",
    "\n",
    "print(stacked_threes.shape)\n",
    "print(stacked_sevens.shape)"
   ]
  },
  {
   "cell_type": "code",
   "execution_count": 41,
   "metadata": {},
   "outputs": [
    {
     "data": {
      "text/plain": [
       "3"
      ]
     },
     "execution_count": 41,
     "metadata": {},
     "output_type": "execute_result"
    }
   ],
   "source": [
    "len(stacked_threes.shape)"
   ]
  },
  {
   "cell_type": "code",
   "execution_count": 42,
   "metadata": {},
   "outputs": [
    {
     "data": {
      "text/plain": [
       "3"
      ]
     },
     "execution_count": 42,
     "metadata": {},
     "output_type": "execute_result"
    }
   ],
   "source": [
    "stacked_threes.ndim"
   ]
  },
  {
   "cell_type": "code",
   "execution_count": 43,
   "metadata": {},
   "outputs": [
    {
     "data": {
      "image/png": "[encoded data removed]",
      "text/plain": [
       "<Figure size 100x100 with 1 Axes>"
      ]
     },
     "metadata": {},
     "output_type": "display_data"
    }
   ],
   "source": [
    "mean3 = stacked_threes.mean(0)\n",
    "show_image(mean3);"
   ]
  },
  {
   "cell_type": "code",
   "execution_count": 44,
   "metadata": {},
   "outputs": [
    {
     "data": {
      "image/png": "[encoded data removed]",
      "text/plain": [
       "<Figure size 100x100 with 1 Axes>"
      ]
     },
     "metadata": {},
     "output_type": "display_data"
    }
   ],
   "source": [
    "mean7 = stacked_sevens.mean(0)\n",
    "show_image(mean7);"
   ]
  },
  {
   "cell_type": "code",
   "execution_count": 45,
   "metadata": {},
   "outputs": [
    {
     "data": {
      "image/png": "[encoded data removed]",
      "text/plain": [
       "<Figure size 100x100 with 1 Axes>"
      ]
     },
     "metadata": {},
     "output_type": "display_data"
    }
   ],
   "source": [
    "a_3 = stacked_threes[1]\n",
    "show_image(a_3);"
   ]
  },
  {
   "cell_type": "code",
   "execution_count": 46,
   "metadata": {},
   "outputs": [
    {
     "data": {
      "text/plain": [
       "(tensor(0.1114), tensor(0.2021))"
      ]
     },
     "execution_count": 46,
     "metadata": {},
     "output_type": "execute_result"
    }
   ],
   "source": [
    "dist_3_abs = (a_3 - mean3).abs().mean()\n",
    "dist_3_sqr = ((a_3 - mean3)**2).mean().sqrt()\n",
    "dist_3_abs,dist_3_sqr"
   ]
  },
  {
   "cell_type": "code",
   "execution_count": 47,
   "metadata": {},
   "outputs": [
    {
     "data": {
      "text/plain": [
       "(tensor(0.1586), tensor(0.3021))"
      ]
     },
     "execution_count": 47,
     "metadata": {},
     "output_type": "execute_result"
    }
   ],
   "source": [
    "dist_7_abs = (a_3 - mean7).abs().mean()\n",
    "dist_7_sqr = ((a_3 - mean7)**2).mean().sqrt()\n",
    "dist_7_abs,dist_7_sqr"
   ]
  },
  {
   "cell_type": "code",
   "execution_count": 51,
   "metadata": {},
   "outputs": [
    {
     "name": "stdout",
     "output_type": "stream",
     "text": [
      "tensor(0.1586)\n",
      "tensor(0.3021)\n"
     ]
    }
   ],
   "source": [
    "# Using L1 as the loss function\n",
    "print(F.l1_loss(a_3.float(),mean7))\n",
    "\n",
    "# Using MSE as the loss function\n",
    "print(F.mse_loss(a_3,mean7).sqrt())"
   ]
  },
  {
   "cell_type": "markdown",
   "metadata": {},
   "source": [
    "## Computing Metrics Using Broadcasting"
   ]
  },
  {
   "cell_type": "code",
   "execution_count": 61,
   "metadata": {},
   "outputs": [
    {
     "data": {
      "text/plain": [
       "(torch.Size([1010, 28, 28]), torch.Size([1028, 28, 28]))"
      ]
     },
     "execution_count": 61,
     "metadata": {},
     "output_type": "execute_result"
    }
   ],
   "source": [
    "valid_3_tens = torch.stack([tensor(Image.open(o)) \n",
    "                            for o in (path/'valid'/'3').ls()])\n",
    "valid_3_tens = valid_3_tens.float()/255\n",
    "\n",
    "valid_7_tens = torch.stack([tensor(Image.open(o)) \n",
    "                            for o in (path/'valid'/'7').ls()])\n",
    "valid_7_tens = valid_7_tens.float()/255\n",
    "\n",
    "\n",
    "valid_3_tens.shape,valid_7_tens.shape"
   ]
  },
  {
   "cell_type": "code",
   "execution_count": 62,
   "metadata": {},
   "outputs": [
    {
     "data": {
      "text/plain": [
       "tensor(0.1114)"
      ]
     },
     "execution_count": 62,
     "metadata": {},
     "output_type": "execute_result"
    }
   ],
   "source": [
    "def mnist_distance(a,b): return (a-b).abs().mean((-1,-2))\n",
    "mnist_distance(a_3, mean3)"
   ]
  },
  {
   "cell_type": "code",
   "execution_count": 67,
   "metadata": {},
   "outputs": [
    {
     "name": "stdout",
     "output_type": "stream",
     "text": [
      "torch.Size([1010, 28, 28])\n",
      "torch.Size([28, 28])\n"
     ]
    }
   ],
   "source": [
    "print(valid_3_tens.shape)\n",
    "print(mean3.shape)"
   ]
  },
  {
   "cell_type": "code",
   "execution_count": 68,
   "metadata": {},
   "outputs": [
    {
     "data": {
      "text/plain": [
       "(tensor([0.1280, 0.1623, 0.1242,  ..., 0.1508, 0.1263, 0.1260]),\n",
       " torch.Size([1010]))"
      ]
     },
     "execution_count": 68,
     "metadata": {},
     "output_type": "execute_result"
    }
   ],
   "source": [
    "# mean3 value is broadcasted to the shape of valid_3_tens\n",
    "valid_3_dist = mnist_distance(valid_3_tens, mean3)\n",
    "valid_3_dist, valid_3_dist.shape"
   ]
  },
  {
   "cell_type": "code",
   "execution_count": 71,
   "metadata": {},
   "outputs": [
    {
     "data": {
      "text/plain": [
       "torch.Size([1010, 28, 28])"
      ]
     },
     "execution_count": 71,
     "metadata": {},
     "output_type": "execute_result"
    }
   ],
   "source": [
    "(valid_3_tens-mean3).shape"
   ]
  },
  {
   "cell_type": "code",
   "execution_count": 72,
   "metadata": {},
   "outputs": [],
   "source": [
    "def is_3(x): return mnist_distance(x,mean3) < mnist_distance(x,mean7)"
   ]
  },
  {
   "cell_type": "code",
   "execution_count": 73,
   "metadata": {},
   "outputs": [
    {
     "data": {
      "text/plain": [
       "(tensor(True), tensor(1.))"
      ]
     },
     "execution_count": 73,
     "metadata": {},
     "output_type": "execute_result"
    }
   ],
   "source": [
    "is_3(a_3), is_3(a_3).float()"
   ]
  },
  {
   "cell_type": "code",
   "execution_count": 74,
   "metadata": {},
   "outputs": [
    {
     "data": {
      "text/plain": [
       "tensor([ True,  True,  True,  ..., False,  True,  True])"
      ]
     },
     "execution_count": 74,
     "metadata": {},
     "output_type": "execute_result"
    }
   ],
   "source": [
    "is_3(valid_3_tens)"
   ]
  },
  {
   "cell_type": "code",
   "execution_count": 75,
   "metadata": {},
   "outputs": [
    {
     "data": {
      "text/plain": [
       "(tensor(0.9168), tensor(0.9854), tensor(0.9511))"
      ]
     },
     "execution_count": 75,
     "metadata": {},
     "output_type": "execute_result"
    }
   ],
   "source": [
    "accuracy_3s =      is_3(valid_3_tens).float() .mean()\n",
    "accuracy_7s = (1 - is_3(valid_7_tens).float()).mean()\n",
    "\n",
    "accuracy_3s,accuracy_7s,(accuracy_3s+accuracy_7s)/2"
   ]
  },
  {
   "cell_type": "markdown",
   "metadata": {},
   "source": [
    "## Stochastic Gradient Descent (SGD)"
   ]
  },
  {
   "cell_type": "markdown",
   "metadata": {},
   "source": [
    "### An End-to-End SGD Example"
   ]
  },
  {
   "cell_type": "code",
   "execution_count": 83,
   "metadata": {},
   "outputs": [
    {
     "data": {
      "text/plain": [
       "tensor([ 0.,  1.,  2.,  3.,  4.,  5.,  6.,  7.,  8.,  9., 10., 11., 12., 13., 14., 15., 16., 17., 18., 19.])"
      ]
     },
     "execution_count": 83,
     "metadata": {},
     "output_type": "execute_result"
    }
   ],
   "source": [
    "time = torch.arange(0,20).float(); time"
   ]
  },
  {
   "cell_type": "code",
   "execution_count": 84,
   "metadata": {},
   "outputs": [
    {
     "data": {
      "image/png": "[encoded data removed]",
      "text/plain": [
       "<Figure size 640x480 with 1 Axes>"
      ]
     },
     "metadata": {},
     "output_type": "display_data"
    }
   ],
   "source": [
    "speed = torch.randn(20)*3 + 0.75*(time-9.5)**2 + 1\n",
    "plt.scatter(time,speed);"
   ]
  },
  {
   "cell_type": "code",
   "execution_count": 85,
   "metadata": {},
   "outputs": [],
   "source": [
    "def f(t, params):\n",
    "    a,b,c = params\n",
    "    return a*(t**2) + (b*t) + c"
   ]
  },
  {
   "cell_type": "code",
   "execution_count": 86,
   "metadata": {},
   "outputs": [],
   "source": [
    "def mse(preds, targets): return ((preds-targets)**2).mean()"
   ]
  },
  {
   "cell_type": "markdown",
   "metadata": {},
   "source": [
    "#### Step 1: Initialize the parameters"
   ]
  },
  {
   "cell_type": "code",
   "execution_count": 87,
   "metadata": {},
   "outputs": [],
   "source": [
    "params = torch.randn(3).requires_grad_()"
   ]
  },
  {
   "cell_type": "code",
   "execution_count": 88,
   "metadata": {},
   "outputs": [],
   "source": [
    "#hide\n",
    "orig_params = params.clone()"
   ]
  },
  {
   "cell_type": "markdown",
   "metadata": {},
   "source": [
    "#### Step 2: Calculate the predictions"
   ]
  },
  {
   "cell_type": "code",
   "execution_count": 89,
   "metadata": {},
   "outputs": [],
   "source": [
    "preds = f(time, params)"
   ]
  },
  {
   "cell_type": "code",
   "execution_count": 90,
   "metadata": {},
   "outputs": [],
   "source": [
    "def show_preds(preds, ax=None):\n",
    "    if ax is None: ax=plt.subplots()[1]\n",
    "    ax.scatter(time, speed)\n",
    "    ax.scatter(time, to_np(preds), color='red')\n",
    "    ax.set_ylim(-300,100)"
   ]
  },
  {
   "cell_type": "code",
   "execution_count": 91,
   "metadata": {},
   "outputs": [
    {
     "data": {
      "image/png": "[encoded data removed]",
      "text/plain": [
       "<Figure size 640x480 with 1 Axes>"
      ]
     },
     "metadata": {},
     "output_type": "display_data"
    }
   ],
   "source": [
    "show_preds(preds)"
   ]
  },
  {
   "cell_type": "markdown",
   "metadata": {},
   "source": [
    "#### Step 3: Calculate the loss"
   ]
  },
  {
   "cell_type": "code",
   "execution_count": 92,
   "metadata": {},
   "outputs": [
    {
     "data": {
      "text/plain": [
       "tensor(25823.8086, grad_fn=<MeanBackward0>)"
      ]
     },
     "execution_count": 92,
     "metadata": {},
     "output_type": "execute_result"
    }
   ],
   "source": [
    "loss = mse(preds, speed)\n",
    "loss"
   ]
  },
  {
   "cell_type": "markdown",
   "metadata": {},
   "source": [
    "#### Step 4: Calculate the gradients"
   ]
  },
  {
   "cell_type": "code",
   "execution_count": 93,
   "metadata": {},
   "outputs": [
    {
     "data": {
      "text/plain": [
       "tensor([-53195.8633,  -3419.7148,   -253.8908])"
      ]
     },
     "execution_count": 93,
     "metadata": {},
     "output_type": "execute_result"
    }
   ],
   "source": [
    "loss.backward()\n",
    "params.grad"
   ]
  },
  {
   "cell_type": "code",
   "execution_count": 94,
   "metadata": {},
   "outputs": [
    {
     "data": {
      "text/plain": [
       "tensor([-0.5320, -0.0342, -0.0025])"
      ]
     },
     "execution_count": 94,
     "metadata": {},
     "output_type": "execute_result"
    }
   ],
   "source": [
    "params.grad * 1e-5 # Assuming learning rate of 1e-5"
   ]
  },
  {
   "cell_type": "code",
   "execution_count": 95,
   "metadata": {},
   "outputs": [
    {
     "data": {
      "text/plain": [
       "tensor([-0.7658, -0.7506,  1.3525], requires_grad=True)"
      ]
     },
     "execution_count": 95,
     "metadata": {},
     "output_type": "execute_result"
    }
   ],
   "source": [
    "params"
   ]
  },
  {
   "cell_type": "markdown",
   "metadata": {},
   "source": [
    "#### Step 5: Step the weights. "
   ]
  },
  {
   "cell_type": "code",
   "execution_count": 96,
   "metadata": {},
   "outputs": [],
   "source": [
    "lr = 1e-5\n",
    "params.data -= lr * params.grad.data\n",
    "params.grad = None"
   ]
  },
  {
   "cell_type": "code",
   "execution_count": 97,
   "metadata": {},
   "outputs": [
    {
     "data": {
      "text/plain": [
       "tensor(5435.5356, grad_fn=<MeanBackward0>)"
      ]
     },
     "execution_count": 97,
     "metadata": {},
     "output_type": "execute_result"
    }
   ],
   "source": [
    "preds = f(time,params)\n",
    "mse(preds, speed)"
   ]
  },
  {
   "cell_type": "code",
   "execution_count": 98,
   "metadata": {},
   "outputs": [
    {
     "data": {
      "image/png": "[encoded data removed]",
      "text/plain": [
       "<Figure size 640x480 with 1 Axes>"
      ]
     },
     "metadata": {},
     "output_type": "display_data"
    }
   ],
   "source": [
    "show_preds(preds) # To visually confirm that the predictions has improved"
   ]
  },
  {
   "cell_type": "code",
   "execution_count": 99,
   "metadata": {},
   "outputs": [],
   "source": [
    "def apply_step(params, prn=True):\n",
    "    preds = f(time, params)\n",
    "    loss = mse(preds, speed)\n",
    "    loss.backward()\n",
    "    params.data -= lr * params.grad.data\n",
    "    params.grad = None\n",
    "    if prn: print(loss.item())\n",
    "    return preds"
   ]
  },
  {
   "cell_type": "markdown",
   "metadata": {},
   "source": [
    "#### Step 6: Repeat the process "
   ]
  },
  {
   "cell_type": "code",
   "execution_count": 100,
   "metadata": {},
   "outputs": [
    {
     "name": "stdout",
     "output_type": "stream",
     "text": [
      "5435.53564453125\n",
      "1577.44921875\n",
      "847.3778076171875\n",
      "709.2225341796875\n",
      "683.0758056640625\n",
      "678.1243896484375\n",
      "677.1838989257812\n",
      "677.0023803710938\n",
      "676.9645385742188\n",
      "676.9537353515625\n"
     ]
    }
   ],
   "source": [
    "for i in range(10): apply_step(params)"
   ]
  },
  {
   "cell_type": "code",
   "execution_count": 101,
   "metadata": {},
   "outputs": [],
   "source": [
    "#hide\n",
    "params = orig_params.detach().requires_grad_()"
   ]
  },
  {
   "cell_type": "code",
   "execution_count": 102,
   "metadata": {},
   "outputs": [
    {
     "data": {
      "image/png": "[encoded data removed]",
      "text/plain": [
       "<Figure size 1200x300 with 4 Axes>"
      ]
     },
     "metadata": {},
     "output_type": "display_data"
    }
   ],
   "source": [
    "_,axs = plt.subplots(1,4,figsize=(12,3))\n",
    "for ax in axs: show_preds(apply_step(params, False), ax)\n",
    "plt.tight_layout()"
   ]
  },
  {
   "cell_type": "markdown",
   "metadata": {},
   "source": [
    "#### Step 7: stop"
   ]
  },
  {
   "cell_type": "markdown",
   "metadata": {},
   "source": [
    "## The MNIST Loss Function"
   ]
  },
  {
   "cell_type": "code",
   "execution_count": 103,
   "metadata": {},
   "outputs": [],
   "source": [
    "train_x = torch.cat([stacked_threes, stacked_sevens]).view(-1, 28*28)"
   ]
  },
  {
   "cell_type": "code",
   "execution_count": 104,
   "metadata": {},
   "outputs": [
    {
     "data": {
      "text/plain": [
       "(torch.Size([12396, 784]), torch.Size([12396, 1]))"
      ]
     },
     "execution_count": 104,
     "metadata": {},
     "output_type": "execute_result"
    }
   ],
   "source": [
    "train_y = tensor([1]*len(threes) + [0]*len(sevens)).unsqueeze(1) # Label 1 for 3s and 0 for 7s, unsqueeze to make it a column vector\n",
    "train_x.shape,train_y.shape"
   ]
  },
  {
   "cell_type": "code",
   "execution_count": 105,
   "metadata": {},
   "outputs": [
    {
     "data": {
      "text/plain": [
       "(torch.Size([784]), tensor([1]))"
      ]
     },
     "execution_count": 105,
     "metadata": {},
     "output_type": "execute_result"
    }
   ],
   "source": [
    "dset = list(zip(train_x,train_y))\n",
    "\n",
    "x,y = dset[0] # Get the first sample for checking\n",
    "x.shape,y"
   ]
  },
  {
   "cell_type": "code",
   "execution_count": 106,
   "metadata": {},
   "outputs": [],
   "source": [
    "valid_x = torch.cat([valid_3_tens, valid_7_tens]).view(-1, 28*28)\n",
    "valid_y = tensor([1]*len(valid_3_tens) + [0]*len(valid_7_tens)).unsqueeze(1)\n",
    "valid_dset = list(zip(valid_x,valid_y))"
   ]
  },
  {
   "cell_type": "code",
   "execution_count": 107,
   "metadata": {},
   "outputs": [],
   "source": [
    "def init_params(size, std=1.0): return (torch.randn(size)*std).requires_grad_()"
   ]
  },
  {
   "cell_type": "code",
   "execution_count": 108,
   "metadata": {},
   "outputs": [],
   "source": [
    "weights = init_params((28*28,1))"
   ]
  },
  {
   "cell_type": "code",
   "execution_count": 109,
   "metadata": {},
   "outputs": [],
   "source": [
    "bias = init_params(1)"
   ]
  },
  {
   "cell_type": "code",
   "execution_count": 110,
   "metadata": {},
   "outputs": [
    {
     "data": {
      "text/plain": [
       "tensor([20.2336], grad_fn=<AddBackward0>)"
      ]
     },
     "execution_count": 110,
     "metadata": {},
     "output_type": "execute_result"
    }
   ],
   "source": [
    "(train_x[0]*weights.T).sum() + bias # Running with 1 sample to check"
   ]
  },
  {
   "cell_type": "code",
   "execution_count": 111,
   "metadata": {},
   "outputs": [
    {
     "data": {
      "text/plain": [
       "tensor([[20.2336],\n",
       "        [17.0644],\n",
       "        [15.2384],\n",
       "        ...,\n",
       "        [18.3804],\n",
       "        [23.8567],\n",
       "        [28.6816]], grad_fn=<AddBackward0>)"
      ]
     },
     "execution_count": 111,
     "metadata": {},
     "output_type": "execute_result"
    }
   ],
   "source": [
    "def linear1(xb): return xb@weights + bias\n",
    "preds = linear1(train_x)\n",
    "preds"
   ]
  },
  {
   "cell_type": "code",
   "execution_count": 112,
   "metadata": {},
   "outputs": [
    {
     "data": {
      "text/plain": [
       "tensor([[ True],\n",
       "        [ True],\n",
       "        [ True],\n",
       "        ...,\n",
       "        [False],\n",
       "        [False],\n",
       "        [False]])"
      ]
     },
     "execution_count": 112,
     "metadata": {},
     "output_type": "execute_result"
    }
   ],
   "source": [
    "corrects = (preds>0.0).float() == train_y\n",
    "corrects"
   ]
  },
  {
   "cell_type": "code",
   "execution_count": 113,
   "metadata": {},
   "outputs": [
    {
     "data": {
      "text/plain": [
       "0.4912068545818329"
      ]
     },
     "execution_count": 113,
     "metadata": {},
     "output_type": "execute_result"
    }
   ],
   "source": [
    "corrects.float().mean().item()"
   ]
  },
  {
   "cell_type": "code",
   "execution_count": 114,
   "metadata": {},
   "outputs": [],
   "source": [
    "with torch.no_grad(): weights[0] *= 1.0001"
   ]
  },
  {
   "cell_type": "code",
   "execution_count": 115,
   "metadata": {},
   "outputs": [
    {
     "data": {
      "text/plain": [
       "0.4912068545818329"
      ]
     },
     "execution_count": 115,
     "metadata": {},
     "output_type": "execute_result"
    }
   ],
   "source": [
    "preds = linear1(train_x)\n",
    "((preds>0.0).float() == train_y).float().mean().item()"
   ]
  },
  {
   "cell_type": "code",
   "execution_count": 116,
   "metadata": {},
   "outputs": [],
   "source": [
    "trgts  = tensor([1,0,1])\n",
    "prds   = tensor([0.9, 0.4, 0.2])"
   ]
  },
  {
   "cell_type": "code",
   "execution_count": 117,
   "metadata": {},
   "outputs": [],
   "source": [
    "def mnist_loss(predictions, targets):\n",
    "    return torch.where(targets==1, 1-predictions, predictions).mean()"
   ]
  },
  {
   "cell_type": "code",
   "execution_count": 118,
   "metadata": {},
   "outputs": [
    {
     "data": {
      "text/plain": [
       "tensor([0.1000, 0.4000, 0.8000])"
      ]
     },
     "execution_count": 118,
     "metadata": {},
     "output_type": "execute_result"
    }
   ],
   "source": [
    "torch.where(trgts==1, 1-prds, prds)"
   ]
  },
  {
   "cell_type": "code",
   "execution_count": 119,
   "metadata": {},
   "outputs": [
    {
     "data": {
      "text/plain": [
       "tensor(0.4333)"
      ]
     },
     "execution_count": 119,
     "metadata": {},
     "output_type": "execute_result"
    }
   ],
   "source": [
    "mnist_loss(prds,trgts)"
   ]
  },
  {
   "cell_type": "code",
   "execution_count": 120,
   "metadata": {},
   "outputs": [
    {
     "data": {
      "text/plain": [
       "tensor(0.2333)"
      ]
     },
     "execution_count": 120,
     "metadata": {},
     "output_type": "execute_result"
    }
   ],
   "source": [
    "mnist_loss(tensor([0.9, 0.4, 0.8]),trgts)"
   ]
  },
  {
   "cell_type": "markdown",
   "metadata": {},
   "source": [
    "### Sigmoid"
   ]
  },
  {
   "cell_type": "code",
   "execution_count": 121,
   "metadata": {},
   "outputs": [],
   "source": [
    "def sigmoid(x): return 1/(1+torch.exp(-x))"
   ]
  },
  {
   "cell_type": "code",
   "execution_count": 122,
   "metadata": {},
   "outputs": [
    {
     "data": {
      "image/png": "[encoded data removed]",
      "text/plain": [
       "<Figure size 600x400 with 1 Axes>"
      ]
     },
     "metadata": {},
     "output_type": "display_data"
    }
   ],
   "source": [
    "plot_function(torch.sigmoid, title='Sigmoid', min=-4, max=4)"
   ]
  },
  {
   "cell_type": "code",
   "execution_count": 123,
   "metadata": {},
   "outputs": [],
   "source": [
    "def mnist_loss(predictions, targets):\n",
    "    predictions = predictions.sigmoid()\n",
    "    return torch.where(targets==1, 1-predictions, predictions).mean()"
   ]
  },
  {
   "cell_type": "markdown",
   "metadata": {},
   "source": [
    "## Putting It All Together"
   ]
  },
  {
   "cell_type": "code",
   "execution_count": 147,
   "metadata": {},
   "outputs": [],
   "source": [
    "weights = init_params((28*28,1))\n",
    "bias = init_params(1)"
   ]
  },
  {
   "cell_type": "code",
   "execution_count": 148,
   "metadata": {},
   "outputs": [
    {
     "data": {
      "text/plain": [
       "(torch.Size([256, 784]), torch.Size([256, 1]))"
      ]
     },
     "execution_count": 148,
     "metadata": {},
     "output_type": "execute_result"
    }
   ],
   "source": [
    "dl = DataLoader(dset, batch_size=256)\n",
    "xb,yb = first(dl)\n",
    "xb.shape,yb.shape"
   ]
  },
  {
   "cell_type": "code",
   "execution_count": 149,
   "metadata": {},
   "outputs": [],
   "source": [
    "valid_dl = DataLoader(valid_dset, batch_size=256)"
   ]
  },
  {
   "cell_type": "code",
   "execution_count": 150,
   "metadata": {},
   "outputs": [
    {
     "data": {
      "text/plain": [
       "torch.Size([4, 784])"
      ]
     },
     "execution_count": 150,
     "metadata": {},
     "output_type": "execute_result"
    }
   ],
   "source": [
    "batch = train_x[:4]\n",
    "batch.shape"
   ]
  },
  {
   "cell_type": "code",
   "execution_count": 151,
   "metadata": {},
   "outputs": [
    {
     "data": {
      "text/plain": [
       "tensor([[-0.6806],\n",
       "        [-4.8113],\n",
       "        [ 2.3936],\n",
       "        [-2.4366]], grad_fn=<AddBackward0>)"
      ]
     },
     "execution_count": 151,
     "metadata": {},
     "output_type": "execute_result"
    }
   ],
   "source": [
    "preds = linear1(batch)\n",
    "preds"
   ]
  },
  {
   "cell_type": "code",
   "execution_count": 152,
   "metadata": {},
   "outputs": [
    {
     "data": {
      "text/plain": [
       "tensor(0.6648, grad_fn=<MeanBackward0>)"
      ]
     },
     "execution_count": 152,
     "metadata": {},
     "output_type": "execute_result"
    }
   ],
   "source": [
    "loss = mnist_loss(preds, train_y[:4])\n",
    "loss"
   ]
  },
  {
   "cell_type": "code",
   "execution_count": 153,
   "metadata": {},
   "outputs": [
    {
     "data": {
      "text/plain": [
       "(torch.Size([784, 1]), tensor(-0.0143), tensor([-0.0954]))"
      ]
     },
     "execution_count": 153,
     "metadata": {},
     "output_type": "execute_result"
    }
   ],
   "source": [
    "loss.backward()\n",
    "weights.grad.shape,weights.grad.mean(),bias.grad"
   ]
  },
  {
   "cell_type": "code",
   "execution_count": 154,
   "metadata": {},
   "outputs": [],
   "source": [
    "def calc_grad(xb, yb, model):\n",
    "    preds = model(xb)\n",
    "    loss = mnist_loss(preds, yb)\n",
    "    loss.backward()"
   ]
  },
  {
   "cell_type": "code",
   "execution_count": 155,
   "metadata": {},
   "outputs": [
    {
     "data": {
      "text/plain": [
       "(tensor(-0.0285), tensor([-0.1909]))"
      ]
     },
     "execution_count": 155,
     "metadata": {},
     "output_type": "execute_result"
    }
   ],
   "source": [
    "calc_grad(batch, train_y[:4], linear1)\n",
    "weights.grad.mean(),bias.grad"
   ]
  },
  {
   "cell_type": "code",
   "execution_count": 156,
   "metadata": {},
   "outputs": [
    {
     "data": {
      "text/plain": [
       "(tensor(-0.0428), tensor([-0.2863]))"
      ]
     },
     "execution_count": 156,
     "metadata": {},
     "output_type": "execute_result"
    }
   ],
   "source": [
    "calc_grad(batch, train_y[:4], linear1)\n",
    "weights.grad.mean(),bias.grad"
   ]
  },
  {
   "cell_type": "code",
   "execution_count": 157,
   "metadata": {},
   "outputs": [],
   "source": [
    "weights.grad.zero_()\n",
    "bias.grad.zero_();"
   ]
  },
  {
   "cell_type": "code",
   "execution_count": 158,
   "metadata": {},
   "outputs": [],
   "source": [
    "def train_epoch(model, lr, params):\n",
    "    for xb,yb in dl:\n",
    "        calc_grad(xb, yb, model)\n",
    "        for p in params:\n",
    "            p.data -= p.grad*lr\n",
    "            p.grad.zero_()"
   ]
  },
  {
   "cell_type": "code",
   "execution_count": 159,
   "metadata": {},
   "outputs": [
    {
     "data": {
      "text/plain": [
       "tensor([[False],\n",
       "        [False],\n",
       "        [ True],\n",
       "        [False]])"
      ]
     },
     "execution_count": 159,
     "metadata": {},
     "output_type": "execute_result"
    }
   ],
   "source": [
    "(preds>0.0).float() == train_y[:4]"
   ]
  },
  {
   "cell_type": "code",
   "execution_count": 160,
   "metadata": {},
   "outputs": [],
   "source": [
    "def batch_accuracy(xb, yb):\n",
    "    preds = xb.sigmoid()\n",
    "    correct = (preds>0.5) == yb\n",
    "    return correct.float().mean()"
   ]
  },
  {
   "cell_type": "code",
   "execution_count": 161,
   "metadata": {},
   "outputs": [
    {
     "data": {
      "text/plain": [
       "tensor(0.2500)"
      ]
     },
     "execution_count": 161,
     "metadata": {},
     "output_type": "execute_result"
    }
   ],
   "source": [
    "batch_accuracy(linear1(batch), train_y[:4])"
   ]
  },
  {
   "cell_type": "code",
   "execution_count": 162,
   "metadata": {},
   "outputs": [],
   "source": [
    "def validate_epoch(model):\n",
    "    accs = [batch_accuracy(model(xb), yb) for xb,yb in valid_dl]\n",
    "    return round(torch.stack(accs).mean().item(), 4)"
   ]
  },
  {
   "cell_type": "code",
   "execution_count": 163,
   "metadata": {},
   "outputs": [
    {
     "data": {
      "text/plain": [
       "0.3279"
      ]
     },
     "execution_count": 163,
     "metadata": {},
     "output_type": "execute_result"
    }
   ],
   "source": [
    "validate_epoch(linear1)"
   ]
  },
  {
   "cell_type": "code",
   "execution_count": 164,
   "metadata": {},
   "outputs": [
    {
     "data": {
      "text/plain": [
       "0.4961"
      ]
     },
     "execution_count": 164,
     "metadata": {},
     "output_type": "execute_result"
    }
   ],
   "source": [
    "lr = 1.\n",
    "params = weights,bias\n",
    "train_epoch(linear1, lr, params)\n",
    "validate_epoch(linear1)"
   ]
  },
  {
   "cell_type": "code",
   "execution_count": 165,
   "metadata": {},
   "outputs": [
    {
     "name": "stdout",
     "output_type": "stream",
     "text": [
      "Batch accuracy: 0.502\n",
      "Batch accuracy: 0.7059\n",
      "Batch accuracy: 0.8305\n",
      "Batch accuracy: 0.9042\n",
      "Batch accuracy: 0.9291\n",
      "Batch accuracy: 0.9433\n",
      "Batch accuracy: 0.9496\n",
      "Batch accuracy: 0.9531\n",
      "Batch accuracy: 0.956\n",
      "Batch accuracy: 0.9599\n",
      "Batch accuracy: 0.9638\n",
      "Batch accuracy: 0.9643\n",
      "Batch accuracy: 0.9658\n",
      "Batch accuracy: 0.9672\n",
      "Batch accuracy: 0.9687\n",
      "Batch accuracy: 0.9687\n",
      "Batch accuracy: 0.9692\n",
      "Batch accuracy: 0.9697\n",
      "Batch accuracy: 0.9697\n",
      "Batch accuracy: 0.9711\n"
     ]
    }
   ],
   "source": [
    "for i in range(20):\n",
    "    train_epoch(linear1, lr, params)\n",
    "    print('Batch accuracy:', validate_epoch(linear1))"
   ]
  },
  {
   "cell_type": "markdown",
   "metadata": {},
   "source": [
    "### Creating an Optimizer"
   ]
  },
  {
   "cell_type": "code",
   "execution_count": 179,
   "metadata": {},
   "outputs": [],
   "source": [
    "linear_model = nn.Linear(28*28,1)"
   ]
  },
  {
   "cell_type": "code",
   "execution_count": 180,
   "metadata": {},
   "outputs": [
    {
     "data": {
      "text/plain": [
       "(torch.Size([1, 784]), torch.Size([1]))"
      ]
     },
     "execution_count": 180,
     "metadata": {},
     "output_type": "execute_result"
    }
   ],
   "source": [
    "w,b = linear_model.parameters()\n",
    "w.shape,b.shape"
   ]
  },
  {
   "cell_type": "code",
   "execution_count": 181,
   "metadata": {},
   "outputs": [],
   "source": [
    "class BasicOptim:\n",
    "    def __init__(self,params,lr): self.params,self.lr = list(params),lr\n",
    "\n",
    "    def step(self, *args, **kwargs):\n",
    "        for p in self.params: p.data -= p.grad.data * self.lr\n",
    "\n",
    "    def zero_grad(self, *args, **kwargs):\n",
    "        for p in self.params: p.grad = None"
   ]
  },
  {
   "cell_type": "code",
   "execution_count": 182,
   "metadata": {},
   "outputs": [],
   "source": [
    "opt = BasicOptim(linear_model.parameters(), lr)"
   ]
  },
  {
   "cell_type": "code",
   "execution_count": 183,
   "metadata": {},
   "outputs": [],
   "source": [
    "def train_epoch(model):\n",
    "    for xb,yb in dl:\n",
    "        calc_grad(xb, yb, model)\n",
    "        opt.step()\n",
    "        opt.zero_grad()"
   ]
  },
  {
   "cell_type": "code",
   "execution_count": 184,
   "metadata": {},
   "outputs": [
    {
     "data": {
      "text/plain": [
       "0.4737"
      ]
     },
     "execution_count": 184,
     "metadata": {},
     "output_type": "execute_result"
    }
   ],
   "source": [
    "validate_epoch(linear_model)"
   ]
  },
  {
   "cell_type": "code",
   "execution_count": 185,
   "metadata": {},
   "outputs": [],
   "source": [
    "def train_model(model, epochs):\n",
    "    for i in range(epochs):\n",
    "        train_epoch(model)\n",
    "        print('Batch accuracy:', validate_epoch(model))"
   ]
  },
  {
   "cell_type": "code",
   "execution_count": 186,
   "metadata": {},
   "outputs": [
    {
     "name": "stdout",
     "output_type": "stream",
     "text": [
      "Batch accuracy: 0.4932\n",
      "Batch accuracy: 0.7798\n",
      "Batch accuracy: 0.8506\n",
      "Batch accuracy: 0.9146\n",
      "Batch accuracy: 0.9355\n",
      "Batch accuracy: 0.9473\n",
      "Batch accuracy: 0.9555\n",
      "Batch accuracy: 0.9629\n",
      "Batch accuracy: 0.9658\n",
      "Batch accuracy: 0.9663\n",
      "Batch accuracy: 0.9697\n",
      "Batch accuracy: 0.9721\n",
      "Batch accuracy: 0.9736\n",
      "Batch accuracy: 0.9751\n",
      "Batch accuracy: 0.9761\n",
      "Batch accuracy: 0.9761\n",
      "Batch accuracy: 0.9775\n",
      "Batch accuracy: 0.978\n",
      "Batch accuracy: 0.978\n",
      "Batch accuracy: 0.9785\n"
     ]
    }
   ],
   "source": [
    "train_model(linear_model, 20)"
   ]
  },
  {
   "cell_type": "code",
   "execution_count": 187,
   "metadata": {},
   "outputs": [
    {
     "name": "stdout",
     "output_type": "stream",
     "text": [
      "Batch accuracy: 0.4932\n",
      "Batch accuracy: 0.8677\n",
      "Batch accuracy: 0.8281\n",
      "Batch accuracy: 0.9092\n",
      "Batch accuracy: 0.9331\n",
      "Batch accuracy: 0.9453\n",
      "Batch accuracy: 0.9546\n",
      "Batch accuracy: 0.9619\n",
      "Batch accuracy: 0.9653\n",
      "Batch accuracy: 0.9673\n",
      "Batch accuracy: 0.9687\n",
      "Batch accuracy: 0.9712\n",
      "Batch accuracy: 0.9731\n",
      "Batch accuracy: 0.9746\n",
      "Batch accuracy: 0.9756\n",
      "Batch accuracy: 0.9765\n",
      "Batch accuracy: 0.9775\n",
      "Batch accuracy: 0.978\n",
      "Batch accuracy: 0.9785\n",
      "Batch accuracy: 0.9785\n"
     ]
    }
   ],
   "source": [
    "linear_model = nn.Linear(28*28,1)\n",
    "opt = SGD(linear_model.parameters(), lr)\n",
    "train_model(linear_model, 20)"
   ]
  },
  {
   "cell_type": "code",
   "execution_count": 188,
   "metadata": {},
   "outputs": [],
   "source": [
    "dls = DataLoaders(dl, valid_dl)"
   ]
  },
  {
   "cell_type": "code",
   "execution_count": 189,
   "metadata": {},
   "outputs": [],
   "source": [
    "learn = Learner(dls, nn.Linear(28*28,1), opt_func=SGD,\n",
    "                loss_func=mnist_loss, metrics=batch_accuracy)"
   ]
  },
  {
   "cell_type": "code",
   "execution_count": 190,
   "metadata": {},
   "outputs": [
    {
     "data": {
      "text/html": [
       "\n",
       "<style>\n",
       "    /* Turns off some styling */\n",
       "    progress {\n",
       "        /* gets rid of default border in Firefox and Opera. */\n",
       "        border: none;\n",
       "        /* Needs to be in here for Safari polyfill so background images work as expected. */\n",
       "        background-size: auto;\n",
       "    }\n",
       "    progress:not([value]), progress:not([value])::-webkit-progress-bar {\n",
       "        background: repeating-linear-gradient(45deg, #7e7e7e, #7e7e7e 10px, #5c5c5c 10px, #5c5c5c 20px);\n",
       "    }\n",
       "    .progress-bar-interrupted, .progress-bar-interrupted::-webkit-progress-bar {\n",
       "        background: #F44336;\n",
       "    }\n",
       "</style>\n"
      ],
      "text/plain": [
       "<IPython.core.display.HTML object>"
      ]
     },
     "metadata": {},
     "output_type": "display_data"
    },
    {
     "data": {
      "text/html": [
       "<table border=\"1\" class=\"dataframe\">\n",
       "  <thead>\n",
       "    <tr style=\"text-align: left;\">\n",
       "      <th>epoch</th>\n",
       "      <th>train_loss</th>\n",
       "      <th>valid_loss</th>\n",
       "      <th>batch_accuracy</th>\n",
       "      <th>time</th>\n",
       "    </tr>\n",
       "  </thead>\n",
       "  <tbody>\n",
       "    <tr>\n",
       "      <td>0</td>\n",
       "      <td>0.637303</td>\n",
       "      <td>0.503536</td>\n",
       "      <td>0.495584</td>\n",
       "      <td>00:00</td>\n",
       "    </tr>\n",
       "    <tr>\n",
       "      <td>1</td>\n",
       "      <td>0.540681</td>\n",
       "      <td>0.170301</td>\n",
       "      <td>0.864573</td>\n",
       "      <td>00:00</td>\n",
       "    </tr>\n",
       "    <tr>\n",
       "      <td>2</td>\n",
       "      <td>0.197685</td>\n",
       "      <td>0.198077</td>\n",
       "      <td>0.817959</td>\n",
       "      <td>00:00</td>\n",
       "    </tr>\n",
       "    <tr>\n",
       "      <td>3</td>\n",
       "      <td>0.086273</td>\n",
       "      <td>0.111428</td>\n",
       "      <td>0.908734</td>\n",
       "      <td>00:00</td>\n",
       "    </tr>\n",
       "    <tr>\n",
       "      <td>4</td>\n",
       "      <td>0.045218</td>\n",
       "      <td>0.080187</td>\n",
       "      <td>0.932777</td>\n",
       "      <td>00:00</td>\n",
       "    </tr>\n",
       "    <tr>\n",
       "      <td>5</td>\n",
       "      <td>0.029223</td>\n",
       "      <td>0.063779</td>\n",
       "      <td>0.945535</td>\n",
       "      <td>00:00</td>\n",
       "    </tr>\n",
       "    <tr>\n",
       "      <td>6</td>\n",
       "      <td>0.022675</td>\n",
       "      <td>0.053640</td>\n",
       "      <td>0.954367</td>\n",
       "      <td>00:00</td>\n",
       "    </tr>\n",
       "    <tr>\n",
       "      <td>7</td>\n",
       "      <td>0.019786</td>\n",
       "      <td>0.046932</td>\n",
       "      <td>0.961236</td>\n",
       "      <td>00:00</td>\n",
       "    </tr>\n",
       "    <tr>\n",
       "      <td>8</td>\n",
       "      <td>0.018336</td>\n",
       "      <td>0.042249</td>\n",
       "      <td>0.965162</td>\n",
       "      <td>00:00</td>\n",
       "    </tr>\n",
       "    <tr>\n",
       "      <td>9</td>\n",
       "      <td>0.017473</td>\n",
       "      <td>0.038821</td>\n",
       "      <td>0.967615</td>\n",
       "      <td>00:00</td>\n",
       "    </tr>\n",
       "  </tbody>\n",
       "</table>"
      ],
      "text/plain": [
       "<IPython.core.display.HTML object>"
      ]
     },
     "metadata": {},
     "output_type": "display_data"
    }
   ],
   "source": [
    "learn.fit(10, lr=lr)"
   ]
  },
  {
   "cell_type": "markdown",
   "metadata": {},
   "source": [
    "## Adding a Nonlinearity"
   ]
  },
  {
   "cell_type": "code",
   "execution_count": 191,
   "metadata": {},
   "outputs": [],
   "source": [
    "def simple_net(xb): \n",
    "    res = xb@w1 + b1\n",
    "    res = res.max(tensor(0.0))\n",
    "    res = res@w2 + b2\n",
    "    return res"
   ]
  },
  {
   "cell_type": "code",
   "execution_count": 192,
   "metadata": {},
   "outputs": [],
   "source": [
    "w1 = init_params((28*28,30))\n",
    "b1 = init_params(30)\n",
    "w2 = init_params((30,1))\n",
    "b2 = init_params(1)"
   ]
  },
  {
   "cell_type": "code",
   "execution_count": 193,
   "metadata": {},
   "outputs": [
    {
     "data": {
      "image/png": "[encoded data removed]",
      "text/plain": [
       "<Figure size 600x400 with 1 Axes>"
      ]
     },
     "metadata": {},
     "output_type": "display_data"
    }
   ],
   "source": [
    "plot_function(F.relu)"
   ]
  },
  {
   "cell_type": "code",
   "execution_count": 194,
   "metadata": {},
   "outputs": [],
   "source": [
    "simple_net = nn.Sequential(\n",
    "    nn.Linear(28*28,30),\n",
    "    nn.ReLU(),\n",
    "    nn.Linear(30,1)\n",
    ")"
   ]
  },
  {
   "cell_type": "code",
   "execution_count": 195,
   "metadata": {},
   "outputs": [],
   "source": [
    "learn = Learner(dls, simple_net, opt_func=SGD,\n",
    "                loss_func=mnist_loss, metrics=batch_accuracy)"
   ]
  },
  {
   "cell_type": "code",
   "execution_count": 196,
   "metadata": {},
   "outputs": [
    {
     "data": {
      "text/html": [
       "\n",
       "<style>\n",
       "    /* Turns off some styling */\n",
       "    progress {\n",
       "        /* gets rid of default border in Firefox and Opera. */\n",
       "        border: none;\n",
       "        /* Needs to be in here for Safari polyfill so background images work as expected. */\n",
       "        background-size: auto;\n",
       "    }\n",
       "    progress:not([value]), progress:not([value])::-webkit-progress-bar {\n",
       "        background: repeating-linear-gradient(45deg, #7e7e7e, #7e7e7e 10px, #5c5c5c 10px, #5c5c5c 20px);\n",
       "    }\n",
       "    .progress-bar-interrupted, .progress-bar-interrupted::-webkit-progress-bar {\n",
       "        background: #F44336;\n",
       "    }\n",
       "</style>\n"
      ],
      "text/plain": [
       "<IPython.core.display.HTML object>"
      ]
     },
     "metadata": {},
     "output_type": "display_data"
    },
    {
     "data": {
      "text/html": [
       "<table border=\"1\" class=\"dataframe\">\n",
       "  <thead>\n",
       "    <tr style=\"text-align: left;\">\n",
       "      <th>epoch</th>\n",
       "      <th>train_loss</th>\n",
       "      <th>valid_loss</th>\n",
       "      <th>batch_accuracy</th>\n",
       "      <th>time</th>\n",
       "    </tr>\n",
       "  </thead>\n",
       "  <tbody>\n",
       "    <tr>\n",
       "      <td>0</td>\n",
       "      <td>0.300563</td>\n",
       "      <td>0.409787</td>\n",
       "      <td>0.505397</td>\n",
       "      <td>00:00</td>\n",
       "    </tr>\n",
       "    <tr>\n",
       "      <td>1</td>\n",
       "      <td>0.141857</td>\n",
       "      <td>0.225551</td>\n",
       "      <td>0.808145</td>\n",
       "      <td>00:00</td>\n",
       "    </tr>\n",
       "    <tr>\n",
       "      <td>2</td>\n",
       "      <td>0.079245</td>\n",
       "      <td>0.114195</td>\n",
       "      <td>0.915113</td>\n",
       "      <td>00:00</td>\n",
       "    </tr>\n",
       "    <tr>\n",
       "      <td>3</td>\n",
       "      <td>0.052497</td>\n",
       "      <td>0.077275</td>\n",
       "      <td>0.939647</td>\n",
       "      <td>00:00</td>\n",
       "    </tr>\n",
       "    <tr>\n",
       "      <td>4</td>\n",
       "      <td>0.040022</td>\n",
       "      <td>0.060451</td>\n",
       "      <td>0.956820</td>\n",
       "      <td>00:00</td>\n",
       "    </tr>\n",
       "    <tr>\n",
       "      <td>5</td>\n",
       "      <td>0.033615</td>\n",
       "      <td>0.050980</td>\n",
       "      <td>0.964181</td>\n",
       "      <td>00:00</td>\n",
       "    </tr>\n",
       "    <tr>\n",
       "      <td>6</td>\n",
       "      <td>0.029916</td>\n",
       "      <td>0.045000</td>\n",
       "      <td>0.965653</td>\n",
       "      <td>00:00</td>\n",
       "    </tr>\n",
       "    <tr>\n",
       "      <td>7</td>\n",
       "      <td>0.027501</td>\n",
       "      <td>0.040898</td>\n",
       "      <td>0.967125</td>\n",
       "      <td>00:00</td>\n",
       "    </tr>\n",
       "    <tr>\n",
       "      <td>8</td>\n",
       "      <td>0.025756</td>\n",
       "      <td>0.037902</td>\n",
       "      <td>0.968597</td>\n",
       "      <td>00:00</td>\n",
       "    </tr>\n",
       "    <tr>\n",
       "      <td>9</td>\n",
       "      <td>0.024401</td>\n",
       "      <td>0.035612</td>\n",
       "      <td>0.971050</td>\n",
       "      <td>00:00</td>\n",
       "    </tr>\n",
       "    <tr>\n",
       "      <td>10</td>\n",
       "      <td>0.023299</td>\n",
       "      <td>0.033792</td>\n",
       "      <td>0.973013</td>\n",
       "      <td>00:00</td>\n",
       "    </tr>\n",
       "    <tr>\n",
       "      <td>11</td>\n",
       "      <td>0.022375</td>\n",
       "      <td>0.032304</td>\n",
       "      <td>0.973994</td>\n",
       "      <td>00:00</td>\n",
       "    </tr>\n",
       "    <tr>\n",
       "      <td>12</td>\n",
       "      <td>0.021588</td>\n",
       "      <td>0.031055</td>\n",
       "      <td>0.973994</td>\n",
       "      <td>00:00</td>\n",
       "    </tr>\n",
       "    <tr>\n",
       "      <td>13</td>\n",
       "      <td>0.020906</td>\n",
       "      <td>0.029986</td>\n",
       "      <td>0.974485</td>\n",
       "      <td>00:00</td>\n",
       "    </tr>\n",
       "    <tr>\n",
       "      <td>14</td>\n",
       "      <td>0.020308</td>\n",
       "      <td>0.029058</td>\n",
       "      <td>0.974485</td>\n",
       "      <td>00:00</td>\n",
       "    </tr>\n",
       "    <tr>\n",
       "      <td>15</td>\n",
       "      <td>0.019778</td>\n",
       "      <td>0.028240</td>\n",
       "      <td>0.975957</td>\n",
       "      <td>00:00</td>\n",
       "    </tr>\n",
       "    <tr>\n",
       "      <td>16</td>\n",
       "      <td>0.019303</td>\n",
       "      <td>0.027512</td>\n",
       "      <td>0.976938</td>\n",
       "      <td>00:00</td>\n",
       "    </tr>\n",
       "    <tr>\n",
       "      <td>17</td>\n",
       "      <td>0.018875</td>\n",
       "      <td>0.026860</td>\n",
       "      <td>0.977429</td>\n",
       "      <td>00:00</td>\n",
       "    </tr>\n",
       "    <tr>\n",
       "      <td>18</td>\n",
       "      <td>0.018486</td>\n",
       "      <td>0.026271</td>\n",
       "      <td>0.977429</td>\n",
       "      <td>00:00</td>\n",
       "    </tr>\n",
       "    <tr>\n",
       "      <td>19</td>\n",
       "      <td>0.018130</td>\n",
       "      <td>0.025737</td>\n",
       "      <td>0.977920</td>\n",
       "      <td>00:00</td>\n",
       "    </tr>\n",
       "    <tr>\n",
       "      <td>20</td>\n",
       "      <td>0.017802</td>\n",
       "      <td>0.025252</td>\n",
       "      <td>0.978901</td>\n",
       "      <td>00:00</td>\n",
       "    </tr>\n",
       "    <tr>\n",
       "      <td>21</td>\n",
       "      <td>0.017498</td>\n",
       "      <td>0.024807</td>\n",
       "      <td>0.979882</td>\n",
       "      <td>00:00</td>\n",
       "    </tr>\n",
       "    <tr>\n",
       "      <td>22</td>\n",
       "      <td>0.017216</td>\n",
       "      <td>0.024399</td>\n",
       "      <td>0.980373</td>\n",
       "      <td>00:00</td>\n",
       "    </tr>\n",
       "    <tr>\n",
       "      <td>23</td>\n",
       "      <td>0.016952</td>\n",
       "      <td>0.024023</td>\n",
       "      <td>0.981354</td>\n",
       "      <td>00:00</td>\n",
       "    </tr>\n",
       "    <tr>\n",
       "      <td>24</td>\n",
       "      <td>0.016705</td>\n",
       "      <td>0.023677</td>\n",
       "      <td>0.981845</td>\n",
       "      <td>00:00</td>\n",
       "    </tr>\n",
       "    <tr>\n",
       "      <td>25</td>\n",
       "      <td>0.016472</td>\n",
       "      <td>0.023356</td>\n",
       "      <td>0.981845</td>\n",
       "      <td>00:00</td>\n",
       "    </tr>\n",
       "    <tr>\n",
       "      <td>26</td>\n",
       "      <td>0.016253</td>\n",
       "      <td>0.023059</td>\n",
       "      <td>0.981845</td>\n",
       "      <td>00:00</td>\n",
       "    </tr>\n",
       "    <tr>\n",
       "      <td>27</td>\n",
       "      <td>0.016046</td>\n",
       "      <td>0.022782</td>\n",
       "      <td>0.982336</td>\n",
       "      <td>00:00</td>\n",
       "    </tr>\n",
       "    <tr>\n",
       "      <td>28</td>\n",
       "      <td>0.015849</td>\n",
       "      <td>0.022525</td>\n",
       "      <td>0.982336</td>\n",
       "      <td>00:00</td>\n",
       "    </tr>\n",
       "    <tr>\n",
       "      <td>29</td>\n",
       "      <td>0.015662</td>\n",
       "      <td>0.022285</td>\n",
       "      <td>0.982336</td>\n",
       "      <td>00:00</td>\n",
       "    </tr>\n",
       "    <tr>\n",
       "      <td>30</td>\n",
       "      <td>0.015484</td>\n",
       "      <td>0.022060</td>\n",
       "      <td>0.983317</td>\n",
       "      <td>00:00</td>\n",
       "    </tr>\n",
       "    <tr>\n",
       "      <td>31</td>\n",
       "      <td>0.015314</td>\n",
       "      <td>0.021850</td>\n",
       "      <td>0.983317</td>\n",
       "      <td>00:00</td>\n",
       "    </tr>\n",
       "    <tr>\n",
       "      <td>32</td>\n",
       "      <td>0.015151</td>\n",
       "      <td>0.021653</td>\n",
       "      <td>0.983317</td>\n",
       "      <td>00:00</td>\n",
       "    </tr>\n",
       "    <tr>\n",
       "      <td>33</td>\n",
       "      <td>0.014996</td>\n",
       "      <td>0.021468</td>\n",
       "      <td>0.983317</td>\n",
       "      <td>00:00</td>\n",
       "    </tr>\n",
       "    <tr>\n",
       "      <td>34</td>\n",
       "      <td>0.014847</td>\n",
       "      <td>0.021294</td>\n",
       "      <td>0.983317</td>\n",
       "      <td>00:00</td>\n",
       "    </tr>\n",
       "    <tr>\n",
       "      <td>35</td>\n",
       "      <td>0.014704</td>\n",
       "      <td>0.021131</td>\n",
       "      <td>0.983317</td>\n",
       "      <td>00:00</td>\n",
       "    </tr>\n",
       "    <tr>\n",
       "      <td>36</td>\n",
       "      <td>0.014567</td>\n",
       "      <td>0.020977</td>\n",
       "      <td>0.983317</td>\n",
       "      <td>00:00</td>\n",
       "    </tr>\n",
       "    <tr>\n",
       "      <td>37</td>\n",
       "      <td>0.014434</td>\n",
       "      <td>0.020831</td>\n",
       "      <td>0.982826</td>\n",
       "      <td>00:00</td>\n",
       "    </tr>\n",
       "    <tr>\n",
       "      <td>38</td>\n",
       "      <td>0.014307</td>\n",
       "      <td>0.020693</td>\n",
       "      <td>0.983317</td>\n",
       "      <td>00:00</td>\n",
       "    </tr>\n",
       "    <tr>\n",
       "      <td>39</td>\n",
       "      <td>0.014184</td>\n",
       "      <td>0.020563</td>\n",
       "      <td>0.982826</td>\n",
       "      <td>00:00</td>\n",
       "    </tr>\n",
       "  </tbody>\n",
       "</table>"
      ],
      "text/plain": [
       "<IPython.core.display.HTML object>"
      ]
     },
     "metadata": {},
     "output_type": "display_data"
    }
   ],
   "source": [
    "learn.fit(40, 0.1)"
   ]
  },
  {
   "cell_type": "code",
   "execution_count": 197,
   "metadata": {},
   "outputs": [
    {
     "data": {
      "image/png": "[encoded data removed]",
      "text/plain": [
       "<Figure size 640x480 with 1 Axes>"
      ]
     },
     "metadata": {},
     "output_type": "display_data"
    }
   ],
   "source": [
    "plt.plot(L(learn.recorder.values).itemgot(2));"
   ]
  },
  {
   "cell_type": "code",
   "execution_count": 198,
   "metadata": {},
   "outputs": [
    {
     "data": {
      "text/plain": [
       "0.982826292514801"
      ]
     },
     "execution_count": 198,
     "metadata": {},
     "output_type": "execute_result"
    }
   ],
   "source": [
    "learn.recorder.values[-1][2]"
   ]
  },
  {
   "cell_type": "markdown",
   "metadata": {},
   "source": [
    "### Using pretrained model"
   ]
  },
  {
   "cell_type": "code",
   "execution_count": 199,
   "metadata": {},
   "outputs": [
    {
     "data": {
      "text/html": [
       "\n",
       "<style>\n",
       "    /* Turns off some styling */\n",
       "    progress {\n",
       "        /* gets rid of default border in Firefox and Opera. */\n",
       "        border: none;\n",
       "        /* Needs to be in here for Safari polyfill so background images work as expected. */\n",
       "        background-size: auto;\n",
       "    }\n",
       "    progress:not([value]), progress:not([value])::-webkit-progress-bar {\n",
       "        background: repeating-linear-gradient(45deg, #7e7e7e, #7e7e7e 10px, #5c5c5c 10px, #5c5c5c 20px);\n",
       "    }\n",
       "    .progress-bar-interrupted, .progress-bar-interrupted::-webkit-progress-bar {\n",
       "        background: #F44336;\n",
       "    }\n",
       "</style>\n"
      ],
      "text/plain": [
       "<IPython.core.display.HTML object>"
      ]
     },
     "metadata": {},
     "output_type": "display_data"
    },
    {
     "data": {
      "text/html": [
       "<table border=\"1\" class=\"dataframe\">\n",
       "  <thead>\n",
       "    <tr style=\"text-align: left;\">\n",
       "      <th>epoch</th>\n",
       "      <th>train_loss</th>\n",
       "      <th>valid_loss</th>\n",
       "      <th>accuracy</th>\n",
       "      <th>time</th>\n",
       "    </tr>\n",
       "  </thead>\n",
       "  <tbody>\n",
       "    <tr>\n",
       "      <td>0</td>\n",
       "      <td>0.132167</td>\n",
       "      <td>0.043862</td>\n",
       "      <td>0.992640</td>\n",
       "      <td>00:11</td>\n",
       "    </tr>\n",
       "  </tbody>\n",
       "</table>"
      ],
      "text/plain": [
       "<IPython.core.display.HTML object>"
      ]
     },
     "metadata": {},
     "output_type": "display_data"
    }
   ],
   "source": [
    "dls = ImageDataLoaders.from_folder(path)\n",
    "learn = vision_learner(dls, resnet18, pretrained=False,\n",
    "                    loss_func=F.cross_entropy, metrics=accuracy)\n",
    "learn.fit_one_cycle(1, 0.1)"
   ]
  }
 ],
 "metadata": {
  "jupytext": {
   "split_at_heading": true
  },
  "kernelspec": {
   "display_name": "Python 3 (ipykernel)",
   "language": "python",
   "name": "python3"
  },
  "language_info": {
   "codemirror_mode": {
    "name": "ipython",
    "version": 3
   },
   "file_extension": ".py",
   "mimetype": "text/x-python",
   "name": "python",
   "nbconvert_exporter": "python",
   "pygments_lexer": "ipython3",
   "version": "3.11.6"
  }
 },
 "nbformat": 4,
 "nbformat_minor": 4
}
